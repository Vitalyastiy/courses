{
  "nbformat": 4,
  "nbformat_minor": 0,
  "metadata": {
    "colab": {
      "provenance": [],
      "toc_visible": true,
      "include_colab_link": true
    },
    "kernelspec": {
      "name": "python3",
      "display_name": "Python 3"
    },
    "language_info": {
      "name": "python"
    }
  },
  "cells": [
    {
      "cell_type": "markdown",
      "metadata": {
        "id": "view-in-github",
        "colab_type": "text"
      },
      "source": [
        "<a href=\"https://colab.research.google.com/github/Vitalyastiy/courses/blob/main/05_ListsDictionaries.ipynb\" target=\"_parent\"><img src=\"https://colab.research.google.com/assets/colab-badge.svg\" alt=\"Open In Colab\"/></a>"
      ]
    },
    {
      "cell_type": "markdown",
      "metadata": {
        "id": "isHDXyTI6RAw"
      },
      "source": [
        "## Списки и словари"
      ]
    },
    {
      "cell_type": "markdown",
      "metadata": {
        "id": "-0wRhlfZRA-W"
      },
      "source": [
        "### Списки"
      ]
    },
    {
      "cell_type": "code",
      "metadata": {
        "id": "46HWpVpD6MbT"
      },
      "source": [
        "# список овощей, которые нужно купить\n",
        "veg_list = ['огурцы', 'помидоры', 'лук', 'картофель']"
      ],
      "execution_count": null,
      "outputs": []
    },
    {
      "cell_type": "code",
      "metadata": {
        "id": "OOp20w5a6Wgp"
      },
      "source": [
        "# их вес в килограммах\n",
        "kilo_list = [2, 3, 1, 2]"
      ],
      "execution_count": null,
      "outputs": []
    },
    {
      "cell_type": "code",
      "metadata": {
        "id": "3vaallVf7Ysj"
      },
      "source": [
        "# создадим новый пустой список\n",
        "new_list = []"
      ],
      "execution_count": null,
      "outputs": []
    },
    {
      "cell_type": "code",
      "metadata": {
        "id": "ayreY0ey7hIT",
        "colab": {
          "base_uri": "https://localhost:8080/"
        },
        "outputId": "5465f8d6-cd20-4131-a2f8-9a64a9592e57"
      },
      "source": [
        "# расширим список покупок, добавив в него болгарский перец\n",
        "\n",
        "# для этого вначале создадим новую переменную и запишем в нее новый продукт\n",
        "new_veg = 'морковь'\n",
        "\n",
        "# добавим его в наш список с помощью метода append()\n",
        "veg_list.append(new_veg)\n",
        "\n",
        "# посмотрим, что получилось\n",
        "print(veg_list)"
      ],
      "execution_count": null,
      "outputs": [
        {
          "output_type": "stream",
          "text": [
            "['огурцы', 'помидоры', 'лук', 'картофель', 'морковь']\n"
          ],
          "name": "stdout"
        }
      ]
    },
    {
      "cell_type": "code",
      "metadata": {
        "colab": {
          "base_uri": "https://localhost:8080/"
        },
        "id": "uVVyGtk5CZms",
        "outputId": "b8744ca0-00df-4773-ca3d-fa95808eba7c"
      },
      "source": [
        "# индекс списка: выведем второй элемент списка покупок (он хранится под номером 1)\n",
        "print(veg_list[1])"
      ],
      "execution_count": null,
      "outputs": [
        {
          "output_type": "stream",
          "text": [
            "помидоры\n"
          ],
          "name": "stdout"
        }
      ]
    },
    {
      "cell_type": "markdown",
      "metadata": {
        "id": "OpBA-6rlREa9"
      },
      "source": [
        "### Словари"
      ]
    },
    {
      "cell_type": "code",
      "metadata": {
        "id": "tKoSqdChEAZE"
      },
      "source": [
        "# создадим словарь для списка покупок (каждому овощу соответствует количество в килограммах)\n",
        "shopping_dict = {\n",
        "  'огурцы': 2,\n",
        "  'помидоры': 3,\n",
        "  'лук': 1,\n",
        "  'картофель': 2\n",
        "}"
      ],
      "execution_count": null,
      "outputs": []
    },
    {
      "cell_type": "code",
      "metadata": {
        "id": "k4_9y3Q_UCnE"
      },
      "source": [
        "# добавим 2 кг моркови в наш словарь\n",
        "shopping_dict['морковь'] = 2"
      ],
      "execution_count": null,
      "outputs": []
    },
    {
      "cell_type": "code",
      "metadata": {
        "colab": {
          "base_uri": "https://localhost:8080/"
        },
        "id": "PGkpbIHTUaTo",
        "outputId": "3e061bce-879f-4737-933d-76e959cc7e9c"
      },
      "source": [
        "# посмотрим, что получилось\n",
        "print(shopping_dict)"
      ],
      "execution_count": null,
      "outputs": [
        {
          "output_type": "stream",
          "text": [
            "{'огурцы': 2, 'помидоры': 3, 'лук': 1, 'картофель': 2, 'морковь': 2}\n"
          ],
          "name": "stdout"
        }
      ]
    },
    {
      "cell_type": "code",
      "metadata": {
        "colab": {
          "base_uri": "https://localhost:8080/"
        },
        "id": "mOIFtLQNUhME",
        "outputId": "9b8e3d24-5a1a-4dc4-e744-646d43764f93"
      },
      "source": [
        "# найдем количество картофеля, которое нужно купить\n",
        "print(shopping_dict['картофель'])"
      ],
      "execution_count": null,
      "outputs": [
        {
          "output_type": "stream",
          "text": [
            "2\n"
          ],
          "name": "stdout"
        }
      ]
    },
    {
      "cell_type": "code",
      "metadata": {
        "id": "cdAappB3RyIY"
      },
      "source": [
        "# создадим пустой словарь\n",
        "new_dict = {}"
      ],
      "execution_count": null,
      "outputs": []
    },
    {
      "cell_type": "markdown",
      "metadata": {
        "id": "GwodAU_DIiAw"
      },
      "source": [
        "### Упражнения"
      ]
    },
    {
      "cell_type": "markdown",
      "metadata": {
        "id": "Ftna4k0H2wrh"
      },
      "source": [
        "#### Списки"
      ]
    },
    {
      "cell_type": "markdown",
      "source": [
        "**Задание 1**. Создайте список `days`, записав в него дни недели с понедельника по субботу."
      ],
      "metadata": {
        "id": "_SgH0pLGiLPu"
      }
    },
    {
      "cell_type": "code",
      "metadata": {
        "id": "UdiHL0jLIjvw"
      },
      "source": [
        "veg_list = ['Пн', 'Вт', 'Ср', 'Чт', 'Пт', 'Сб']"
      ],
      "execution_count": 1,
      "outputs": []
    },
    {
      "cell_type": "markdown",
      "source": [
        "**Задание 2**. Добавьте воскресенье."
      ],
      "metadata": {
        "id": "Ej4hqeFniV02"
      }
    },
    {
      "cell_type": "code",
      "metadata": {
        "id": "AV-x7LJ5Ztgx",
        "outputId": "9d8c3ed3-e1f9-4bd2-c19c-4cf4c1da4b74",
        "colab": {
          "base_uri": "https://localhost:8080/"
        }
      },
      "source": [
        "new_day = 'Вс'\n",
        "veg_list.append(new_day)\n",
        "print(veg_list)"
      ],
      "execution_count": 3,
      "outputs": [
        {
          "output_type": "stream",
          "name": "stdout",
          "text": [
            "['Пн', 'Вт', 'Ср', 'Чт', 'Пт', 'Сб', 'Вс', 'Вс']\n"
          ]
        }
      ]
    },
    {
      "cell_type": "markdown",
      "source": [
        "**Задание 3**. Выведите \"понедельник\".\n",
        "\n",
        "Подсказка: не забывайте, с какого числа начинается индекс."
      ],
      "metadata": {
        "id": "y6DkK5jPidfr"
      }
    },
    {
      "cell_type": "code",
      "metadata": {
        "id": "660s4ZaFZ6J2",
        "outputId": "2e3f7857-575c-43e6-ee82-f64bdd7881d1",
        "colab": {
          "base_uri": "https://localhost:8080/",
          "height": 36
        }
      },
      "source": [
        "veg_list[0]"
      ],
      "execution_count": 4,
      "outputs": [
        {
          "output_type": "execute_result",
          "data": {
            "text/plain": [
              "'Пн'"
            ],
            "application/vnd.google.colaboratory.intrinsic+json": {
              "type": "string"
            }
          },
          "metadata": {},
          "execution_count": 4
        }
      ]
    },
    {
      "cell_type": "markdown",
      "metadata": {
        "id": "S2mR5MT32zSV"
      },
      "source": [
        "#### Словари"
      ]
    },
    {
      "cell_type": "markdown",
      "source": [
        "**Задание 4**. Создайте словарь, где ключи - это дни недели, а значения - количество пройденных вами шагов.\n"
      ],
      "metadata": {
        "id": "o1UA4-8risYB"
      }
    },
    {
      "cell_type": "code",
      "metadata": {
        "id": "r6CNuCmGacuP",
        "outputId": "caff303b-8e33-48c3-c820-c8cb8a4d2357",
        "colab": {
          "base_uri": "https://localhost:8080/"
        }
      },
      "source": [
        "go_dict = {\n",
        "  'Пн': 20000,\n",
        "  'Вт': 30000,\n",
        "  'Ср': 10000,\n",
        "  'Чт': 20000\n",
        "}\n",
        "go_dict"
      ],
      "execution_count": 5,
      "outputs": [
        {
          "output_type": "execute_result",
          "data": {
            "text/plain": [
              "{'Пн': 20000, 'Вт': 30000, 'Ср': 10000, 'Чт': 20000}"
            ]
          },
          "metadata": {},
          "execution_count": 5
        }
      ]
    },
    {
      "cell_type": "markdown",
      "source": [
        "**Задание 5**. Напишите код, который выведет на экран, сколько шагов вы прошли во вторник."
      ],
      "metadata": {
        "id": "51jE5xoXi25M"
      }
    },
    {
      "cell_type": "code",
      "metadata": {
        "id": "W-Zj5-qKa2dS",
        "outputId": "ea15af40-f901-48b7-92f3-54c72a06d29e",
        "colab": {
          "base_uri": "https://localhost:8080/"
        }
      },
      "source": [
        "go_dict['Вт']"
      ],
      "execution_count": 7,
      "outputs": [
        {
          "output_type": "execute_result",
          "data": {
            "text/plain": [
              "30000"
            ]
          },
          "metadata": {},
          "execution_count": 7
        }
      ]
    },
    {
      "cell_type": "code",
      "source": [],
      "metadata": {
        "id": "tqdpq-VmAYj3"
      },
      "execution_count": null,
      "outputs": []
    }
  ]
}
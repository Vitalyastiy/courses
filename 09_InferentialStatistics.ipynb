{
  "nbformat": 4,
  "nbformat_minor": 0,
  "metadata": {
    "colab": {
      "provenance": [],
      "include_colab_link": true
    },
    "kernelspec": {
      "name": "python3",
      "display_name": "Python 3"
    },
    "language_info": {
      "name": "python"
    }
  },
  "cells": [
    {
      "cell_type": "markdown",
      "metadata": {
        "id": "view-in-github",
        "colab_type": "text"
      },
      "source": [
        "<a href=\"https://colab.research.google.com/github/Vitalyastiy/courses/blob/main/09_InferentialStatistics.ipynb\" target=\"_parent\"><img src=\"https://colab.research.google.com/assets/colab-badge.svg\" alt=\"Open In Colab\"/></a>"
      ]
    },
    {
      "cell_type": "markdown",
      "metadata": {
        "id": "t3dPXJ4o8fMX"
      },
      "source": [
        "## Статистический вывод"
      ]
    },
    {
      "cell_type": "markdown",
      "metadata": {
        "id": "yOptbjJQpwx8"
      },
      "source": [
        "### Построение доверительного интервала"
      ]
    },
    {
      "cell_type": "code",
      "metadata": {
        "id": "cfUKFi_IqoI9"
      },
      "source": [
        "# вновь воспользуемся нашими данными о росте\n",
        "import numpy as np\n",
        "np.random.seed(42)\n",
        "height = list(np.round(np.random.normal(180, 10, 1000)))"
      ],
      "execution_count": 9,
      "outputs": []
    },
    {
      "cell_type": "code",
      "metadata": {
        "colab": {
          "base_uri": "https://localhost:8080/"
        },
        "id": "swlCdgsarFbm",
        "outputId": "bd47b2a7-2c72-4998-8089-0f79e0c2573f"
      },
      "source": [
        "print(height)"
      ],
      "execution_count": 10,
      "outputs": [
        {
          "output_type": "stream",
          "name": "stdout",
          "text": [
            "[185.0, 179.0, 186.0, 195.0, 178.0, 178.0, 196.0, 188.0, 175.0, 185.0, 175.0, 175.0, 182.0, 161.0, 163.0, 174.0, 170.0, 183.0, 171.0, 166.0, 195.0, 178.0, 181.0, 166.0, 175.0, 181.0, 168.0, 184.0, 174.0, 177.0, 174.0, 199.0, 180.0, 169.0, 188.0, 168.0, 182.0, 160.0, 167.0, 182.0, 187.0, 182.0, 179.0, 177.0, 165.0, 173.0, 175.0, 191.0, 183.0, 162.0, 183.0, 176.0, 173.0, 186.0, 190.0, 189.0, 172.0, 177.0, 183.0, 190.0, 175.0, 178.0, 169.0, 168.0, 188.0, 194.0, 179.0, 190.0, 184.0, 174.0, 184.0, 195.0, 180.0, 196.0, 154.0, 188.0, 181.0, 177.0, 181.0, 160.0, 178.0, 184.0, 195.0, 175.0, 172.0, 175.0, 189.0, 183.0, 175.0, 185.0, 181.0, 190.0, 173.0, 177.0, 176.0, 165.0, 183.0, 183.0, 180.0, 178.0, 166.0, 176.0, 177.0, 172.0, 178.0, 184.0, 199.0, 182.0, 183.0, 179.0, 161.0, 180.0, 181.0, 205.0, 178.0, 183.0, 180.0, 168.0, 191.0, 188.0, 188.0, 171.0, 194.0, 166.0, 186.0, 202.0, 170.0, 174.0, 181.0, 175.0, 164.0, 181.0, 169.0, 185.0, 171.0, 195.0, 172.0, 177.0, 188.0, 168.0, 182.0, 193.0, 164.0, 182.0, 183.0, 188.0, 168.0, 167.0, 185.0, 183.0, 183.0, 183.0, 173.0, 182.0, 183.0, 173.0, 199.0, 185.0, 168.0, 187.0, 170.0, 188.0, 192.0, 172.0, 190.0, 184.0, 188.0, 199.0, 178.0, 172.0, 171.0, 172.0, 179.0, 183.0, 183.0, 188.0, 180.0, 195.0, 177.0, 207.0, 186.0, 171.0, 169.0, 185.0, 178.0, 187.0, 185.0, 179.0, 172.0, 165.0, 176.0, 189.0, 182.0, 168.0, 182.0, 184.0, 171.0, 182.0, 181.0, 169.0, 184.0, 186.0, 191.0, 191.0, 166.0, 171.0, 185.0, 185.0, 185.0, 219.0, 186.0, 191.0, 190.0, 187.0, 177.0, 188.0, 172.0, 178.0, 175.0, 181.0, 203.0, 161.0, 187.0, 164.0, 175.0, 191.0, 181.0, 169.0, 173.0, 187.0, 173.0, 182.0, 180.0, 173.0, 201.0, 186.0, 160.0, 182.0, 173.0, 189.0, 172.0, 179.0, 185.0, 189.0, 168.0, 177.0, 175.0, 173.0, 198.0, 184.0, 167.0, 189.0, 201.0, 190.0, 165.0, 175.0, 193.0, 173.0, 184.0, 188.0, 171.0, 179.0, 148.0, 170.0, 177.0, 168.0, 196.0, 166.0, 176.0, 181.0, 194.0, 166.0, 192.0, 180.0, 170.0, 185.0, 182.0, 174.0, 181.0, 176.0, 181.0, 187.0, 196.0, 168.0, 201.0, 160.0, 178.0, 186.0, 183.0, 174.0, 178.0, 175.0, 174.0, 188.0, 184.0, 173.0, 189.0, 183.0, 188.0, 186.0, 172.0, 174.0, 187.0, 186.0, 180.0, 181.0, 193.0, 174.0, 185.0, 178.0, 178.0, 191.0, 188.0, 188.0, 193.0, 180.0, 187.0, 177.0, 183.0, 179.0, 181.0, 186.0, 172.0, 201.0, 170.0, 168.0, 192.0, 188.0, 186.0, 186.0, 180.0, 171.0, 181.0, 173.0, 190.0, 179.0, 172.0, 177.0, 184.0, 174.0, 172.0, 182.0, 182.0, 175.0, 175.0, 182.0, 166.0, 166.0, 173.0, 178.0, 183.0, 195.0, 189.0, 178.0, 180.0, 170.0, 180.0, 177.0, 183.0, 172.0, 185.0, 195.0, 179.0, 184.0, 187.0, 176.0, 182.0, 180.0, 181.0, 172.0, 180.0, 185.0, 195.0, 190.0, 202.0, 172.0, 189.0, 182.0, 202.0, 172.0, 172.0, 174.0, 159.0, 175.0, 172.0, 182.0, 183.0, 199.0, 190.0, 174.0, 171.0, 185.0, 167.0, 198.0, 192.0, 175.0, 163.0, 194.0, 179.0, 192.0, 164.0, 174.0, 180.0, 180.0, 175.0, 186.0, 169.0, 179.0, 181.0, 185.0, 187.0, 169.0, 165.0, 193.0, 183.0, 173.0, 196.0, 181.0, 192.0, 181.0, 201.0, 198.0, 178.0, 190.0, 186.0, 194.0, 170.0, 187.0, 191.0, 162.0, 168.0, 160.0, 177.0, 187.0, 195.0, 181.0, 196.0, 166.0, 163.0, 179.0, 184.0, 180.0, 159.0, 179.0, 167.0, 187.0, 184.0, 171.0, 175.0, 169.0, 179.0, 190.0, 170.0, 185.0, 175.0, 172.0, 179.0, 170.0, 174.0, 168.0, 200.0, 180.0, 173.0, 182.0, 179.0, 178.0, 186.0, 188.0, 175.0, 174.0, 177.0, 157.0, 165.0, 194.0, 196.0, 178.0, 186.0, 183.0, 211.0, 191.0, 179.0, 170.0, 164.0, 182.0, 172.0, 166.0, 174.0, 169.0, 197.0, 189.0, 180.0, 195.0, 181.0, 171.0, 195.0, 185.0, 170.0, 178.0, 171.0, 166.0, 189.0, 199.0, 166.0, 186.0, 173.0, 175.0, 174.0, 171.0, 180.0, 172.0, 183.0, 179.0, 178.0, 171.0, 174.0, 188.0, 185.0, 170.0, 181.0, 188.0, 163.0, 185.0, 173.0, 186.0, 172.0, 162.0, 164.0, 180.0, 183.0, 171.0, 186.0, 163.0, 179.0, 168.0, 173.0, 180.0, 171.0, 176.0, 190.0, 174.0, 188.0, 169.0, 185.0, 194.0, 155.0, 172.0, 186.0, 178.0, 184.0, 174.0, 181.0, 178.0, 192.0, 183.0, 183.0, 176.0, 175.0, 176.0, 184.0, 176.0, 183.0, 201.0, 189.0, 177.0, 192.0, 176.0, 160.0, 170.0, 161.0, 176.0, 180.0, 197.0, 183.0, 178.0, 188.0, 158.0, 182.0, 188.0, 165.0, 191.0, 183.0, 176.0, 186.0, 203.0, 182.0, 182.0, 175.0, 172.0, 188.0, 171.0, 181.0, 175.0, 185.0, 183.0, 190.0, 175.0, 177.0, 170.0, 176.0, 184.0, 188.0, 171.0, 189.0, 194.0, 184.0, 199.0, 172.0, 168.0, 162.0, 195.0, 187.0, 179.0, 183.0, 169.0, 204.0, 181.0, 181.0, 187.0, 185.0, 182.0, 172.0, 185.0, 199.0, 193.0, 196.0, 175.0, 170.0, 179.0, 181.0, 191.0, 163.0, 195.0, 178.0, 176.0, 170.0, 163.0, 188.0, 181.0, 167.0, 167.0, 177.0, 197.0, 177.0, 165.0, 178.0, 177.0, 153.0, 179.0, 178.0, 187.0, 198.0, 191.0, 177.0, 169.0, 206.0, 181.0, 180.0, 180.0, 182.0, 179.0, 174.0, 175.0, 180.0, 175.0, 173.0, 181.0, 177.0, 195.0, 153.0, 191.0, 192.0, 159.0, 177.0, 176.0, 166.0, 172.0, 169.0, 198.0, 189.0, 193.0, 187.0, 169.0, 175.0, 185.0, 168.0, 187.0, 178.0, 176.0, 187.0, 184.0, 176.0, 192.0, 169.0, 186.0, 186.0, 177.0, 183.0, 167.0, 189.0, 178.0, 175.0, 190.0, 173.0, 166.0, 164.0, 186.0, 167.0, 198.0, 159.0, 197.0, 182.0, 179.0, 175.0, 184.0, 180.0, 191.0, 181.0, 182.0, 176.0, 179.0, 183.0, 163.0, 167.0, 187.0, 182.0, 178.0, 180.0, 183.0, 175.0, 172.0, 182.0, 170.0, 184.0, 163.0, 190.0, 185.0, 183.0, 190.0, 197.0, 190.0, 162.0, 167.0, 174.0, 180.0, 185.0, 173.0, 182.0, 172.0, 174.0, 166.0, 171.0, 166.0, 170.0, 191.0, 171.0, 206.0, 185.0, 182.0, 171.0, 187.0, 174.0, 181.0, 206.0, 179.0, 191.0, 173.0, 180.0, 198.0, 174.0, 198.0, 187.0, 174.0, 186.0, 190.0, 186.0, 164.0, 173.0, 178.0, 179.0, 186.0, 182.0, 167.0, 184.0, 186.0, 186.0, 191.0, 188.0, 185.0, 179.0, 163.0, 184.0, 182.0, 183.0, 167.0, 169.0, 191.0, 180.0, 187.0, 180.0, 180.0, 189.0, 175.0, 181.0, 175.0, 176.0, 177.0, 182.0, 175.0, 193.0, 171.0, 178.0, 176.0, 194.0, 182.0, 190.0, 165.0, 183.0, 189.0, 181.0, 191.0, 175.0, 194.0, 203.0, 176.0, 176.0, 195.0, 196.0, 175.0, 176.0, 177.0, 167.0, 171.0, 170.0, 172.0, 180.0, 182.0, 196.0, 170.0, 190.0, 178.0, 180.0, 187.0, 169.0, 184.0, 182.0, 185.0, 183.0, 205.0, 174.0, 175.0, 174.0, 174.0, 174.0, 192.0, 194.0, 174.0, 172.0, 185.0, 174.0, 186.0, 182.0, 165.0, 195.0, 198.0, 174.0, 176.0, 183.0, 183.0, 187.0, 200.0, 178.0, 172.0, 166.0, 173.0, 180.0, 198.0, 175.0, 182.0, 180.0, 192.0, 205.0, 175.0, 175.0, 190.0, 187.0, 198.0, 186.0, 176.0, 186.0, 191.0, 188.0, 185.0, 191.0, 192.0, 194.0, 186.0, 178.0, 181.0, 192.0, 172.0, 184.0, 176.0, 180.0, 193.0, 182.0, 180.0, 166.0, 187.0, 186.0, 202.0, 177.0, 182.0, 182.0, 196.0, 179.0, 183.0, 186.0, 182.0, 176.0, 182.0, 191.0, 170.0, 181.0, 173.0, 192.0, 165.0, 174.0, 184.0, 196.0, 179.0, 174.0, 199.0, 166.0, 158.0, 184.0, 175.0, 170.0, 187.0, 182.0, 174.0, 167.0, 189.0, 187.0, 179.0, 198.0, 169.0, 165.0, 173.0, 180.0, 182.0, 178.0, 184.0, 167.0, 194.0, 179.0, 191.0, 183.0, 185.0, 186.0, 184.0, 186.0, 193.0, 182.0, 187.0, 179.0, 194.0, 173.0, 198.0, 180.0, 166.0, 181.0, 173.0, 188.0, 173.0, 176.0, 161.0, 175.0, 156.0, 164.0, 188.0, 188.0, 184.0, 170.0, 180.0, 180.0, 168.0, 195.0, 189.0, 178.0, 180.0, 182.0, 160.0, 178.0, 173.0, 170.0, 177.0, 198.0, 186.0, 174.0, 186.0]\n"
          ]
        }
      ]
    },
    {
      "cell_type": "code",
      "metadata": {
        "id": "5hZMANeRqAUG"
      },
      "source": [
        "# теперь нам понадобится модуль stats библиотеки scypy (Scientific Python)\n",
        "import scipy.stats as st"
      ],
      "execution_count": 11,
      "outputs": []
    },
    {
      "cell_type": "code",
      "metadata": {
        "colab": {
          "base_uri": "https://localhost:8080/"
        },
        "id": "mtzsMjadqQK5",
        "outputId": "f4cbc005-b92d-4a7b-a3cf-cd3df1f7d7b1"
      },
      "source": [
        "# создадим 90-процентный доверительный интервал (confidence interval, ci)\n",
        "ci = st.norm.interval(alpha = 0.90, loc = np.mean(height), scale = st.sem(height))\n",
        "\n",
        "# теперь округлим до трех знаков после запятой и выведем результат\n",
        "print(np.round(ci, 2))"
      ],
      "execution_count": 12,
      "outputs": [
        {
          "output_type": "stream",
          "name": "stdout",
          "text": [
            "[179.69 180.71]\n"
          ]
        }
      ]
    },
    {
      "cell_type": "markdown",
      "metadata": {
        "id": "EYuQtIePuCV9"
      },
      "source": [
        "### Проверка гипотезы"
      ]
    },
    {
      "cell_type": "code",
      "metadata": {
        "colab": {
          "base_uri": "https://localhost:8080/"
        },
        "id": "B_txqBGBoUKT",
        "outputId": "4405f763-9273-47b0-ac07-c42d754adc35"
      },
      "source": [
        "# вспомним какое было среднее значение выборки\n",
        "height_mean = np.mean(height)\n",
        "print(np.round(height_mean, 2))"
      ],
      "execution_count": 13,
      "outputs": [
        {
          "output_type": "stream",
          "name": "stdout",
          "text": [
            "180.2\n"
          ]
        }
      ]
    },
    {
      "cell_type": "code",
      "metadata": {
        "colab": {
          "base_uri": "https://localhost:8080/"
        },
        "id": "vptY8Jb7ogRk",
        "outputId": "df938d4f-4d29-463b-b7ff-fce90d373ca6"
      },
      "source": [
        "# теперь будем использовать ttest_1samp, которому передадим нашу выборку и\n",
        "# предполагаемое истинное среднее 182 см\n",
        "t_statistic, p_value = st.ttest_1samp(height, 182)\n",
        "\n",
        "# переменная pvalue как раз и содержит нужную нам вероятность\n",
        "print(p_value)\n",
        "print(t_statistic)"
      ],
      "execution_count": 22,
      "outputs": [
        {
          "output_type": "stream",
          "name": "stdout",
          "text": [
            "9.035492171563733e-09\n",
            "-5.797229652505048\n"
          ]
        }
      ]
    },
    {
      "cell_type": "code",
      "metadata": {
        "colab": {
          "base_uri": "https://localhost:8080/"
        },
        "id": "vZdn9dKAolhp",
        "outputId": "42aa397a-50fd-4ec2-d477-12051f09c057"
      },
      "source": [
        "# теперь напишем небольшую программу, которая скажет отвергнуть нулевую гипотезу или нет\n",
        "if p_value < 0.05:    # пороговым значением мы выбрали 0.05 или 5%\n",
        "   print(\"Есть основания отвергнуть нулевую гипотезу\")\n",
        "else:\n",
        "  print(\"Нет оснований отвергнуть нулевую гипотезу\")"
      ],
      "execution_count": 15,
      "outputs": [
        {
          "output_type": "stream",
          "name": "stdout",
          "text": [
            "Есть основания отвергнуть нулевую гипотезу\n"
          ]
        }
      ]
    },
    {
      "cell_type": "markdown",
      "metadata": {
        "id": "-PiSbAkj--rZ"
      },
      "source": [
        "### Упражнения"
      ]
    },
    {
      "cell_type": "markdown",
      "metadata": {
        "id": "LgKYuic58U85"
      },
      "source": [
        "#### Доверительный интервал"
      ]
    },
    {
      "cell_type": "code",
      "metadata": {
        "id": "e5xGx3kw_B8E",
        "colab": {
          "base_uri": "https://localhost:8080/"
        },
        "outputId": "cd2c0edd-f679-470b-8c91-425009e291a2"
      },
      "source": [
        "# возьмем данные по банковским вкладам из упражнений предыдущего занятия\n",
        "np.random.seed(42)\n",
        "deposits = list(np.round(np.random.normal(300, 90, 1000)))\n",
        "print(deposits)"
      ],
      "execution_count": 23,
      "outputs": [
        {
          "output_type": "stream",
          "name": "stdout",
          "text": [
            "[345.0, 288.0, 358.0, 437.0, 279.0, 279.0, 442.0, 369.0, 258.0, 349.0, 258.0, 258.0, 322.0, 128.0, 145.0, 249.0, 209.0, 328.0, 218.0, 173.0, 432.0, 280.0, 306.0, 172.0, 251.0, 310.0, 196.0, 334.0, 246.0, 274.0, 246.0, 467.0, 299.0, 205.0, 374.0, 190.0, 319.0, 124.0, 180.0, 318.0, 366.0, 315.0, 290.0, 273.0, 167.0, 235.0, 259.0, 395.0, 331.0, 141.0, 329.0, 265.0, 239.0, 355.0, 393.0, 384.0, 224.0, 272.0, 330.0, 388.0, 257.0, 283.0, 200.0, 192.0, 373.0, 422.0, 294.0, 390.0, 333.0, 242.0, 333.0, 438.0, 297.0, 441.0, 64.0, 374.0, 308.0, 273.0, 308.0, 121.0, 280.0, 332.0, 433.0, 253.0, 227.0, 255.0, 382.0, 330.0, 252.0, 346.0, 309.0, 387.0, 237.0, 271.0, 265.0, 168.0, 327.0, 323.0, 300.0, 279.0, 173.0, 262.0, 269.0, 228.0, 285.0, 336.0, 470.0, 316.0, 323.0, 293.0, 127.0, 298.0, 305.0, 522.0, 283.0, 327.0, 297.0, 195.0, 403.0, 368.0, 371.0, 218.0, 426.0, 174.0, 353.0, 497.0, 211.0, 249.0, 309.0, 255.0, 160.0, 306.0, 204.0, 343.0, 217.0, 439.0, 230.0, 271.0, 373.0, 189.0, 320.0, 418.0, 155.0, 317.0, 323.0, 370.0, 189.0, 181.0, 347.0, 327.0, 323.0, 331.0, 239.0, 321.0, 326.0, 236.0, 468.0, 343.0, 193.0, 359.0, 212.0, 371.0, 404.0, 226.0, 387.0, 337.0, 374.0, 471.0, 278.0, 232.0, 220.0, 227.0, 293.0, 331.0, 325.0, 374.0, 301.0, 431.0, 276.0, 545.0, 356.0, 223.0, 204.0, 343.0, 280.0, 364.0, 343.0, 293.0, 224.0, 164.0, 260.0, 377.0, 319.0, 188.0, 316.0, 335.0, 220.0, 314.0, 305.0, 197.0, 332.0, 350.0, 397.0, 395.0, 176.0, 216.0, 346.0, 346.0, 346.0, 647.0, 351.0, 402.0, 386.0, 359.0, 272.0, 368.0, 230.0, 279.0, 256.0, 307.0, 508.0, 132.0, 362.0, 155.0, 258.0, 398.0, 306.0, 203.0, 236.0, 361.0, 234.0, 319.0, 304.0, 241.0, 493.0, 357.0, 118.0, 317.0, 240.0, 377.0, 229.0, 290.0, 345.0, 378.0, 192.0, 270.0, 257.0, 241.0, 459.0, 336.0, 187.0, 383.0, 491.0, 393.0, 163.0, 256.0, 414.0, 236.0, 340.0, 370.0, 217.0, 295.0, 8.0, 208.0, 277.0, 188.0, 447.0, 171.0, 260.0, 312.0, 430.0, 171.0, 405.0, 301.0, 212.0, 342.0, 318.0, 246.0, 306.0, 265.0, 310.0, 360.0, 443.0, 189.0, 492.0, 124.0, 286.0, 353.0, 325.0, 244.0, 281.0, 256.0, 247.0, 376.0, 332.0, 238.0, 381.0, 328.0, 373.0, 357.0, 225.0, 250.0, 367.0, 355.0, 298.0, 311.0, 415.0, 247.0, 349.0, 282.0, 280.0, 399.0, 374.0, 373.0, 417.0, 302.0, 361.0, 272.0, 329.0, 288.0, 309.0, 354.0, 226.0, 488.0, 209.0, 191.0, 404.0, 371.0, 356.0, 357.0, 299.0, 219.0, 307.0, 239.0, 388.0, 287.0, 226.0, 271.0, 337.0, 249.0, 226.0, 322.0, 322.0, 254.0, 258.0, 321.0, 170.0, 173.0, 235.0, 281.0, 328.0, 433.0, 377.0, 286.0, 298.0, 210.0, 298.0, 274.0, 329.0, 226.0, 347.0, 438.0, 290.0, 336.0, 362.0, 264.0, 320.0, 301.0, 309.0, 230.0, 302.0, 345.0, 431.0, 386.0, 494.0, 231.0, 379.0, 317.0, 497.0, 227.0, 224.0, 246.0, 109.0, 253.0, 232.0, 314.0, 331.0, 469.0, 386.0, 248.0, 219.0, 344.0, 181.0, 465.0, 406.0, 258.0, 146.0, 422.0, 290.0, 411.0, 157.0, 246.0, 300.0, 304.0, 259.0, 356.0, 204.0, 287.0, 311.0, 346.0, 364.0, 199.0, 162.0, 415.0, 330.0, 233.0, 440.0, 310.0, 406.0, 306.0, 485.0, 458.0, 278.0, 387.0, 358.0, 423.0, 213.0, 362.0, 395.0, 142.0, 194.0, 116.0, 276.0, 365.0, 435.0, 307.0, 447.0, 176.0, 147.0, 295.0, 335.0, 297.0, 114.0, 292.0, 183.0, 360.0, 333.0, 215.0, 254.0, 205.0, 294.0, 386.0, 211.0, 345.0, 252.0, 229.0, 290.0, 207.0, 250.0, 192.0, 477.0, 303.0, 237.0, 319.0, 290.0, 280.0, 355.0, 368.0, 252.0, 248.0, 275.0, 93.0, 164.0, 423.0, 448.0, 278.0, 352.0, 328.0, 577.0, 401.0, 288.0, 214.0, 155.0, 318.0, 232.0, 172.0, 242.0, 203.0, 452.0, 379.0, 299.0, 433.0, 307.0, 222.0, 437.0, 349.0, 207.0, 283.0, 221.0, 176.0, 383.0, 472.0, 174.0, 351.0, 241.0, 256.0, 247.0, 222.0, 304.0, 225.0, 324.0, 295.0, 278.0, 218.0, 248.0, 368.0, 345.0, 212.0, 309.0, 368.0, 150.0, 349.0, 240.0, 351.0, 231.0, 138.0, 154.0, 304.0, 323.0, 219.0, 357.0, 150.0, 294.0, 191.0, 241.0, 304.0, 223.0, 265.0, 391.0, 248.0, 375.0, 198.0, 348.0, 430.0, 78.0, 228.0, 352.0, 282.0, 333.0, 246.0, 308.0, 286.0, 405.0, 323.0, 330.0, 263.0, 256.0, 261.0, 336.0, 262.0, 326.0, 487.0, 378.0, 271.0, 408.0, 263.0, 117.0, 209.0, 132.0, 268.0, 302.0, 451.0, 329.0, 280.0, 375.0, 101.0, 321.0, 369.0, 167.0, 403.0, 330.0, 263.0, 357.0, 504.0, 316.0, 322.0, 259.0, 224.0, 375.0, 223.0, 306.0, 257.0, 343.0, 330.0, 393.0, 254.0, 276.0, 212.0, 260.0, 334.0, 368.0, 217.0, 378.0, 422.0, 337.0, 469.0, 230.0, 188.0, 140.0, 435.0, 359.0, 295.0, 325.0, 199.0, 520.0, 312.0, 310.0, 365.0, 343.0, 320.0, 229.0, 342.0, 469.0, 421.0, 443.0, 254.0, 211.0, 289.0, 305.0, 398.0, 148.0, 438.0, 286.0, 262.0, 209.0, 151.0, 374.0, 307.0, 184.0, 183.0, 270.0, 450.0, 277.0, 165.0, 278.0, 275.0, 57.0, 295.0, 279.0, 363.0, 466.0, 401.0, 276.0, 200.0, 532.0, 305.0, 301.0, 298.0, 318.0, 287.0, 248.0, 251.0, 297.0, 251.0, 236.0, 310.0, 277.0, 435.0, 61.0, 398.0, 412.0, 113.0, 269.0, 267.0, 173.0, 230.0, 200.0, 458.0, 384.0, 414.0, 365.0, 198.0, 253.0, 344.0, 190.0, 364.0, 278.0, 266.0, 364.0, 340.0, 268.0, 404.0, 203.0, 355.0, 353.0, 272.0, 329.0, 187.0, 383.0, 283.0, 253.0, 394.0, 237.0, 173.0, 160.0, 355.0, 185.0, 458.0, 113.0, 453.0, 319.0, 291.0, 251.0, 336.0, 297.0, 399.0, 310.0, 314.0, 267.0, 295.0, 328.0, 146.0, 179.0, 367.0, 315.0, 283.0, 302.0, 331.0, 251.0, 230.0, 318.0, 212.0, 337.0, 147.0, 393.0, 343.0, 323.0, 388.0, 450.0, 391.0, 134.0, 185.0, 244.0, 302.0, 347.0, 235.0, 317.0, 232.0, 245.0, 173.0, 217.0, 178.0, 212.0, 395.0, 215.0, 537.0, 344.0, 317.0, 223.0, 363.0, 248.0, 311.0, 530.0, 291.0, 403.0, 237.0, 297.0, 459.0, 244.0, 463.0, 364.0, 249.0, 357.0, 388.0, 356.0, 159.0, 235.0, 278.0, 293.0, 356.0, 316.0, 180.0, 334.0, 355.0, 350.0, 397.0, 375.0, 341.0, 294.0, 151.0, 339.0, 319.0, 324.0, 185.0, 203.0, 395.0, 296.0, 361.0, 303.0, 303.0, 384.0, 254.0, 309.0, 258.0, 261.0, 272.0, 320.0, 257.0, 413.0, 219.0, 283.0, 260.0, 430.0, 318.0, 393.0, 166.0, 324.0, 380.0, 307.0, 396.0, 253.0, 427.0, 507.0, 267.0, 260.0, 431.0, 442.0, 253.0, 262.0, 275.0, 179.0, 217.0, 210.0, 231.0, 297.0, 321.0, 440.0, 210.0, 389.0, 281.0, 296.0, 361.0, 199.0, 334.0, 315.0, 344.0, 326.0, 521.0, 243.0, 252.0, 244.0, 250.0, 243.0, 407.0, 428.0, 249.0, 225.0, 342.0, 250.0, 357.0, 318.0, 164.0, 439.0, 462.0, 245.0, 265.0, 326.0, 330.0, 359.0, 481.0, 284.0, 228.0, 176.0, 234.0, 297.0, 462.0, 253.0, 320.0, 299.0, 407.0, 527.0, 252.0, 256.0, 394.0, 361.0, 466.0, 353.0, 268.0, 353.0, 400.0, 374.0, 346.0, 396.0, 405.0, 424.0, 358.0, 285.0, 313.0, 409.0, 226.0, 333.0, 265.0, 303.0, 415.0, 317.0, 304.0, 178.0, 367.0, 358.0, 495.0, 272.0, 320.0, 322.0, 442.0, 291.0, 325.0, 355.0, 317.0, 260.0, 317.0, 397.0, 208.0, 312.0, 237.0, 408.0, 163.0, 250.0, 334.0, 441.0, 294.0, 250.0, 469.0, 170.0, 102.0, 340.0, 255.0, 208.0, 364.0, 322.0, 249.0, 185.0, 379.0, 359.0, 291.0, 466.0, 204.0, 163.0, 238.0, 296.0, 322.0, 278.0, 332.0, 187.0, 430.0, 293.0, 401.0, 331.0, 341.0, 351.0, 340.0, 358.0, 420.0, 318.0, 364.0, 292.0, 430.0, 239.0, 462.0, 296.0, 171.0, 312.0, 239.0, 376.0, 241.0, 260.0, 130.0, 259.0, 82.0, 157.0, 368.0, 371.0, 338.0, 213.0, 296.0, 300.0, 196.0, 435.0, 379.0, 280.0, 302.0, 319.0, 116.0, 278.0, 239.0, 210.0, 275.0, 462.0, 358.0, 249.0, 352.0]\n"
          ]
        }
      ]
    },
    {
      "cell_type": "markdown",
      "source": [
        "**Задание 1**. Пусть представленные данные - выборка, а вы хотите сделать вывод о генеральной совокупности (всех вкладах в России). Постройте 95% доверительный интервал среднего размера банковского вклада."
      ],
      "metadata": {
        "id": "5Mw1B5kT0j3E"
      }
    },
    {
      "cell_type": "code",
      "metadata": {
        "id": "0Q_es2Bc8s3c",
        "outputId": "c14f9c28-c51a-4d15-8fa0-d61ffc85311b",
        "colab": {
          "base_uri": "https://localhost:8080/"
        }
      },
      "source": [
        "# теперь нам понадобится модуль stats библиотеки scypy (Scientific Python)\n",
        "import scipy.stats as st\n",
        "# создадим 90-процентный доверительный интервал (confidence interval, ci)\n",
        "ci = st.norm.interval(alpha = 0.90, loc = np.mean(deposits), scale = st.sem(deposits))\n",
        "\n",
        "# теперь округлим до трех знаков после запятой и выведем результат\n",
        "print(np.round(ci, 2))"
      ],
      "execution_count": 24,
      "outputs": [
        {
          "output_type": "stream",
          "name": "stdout",
          "text": [
            "[297.16 306.32]\n"
          ]
        }
      ]
    },
    {
      "cell_type": "markdown",
      "metadata": {
        "id": "QSUXfBxU8YRI"
      },
      "source": [
        "#### Проверка гипотезы"
      ]
    },
    {
      "cell_type": "markdown",
      "source": [
        "Предположим, что вы прочитали в газете, что средний размер депозита составляет 306 тысяч рублей и с помощью выборочных данных, которые у вас есть, вы хотите это проверить."
      ],
      "metadata": {
        "id": "m1tbjKWg01rA"
      }
    },
    {
      "cell_type": "markdown",
      "source": [
        "**Задание 2**. Сформулируйте нулевую и альтернативную гипотезы."
      ],
      "metadata": {
        "id": "g54OpD-50xB2"
      }
    },
    {
      "cell_type": "code",
      "metadata": {
        "id": "OCosxNrP8bIP",
        "outputId": "384d5e17-2a92-4e9f-dc55-d9bb739ea797",
        "colab": {
          "base_uri": "https://localhost:8080/"
        }
      },
      "source": [
        "# вспомним какое было среднее значение выборки\n",
        "deposits_mean = np.mean(deposits)\n",
        "print(np.round(deposits_mean, 2))\n",
        "# депозит = 306/не равен"
      ],
      "execution_count": 28,
      "outputs": [
        {
          "output_type": "stream",
          "name": "stdout",
          "text": [
            "301.74\n"
          ]
        }
      ]
    },
    {
      "cell_type": "markdown",
      "source": [
        "**Задание 3**. Вычислите p-value."
      ],
      "metadata": {
        "id": "VZseTsky1J9h"
      }
    },
    {
      "cell_type": "code",
      "metadata": {
        "id": "ExrT05bM-C1v",
        "outputId": "49d23525-a949-406c-c179-ef5bf92a1ce6",
        "colab": {
          "base_uri": "https://localhost:8080/"
        }
      },
      "source": [
        "t, p = st.ttest_1samp(deposits, 301.74)\n",
        "print(t)\n",
        "print(p)\n",
        "# не отвергаем "
      ],
      "execution_count": 31,
      "outputs": [
        {
          "output_type": "stream",
          "name": "stdout",
          "text": [
            "-0.0003588565021761365\n",
            "0.999713745587712\n"
          ]
        }
      ]
    },
    {
      "cell_type": "markdown",
      "source": [
        "**Задание 4**. При пороговом значении в 10%, сделайте вывод о возможности либо невозможности отвергнуть нулевую гипотезу."
      ],
      "metadata": {
        "id": "46QvlL4A1P3V"
      }
    },
    {
      "cell_type": "code",
      "metadata": {
        "id": "s4h9qMdx-Mw1",
        "outputId": "214c1fa7-c8c4-41e8-d3cb-a47f5d9c60b9",
        "colab": {
          "base_uri": "https://localhost:8080/"
        }
      },
      "source": [
        "# теперь напишем небольшую программу, которая скажет отвергнуть нулевую гипотезу или нет\n",
        "if p < 0.1:    # пороговым значением мы выбрали 0.1 или 10%\n",
        "   print(\"Есть основания отвергнуть нулевую гипотезу\")\n",
        "else:\n",
        "  print(\"Нет оснований отвергнуть нулевую гипотезу\")"
      ],
      "execution_count": 32,
      "outputs": [
        {
          "output_type": "stream",
          "name": "stdout",
          "text": [
            "Нет оснований отвергнуть нулевую гипотезу\n"
          ]
        }
      ]
    },
    {
      "cell_type": "markdown",
      "source": [
        "### Дополнительные материалы"
      ],
      "metadata": {
        "id": "7sJT8iDJKeAK"
      }
    },
    {
      "cell_type": "markdown",
      "source": [
        "Экспоненциальная запись"
      ],
      "metadata": {
        "id": "IFy-1GJeRLVr"
      }
    },
    {
      "cell_type": "code",
      "source": [
        "9.035492171563733 * 10**(-9)"
      ],
      "metadata": {
        "colab": {
          "base_uri": "https://localhost:8080/"
        },
        "id": "JpFlNWUw95My",
        "outputId": "282bbcdc-6ee5-42b0-854f-7afac432e379"
      },
      "execution_count": 17,
      "outputs": [
        {
          "output_type": "execute_result",
          "data": {
            "text/plain": [
              "9.035492171563733e-09"
            ]
          },
          "metadata": {},
          "execution_count": 17
        }
      ]
    },
    {
      "cell_type": "markdown",
      "source": [
        "Распределение Стьюдента"
      ],
      "metadata": {
        "id": "lWdu1JDURXK7"
      }
    },
    {
      "cell_type": "code",
      "source": [
        "import matplotlib.pyplot as plt\n",
        "from scipy.stats import t\n",
        "\n",
        "# зададим размер графика\n",
        "plt.figure(figsize = (10,6))\n",
        "\n",
        "# зададим распределение Стьюдента с 999 степенями свободы\n",
        "x = np.linspace(-6, 6, 1000)\n",
        "f = t.pdf(x, len(height) - 1)\n",
        "\n",
        "# построим график\n",
        "plt.plot(x, f)\n",
        "plt.show()"
      ],
      "metadata": {
        "colab": {
          "base_uri": "https://localhost:8080/",
          "height": 374
        },
        "id": "KQahD1p1H4F_",
        "outputId": "ef95212b-6378-42ba-b2ce-589236034287"
      },
      "execution_count": 33,
      "outputs": [
        {
          "output_type": "display_data",
          "data": {
            "text/plain": [
              "<Figure size 720x432 with 1 Axes>"
            ],
            "image/png": "[encoded data removed]"
          },
          "metadata": {
            "needs_background": "light"
          }
        }
      ]
    },
    {
      "cell_type": "code",
      "source": [
        "# рассчитаем площадь слева от -5.797229652505048 и справа от 5.797229652505048\n",
        "t.cdf(x = t_statistic, df = len(height) - 1) * 2"
      ],
      "metadata": {
        "colab": {
          "base_uri": "https://localhost:8080/"
        },
        "id": "GYAdFzRmJVzD",
        "outputId": "6fcfb661-e7ab-4d17-acce-38c39e65d64b"
      },
      "execution_count": 19,
      "outputs": [
        {
          "output_type": "execute_result",
          "data": {
            "text/plain": [
              "9.035492171563733e-09"
            ]
          },
          "metadata": {},
          "execution_count": 19
        }
      ]
    },
    {
      "cell_type": "markdown",
      "source": [
        "Расчет моды"
      ],
      "metadata": {
        "id": "sZUPdPcqRae-"
      }
    },
    {
      "cell_type": "code",
      "source": [
        "# импортируем класс Counter\n",
        "from collections import Counter\n",
        " \n",
        "# создадим объект этого класса, передав ему список с данными о росте\n",
        "bow = Counter(height)\n",
        " \n",
        "# выведем шесть наиболее часто встречающихся значений с помощью метода .most_common()\n",
        "bow.most_common(6)"
      ],
      "metadata": {
        "id": "tqqZyhXvI351",
        "colab": {
          "base_uri": "https://localhost:8080/"
        },
        "outputId": "b3dd46d4-0af2-420d-d236-c04183237b4c"
      },
      "execution_count": 34,
      "outputs": [
        {
          "output_type": "execute_result",
          "data": {
            "text/plain": [
              "[(182.0, 50), (175.0, 46), (180.0, 45), (183.0, 44), (186.0, 40), (178.0, 39)]"
            ]
          },
          "metadata": {},
          "execution_count": 34
        }
      ]
    },
    {
      "cell_type": "code",
      "source": [
        "# рассчитаем моду с помощью функции mode()\n",
        "from statistics import mode\n",
        "mode(height)"
      ],
      "metadata": {
        "id": "iy5HjW6eKwvZ",
        "colab": {
          "base_uri": "https://localhost:8080/"
        },
        "outputId": "a7d473db-b1a0-4db1-cdcb-34fb3e41b5ca"
      },
      "execution_count": 35,
      "outputs": [
        {
          "output_type": "execute_result",
          "data": {
            "text/plain": [
              "182.0"
            ]
          },
          "metadata": {},
          "execution_count": 35
        }
      ]
    },
    {
      "cell_type": "code",
      "source": [],
      "metadata": {
        "id": "KzmwhDgbJpEl"
      },
      "execution_count": 21,
      "outputs": []
    }
  ]
}
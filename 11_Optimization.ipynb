{
  "nbformat": 4,
  "nbformat_minor": 0,
  "metadata": {
    "colab": {
      "provenance": [],
      "toc_visible": true,
      "include_colab_link": true
    },
    "kernelspec": {
      "name": "python3",
      "display_name": "Python 3"
    },
    "language_info": {
      "name": "python"
    }
  },
  "cells": [
    {
      "cell_type": "markdown",
      "metadata": {
        "id": "view-in-github",
        "colab_type": "text"
      },
      "source": [
        "<a href=\"https://colab.research.google.com/github/Vitalyastiy/courses/blob/main/11_Optimization.ipynb\" target=\"_parent\"><img src=\"https://colab.research.google.com/assets/colab-badge.svg\" alt=\"Open In Colab\"/></a>"
      ]
    },
    {
      "cell_type": "markdown",
      "metadata": {
        "id": "UDU8qyomsasd"
      },
      "source": [
        "## Оптимизация: поиск весов"
      ]
    },
    {
      "cell_type": "markdown",
      "metadata": {
        "id": "JmwPRujA3JMm"
      },
      "source": [
        "Уравнение линии с [прошлого занятия](https://www.dmitrymakarov.ru/intro/relationship-10/) (найдено с помощью функции polyfit):\n",
        "\n",
        "$$ y = 26.86x - 10.57 $$"
      ]
    },
    {
      "cell_type": "markdown",
      "source": [
        "### Создание модели с помощью библиотеки Scikit-learn"
      ],
      "metadata": {
        "id": "YWqQr84f35m3"
      }
    },
    {
      "cell_type": "code",
      "metadata": {
        "id": "CrAyk2WksXgE"
      },
      "source": [
        "# вновь возьмем данные роста и обхвата шеи\n",
        "# только теперь запишем рост в переменную X, а обхват шеи в переменную y\n",
        "X = [1.48, 1.49, 1.49, 1.50, 1.51, 1.52, 1.52, 1.53, 1.53, 1.54, 1.55, 1.56, 1.57, 1.57, 1.58, 1.58, 1.59, 1.60, 1.61, 1.62, 1.63, 1.64, 1.65, 1.65, 1.66, 1.67, 1.67, 1.68, 1.68,  1.69, 1.70, 1.70, 1.71, 1.71, 1.71, 1.74, 1.75, 1.76, 1.77, 1.77, 1.78]\n",
        "y = [29.1, 30.0, 30.1, 30.2, 30.4, 30.6, 30.8, 30.9, 31.0, 30.6, 30.7, 30.9, 31.0, 31.2, 31.3, 32.0, 31.4, 31.9, 32.4, 32.8, 32.8, 33.3, 33.6, 33.0, 33.9, 33.8, 35.0, 34.5, 34.7, 34.6, 34.2, 34.8, 35.5, 36.0, 36.2, 36.3, 36.6, 36.8, 36.8, 37.0, 38.5]"
      ],
      "execution_count": 1,
      "outputs": []
    },
    {
      "cell_type": "code",
      "metadata": {
        "id": "9h06VHHD2eL3"
      },
      "source": [
        "# импортируем библиотеку Numpy\n",
        "import numpy as np\n",
        "\n",
        "# преобразуем наш список X сначала в одномерный массив Numpy, а затем добавим второе измерение\n",
        "X = np.array(X).reshape(-1, 1)\n",
        "\n",
        "# список y достаточно преобразовать в одномерный массив Numpy\n",
        "y = np.array(y).reshape(-1, 1)"
      ],
      "execution_count": 5,
      "outputs": []
    },
    {
      "cell_type": "code",
      "metadata": {
        "colab": {
          "base_uri": "https://localhost:8080/"
        },
        "id": "xtQriCj51Z7B",
        "outputId": "fd9c35de-6996-44eb-d5da-aec78613464c"
      },
      "source": [
        "# из набора линейных моделей библиотеки sklearn импортируем линейную регрессию\n",
        "from sklearn.linear_model import LinearRegression\n",
        "\n",
        "# создадим объект этого класса и запишем в переменную model\n",
        "model = LinearRegression()\n",
        "\n",
        "# обучим нашу модель\n",
        "# т.е. найдем те самые веса или наклон и сдвиг прямой с помощью функции потерь\n",
        "model.fit(X, y)"
      ],
      "execution_count": 6,
      "outputs": [
        {
          "output_type": "execute_result",
          "data": {
            "text/plain": [
              "LinearRegression()"
            ]
          },
          "metadata": {},
          "execution_count": 6
        }
      ]
    },
    {
      "cell_type": "code",
      "metadata": {
        "colab": {
          "base_uri": "https://localhost:8080/"
        },
        "id": "9NKxkMAC1x1f",
        "outputId": "7523a733-8168-46d2-a475-162509faa1e3"
      },
      "source": [
        "# выведем наклон и сдвиг с помощью атрибутов coef_ и intercept_ соответственно\n",
        "print(model.coef_, model.intercept_)"
      ],
      "execution_count": 7,
      "outputs": [
        {
          "output_type": "stream",
          "name": "stdout",
          "text": [
            "[[26.86181201]] [-10.5709363]\n"
          ]
        }
      ]
    },
    {
      "cell_type": "markdown",
      "metadata": {
        "id": "zmG8KchU3ttk"
      },
      "source": [
        "Новое уравнение, найдено с помощью библиотеки Scikit-learn:\n",
        "\n",
        "$$ y = 26.86x - 10.57 $$"
      ]
    },
    {
      "cell_type": "code",
      "metadata": {
        "colab": {
          "base_uri": "https://localhost:8080/"
        },
        "id": "NhMDjVJh3qe9",
        "outputId": "34cd51bc-7435-4adc-b842-1939ccfc59f0"
      },
      "source": [
        "# на основе значений роста (Х) предскажем значения обхвата шеи\n",
        "y_pred = model.predict(X)\n",
        "\n",
        "# выведем первые пять значений, с помощью диапазоне индексов\n",
        "print(y_pred[:5])"
      ],
      "execution_count": 8,
      "outputs": [
        {
          "output_type": "stream",
          "name": "stdout",
          "text": [
            "[[29.18454547]\n",
            " [29.45316359]\n",
            " [29.45316359]\n",
            " [29.72178171]\n",
            " [29.99039983]]\n"
          ]
        }
      ]
    },
    {
      "cell_type": "code",
      "metadata": {
        "colab": {
          "base_uri": "https://localhost:8080/"
        },
        "id": "cA28x_SC4Nhn",
        "outputId": "4ad4808b-586d-42bf-ca7a-69802b1c742a"
      },
      "source": [
        "# импортируем модуль метрик, то есть измерений качества моделей\n",
        "from sklearn import metrics\n",
        "# выведем ту самую среднюю сумму расстояний или, говоря более корректно,\n",
        "# среднеквадратическую ошибку\n",
        "print('Mean Squared Error (MSE):', metrics.mean_squared_error(y, y_pred))"
      ],
      "execution_count": 9,
      "outputs": [
        {
          "output_type": "stream",
          "name": "stdout",
          "text": [
            "Mean Squared Error (MSE): 0.2273395626677337\n"
          ]
        }
      ]
    },
    {
      "cell_type": "code",
      "metadata": {
        "colab": {
          "base_uri": "https://localhost:8080/"
        },
        "id": "LSoeTLrc4pa_",
        "outputId": "175fc85e-40c7-4277-a628-df55d9ea0807"
      },
      "source": [
        "# избавимся от квадрата в вычислениях, возьмем квадратный корень из нашей метрики\n",
        "print('Root Mean Squared Error (RMSE):', np.sqrt(metrics.mean_squared_error(y, y_pred)))"
      ],
      "execution_count": 10,
      "outputs": [
        {
          "output_type": "stream",
          "name": "stdout",
          "text": [
            "Root Mean Squared Error (RMSE): 0.47680138702371\n"
          ]
        }
      ]
    },
    {
      "cell_type": "code",
      "metadata": {
        "colab": {
          "base_uri": "https://localhost:8080/"
        },
        "id": "W_nnTp8Y5Eu3",
        "outputId": "211a6ee8-3569-46a2-9c21-a33219d1af03"
      },
      "source": [
        "# сравним RMSE со средним обхватом шеи: модель неплохо обучилась!!!\n",
        "y.mean()"
      ],
      "execution_count": 11,
      "outputs": [
        {
          "output_type": "execute_result",
          "data": {
            "text/plain": [
              "33.102439024390236"
            ]
          },
          "metadata": {},
          "execution_count": 11
        }
      ]
    },
    {
      "cell_type": "markdown",
      "metadata": {
        "id": "KJ7hb-t1WhuV"
      },
      "source": [
        "### Упражнения"
      ]
    },
    {
      "cell_type": "markdown",
      "metadata": {
        "id": "9iX74MuvHxv9"
      },
      "source": [
        "Воспользуемся данными из упражнения прошлого занятия"
      ]
    },
    {
      "cell_type": "code",
      "metadata": {
        "id": "xydUqnw1H5_o"
      },
      "source": [
        "# напомню, что это данные зависимости спроса в экономике от цены на товары\n",
        "prices = [10, 20, 30, 40, 50, 60, 70, 80, 90, 100, 110, 120, 130, 140, 150, 160, 170, 180, 190]\n",
        "demand = [180, 170, 150, 140, 135, 128, 120, 115, 114, 108, 100, 97, 96, 95, 90, 85, 80, 80, 80]"
      ],
      "execution_count": 12,
      "outputs": []
    },
    {
      "cell_type": "markdown",
      "source": [
        "**Задание 1**. Постройте модель линейной регрессии с помощью библиотеки sklearn. Какие коэффициенты вы получили?"
      ],
      "metadata": {
        "id": "WAvUOgRQ4Pfd"
      }
    },
    {
      "cell_type": "code",
      "metadata": {
        "id": "ModVF-yJIp84",
        "outputId": "e3614456-77b6-4866-ba9b-e81f08a5a6c6",
        "colab": {
          "base_uri": "https://localhost:8080/"
        }
      },
      "source": [
        "# импортируем библиотеку Numpy\n",
        "import numpy as np\n",
        "\n",
        "# преобразуем наш список X сначала в одномерный массив Numpy, а затем добавим второе измерение\n",
        "X = np.array(prices).reshape(-1, 1)\n",
        "\n",
        "# список y достаточно преобразовать в одномерный массив Numpy\n",
        "y = np.array(demand).reshape(-1, 1)\n",
        "\n",
        "# из набора линейных моделей библиотеки sklearn импортируем линейную регрессию\n",
        "from sklearn.linear_model import LinearRegression\n",
        "\n",
        "# создадим объект этого класса и запишем в переменную model\n",
        "model = LinearRegression()\n",
        "\n",
        "# обучим нашу модель\n",
        "# т.е. найдем те самые веса или наклон и сдвиг прямой с помощью функции потерь\n",
        "model.fit(X, y)\n",
        "print(model.coef_, model.intercept_)"
      ],
      "execution_count": 15,
      "outputs": [
        {
          "output_type": "stream",
          "name": "stdout",
          "text": [
            "[[-0.51210526]] [165.05263158]\n"
          ]
        }
      ]
    },
    {
      "cell_type": "markdown",
      "source": [
        "**Задание 2**. Сделайте прогноз и выведите первые три прогнозных значения."
      ],
      "metadata": {
        "id": "KL4LYmtl4cNW"
      }
    },
    {
      "cell_type": "code",
      "metadata": {
        "id": "luPa4a3nI9c3",
        "outputId": "d0ebd31b-acbc-4f78-ad5e-1e7f0a2b0562",
        "colab": {
          "base_uri": "https://localhost:8080/"
        }
      },
      "source": [
        "# на основе значений роста (Х) предскажем значения обхвата шеи\n",
        "y_pred = model.predict(X)\n",
        "\n",
        "# выведем первые пять значений, с помощью диапазоне индексов\n",
        "print(y_pred[:5])"
      ],
      "execution_count": 16,
      "outputs": [
        {
          "output_type": "stream",
          "name": "stdout",
          "text": [
            "[[159.93157895]\n",
            " [154.81052632]\n",
            " [149.68947368]\n",
            " [144.56842105]\n",
            " [139.44736842]]\n"
          ]
        }
      ]
    },
    {
      "cell_type": "markdown",
      "source": [
        "**Задание 3**. Посчитайте квадрат средней суммы расстояний (среднеквадратическую ошибку, RMSE)."
      ],
      "metadata": {
        "id": "J74xORhn4izi"
      }
    },
    {
      "cell_type": "code",
      "metadata": {
        "id": "Y6fLZ9p4JEIv",
        "outputId": "fcb9a18d-5d6d-489d-85e1-07dc221e41ad",
        "colab": {
          "base_uri": "https://localhost:8080/"
        }
      },
      "source": [
        "# импортируем модуль метрик, то есть измерений качества моделей\n",
        "from sklearn import metrics\n",
        "# выведем ту самую среднюю сумму расстояний или, говоря более корректно,\n",
        "# среднеквадратическую ошибку\n",
        "print('Mean Squared Error (MSE):', metrics.mean_squared_error(y, y_pred))\n",
        "# избавимся от квадрата в вычислениях, возьмем квадратный корень из нашей метрики\n",
        "print('Root Mean Squared Error (RMSE):', np.sqrt(metrics.mean_squared_error(y, y_pred)))\n",
        "# сравним RMSE со средним обхватом шеи: модель неплохо обучилась!!!\n",
        "print(y.mean())"
      ],
      "execution_count": 17,
      "outputs": [
        {
          "output_type": "stream",
          "name": "stdout",
          "text": [
            "Mean Squared Error (MSE): 67.37756232686982\n",
            "Root Mean Squared Error (RMSE): 8.208383661042522\n",
            "113.84210526315789\n"
          ]
        }
      ]
    },
    {
      "cell_type": "markdown",
      "source": [
        "### Дополнительный материал"
      ],
      "metadata": {
        "id": "m6XDF7f1w9oN"
      }
    },
    {
      "cell_type": "markdown",
      "source": [
        "График функций потерь MAE и MSE, использованный в ответе на [вопрос в комментариях](https://www.dmitrymakarov.ru/intro/optimization-11/#comment-76)."
      ],
      "metadata": {
        "id": "isR835ySxJ8o"
      }
    },
    {
      "cell_type": "code",
      "source": [
        "import numpy as np\n",
        "import matplotlib.pyplot as plt\n",
        "\n",
        "plt.figure(figsize = (10,8))\n",
        "x_min, x_max = -5.0, 5.0\n",
        "x = np.arange(x_min, x_max, 0.1)\n",
        "y = x ** 2.0\n",
        "z = np.abs(x)\n",
        "\n",
        "plt.plot(x, y, label = ' MSE ')\n",
        "plt.plot(x, z, label = ' MAE ')\n",
        "plt.legend(loc = 'upper center', prop = {'size': 15})\n",
        "plt.show()"
      ],
      "metadata": {
        "colab": {
          "base_uri": "https://localhost:8080/",
          "height": 483
        },
        "id": "0ush9bZ2xAUo",
        "outputId": "93e63ace-8499-45f2-dfe2-811de9a49534"
      },
      "execution_count": null,
      "outputs": [
        {
          "output_type": "display_data",
          "data": {
            "image/png": "[encoded data removed]",
            "text/plain": [
              "<Figure size 720x576 with 1 Axes>"
            ]
          },
          "metadata": {
            "needs_background": "light"
          }
        }
      ]
    },
    {
      "cell_type": "code",
      "source": [],
      "metadata": {
        "id": "Ric0q_aZxgWJ"
      },
      "execution_count": null,
      "outputs": []
    }
  ]
}
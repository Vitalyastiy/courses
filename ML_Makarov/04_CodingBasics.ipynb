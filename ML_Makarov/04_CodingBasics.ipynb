{
  "nbformat": 4,
  "nbformat_minor": 0,
  "metadata": {
    "colab": {
      "provenance": [],
      "toc_visible": true,
      "include_colab_link": true
    },
    "kernelspec": {
      "name": "python3",
      "display_name": "Python 3"
    },
    "language_info": {
      "name": "python"
    }
  },
  "cells": [
    {
      "cell_type": "markdown",
      "metadata": {
        "id": "view-in-github",
        "colab_type": "text"
      },
      "source": [
        "<a href=\"https://colab.research.google.com/github/Vitalyastiy/courses/blob/main/04_CodingBasics.ipynb\" target=\"_parent\"><img src=\"https://colab.research.google.com/assets/colab-badge.svg\" alt=\"Open In Colab\"/></a>"
      ]
    },
    {
      "cell_type": "markdown",
      "metadata": {
        "id": "ETEvPb91zaZj"
      },
      "source": [
        "## Основы программирования"
      ]
    },
    {
      "cell_type": "markdown",
      "source": [
        "### Воспользуемся калькулятором"
      ],
      "metadata": {
        "id": "fbQND1CkPWg-"
      }
    },
    {
      "cell_type": "code",
      "metadata": {
        "colab": {
          "base_uri": "https://localhost:8080/"
        },
        "id": "eRU346jmiLOZ",
        "outputId": "08e91ff7-c697-4a2c-c274-1ff462d958a0"
      },
      "source": [
        "# Питон можно использовать как калькулятор: операция вычитания\n",
        "print(4 - 2)"
      ],
      "execution_count": null,
      "outputs": [
        {
          "output_type": "stream",
          "text": [
            "2\n"
          ],
          "name": "stdout"
        }
      ]
    },
    {
      "cell_type": "code",
      "metadata": {
        "colab": {
          "base_uri": "https://localhost:8080/"
        },
        "id": "wzocFKotiWY7",
        "outputId": "1d441b52-81d3-4f21-80e2-1ac1325e2953"
      },
      "source": [
        "# также доступно умножение\n",
        "print(3 * 5)"
      ],
      "execution_count": null,
      "outputs": [
        {
          "output_type": "stream",
          "text": [
            "15\n"
          ],
          "name": "stdout"
        }
      ]
    },
    {
      "cell_type": "code",
      "metadata": {
        "colab": {
          "base_uri": "https://localhost:8080/"
        },
        "id": "-5FVtPwXix8r",
        "outputId": "c5a95284-78ec-4c3f-c647-572c108457c9"
      },
      "source": [
        "# деление\n",
        "print(15 / 3)"
      ],
      "execution_count": null,
      "outputs": [
        {
          "output_type": "stream",
          "text": [
            "5.0\n"
          ],
          "name": "stdout"
        }
      ]
    },
    {
      "cell_type": "code",
      "metadata": {
        "colab": {
          "base_uri": "https://localhost:8080/"
        },
        "id": "9Xli2V_Ni1-g",
        "outputId": "6fbee76e-b16d-4e45-f7a4-05059a9ebb03"
      },
      "source": [
        "# и возведение в степень\n",
        "print(2 ** 3)"
      ],
      "execution_count": null,
      "outputs": [
        {
          "output_type": "stream",
          "text": [
            "8\n"
          ],
          "name": "stdout"
        }
      ]
    },
    {
      "cell_type": "markdown",
      "metadata": {
        "id": "G5HG9Vq5zrZy"
      },
      "source": [
        "### Сравним значения"
      ]
    },
    {
      "cell_type": "code",
      "metadata": {
        "id": "QGtmFS3EjAKi",
        "colab": {
          "base_uri": "https://localhost:8080/"
        },
        "outputId": "0c107217-cdb1-47f5-9a49-bbea0719c9af"
      },
      "source": [
        "# верное сравнение\n",
        "print(4 > 2)"
      ],
      "execution_count": null,
      "outputs": [
        {
          "output_type": "stream",
          "text": [
            "True\n"
          ],
          "name": "stdout"
        }
      ]
    },
    {
      "cell_type": "code",
      "metadata": {
        "colab": {
          "base_uri": "https://localhost:8080/"
        },
        "id": "h4TQmBtsz6uV",
        "outputId": "4c80e93d-512c-4c04-de01-2f85d598c317"
      },
      "source": [
        "# неверное сравнение\n",
        "print(4 < 2)"
      ],
      "execution_count": null,
      "outputs": [
        {
          "output_type": "stream",
          "text": [
            "False\n"
          ],
          "name": "stdout"
        }
      ]
    },
    {
      "cell_type": "code",
      "metadata": {
        "colab": {
          "base_uri": "https://localhost:8080/"
        },
        "id": "GYMr68OngM7T",
        "outputId": "63cc898e-b7e9-4253-b165-a3f7c55b641d"
      },
      "source": [
        "# сравнение \"больше или равно\"\n",
        "print(4 >= 4)"
      ],
      "execution_count": null,
      "outputs": [
        {
          "output_type": "stream",
          "text": [
            "True\n"
          ],
          "name": "stdout"
        }
      ]
    },
    {
      "cell_type": "code",
      "metadata": {
        "colab": {
          "base_uri": "https://localhost:8080/"
        },
        "id": "6JcIPj_hgYSE",
        "outputId": "d448cc29-74da-4776-8fde-b77517c9e12e"
      },
      "source": [
        "# и \"меньше или равно\"\n",
        "print(2 <= 0)"
      ],
      "execution_count": null,
      "outputs": [
        {
          "output_type": "stream",
          "text": [
            "False\n"
          ],
          "name": "stdout"
        }
      ]
    },
    {
      "cell_type": "markdown",
      "metadata": {
        "id": "5hLT0TTj0BFi"
      },
      "source": [
        "### Сохраним информацию"
      ]
    },
    {
      "cell_type": "code",
      "metadata": {
        "colab": {
          "base_uri": "https://localhost:8080/"
        },
        "id": "ekglucF71YXj",
        "outputId": "f2077740-bb24-484a-b2fb-4ac9cd15e0a4"
      },
      "source": [
        "# переменной x присвоим значение 5\n",
        "x = 5\n",
        "\n",
        "# теперь мы можем использовать переменную вместо числа\n",
        "print(x * 2)"
      ],
      "execution_count": null,
      "outputs": [
        {
          "output_type": "stream",
          "text": [
            "10\n"
          ],
          "name": "stdout"
        }
      ]
    },
    {
      "cell_type": "code",
      "metadata": {
        "id": "Cgu6qJkP1eVj",
        "colab": {
          "base_uri": "https://localhost:8080/"
        },
        "outputId": "389922c7-4e48-438b-8103-6cbb4a3148b4"
      },
      "source": [
        "# также в переменную можно записывать строки (текст)\n",
        "y = 'Питон'\n",
        "\n",
        "# выведем строку\n",
        "print(y)"
      ],
      "execution_count": null,
      "outputs": [
        {
          "output_type": "stream",
          "text": [
            "Питон\n"
          ],
          "name": "stdout"
        }
      ]
    },
    {
      "cell_type": "code",
      "metadata": {
        "colab": {
          "base_uri": "https://localhost:8080/"
        },
        "id": "t1iVtJup1t5l",
        "outputId": "a23490d5-26bb-48e4-b30d-654c3e0e8d17"
      },
      "source": [
        "# Питон умеет считать количество символов в строке. Функция len()\n",
        "print(len(y))"
      ],
      "execution_count": null,
      "outputs": [
        {
          "output_type": "stream",
          "text": [
            "5\n"
          ],
          "name": "stdout"
        }
      ]
    },
    {
      "cell_type": "code",
      "metadata": {
        "colab": {
          "base_uri": "https://localhost:8080/"
        },
        "id": "l2yJrA6D1--n",
        "outputId": "e9511010-b0a3-4ce5-c782-f38f5f22246f"
      },
      "source": [
        "# выведем первую букву в слове \"Питон\" по ее индексу\n",
        "print(y[0])"
      ],
      "execution_count": null,
      "outputs": [
        {
          "output_type": "stream",
          "text": [
            "П\n"
          ],
          "name": "stdout"
        }
      ]
    },
    {
      "cell_type": "markdown",
      "metadata": {
        "id": "xUUpHZUWhWoC"
      },
      "source": [
        "### Присваивание и равенство"
      ]
    },
    {
      "cell_type": "code",
      "metadata": {
        "colab": {
          "base_uri": "https://localhost:8080/"
        },
        "id": "rRJw-WDQhWDo",
        "outputId": "291af41f-e5bd-4d45-b6fe-26558374a1a6"
      },
      "source": [
        "# одиночный знак равно \"=\" присваивает значение переменной\n",
        "z = 7\n",
        "print(z)"
      ],
      "execution_count": null,
      "outputs": [
        {
          "output_type": "stream",
          "text": [
            "7\n"
          ],
          "name": "stdout"
        }
      ]
    },
    {
      "cell_type": "code",
      "metadata": {
        "colab": {
          "base_uri": "https://localhost:8080/"
        },
        "id": "nPyztgMjh7hJ",
        "outputId": "54e180cc-4b88-4487-cb29-ad55c0e511c0"
      },
      "source": [
        "# двойной знак равно \"==\" означает равенство\n",
        "# по сути, мы просим Питон сравнить, верно ли равенство или нет\n",
        "print(7 == 7)"
      ],
      "execution_count": null,
      "outputs": [
        {
          "output_type": "stream",
          "text": [
            "True\n"
          ],
          "name": "stdout"
        }
      ]
    },
    {
      "cell_type": "code",
      "metadata": {
        "colab": {
          "base_uri": "https://localhost:8080/"
        },
        "id": "0Pxf1dufiMef",
        "outputId": "dbc67cef-8c51-4e03-ad18-54690572b6b3"
      },
      "source": [
        "# тогда как\n",
        "print(5 == 7)"
      ],
      "execution_count": null,
      "outputs": [
        {
          "output_type": "stream",
          "text": [
            "False\n"
          ],
          "name": "stdout"
        }
      ]
    },
    {
      "cell_type": "markdown",
      "metadata": {
        "id": "UAzRKnuC6v4t"
      },
      "source": [
        "### Упражнения"
      ]
    },
    {
      "cell_type": "markdown",
      "source": [
        "**Задание 1**. Используя только одну команду `print()`, сложите числа 4 и 5, вычтите 3 и выведите результат."
      ],
      "metadata": {
        "id": "vy9glv1BPN_h"
      }
    },
    {
      "cell_type": "code",
      "metadata": {
        "id": "YMTG20GA6zVx"
      },
      "source": [],
      "execution_count": null,
      "outputs": []
    },
    {
      "cell_type": "markdown",
      "source": [
        "**Задание 2**. Верно ли, что число 18 меньше 27? Проверьте это с помощью Питона и выведите результат."
      ],
      "metadata": {
        "id": "DeLujQ7dPeUT"
      }
    },
    {
      "cell_type": "code",
      "metadata": {
        "id": "gOeFeFE47Q6F",
        "outputId": "d17b896b-7ddb-4cd9-fa84-180bbe94f944",
        "colab": {
          "base_uri": "https://localhost:8080/"
        }
      },
      "source": [
        "18 < 27"
      ],
      "execution_count": 1,
      "outputs": [
        {
          "output_type": "execute_result",
          "data": {
            "text/plain": [
              "True"
            ]
          },
          "metadata": {},
          "execution_count": 1
        }
      ]
    },
    {
      "cell_type": "markdown",
      "source": [
        "**Задание 3**. Верно ли, что -2 меньше либо равно 0?"
      ],
      "metadata": {
        "id": "Zzyfg9F5QVD6"
      }
    },
    {
      "cell_type": "code",
      "metadata": {
        "id": "DE8WipDmgqWp"
      },
      "source": [],
      "execution_count": null,
      "outputs": []
    },
    {
      "cell_type": "markdown",
      "source": [
        "**Задание 4**. Создайте переменную `w` и запишите в нее значение 33. Используя переменную `w`, разделите 33 на 11 и выведите результат."
      ],
      "metadata": {
        "id": "8k9Eyb6gQecZ"
      }
    },
    {
      "cell_type": "code",
      "metadata": {
        "id": "70bI2aon8aPS"
      },
      "source": [],
      "execution_count": null,
      "outputs": []
    },
    {
      "cell_type": "markdown",
      "source": [
        "**Задание 5**. Запишите в переменную `v` следующую строку: \"Я уже программирую на Питоне\"."
      ],
      "metadata": {
        "id": "Ennt_AiaQstd"
      }
    },
    {
      "cell_type": "code",
      "metadata": {
        "id": "kKaPc1Xg7j-a"
      },
      "source": [],
      "execution_count": null,
      "outputs": []
    },
    {
      "cell_type": "markdown",
      "source": [
        "**Задание 6**. Сколько символов в строке, которую вы записали в переменную `v`?"
      ],
      "metadata": {
        "id": "_TPLY2iwQ3fH"
      }
    },
    {
      "cell_type": "code",
      "metadata": {
        "id": "lOfPQYHN9RAv"
      },
      "source": [],
      "execution_count": null,
      "outputs": []
    },
    {
      "cell_type": "markdown",
      "source": [
        "**Задание 7**. Снова возьмите строку из задания 5. Используя индекс, выведите букву \"ж\".\n",
        "\n",
        "Подсказка: помните, что индекс начинается с нуля и пробел - это тоже символ."
      ],
      "metadata": {
        "id": "5iMybCUDQ-wN"
      }
    },
    {
      "cell_type": "code",
      "metadata": {
        "id": "6hbNJkoa9cWH"
      },
      "source": [],
      "execution_count": null,
      "outputs": []
    },
    {
      "cell_type": "markdown",
      "source": [
        "**Задание 8**. Верно ли, что 5 равно 10?"
      ],
      "metadata": {
        "id": "xlJXjTLgRYDa"
      }
    },
    {
      "cell_type": "code",
      "metadata": {
        "id": "tL6Chbqr93Re"
      },
      "source": [],
      "execution_count": null,
      "outputs": []
    },
    {
      "cell_type": "markdown",
      "source": [
        "### Ответы на вопросы"
      ],
      "metadata": {
        "id": "VcXEuzqO7RZ3"
      }
    },
    {
      "cell_type": "markdown",
      "source": [
        "**Вопрос**. Чем отличается оператор равенства `==` от оператора тождественности `is`?"
      ],
      "metadata": {
        "id": "P37BLd8q7XJt"
      }
    },
    {
      "cell_type": "code",
      "source": [
        "# создадим список из трех чисел и поместим его в переменную a\n",
        "# (списки рассматриваются на следующем занятии)\n",
        "a = [1, 2, 3]\n",
        "\n",
        "# передадим этот список функции list(),\n",
        "# которая создаст новый объект(!) этого списка\n",
        "b = list(a)\n",
        "\n",
        "# значения списков равны,\n",
        "print(a == b)\n",
        "# но эти списки находятся в разных объектах в памяти\n",
        "print(a is b)"
      ],
      "metadata": {
        "colab": {
          "base_uri": "https://localhost:8080/"
        },
        "id": "RaifDNTY7TIV",
        "outputId": "c249c41c-2206-480c-910f-d8524d78ed33"
      },
      "execution_count": 2,
      "outputs": [
        {
          "output_type": "stream",
          "name": "stdout",
          "text": [
            "True\n",
            "False\n"
          ]
        }
      ]
    },
    {
      "cell_type": "code",
      "source": [],
      "metadata": {
        "id": "38WPhKtk7vIq"
      },
      "execution_count": null,
      "outputs": []
    }
  ]
}

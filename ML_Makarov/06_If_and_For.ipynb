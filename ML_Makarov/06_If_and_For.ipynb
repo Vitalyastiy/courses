{
  "nbformat": 4,
  "nbformat_minor": 0,
  "metadata": {
    "colab": {
      "provenance": [],
      "include_colab_link": true
    },
    "kernelspec": {
      "name": "python3",
      "display_name": "Python 3"
    },
    "language_info": {
      "name": "python"
    }
  },
  "cells": [
    {
      "cell_type": "markdown",
      "metadata": {
        "id": "view-in-github",
        "colab_type": "text"
      },
      "source": [
        "<a href=\"https://colab.research.google.com/github/Vitalyastiy/courses/blob/main/06_If_and_For.ipynb\" target=\"_parent\"><img src=\"https://colab.research.google.com/assets/colab-badge.svg\" alt=\"Open In Colab\"/></a>"
      ]
    },
    {
      "cell_type": "markdown",
      "metadata": {
        "id": "7itCdD35rjK0"
      },
      "source": [
        "## Условия и циклы"
      ]
    },
    {
      "cell_type": "markdown",
      "metadata": {
        "id": "ojWyjdH5rrdm"
      },
      "source": [
        "### Условия с if"
      ]
    },
    {
      "cell_type": "code",
      "metadata": {
        "id": "XQ4n90sWddxv",
        "colab": {
          "base_uri": "https://localhost:8080/"
        },
        "outputId": "6b8a799d-39d1-4245-fd8e-7cfc2cd8e7e2"
      },
      "source": [
        "# присваиваем переменной salary значение 75\n",
        "salary = 75\n",
        "# если значение salary больше либо равно 90 выдаем кредит\n",
        "if salary >= 90:\n",
        "  print('Выдать кредит')\n",
        "# в противном случае в кредите отказываем\n",
        "else:\n",
        "  print('В кредите отказать')"
      ],
      "execution_count": null,
      "outputs": [
        {
          "output_type": "stream",
          "text": [
            "В кредите отказать\n"
          ],
          "name": "stdout"
        }
      ]
    },
    {
      "cell_type": "markdown",
      "metadata": {
        "id": "VRtLxZ_zsIfU"
      },
      "source": [
        "### Цикл for"
      ]
    },
    {
      "cell_type": "code",
      "metadata": {
        "id": "Gwmv2NzAsCw5"
      },
      "source": [
        "# воспользуемся списком покупок из предыдущего занятия\n",
        "veg_list = ['огурцы', 'помидоры', 'лук', 'картофель']"
      ],
      "execution_count": null,
      "outputs": []
    },
    {
      "cell_type": "code",
      "metadata": {
        "colab": {
          "base_uri": "https://localhost:8080/"
        },
        "id": "FzPDj_7jsLq-",
        "outputId": "5f88739c-642c-48f2-d2bc-d4fd17ca04c5"
      },
      "source": [
        "# в цикле выведем каждый из элементов списка один за другим\n",
        "for i in veg_list:\n",
        "  print(i)"
      ],
      "execution_count": null,
      "outputs": [
        {
          "output_type": "stream",
          "text": [
            "огурцы\n",
            "помидоры\n",
            "лук\n",
            "картофель\n"
          ],
          "name": "stdout"
        }
      ]
    },
    {
      "cell_type": "code",
      "metadata": {
        "id": "UgYxunhtsnul"
      },
      "source": [
        "# возьмем словарь из предыдущего занятия\n",
        "shopping_dict = {\n",
        "  'огурцы': 2,\n",
        "  'помидоры': 3,\n",
        "  'лук': 1,\n",
        "  'картофель': 2\n",
        "}"
      ],
      "execution_count": null,
      "outputs": []
    },
    {
      "cell_type": "code",
      "metadata": {
        "colab": {
          "base_uri": "https://localhost:8080/"
        },
        "id": "q5_-NtjPw9UB",
        "outputId": "47e86ae0-7f6e-4d8d-da5a-3d6fe2b53b85"
      },
      "source": [
        "# вывыдем все ключи и значения словаря с помощью цикла\n",
        "for k, v in shopping_dict.items():\n",
        "  print(k,v)"
      ],
      "execution_count": null,
      "outputs": [
        {
          "output_type": "stream",
          "text": [
            "огурцы 2\n",
            "помидоры 3\n",
            "лук 1\n",
            "картофель 2\n"
          ],
          "name": "stdout"
        }
      ]
    },
    {
      "cell_type": "code",
      "metadata": {
        "colab": {
          "base_uri": "https://localhost:8080/"
        },
        "id": "jnoVHDwf250m",
        "outputId": "7ea2ec31-7a16-49a6-c2b8-46775c53e375"
      },
      "source": [
        "# выведем только ключи\n",
        "for k in shopping_dict.keys():\n",
        "  print(k)"
      ],
      "execution_count": null,
      "outputs": [
        {
          "output_type": "stream",
          "text": [
            "огурцы\n",
            "помидоры\n",
            "лук\n",
            "картофель\n"
          ],
          "name": "stdout"
        }
      ]
    },
    {
      "cell_type": "code",
      "metadata": {
        "colab": {
          "base_uri": "https://localhost:8080/"
        },
        "id": "gk03r4eC3G0n",
        "outputId": "ad1148f5-d3c2-4d67-8b67-e9f1c7873bfb"
      },
      "source": [
        "# выведем только значения\n",
        "for v in shopping_dict.values():\n",
        "  print(v)"
      ],
      "execution_count": null,
      "outputs": [
        {
          "output_type": "stream",
          "text": [
            "2\n",
            "3\n",
            "1\n",
            "2\n"
          ],
          "name": "stdout"
        }
      ]
    },
    {
      "cell_type": "markdown",
      "metadata": {
        "id": "90nzMI4eb_R7"
      },
      "source": [
        "### Упражнения"
      ]
    },
    {
      "cell_type": "markdown",
      "metadata": {
        "id": "yFvobYcLd6Wt"
      },
      "source": [
        "#### Условия с if"
      ]
    },
    {
      "cell_type": "markdown",
      "source": [
        "**Задание 1**. Создайте переменную `age` и запишите в нее число 25."
      ],
      "metadata": {
        "id": "x59nzqk3U48y"
      }
    },
    {
      "cell_type": "code",
      "metadata": {
        "id": "yBRUnnCacDA5"
      },
      "source": [
        "age = 25"
      ],
      "execution_count": 1,
      "outputs": []
    },
    {
      "cell_type": "markdown",
      "source": [
        "**Задание 2**. Напишите программу, которая выведет текст \"Продажа алкоголя разрешена\", если переменная `age` больше или равна 18, в противном случае на экране должно появиться \"Алкоголь не продавать\"."
      ],
      "metadata": {
        "id": "oT8OjcjdU_i-"
      }
    },
    {
      "cell_type": "code",
      "metadata": {
        "id": "36QQMuAbcQbs",
        "outputId": "d6ca0584-18b0-412f-d9de-35405f10bd9b",
        "colab": {
          "base_uri": "https://localhost:8080/"
        }
      },
      "source": [
        "if age >=18:\n",
        "  print(\"Продажа алкоголя разрешена\")\n",
        "else:\n",
        "  print(\"Алкоголь не продавать\")"
      ],
      "execution_count": 2,
      "outputs": [
        {
          "output_type": "stream",
          "name": "stdout",
          "text": [
            "Продажа алкоголя разрешена\n"
          ]
        }
      ]
    },
    {
      "cell_type": "markdown",
      "metadata": {
        "id": "Jv41_0D8eSP5"
      },
      "source": [
        "#### Цикл `for` и списки"
      ]
    },
    {
      "cell_type": "markdown",
      "source": [
        "**Задание 3**. Возьмите список с днями недели из предыдущего занятия и в цикле `for` выведите все дни с понедельника по воскресенье."
      ],
      "metadata": {
        "id": "mE-lFeA7VPjt"
      }
    },
    {
      "cell_type": "code",
      "metadata": {
        "id": "Tw9SO4csdUw3",
        "outputId": "2c9cd0ef-cb74-4bf4-9136-8aa95151f3e3",
        "colab": {
          "base_uri": "https://localhost:8080/"
        }
      },
      "source": [
        "veg_list = ['Пн', 'Вт', 'Ср', 'Чт', 'Пт', 'Сб']\n",
        "\n",
        "for i in (veg_list):\n",
        "  print(i)"
      ],
      "execution_count": 7,
      "outputs": [
        {
          "output_type": "stream",
          "name": "stdout",
          "text": [
            "Пн\n",
            "Вт\n",
            "Ср\n",
            "Чт\n",
            "Пт\n",
            "Сб\n"
          ]
        }
      ]
    },
    {
      "cell_type": "markdown",
      "metadata": {
        "id": "oZiv1veAeXIE"
      },
      "source": [
        "#### Цикл `for` и словари"
      ]
    },
    {
      "cell_type": "markdown",
      "source": [
        "**Задание 4**. Возьмите словарь с днями недели и количеством шагов из предыдущего занятия и в цикле `for` выведите дни недели и соответствующее им количество шагов."
      ],
      "metadata": {
        "id": "kK0XokS7VhWL"
      }
    },
    {
      "cell_type": "code",
      "metadata": {
        "id": "_8a_p7mBet6L",
        "outputId": "b148eb39-95dc-4b65-a2f3-eda77d0edd59",
        "colab": {
          "base_uri": "https://localhost:8080/"
        }
      },
      "source": [
        "go_dict = {\n",
        "  'Пн': 20000,\n",
        "  'Вт': 30000,\n",
        "  'Ср': 10000,\n",
        "  'Чт': 20000\n",
        "}\n",
        "go_dict\n",
        "\n",
        "for k,v in go_dict.items():\n",
        "  print(k,v)"
      ],
      "execution_count": 9,
      "outputs": [
        {
          "output_type": "stream",
          "name": "stdout",
          "text": [
            "Пн 20000\n",
            "Вт 30000\n",
            "Ср 10000\n",
            "Чт 20000\n"
          ]
        }
      ]
    },
    {
      "cell_type": "code",
      "source": [],
      "metadata": {
        "id": "8XikU52uCSBl"
      },
      "execution_count": null,
      "outputs": []
    }
  ]
}

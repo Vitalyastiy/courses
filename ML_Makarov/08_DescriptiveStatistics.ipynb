{
  "nbformat": 4,
  "nbformat_minor": 0,
  "metadata": {
    "colab": {
      "provenance": [],
      "toc_visible": true,
      "include_colab_link": true
    },
    "kernelspec": {
      "name": "python3",
      "display_name": "Python 3"
    },
    "language_info": {
      "name": "python"
    }
  },
  "cells": [
    {
      "cell_type": "markdown",
      "metadata": {
        "id": "view-in-github",
        "colab_type": "text"
      },
      "source": [
        "<a href=\"https://colab.research.google.com/github/Vitalyastiy/courses/blob/main/08_DescriptiveStatistics.ipynb\" target=\"_parent\"><img src=\"https://colab.research.google.com/assets/colab-badge.svg\" alt=\"Open In Colab\"/></a>"
      ]
    },
    {
      "cell_type": "markdown",
      "metadata": {
        "id": "t3dPXJ4o8fMX"
      },
      "source": [
        "## Описательная статистика"
      ]
    },
    {
      "cell_type": "markdown",
      "metadata": {
        "id": "wkGWJaEVOgUD"
      },
      "source": [
        "### Категориальные данные: столбчатая диаграмма"
      ]
    },
    {
      "cell_type": "code",
      "metadata": {
        "id": "arLDxJcI8ZFx"
      },
      "source": [
        "# импортируем модуль pyplot из библиотеки matplotlib\n",
        "import matplotlib.pyplot as plt"
      ],
      "execution_count": 1,
      "outputs": []
    },
    {
      "cell_type": "code",
      "metadata": {
        "colab": {
          "base_uri": "https://localhost:8080/",
          "height": 313
        },
        "id": "7PHXdZ8dHjr1",
        "outputId": "318a6b8e-0bcc-42e0-cbfb-3fe561a93eba"
      },
      "source": [
        "# подготовим наши данные\n",
        " \n",
        "# во-первых, возьмем список курсов\n",
        "year = ['Первый', 'Второй', 'Третий', 'Четвертый', 'Пятый']\n",
        "# во-вторых, количество студентов на каждом из них\n",
        "frequency = [500, 470, 300, 260, 220]\n",
        " \n",
        "# воспользуемся функцией bar и передадим ей два списка в качестве аргументов\n",
        "plt.bar(year, frequency)\n",
        " \n",
        "# создадим заголовок и подписи к осям, здесь ничего нового\n",
        "plt.xlabel('Курс')\n",
        "plt.ylabel('Количество студентов')\n",
        "plt.title('Распределение студентов по курсам университета')"
      ],
      "execution_count": 2,
      "outputs": [
        {
          "output_type": "execute_result",
          "data": {
            "text/plain": [
              "Text(0.5, 1.0, 'Распределение студентов по курсам университета')"
            ]
          },
          "metadata": {},
          "execution_count": 2
        },
        {
          "output_type": "display_data",
          "data": {
            "text/plain": [
              "<Figure size 432x288 with 1 Axes>"
            ],
            "image/png": "[encoded data removed]"
          },
          "metadata": {
            "needs_background": "light"
          }
        }
      ]
    },
    {
      "cell_type": "markdown",
      "metadata": {
        "id": "PCsm6tkzOn1I"
      },
      "source": [
        "### Количественные переменные: рост мужчин в России"
      ]
    },
    {
      "cell_type": "markdown",
      "metadata": {
        "id": "Qwu_236z-LiA"
      },
      "source": [
        "Гистограмма данных"
      ]
    },
    {
      "cell_type": "code",
      "metadata": {
        "id": "y3CKjNUHKU0k"
      },
      "source": [
        "# предположим мы спрашивали людей об их росте\n",
        "\n",
        "# на код в этой ячейке не обращайте внимания, он имитирует случайные данные\n",
        "import numpy as np\n",
        "np.random.seed(42)\n",
        "height = list(np.round(np.random.normal(180, 10, 1000)))"
      ],
      "execution_count": 3,
      "outputs": []
    },
    {
      "cell_type": "code",
      "metadata": {
        "id": "kFHBjH7-QSP1",
        "colab": {
          "base_uri": "https://localhost:8080/"
        },
        "outputId": "9d268a86-7836-49b7-ce6b-5ab1e7306f0c"
      },
      "source": [
        "# и получили следующие данные, всего 1000 респондентов\n",
        "print(height)"
      ],
      "execution_count": null,
      "outputs": [
        {
          "output_type": "stream",
          "name": "stdout",
          "text": [
            "[185.0, 179.0, 186.0, 195.0, 178.0, 178.0, 196.0, 188.0, 175.0, 185.0, 175.0, 175.0, 182.0, 161.0, 163.0, 174.0, 170.0, 183.0, 171.0, 166.0, 195.0, 178.0, 181.0, 166.0, 175.0, 181.0, 168.0, 184.0, 174.0, 177.0, 174.0, 199.0, 180.0, 169.0, 188.0, 168.0, 182.0, 160.0, 167.0, 182.0, 187.0, 182.0, 179.0, 177.0, 165.0, 173.0, 175.0, 191.0, 183.0, 162.0, 183.0, 176.0, 173.0, 186.0, 190.0, 189.0, 172.0, 177.0, 183.0, 190.0, 175.0, 178.0, 169.0, 168.0, 188.0, 194.0, 179.0, 190.0, 184.0, 174.0, 184.0, 195.0, 180.0, 196.0, 154.0, 188.0, 181.0, 177.0, 181.0, 160.0, 178.0, 184.0, 195.0, 175.0, 172.0, 175.0, 189.0, 183.0, 175.0, 185.0, 181.0, 190.0, 173.0, 177.0, 176.0, 165.0, 183.0, 183.0, 180.0, 178.0, 166.0, 176.0, 177.0, 172.0, 178.0, 184.0, 199.0, 182.0, 183.0, 179.0, 161.0, 180.0, 181.0, 205.0, 178.0, 183.0, 180.0, 168.0, 191.0, 188.0, 188.0, 171.0, 194.0, 166.0, 186.0, 202.0, 170.0, 174.0, 181.0, 175.0, 164.0, 181.0, 169.0, 185.0, 171.0, 195.0, 172.0, 177.0, 188.0, 168.0, 182.0, 193.0, 164.0, 182.0, 183.0, 188.0, 168.0, 167.0, 185.0, 183.0, 183.0, 183.0, 173.0, 182.0, 183.0, 173.0, 199.0, 185.0, 168.0, 187.0, 170.0, 188.0, 192.0, 172.0, 190.0, 184.0, 188.0, 199.0, 178.0, 172.0, 171.0, 172.0, 179.0, 183.0, 183.0, 188.0, 180.0, 195.0, 177.0, 207.0, 186.0, 171.0, 169.0, 185.0, 178.0, 187.0, 185.0, 179.0, 172.0, 165.0, 176.0, 189.0, 182.0, 168.0, 182.0, 184.0, 171.0, 182.0, 181.0, 169.0, 184.0, 186.0, 191.0, 191.0, 166.0, 171.0, 185.0, 185.0, 185.0, 219.0, 186.0, 191.0, 190.0, 187.0, 177.0, 188.0, 172.0, 178.0, 175.0, 181.0, 203.0, 161.0, 187.0, 164.0, 175.0, 191.0, 181.0, 169.0, 173.0, 187.0, 173.0, 182.0, 180.0, 173.0, 201.0, 186.0, 160.0, 182.0, 173.0, 189.0, 172.0, 179.0, 185.0, 189.0, 168.0, 177.0, 175.0, 173.0, 198.0, 184.0, 167.0, 189.0, 201.0, 190.0, 165.0, 175.0, 193.0, 173.0, 184.0, 188.0, 171.0, 179.0, 148.0, 170.0, 177.0, 168.0, 196.0, 166.0, 176.0, 181.0, 194.0, 166.0, 192.0, 180.0, 170.0, 185.0, 182.0, 174.0, 181.0, 176.0, 181.0, 187.0, 196.0, 168.0, 201.0, 160.0, 178.0, 186.0, 183.0, 174.0, 178.0, 175.0, 174.0, 188.0, 184.0, 173.0, 189.0, 183.0, 188.0, 186.0, 172.0, 174.0, 187.0, 186.0, 180.0, 181.0, 193.0, 174.0, 185.0, 178.0, 178.0, 191.0, 188.0, 188.0, 193.0, 180.0, 187.0, 177.0, 183.0, 179.0, 181.0, 186.0, 172.0, 201.0, 170.0, 168.0, 192.0, 188.0, 186.0, 186.0, 180.0, 171.0, 181.0, 173.0, 190.0, 179.0, 172.0, 177.0, 184.0, 174.0, 172.0, 182.0, 182.0, 175.0, 175.0, 182.0, 166.0, 166.0, 173.0, 178.0, 183.0, 195.0, 189.0, 178.0, 180.0, 170.0, 180.0, 177.0, 183.0, 172.0, 185.0, 195.0, 179.0, 184.0, 187.0, 176.0, 182.0, 180.0, 181.0, 172.0, 180.0, 185.0, 195.0, 190.0, 202.0, 172.0, 189.0, 182.0, 202.0, 172.0, 172.0, 174.0, 159.0, 175.0, 172.0, 182.0, 183.0, 199.0, 190.0, 174.0, 171.0, 185.0, 167.0, 198.0, 192.0, 175.0, 163.0, 194.0, 179.0, 192.0, 164.0, 174.0, 180.0, 180.0, 175.0, 186.0, 169.0, 179.0, 181.0, 185.0, 187.0, 169.0, 165.0, 193.0, 183.0, 173.0, 196.0, 181.0, 192.0, 181.0, 201.0, 198.0, 178.0, 190.0, 186.0, 194.0, 170.0, 187.0, 191.0, 162.0, 168.0, 160.0, 177.0, 187.0, 195.0, 181.0, 196.0, 166.0, 163.0, 179.0, 184.0, 180.0, 159.0, 179.0, 167.0, 187.0, 184.0, 171.0, 175.0, 169.0, 179.0, 190.0, 170.0, 185.0, 175.0, 172.0, 179.0, 170.0, 174.0, 168.0, 200.0, 180.0, 173.0, 182.0, 179.0, 178.0, 186.0, 188.0, 175.0, 174.0, 177.0, 157.0, 165.0, 194.0, 196.0, 178.0, 186.0, 183.0, 211.0, 191.0, 179.0, 170.0, 164.0, 182.0, 172.0, 166.0, 174.0, 169.0, 197.0, 189.0, 180.0, 195.0, 181.0, 171.0, 195.0, 185.0, 170.0, 178.0, 171.0, 166.0, 189.0, 199.0, 166.0, 186.0, 173.0, 175.0, 174.0, 171.0, 180.0, 172.0, 183.0, 179.0, 178.0, 171.0, 174.0, 188.0, 185.0, 170.0, 181.0, 188.0, 163.0, 185.0, 173.0, 186.0, 172.0, 162.0, 164.0, 180.0, 183.0, 171.0, 186.0, 163.0, 179.0, 168.0, 173.0, 180.0, 171.0, 176.0, 190.0, 174.0, 188.0, 169.0, 185.0, 194.0, 155.0, 172.0, 186.0, 178.0, 184.0, 174.0, 181.0, 178.0, 192.0, 183.0, 183.0, 176.0, 175.0, 176.0, 184.0, 176.0, 183.0, 201.0, 189.0, 177.0, 192.0, 176.0, 160.0, 170.0, 161.0, 176.0, 180.0, 197.0, 183.0, 178.0, 188.0, 158.0, 182.0, 188.0, 165.0, 191.0, 183.0, 176.0, 186.0, 203.0, 182.0, 182.0, 175.0, 172.0, 188.0, 171.0, 181.0, 175.0, 185.0, 183.0, 190.0, 175.0, 177.0, 170.0, 176.0, 184.0, 188.0, 171.0, 189.0, 194.0, 184.0, 199.0, 172.0, 168.0, 162.0, 195.0, 187.0, 179.0, 183.0, 169.0, 204.0, 181.0, 181.0, 187.0, 185.0, 182.0, 172.0, 185.0, 199.0, 193.0, 196.0, 175.0, 170.0, 179.0, 181.0, 191.0, 163.0, 195.0, 178.0, 176.0, 170.0, 163.0, 188.0, 181.0, 167.0, 167.0, 177.0, 197.0, 177.0, 165.0, 178.0, 177.0, 153.0, 179.0, 178.0, 187.0, 198.0, 191.0, 177.0, 169.0, 206.0, 181.0, 180.0, 180.0, 182.0, 179.0, 174.0, 175.0, 180.0, 175.0, 173.0, 181.0, 177.0, 195.0, 153.0, 191.0, 192.0, 159.0, 177.0, 176.0, 166.0, 172.0, 169.0, 198.0, 189.0, 193.0, 187.0, 169.0, 175.0, 185.0, 168.0, 187.0, 178.0, 176.0, 187.0, 184.0, 176.0, 192.0, 169.0, 186.0, 186.0, 177.0, 183.0, 167.0, 189.0, 178.0, 175.0, 190.0, 173.0, 166.0, 164.0, 186.0, 167.0, 198.0, 159.0, 197.0, 182.0, 179.0, 175.0, 184.0, 180.0, 191.0, 181.0, 182.0, 176.0, 179.0, 183.0, 163.0, 167.0, 187.0, 182.0, 178.0, 180.0, 183.0, 175.0, 172.0, 182.0, 170.0, 184.0, 163.0, 190.0, 185.0, 183.0, 190.0, 197.0, 190.0, 162.0, 167.0, 174.0, 180.0, 185.0, 173.0, 182.0, 172.0, 174.0, 166.0, 171.0, 166.0, 170.0, 191.0, 171.0, 206.0, 185.0, 182.0, 171.0, 187.0, 174.0, 181.0, 206.0, 179.0, 191.0, 173.0, 180.0, 198.0, 174.0, 198.0, 187.0, 174.0, 186.0, 190.0, 186.0, 164.0, 173.0, 178.0, 179.0, 186.0, 182.0, 167.0, 184.0, 186.0, 186.0, 191.0, 188.0, 185.0, 179.0, 163.0, 184.0, 182.0, 183.0, 167.0, 169.0, 191.0, 180.0, 187.0, 180.0, 180.0, 189.0, 175.0, 181.0, 175.0, 176.0, 177.0, 182.0, 175.0, 193.0, 171.0, 178.0, 176.0, 194.0, 182.0, 190.0, 165.0, 183.0, 189.0, 181.0, 191.0, 175.0, 194.0, 203.0, 176.0, 176.0, 195.0, 196.0, 175.0, 176.0, 177.0, 167.0, 171.0, 170.0, 172.0, 180.0, 182.0, 196.0, 170.0, 190.0, 178.0, 180.0, 187.0, 169.0, 184.0, 182.0, 185.0, 183.0, 205.0, 174.0, 175.0, 174.0, 174.0, 174.0, 192.0, 194.0, 174.0, 172.0, 185.0, 174.0, 186.0, 182.0, 165.0, 195.0, 198.0, 174.0, 176.0, 183.0, 183.0, 187.0, 200.0, 178.0, 172.0, 166.0, 173.0, 180.0, 198.0, 175.0, 182.0, 180.0, 192.0, 205.0, 175.0, 175.0, 190.0, 187.0, 198.0, 186.0, 176.0, 186.0, 191.0, 188.0, 185.0, 191.0, 192.0, 194.0, 186.0, 178.0, 181.0, 192.0, 172.0, 184.0, 176.0, 180.0, 193.0, 182.0, 180.0, 166.0, 187.0, 186.0, 202.0, 177.0, 182.0, 182.0, 196.0, 179.0, 183.0, 186.0, 182.0, 176.0, 182.0, 191.0, 170.0, 181.0, 173.0, 192.0, 165.0, 174.0, 184.0, 196.0, 179.0, 174.0, 199.0, 166.0, 158.0, 184.0, 175.0, 170.0, 187.0, 182.0, 174.0, 167.0, 189.0, 187.0, 179.0, 198.0, 169.0, 165.0, 173.0, 180.0, 182.0, 178.0, 184.0, 167.0, 194.0, 179.0, 191.0, 183.0, 185.0, 186.0, 184.0, 186.0, 193.0, 182.0, 187.0, 179.0, 194.0, 173.0, 198.0, 180.0, 166.0, 181.0, 173.0, 188.0, 173.0, 176.0, 161.0, 175.0, 156.0, 164.0, 188.0, 188.0, 184.0, 170.0, 180.0, 180.0, 168.0, 195.0, 189.0, 178.0, 180.0, 182.0, 160.0, 178.0, 173.0, 170.0, 177.0, 198.0, 186.0, 174.0, 186.0]\n"
          ]
        }
      ]
    },
    {
      "cell_type": "code",
      "metadata": {
        "colab": {
          "base_uri": "https://localhost:8080/",
          "height": 312
        },
        "id": "YTJGtr21Qna8",
        "outputId": "2fdefeab-d42f-436d-f50a-97914b07d884"
      },
      "source": [
        "# каждый элемент списка - это рост одного человека\n",
        "\n",
        "# зададим количество интервалов, в которые мы помещали наших респондентов\n",
        "bins = 10\n",
        "\n",
        "# построим гистограмму\n",
        "plt.hist(height, bins)\n",
        "\n",
        "# создадим заголовок и подписи к осям\n",
        "plt.xlabel('Рост респондентов, см')\n",
        "plt.ylabel('Количество респондентов')\n",
        "plt.title('Распределение роста мужчин в России')"
      ],
      "execution_count": null,
      "outputs": [
        {
          "output_type": "execute_result",
          "data": {
            "text/plain": [
              "Text(0.5, 1.0, 'Распределение роста мужчин в России')"
            ]
          },
          "metadata": {},
          "execution_count": 5
        },
        {
          "output_type": "display_data",
          "data": {
            "text/plain": [
              "<Figure size 432x288 with 1 Axes>"
            ],
            "image/png": "[encoded data removed]"
          },
          "metadata": {
            "needs_background": "light"
          }
        }
      ]
    },
    {
      "cell_type": "markdown",
      "metadata": {
        "id": "qPeYetxQ-zwQ"
      },
      "source": [
        "Измерение количественных переменных"
      ]
    },
    {
      "cell_type": "code",
      "metadata": {
        "id": "ALmfulxLSWJE"
      },
      "source": [
        "# импортируем нужный нам модуль\n",
        "import statistics"
      ],
      "execution_count": null,
      "outputs": []
    },
    {
      "cell_type": "code",
      "metadata": {
        "colab": {
          "base_uri": "https://localhost:8080/"
        },
        "id": "Fb0MEFKojWsd",
        "outputId": "3af24c56-18da-486b-9dc0-f1938fc9b1f1"
      },
      "source": [
        "# воспользуемся нужной нам функцией для расчета среднего арифметического\n",
        "np.round(statistics.mean(height), 2)"
      ],
      "execution_count": null,
      "outputs": [
        {
          "output_type": "execute_result",
          "data": {
            "text/plain": [
              "180.2"
            ]
          },
          "metadata": {},
          "execution_count": 7
        }
      ]
    },
    {
      "cell_type": "code",
      "metadata": {
        "id": "MbAX_pXoQomz",
        "colab": {
          "base_uri": "https://localhost:8080/"
        },
        "outputId": "a6a64fe8-cd0e-44c9-ca83-addc62bcbadd"
      },
      "source": [
        "# аналогично рассчитаем медиану\n",
        "statistics.median(height)"
      ],
      "execution_count": null,
      "outputs": [
        {
          "output_type": "execute_result",
          "data": {
            "text/plain": [
              "180.0"
            ]
          },
          "metadata": {},
          "execution_count": 8
        }
      ]
    },
    {
      "cell_type": "code",
      "metadata": {
        "colab": {
          "base_uri": "https://localhost:8080/"
        },
        "id": "c0CGgMiEjbnL",
        "outputId": "e34d7b13-b4e9-4fbb-8fbe-8476574de01c"
      },
      "source": [
        "# и моду\n",
        "statistics.mode(height)"
      ],
      "execution_count": null,
      "outputs": [
        {
          "output_type": "execute_result",
          "data": {
            "text/plain": [
              "182.0"
            ]
          },
          "metadata": {},
          "execution_count": 9
        }
      ]
    },
    {
      "cell_type": "code",
      "metadata": {
        "id": "fyYp7O23jf7K",
        "colab": {
          "base_uri": "https://localhost:8080/"
        },
        "outputId": "38759d98-8237-467f-cf9a-73f16f8de7e0"
      },
      "source": [
        "# рассчитаем СКО с помощью функции stdev, от английского standard deviation\n",
        "statistics.stdev(height)"
      ],
      "execution_count": null,
      "outputs": [
        {
          "output_type": "execute_result",
          "data": {
            "text/plain": [
              "9.813200186376404"
            ]
          },
          "metadata": {},
          "execution_count": 10
        }
      ]
    },
    {
      "cell_type": "markdown",
      "metadata": {
        "id": "hfnbZJ4-VlW1"
      },
      "source": [
        "Пример: различие  среднего арифметического и медианы"
      ]
    },
    {
      "cell_type": "code",
      "metadata": {
        "colab": {
          "base_uri": "https://localhost:8080/"
        },
        "id": "nXrpIt64VFXA",
        "outputId": "cd1f872d-d45d-4a5a-ba8e-98014c55e08e"
      },
      "source": [
        "# исходные зарплаты\n",
        "salary = [75, 86, 90, 83, 100]\n",
        "\n",
        "# и их средние показатели\n",
        "print(statistics.mean(salary), statistics.median(salary))"
      ],
      "execution_count": null,
      "outputs": [
        {
          "output_type": "stream",
          "name": "stdout",
          "text": [
            "86.8 86\n"
          ]
        }
      ]
    },
    {
      "cell_type": "code",
      "metadata": {
        "colab": {
          "base_uri": "https://localhost:8080/"
        },
        "id": "Tmim-2K7V-E6",
        "outputId": "322b2d52-d27d-4e3d-b821-1941617f832d"
      },
      "source": [
        "# предположим, что человек, получавший 100 тысяч получил повышение\n",
        "salary_new = [75, 86, 90, 83, 200]\n",
        "\n",
        "# означает ли это, что доход ВСЕХ людей в среднем вырос?\n",
        "# с точки зрения среднего арифметического - да, с точки зрения медианы - нет\n",
        "print(statistics.mean(salary_new), statistics.median(salary_new))"
      ],
      "execution_count": null,
      "outputs": [
        {
          "output_type": "stream",
          "name": "stdout",
          "text": [
            "106.8 86\n"
          ]
        }
      ]
    },
    {
      "cell_type": "markdown",
      "metadata": {
        "id": "-PiSbAkj--rZ"
      },
      "source": [
        "### Упражнения"
      ]
    },
    {
      "cell_type": "markdown",
      "metadata": {
        "id": "006opgxqO6Js"
      },
      "source": [
        "#### Категориальные данные"
      ]
    },
    {
      "cell_type": "markdown",
      "source": [
        "**Задание 1**. Ниже даны два списка с названиями департаментов компании XYZ и количеством сотрудников в каждом из них. Постройте столбчатую диаграмму, добавьте заголовок и подписи к осям."
      ],
      "metadata": {
        "id": "L4LPVGJVsbIq"
      }
    },
    {
      "cell_type": "code",
      "metadata": {
        "id": "C20OFjf6O9Lq",
        "outputId": "3065aed0-2c62-42d4-8b10-097470d461ae",
        "colab": {
          "base_uri": "https://localhost:8080/",
          "height": 313
        }
      },
      "source": [
        "department = ['Руководство', 'Производство', 'Кадры', 'IT', 'Бухгалтерия']\n",
        "headcount = [25, 80, 37, 58, 29]\n",
        "plt.bar(department,headcount)\n",
        "plt.xlabel(\"отдел\")\n",
        "plt.title('распределение')\n"
      ],
      "execution_count": 9,
      "outputs": [
        {
          "output_type": "execute_result",
          "data": {
            "text/plain": [
              "Text(0.5, 1.0, 'распределение')"
            ]
          },
          "metadata": {},
          "execution_count": 9
        },
        {
          "output_type": "display_data",
          "data": {
            "text/plain": [
              "<Figure size 432x288 with 1 Axes>"
            ],
            "image/png": "[encoded data removed]"
          },
          "metadata": {
            "needs_background": "light"
          }
        }
      ]
    },
    {
      "cell_type": "markdown",
      "metadata": {
        "id": "IxF9Pc_4O9nQ"
      },
      "source": [
        "#### Количественные данные"
      ]
    },
    {
      "cell_type": "markdown",
      "source": [
        "Дан набор данных средств на срочных депозитах в тыс. рублей (каждое наблюдение - один вклад)."
      ],
      "metadata": {
        "id": "1Bj4etLes4cY"
      }
    },
    {
      "cell_type": "code",
      "metadata": {
        "id": "zIpjU-qbFe3i",
        "colab": {
          "base_uri": "https://localhost:8080/"
        },
        "outputId": "ccf8193a-2e7c-4d59-b853-4af7e50548d4"
      },
      "source": [
        "# на этот код пока не обращайте внимания, просто запустите его\n",
        "np.random.seed(42)\n",
        "deposits = list(np.round(np.random.normal(300, 90, 1000)))\n",
        "\n",
        "# вас интересует только переменная deposits\n",
        "print(deposits)"
      ],
      "execution_count": 10,
      "outputs": [
        {
          "output_type": "stream",
          "name": "stdout",
          "text": [
            "[345.0, 288.0, 358.0, 437.0, 279.0, 279.0, 442.0, 369.0, 258.0, 349.0, 258.0, 258.0, 322.0, 128.0, 145.0, 249.0, 209.0, 328.0, 218.0, 173.0, 432.0, 280.0, 306.0, 172.0, 251.0, 310.0, 196.0, 334.0, 246.0, 274.0, 246.0, 467.0, 299.0, 205.0, 374.0, 190.0, 319.0, 124.0, 180.0, 318.0, 366.0, 315.0, 290.0, 273.0, 167.0, 235.0, 259.0, 395.0, 331.0, 141.0, 329.0, 265.0, 239.0, 355.0, 393.0, 384.0, 224.0, 272.0, 330.0, 388.0, 257.0, 283.0, 200.0, 192.0, 373.0, 422.0, 294.0, 390.0, 333.0, 242.0, 333.0, 438.0, 297.0, 441.0, 64.0, 374.0, 308.0, 273.0, 308.0, 121.0, 280.0, 332.0, 433.0, 253.0, 227.0, 255.0, 382.0, 330.0, 252.0, 346.0, 309.0, 387.0, 237.0, 271.0, 265.0, 168.0, 327.0, 323.0, 300.0, 279.0, 173.0, 262.0, 269.0, 228.0, 285.0, 336.0, 470.0, 316.0, 323.0, 293.0, 127.0, 298.0, 305.0, 522.0, 283.0, 327.0, 297.0, 195.0, 403.0, 368.0, 371.0, 218.0, 426.0, 174.0, 353.0, 497.0, 211.0, 249.0, 309.0, 255.0, 160.0, 306.0, 204.0, 343.0, 217.0, 439.0, 230.0, 271.0, 373.0, 189.0, 320.0, 418.0, 155.0, 317.0, 323.0, 370.0, 189.0, 181.0, 347.0, 327.0, 323.0, 331.0, 239.0, 321.0, 326.0, 236.0, 468.0, 343.0, 193.0, 359.0, 212.0, 371.0, 404.0, 226.0, 387.0, 337.0, 374.0, 471.0, 278.0, 232.0, 220.0, 227.0, 293.0, 331.0, 325.0, 374.0, 301.0, 431.0, 276.0, 545.0, 356.0, 223.0, 204.0, 343.0, 280.0, 364.0, 343.0, 293.0, 224.0, 164.0, 260.0, 377.0, 319.0, 188.0, 316.0, 335.0, 220.0, 314.0, 305.0, 197.0, 332.0, 350.0, 397.0, 395.0, 176.0, 216.0, 346.0, 346.0, 346.0, 647.0, 351.0, 402.0, 386.0, 359.0, 272.0, 368.0, 230.0, 279.0, 256.0, 307.0, 508.0, 132.0, 362.0, 155.0, 258.0, 398.0, 306.0, 203.0, 236.0, 361.0, 234.0, 319.0, 304.0, 241.0, 493.0, 357.0, 118.0, 317.0, 240.0, 377.0, 229.0, 290.0, 345.0, 378.0, 192.0, 270.0, 257.0, 241.0, 459.0, 336.0, 187.0, 383.0, 491.0, 393.0, 163.0, 256.0, 414.0, 236.0, 340.0, 370.0, 217.0, 295.0, 8.0, 208.0, 277.0, 188.0, 447.0, 171.0, 260.0, 312.0, 430.0, 171.0, 405.0, 301.0, 212.0, 342.0, 318.0, 246.0, 306.0, 265.0, 310.0, 360.0, 443.0, 189.0, 492.0, 124.0, 286.0, 353.0, 325.0, 244.0, 281.0, 256.0, 247.0, 376.0, 332.0, 238.0, 381.0, 328.0, 373.0, 357.0, 225.0, 250.0, 367.0, 355.0, 298.0, 311.0, 415.0, 247.0, 349.0, 282.0, 280.0, 399.0, 374.0, 373.0, 417.0, 302.0, 361.0, 272.0, 329.0, 288.0, 309.0, 354.0, 226.0, 488.0, 209.0, 191.0, 404.0, 371.0, 356.0, 357.0, 299.0, 219.0, 307.0, 239.0, 388.0, 287.0, 226.0, 271.0, 337.0, 249.0, 226.0, 322.0, 322.0, 254.0, 258.0, 321.0, 170.0, 173.0, 235.0, 281.0, 328.0, 433.0, 377.0, 286.0, 298.0, 210.0, 298.0, 274.0, 329.0, 226.0, 347.0, 438.0, 290.0, 336.0, 362.0, 264.0, 320.0, 301.0, 309.0, 230.0, 302.0, 345.0, 431.0, 386.0, 494.0, 231.0, 379.0, 317.0, 497.0, 227.0, 224.0, 246.0, 109.0, 253.0, 232.0, 314.0, 331.0, 469.0, 386.0, 248.0, 219.0, 344.0, 181.0, 465.0, 406.0, 258.0, 146.0, 422.0, 290.0, 411.0, 157.0, 246.0, 300.0, 304.0, 259.0, 356.0, 204.0, 287.0, 311.0, 346.0, 364.0, 199.0, 162.0, 415.0, 330.0, 233.0, 440.0, 310.0, 406.0, 306.0, 485.0, 458.0, 278.0, 387.0, 358.0, 423.0, 213.0, 362.0, 395.0, 142.0, 194.0, 116.0, 276.0, 365.0, 435.0, 307.0, 447.0, 176.0, 147.0, 295.0, 335.0, 297.0, 114.0, 292.0, 183.0, 360.0, 333.0, 215.0, 254.0, 205.0, 294.0, 386.0, 211.0, 345.0, 252.0, 229.0, 290.0, 207.0, 250.0, 192.0, 477.0, 303.0, 237.0, 319.0, 290.0, 280.0, 355.0, 368.0, 252.0, 248.0, 275.0, 93.0, 164.0, 423.0, 448.0, 278.0, 352.0, 328.0, 577.0, 401.0, 288.0, 214.0, 155.0, 318.0, 232.0, 172.0, 242.0, 203.0, 452.0, 379.0, 299.0, 433.0, 307.0, 222.0, 437.0, 349.0, 207.0, 283.0, 221.0, 176.0, 383.0, 472.0, 174.0, 351.0, 241.0, 256.0, 247.0, 222.0, 304.0, 225.0, 324.0, 295.0, 278.0, 218.0, 248.0, 368.0, 345.0, 212.0, 309.0, 368.0, 150.0, 349.0, 240.0, 351.0, 231.0, 138.0, 154.0, 304.0, 323.0, 219.0, 357.0, 150.0, 294.0, 191.0, 241.0, 304.0, 223.0, 265.0, 391.0, 248.0, 375.0, 198.0, 348.0, 430.0, 78.0, 228.0, 352.0, 282.0, 333.0, 246.0, 308.0, 286.0, 405.0, 323.0, 330.0, 263.0, 256.0, 261.0, 336.0, 262.0, 326.0, 487.0, 378.0, 271.0, 408.0, 263.0, 117.0, 209.0, 132.0, 268.0, 302.0, 451.0, 329.0, 280.0, 375.0, 101.0, 321.0, 369.0, 167.0, 403.0, 330.0, 263.0, 357.0, 504.0, 316.0, 322.0, 259.0, 224.0, 375.0, 223.0, 306.0, 257.0, 343.0, 330.0, 393.0, 254.0, 276.0, 212.0, 260.0, 334.0, 368.0, 217.0, 378.0, 422.0, 337.0, 469.0, 230.0, 188.0, 140.0, 435.0, 359.0, 295.0, 325.0, 199.0, 520.0, 312.0, 310.0, 365.0, 343.0, 320.0, 229.0, 342.0, 469.0, 421.0, 443.0, 254.0, 211.0, 289.0, 305.0, 398.0, 148.0, 438.0, 286.0, 262.0, 209.0, 151.0, 374.0, 307.0, 184.0, 183.0, 270.0, 450.0, 277.0, 165.0, 278.0, 275.0, 57.0, 295.0, 279.0, 363.0, 466.0, 401.0, 276.0, 200.0, 532.0, 305.0, 301.0, 298.0, 318.0, 287.0, 248.0, 251.0, 297.0, 251.0, 236.0, 310.0, 277.0, 435.0, 61.0, 398.0, 412.0, 113.0, 269.0, 267.0, 173.0, 230.0, 200.0, 458.0, 384.0, 414.0, 365.0, 198.0, 253.0, 344.0, 190.0, 364.0, 278.0, 266.0, 364.0, 340.0, 268.0, 404.0, 203.0, 355.0, 353.0, 272.0, 329.0, 187.0, 383.0, 283.0, 253.0, 394.0, 237.0, 173.0, 160.0, 355.0, 185.0, 458.0, 113.0, 453.0, 319.0, 291.0, 251.0, 336.0, 297.0, 399.0, 310.0, 314.0, 267.0, 295.0, 328.0, 146.0, 179.0, 367.0, 315.0, 283.0, 302.0, 331.0, 251.0, 230.0, 318.0, 212.0, 337.0, 147.0, 393.0, 343.0, 323.0, 388.0, 450.0, 391.0, 134.0, 185.0, 244.0, 302.0, 347.0, 235.0, 317.0, 232.0, 245.0, 173.0, 217.0, 178.0, 212.0, 395.0, 215.0, 537.0, 344.0, 317.0, 223.0, 363.0, 248.0, 311.0, 530.0, 291.0, 403.0, 237.0, 297.0, 459.0, 244.0, 463.0, 364.0, 249.0, 357.0, 388.0, 356.0, 159.0, 235.0, 278.0, 293.0, 356.0, 316.0, 180.0, 334.0, 355.0, 350.0, 397.0, 375.0, 341.0, 294.0, 151.0, 339.0, 319.0, 324.0, 185.0, 203.0, 395.0, 296.0, 361.0, 303.0, 303.0, 384.0, 254.0, 309.0, 258.0, 261.0, 272.0, 320.0, 257.0, 413.0, 219.0, 283.0, 260.0, 430.0, 318.0, 393.0, 166.0, 324.0, 380.0, 307.0, 396.0, 253.0, 427.0, 507.0, 267.0, 260.0, 431.0, 442.0, 253.0, 262.0, 275.0, 179.0, 217.0, 210.0, 231.0, 297.0, 321.0, 440.0, 210.0, 389.0, 281.0, 296.0, 361.0, 199.0, 334.0, 315.0, 344.0, 326.0, 521.0, 243.0, 252.0, 244.0, 250.0, 243.0, 407.0, 428.0, 249.0, 225.0, 342.0, 250.0, 357.0, 318.0, 164.0, 439.0, 462.0, 245.0, 265.0, 326.0, 330.0, 359.0, 481.0, 284.0, 228.0, 176.0, 234.0, 297.0, 462.0, 253.0, 320.0, 299.0, 407.0, 527.0, 252.0, 256.0, 394.0, 361.0, 466.0, 353.0, 268.0, 353.0, 400.0, 374.0, 346.0, 396.0, 405.0, 424.0, 358.0, 285.0, 313.0, 409.0, 226.0, 333.0, 265.0, 303.0, 415.0, 317.0, 304.0, 178.0, 367.0, 358.0, 495.0, 272.0, 320.0, 322.0, 442.0, 291.0, 325.0, 355.0, 317.0, 260.0, 317.0, 397.0, 208.0, 312.0, 237.0, 408.0, 163.0, 250.0, 334.0, 441.0, 294.0, 250.0, 469.0, 170.0, 102.0, 340.0, 255.0, 208.0, 364.0, 322.0, 249.0, 185.0, 379.0, 359.0, 291.0, 466.0, 204.0, 163.0, 238.0, 296.0, 322.0, 278.0, 332.0, 187.0, 430.0, 293.0, 401.0, 331.0, 341.0, 351.0, 340.0, 358.0, 420.0, 318.0, 364.0, 292.0, 430.0, 239.0, 462.0, 296.0, 171.0, 312.0, 239.0, 376.0, 241.0, 260.0, 130.0, 259.0, 82.0, 157.0, 368.0, 371.0, 338.0, 213.0, 296.0, 300.0, 196.0, 435.0, 379.0, 280.0, 302.0, 319.0, 116.0, 278.0, 239.0, 210.0, 275.0, 462.0, 358.0, 249.0, 352.0]\n"
          ]
        }
      ]
    },
    {
      "cell_type": "markdown",
      "source": [
        "**Задание 2**. Постройте гистограмму распределения средств на вкладах, поэкспериментируйте с количеством интервалов (bins), не забудьте про заголовок и подписи к осям."
      ],
      "metadata": {
        "id": "4hjZx_nbyxDH"
      }
    },
    {
      "cell_type": "code",
      "metadata": {
        "id": "_-CA1kjsqTHT",
        "outputId": "8ec670f1-c36b-4ddf-f61e-91a864f9bae4",
        "colab": {
          "base_uri": "https://localhost:8080/",
          "height": 313
        }
      },
      "source": [
        "\n",
        "plt.hist(deposits, bins = 20)\n",
        "plt.xlabel(\"вклады\")\n",
        "plt.title('распределение')"
      ],
      "execution_count": 13,
      "outputs": [
        {
          "output_type": "execute_result",
          "data": {
            "text/plain": [
              "Text(0.5, 1.0, 'распределение')"
            ]
          },
          "metadata": {},
          "execution_count": 13
        },
        {
          "output_type": "display_data",
          "data": {
            "text/plain": [
              "<Figure size 432x288 with 1 Axes>"
            ],
            "image/png": "[encoded data removed]"
          },
          "metadata": {
            "needs_background": "light"
          }
        }
      ]
    },
    {
      "cell_type": "markdown",
      "source": [
        "**Задание 3**. Рассчитайте среднее арифметическое, медиану и моду."
      ],
      "metadata": {
        "id": "Lx4aUbP8zOSB"
      }
    },
    {
      "cell_type": "code",
      "metadata": {
        "id": "nbBJql9ltXeJ",
        "outputId": "224d2c48-51b4-44d0-c368-7e90b4777c68",
        "colab": {
          "base_uri": "https://localhost:8080/"
        }
      },
      "source": [
        "import statistics\n",
        "print(statistics.mean(deposits), statistics.median(deposits),statistics.mode(deposits) )"
      ],
      "execution_count": 15,
      "outputs": [
        {
          "output_type": "stream",
          "name": "stdout",
          "text": [
            "301.739 302.0 278.0\n"
          ]
        }
      ]
    },
    {
      "cell_type": "markdown",
      "source": [
        "**Задание 4**. Рассчитайте среднее квадратическое отклонение (СКО)."
      ],
      "metadata": {
        "id": "BbyezulhzXj3"
      }
    },
    {
      "cell_type": "code",
      "metadata": {
        "id": "MO82nHnCuQAq",
        "outputId": "b15f9cc2-7bf1-45a8-945f-7c605affea54",
        "colab": {
          "base_uri": "https://localhost:8080/"
        }
      },
      "source": [
        "statistics.stdev(deposits)"
      ],
      "execution_count": 16,
      "outputs": [
        {
          "output_type": "execute_result",
          "data": {
            "text/plain": [
              "88.12095199883613"
            ]
          },
          "metadata": {},
          "execution_count": 16
        }
      ]
    },
    {
      "cell_type": "code",
      "source": [],
      "metadata": {
        "id": "WiFl0FXd6h1w"
      },
      "execution_count": null,
      "outputs": []
    }
  ]
}

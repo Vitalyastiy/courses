{
  "nbformat": 4,
  "nbformat_minor": 0,
  "metadata": {
    "colab": {
      "provenance": [],
      "include_colab_link": true
    },
    "kernelspec": {
      "name": "python3",
      "display_name": "Python 3"
    },
    "language_info": {
      "name": "python"
    }
  },
  "cells": [
    {
      "cell_type": "markdown",
      "metadata": {
        "id": "view-in-github",
        "colab_type": "text"
      },
      "source": [
        "<a href=\"https://colab.research.google.com/github/Vitalyastiy/courses/blob/main/12_VectorsMatrices.ipynb\" target=\"_parent\"><img src=\"https://colab.research.google.com/assets/colab-badge.svg\" alt=\"Open In Colab\"/></a>"
      ]
    },
    {
      "cell_type": "markdown",
      "metadata": {
        "id": "La_cEqh418R7"
      },
      "source": [
        "## Векторы и матрицы"
      ]
    },
    {
      "cell_type": "markdown",
      "metadata": {
        "id": "ITSohtIb3xri"
      },
      "source": [
        "### Массив Numpy (Numpy array)"
      ]
    },
    {
      "cell_type": "code",
      "metadata": {
        "id": "pD3xI-y148Dx"
      },
      "source": [
        "import numpy as np"
      ],
      "execution_count": 1,
      "outputs": []
    },
    {
      "cell_type": "code",
      "metadata": {
        "id": "y1_WVreA14IF"
      },
      "source": [
        "# предположим мы записали наши данные \n",
        "# роста, веса и обхвата шеи одного человека в список\n",
        "data = [1.72, 54, 36.2]"
      ],
      "execution_count": 2,
      "outputs": []
    },
    {
      "cell_type": "code",
      "metadata": {
        "colab": {
          "base_uri": "https://localhost:8080/"
        },
        "id": "aLumw2iL4bKM",
        "outputId": "31830787-a9f0-43cf-c2d7-bbab4aba81fd"
      },
      "source": [
        "# убедимся, что это список с помощью функции type()\n",
        "type(data)"
      ],
      "execution_count": 3,
      "outputs": [
        {
          "output_type": "execute_result",
          "data": {
            "text/plain": [
              "list"
            ]
          },
          "metadata": {},
          "execution_count": 3
        }
      ]
    },
    {
      "cell_type": "code",
      "metadata": {
        "colab": {
          "base_uri": "https://localhost:8080/"
        },
        "id": "KoaFIduc4vqW",
        "outputId": "940f3093-895a-43c0-f2a9-19dc20b5a82c"
      },
      "source": [
        "# преобразуем список в массив Numpy\n",
        "data_Numpy = np.array(data)\n",
        "data_Numpy"
      ],
      "execution_count": 4,
      "outputs": [
        {
          "output_type": "execute_result",
          "data": {
            "text/plain": [
              "array([ 1.72, 54.  , 36.2 ])"
            ]
          },
          "metadata": {},
          "execution_count": 4
        }
      ]
    },
    {
      "cell_type": "code",
      "metadata": {
        "colab": {
          "base_uri": "https://localhost:8080/"
        },
        "id": "pSFD2lOR45VW",
        "outputId": "49433855-0812-4d62-fefc-bf80c5fa91fe"
      },
      "source": [
        "# если у нас несколько наблюдений, то нужна матрица, т.е.\n",
        "# по сути, несколько векторов\n",
        "data_matrix = np.array([[1.72, 54, 36.2], [1.74, 58, 36.3], [1.68, 52, 32.9]])\n",
        "data_matrix"
      ],
      "execution_count": 5,
      "outputs": [
        {
          "output_type": "execute_result",
          "data": {
            "text/plain": [
              "array([[ 1.72, 54.  , 36.2 ],\n",
              "       [ 1.74, 58.  , 36.3 ],\n",
              "       [ 1.68, 52.  , 32.9 ]])"
            ]
          },
          "metadata": {},
          "execution_count": 5
        }
      ]
    },
    {
      "cell_type": "code",
      "metadata": {
        "colab": {
          "base_uri": "https://localhost:8080/"
        },
        "id": "gZUsnCdh6FBX",
        "outputId": "7add4ff2-5c0f-4525-8e8c-f3d235221eb1"
      },
      "source": [
        "# мы можем посмотреть размерность матрицы (количество строк и столбцов)\n",
        "data_matrix.shape"
      ],
      "execution_count": 6,
      "outputs": [
        {
          "output_type": "execute_result",
          "data": {
            "text/plain": [
              "(3, 3)"
            ]
          },
          "metadata": {},
          "execution_count": 6
        }
      ]
    },
    {
      "cell_type": "markdown",
      "metadata": {
        "id": "P1BzMhSL6nPc"
      },
      "source": [
        "### Скалярное произведение векторов (dot product)"
      ]
    },
    {
      "cell_type": "markdown",
      "metadata": {
        "id": "6xsjBTTiCbN2"
      },
      "source": [
        "Напомню формулу:\n",
        "\n",
        "  $$\\vec{a}=(a_{1}, a_{2})$$\n",
        "  $$\\vec{w}=(w_{1}, w_{2})$$\n",
        "  $$\\vec{a}\\cdot\\vec{w}=a_{1}w_{1}+a_{2}w_{2}$$"
      ]
    },
    {
      "cell_type": "code",
      "metadata": {
        "id": "oLKtgXZO6WBe"
      },
      "source": [
        "# даны два вектора в виде массивов Numpy\n",
        "\n",
        "a = np.array([1.72, 54]) # вектор данных\n",
        "w = np.array([19.86, 0.05]) # вектор весов"
      ],
      "execution_count": 7,
      "outputs": []
    },
    {
      "cell_type": "code",
      "metadata": {
        "colab": {
          "base_uri": "https://localhost:8080/"
        },
        "id": "SvfwMrCN7AHp",
        "outputId": "91eccceb-50bf-4e81-b68d-ad9f9f17ab09"
      },
      "source": [
        "# перемножим их вручную\n",
        "1.72 * 19.86 + 54 * 0.05"
      ],
      "execution_count": 8,
      "outputs": [
        {
          "output_type": "execute_result",
          "data": {
            "text/plain": [
              "36.8592"
            ]
          },
          "metadata": {},
          "execution_count": 8
        }
      ]
    },
    {
      "cell_type": "code",
      "metadata": {
        "colab": {
          "base_uri": "https://localhost:8080/"
        },
        "id": "ISUEBSne7FWX",
        "outputId": "3afa0750-8794-4876-a7cd-689daf006164"
      },
      "source": [
        "# используем скалярное произведение векторов \n",
        "np.dot(a, w)"
      ],
      "execution_count": 9,
      "outputs": [
        {
          "output_type": "execute_result",
          "data": {
            "text/plain": [
              "36.8592"
            ]
          },
          "metadata": {},
          "execution_count": 9
        }
      ]
    },
    {
      "cell_type": "markdown",
      "metadata": {
        "id": "1KeDIzMV9XyN"
      },
      "source": [
        "### Косинусное сходство между векторами"
      ]
    },
    {
      "cell_type": "markdown",
      "metadata": {
        "id": "-Wf32jTfA_H6"
      },
      "source": [
        "Первый шаг: найдем косинус угла по формуле $$ \\cos(\\theta )={\\mathbf {b} \\cdot \\mathbf {c} \\over \\|\\mathbf {b} \\|\\|\\mathbf {c} \\|} $$"
      ]
    },
    {
      "cell_type": "code",
      "metadata": {
        "id": "m08mssyx8_Ye"
      },
      "source": [
        "# даны два вектора (данные двух человек)\n",
        "# нам нужно понять, насколько они схожи\n",
        "b = np.array([1.72, 54, 36.2])\n",
        "c = np.array([1.56, 47, 30.0])"
      ],
      "execution_count": 10,
      "outputs": []
    },
    {
      "cell_type": "code",
      "metadata": {
        "id": "Z5MmrsTs_pTy"
      },
      "source": [
        "# вначале выполним операции в числителе формулы\n",
        "numerator = np.dot(b, c)"
      ],
      "execution_count": 11,
      "outputs": []
    },
    {
      "cell_type": "code",
      "metadata": {
        "id": "fdufBHKu_Fnc"
      },
      "source": [
        "# теперь займемся знаменателем и\n",
        "# (1) рассчитаем длины (по большому счету, это теорема Пифагора)\n",
        "bLen = np.linalg.norm(b)\n",
        "cLen = np.linalg.norm(c)\n",
        "\n",
        "# (2) перемножим их\n",
        "denominator = bLen * cLen"
      ],
      "execution_count": 12,
      "outputs": []
    },
    {
      "cell_type": "code",
      "metadata": {
        "colab": {
          "base_uri": "https://localhost:8080/"
        },
        "id": "rwtu1Ivn_XeJ",
        "outputId": "8c0006c0-a30b-4e56-84e4-04f6d7e29773"
      },
      "source": [
        "# посмотрим, чему равен косинус угла между векторами\n",
        "cosine = numerator/denominator\n",
        "cosine"
      ],
      "execution_count": 13,
      "outputs": [
        {
          "output_type": "execute_result",
          "data": {
            "text/plain": [
              "0.9997468709497721"
            ]
          },
          "metadata": {},
          "execution_count": 13
        }
      ]
    },
    {
      "cell_type": "markdown",
      "metadata": {
        "id": "59IBUJS7BLGe"
      },
      "source": [
        "Второй шаг: найдем угол в градусах по его косинусу"
      ]
    },
    {
      "cell_type": "code",
      "metadata": {
        "id": "_Do9SMzhAW9N"
      },
      "source": [
        "# для этого вначале вычислим угол в радианах\n",
        "angle_radians = np.arccos(cosine)\n",
        "\n",
        "# затем в градусах\n",
        "angle_degrees = angle_radians * 360/2/np.pi"
      ],
      "execution_count": 14,
      "outputs": []
    },
    {
      "cell_type": "code",
      "metadata": {
        "colab": {
          "base_uri": "https://localhost:8080/"
        },
        "id": "3HdLzhUHB5PG",
        "outputId": "f97cf2a4-a7e9-4563-b070-8f613ca780d5"
      },
      "source": [
        "angle_degrees"
      ],
      "execution_count": 15,
      "outputs": [
        {
          "output_type": "execute_result",
          "data": {
            "text/plain": [
              "1.2891925481394304"
            ]
          },
          "metadata": {},
          "execution_count": 15
        }
      ]
    },
    {
      "cell_type": "markdown",
      "metadata": {
        "id": "dodmiVSKGLsf"
      },
      "source": [
        "### Упражнения"
      ]
    },
    {
      "cell_type": "code",
      "metadata": {
        "id": "MF0Kj8P-GNU-"
      },
      "source": [
        "# даны два вектора\n",
        "v1 = np.array([37, 84, 110.2, 18.6])\n",
        "v2 = np.array([5, 36, 199.6, 5.1])"
      ],
      "execution_count": 17,
      "outputs": []
    },
    {
      "cell_type": "markdown",
      "source": [
        "#### Основы работы с массивами"
      ],
      "metadata": {
        "id": "xhsK7v1O9fyx"
      }
    },
    {
      "cell_type": "markdown",
      "source": [
        "**Задание 1**. Посмотрите с помощью Питона на тип данных любого из двух векторов."
      ],
      "metadata": {
        "id": "9ijkO72o9QJS"
      }
    },
    {
      "cell_type": "code",
      "metadata": {
        "id": "gdGx3bHNKu51",
        "outputId": "c5dbf0d3-fc03-4bf2-d456-3cadb04e5bb9",
        "colab": {
          "base_uri": "https://localhost:8080/"
        }
      },
      "source": [
        "type(v1)"
      ],
      "execution_count": 18,
      "outputs": [
        {
          "output_type": "execute_result",
          "data": {
            "text/plain": [
              "numpy.ndarray"
            ]
          },
          "metadata": {},
          "execution_count": 18
        }
      ]
    },
    {
      "cell_type": "markdown",
      "source": [
        "**Задание 2**. Какая размерность у этих векторов?"
      ],
      "metadata": {
        "id": "J7LbwCj29Zl4"
      }
    },
    {
      "cell_type": "code",
      "metadata": {
        "id": "VtQ1wpgdKnZP",
        "outputId": "e1b7967b-1be1-469f-e752-fc209e67c6eb",
        "colab": {
          "base_uri": "https://localhost:8080/"
        }
      },
      "source": [
        "data_matrix = np.array([[37, 84, 110.2, 18.6], [5, 36, 199.6, 5.1]])\n",
        "data_matrix.shape"
      ],
      "execution_count": 24,
      "outputs": [
        {
          "output_type": "execute_result",
          "data": {
            "text/plain": [
              "(2, 4)"
            ]
          },
          "metadata": {},
          "execution_count": 24
        }
      ]
    },
    {
      "cell_type": "markdown",
      "metadata": {
        "id": "K4Lh1OQCMijh"
      },
      "source": [
        "#### Скалярное произведение векторов"
      ]
    },
    {
      "cell_type": "markdown",
      "source": [
        "**Задание 3**. Перемножьте векторы `v1` и `v2` вручную."
      ],
      "metadata": {
        "id": "9RMXlYGE9lAs"
      }
    },
    {
      "cell_type": "code",
      "metadata": {
        "id": "fSIM8FiVMu6I",
        "outputId": "03769c13-9787-47cb-f1ad-009b160d2737",
        "colab": {
          "base_uri": "https://localhost:8080/"
        }
      },
      "source": [
        "37*5+84*36+110.2*199.6+18.6*5.1"
      ],
      "execution_count": 28,
      "outputs": [
        {
          "output_type": "execute_result",
          "data": {
            "text/plain": [
              "25299.78"
            ]
          },
          "metadata": {},
          "execution_count": 28
        }
      ]
    },
    {
      "cell_type": "markdown",
      "source": [
        "**Задание 4**. Используйте функцию **dot()**."
      ],
      "metadata": {
        "id": "vivmgULw9uDi"
      }
    },
    {
      "cell_type": "code",
      "metadata": {
        "id": "cmc6SgWXMykd",
        "outputId": "19f4661e-f6df-4ccd-b9cf-2f018d0d5ea0",
        "colab": {
          "base_uri": "https://localhost:8080/"
        }
      },
      "source": [
        "numerator = np.dot(v1, v2)\n",
        "numerator"
      ],
      "execution_count": 27,
      "outputs": [
        {
          "output_type": "execute_result",
          "data": {
            "text/plain": [
              "25299.78"
            ]
          },
          "metadata": {},
          "execution_count": 27
        }
      ]
    },
    {
      "cell_type": "markdown",
      "metadata": {
        "id": "ocls86JOM8kS"
      },
      "source": [
        "#### Косинусное сходство между векторами"
      ]
    },
    {
      "cell_type": "markdown",
      "source": [
        "**Задание 5**. Найдите угол в градусах между векторами `v1` и `v2`."
      ],
      "metadata": {
        "id": "kLRkxDh495dE"
      }
    },
    {
      "cell_type": "code",
      "metadata": {
        "id": "Xx8D1lLTNAw3",
        "outputId": "54742fdf-3f91-43bf-cb04-82c76cf8d1ca",
        "colab": {
          "base_uri": "https://localhost:8080/"
        }
      },
      "source": [
        "# теперь займемся знаменателем и\n",
        "# (1) рассчитаем длины (по большому счету, это теорема Пифагора)\n",
        "bLen = np.linalg.norm(v1)\n",
        "cLen = np.linalg.norm(v2)\n",
        "\n",
        "# (2) перемножим их\n",
        "denominator = bLen * cLen\n",
        "# посмотрим, чему равен косинус угла между векторами\n",
        "cosine = numerator/denominator\n",
        "print(f'косинус угла равен = {cosine}' )\n",
        "# для этого вначале вычислим угол в радианах\n",
        "angle_radians = np.arccos(cosine)\n",
        "\n",
        "# затем в градусах\n",
        "angle_degrees = angle_radians * 360/2/np.pi\n",
        "print(f'в градусах = {angle_degrees}')"
      ],
      "execution_count": 34,
      "outputs": [
        {
          "output_type": "stream",
          "name": "stdout",
          "text": [
            "косинус угла равен = 0.8619991430598012\n",
            "в градусах = 30.458206946879134\n"
          ]
        }
      ]
    },
    {
      "cell_type": "code",
      "source": [],
      "metadata": {
        "id": "xrFx4oAB2VWD"
      },
      "execution_count": null,
      "outputs": []
    }
  ]
}

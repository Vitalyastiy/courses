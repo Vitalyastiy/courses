{
  "nbformat": 4,
  "nbformat_minor": 0,
  "metadata": {
    "colab": {
      "provenance": [],
      "include_colab_link": true
    },
    "kernelspec": {
      "name": "python3",
      "display_name": "Python 3"
    },
    "language_info": {
      "name": "python"
    }
  },
  "cells": [
    {
      "cell_type": "markdown",
      "metadata": {
        "id": "view-in-github",
        "colab_type": "text"
      },
      "source": [
        "<a href=\"https://colab.research.google.com/github/Vitalyastiy/courses/blob/main/13_TrainTestSplit.ipynb\" target=\"_parent\"><img src=\"https://colab.research.google.com/assets/colab-badge.svg\" alt=\"Open In Colab\"/></a>"
      ]
    },
    {
      "cell_type": "markdown",
      "metadata": {
        "id": "W9E8T-SfRSAK"
      },
      "source": [
        "## На каких данных обучать модель"
      ]
    },
    {
      "cell_type": "markdown",
      "metadata": {
        "id": "dSZ2i3r5RWiz"
      },
      "source": [
        "### Разделение на обучающую и тестовую выборки в Scikit-learn"
      ]
    },
    {
      "cell_type": "code",
      "metadata": {
        "id": "UBkshAEeHYb3"
      },
      "source": [
        "# возьмем данные роста (X) и обхвата шеи (y)\n",
        "X = [1.48, 1.49, 1.49, 1.50, 1.51, 1.52, 1.52, 1.53, 1.53, 1.54, 1.55, 1.56, 1.57, 1.57, 1.58, 1.58, 1.59, 1.60, 1.61, 1.62, 1.63, 1.64, 1.65, 1.65, 1.66, 1.67, 1.67, 1.68, 1.68,  1.69, 1.70, 1.70, 1.71, 1.71, 1.71, 1.74, 1.75, 1.76, 1.77, 1.77, 1.78]\n",
        "y = [29.1, 30.0, 30.1, 30.2, 30.4, 30.6, 30.8, 30.9, 31.0, 30.6, 30.7, 30.9, 31.0, 31.2, 31.3, 32.0, 31.4, 31.9, 32.4, 32.8, 32.8, 33.3, 33.6, 33.0, 33.9, 33.8, 35.0, 34.5, 34.7, 34.6, 34.2, 34.8, 35.5, 36.0, 36.2, 36.3, 36.6, 36.8, 36.8, 37.0, 38.5]"
      ],
      "execution_count": 4,
      "outputs": []
    },
    {
      "cell_type": "code",
      "metadata": {
        "id": "YrmQVqffaJSW"
      },
      "source": [
        "# импортируем библиотеку Numpy\n",
        "import numpy as np\n",
        "\n",
        "# преобразуем наш список X сначала в одномерный массив Numpy, а затем добавим второе измерение\n",
        "X = np.array(X).reshape(-1, 1)\n",
        "\n",
        "# список y достаточно преобразовать в одномерный массив Numpy\n",
        "y = np.array(y)"
      ],
      "execution_count": 20,
      "outputs": []
    },
    {
      "cell_type": "code",
      "metadata": {
        "id": "IRygF5UGaMLi"
      },
      "source": [
        "# из модуля model_selection библиотеки sklearn импортируем функцию train_test_split\n",
        "from sklearn.model_selection import train_test_split\n",
        "\n",
        "# разбиваем данные на четыре части\n",
        "# названия переменных могут быть любыми, но обычно используют именно их\n",
        "# также задаем размер тестовой выборки (30%) и точку отсчета для воспроизводимости\n",
        "X_train, X_test, y_train, y_test = train_test_split(X, y, \n",
        "                                                    test_size = 0.3, \n",
        "                                                    random_state = 42)"
      ],
      "execution_count": 8,
      "outputs": []
    },
    {
      "cell_type": "code",
      "metadata": {
        "colab": {
          "base_uri": "https://localhost:8080/"
        },
        "id": "DDu55g8rjqV6",
        "outputId": "2f21883b-bdd5-4183-e64e-b829323d4a4e"
      },
      "source": [
        "# посмотрим на размер массива признаков (X)\n",
        "X.shape"
      ],
      "execution_count": 9,
      "outputs": [
        {
          "output_type": "execute_result",
          "data": {
            "text/plain": [
              "(41, 1)"
            ]
          },
          "metadata": {},
          "execution_count": 9
        }
      ]
    },
    {
      "cell_type": "code",
      "metadata": {
        "colab": {
          "base_uri": "https://localhost:8080/"
        },
        "id": "2zT8-t7Ojukx",
        "outputId": "a66417f3-de7a-4d49-b6b6-80a1444130aa"
      },
      "source": [
        "# теперь посмотрим, что сделала функция train_test_split\n",
        "print(X_train.shape, X_test.shape)"
      ],
      "execution_count": 10,
      "outputs": [
        {
          "output_type": "stream",
          "name": "stdout",
          "text": [
            "(28, 1) (13, 1)\n"
          ]
        }
      ]
    },
    {
      "cell_type": "code",
      "metadata": {
        "colab": {
          "base_uri": "https://localhost:8080/"
        },
        "id": "sWQUkNavtS1M",
        "outputId": "3c467894-b1a8-4e2d-f4a7-3472244c7aff"
      },
      "source": [
        "# то же самое для данных окружности шеи (целевой переменной y)\n",
        "print(y.shape, y_train.shape, y_test.shape)"
      ],
      "execution_count": 11,
      "outputs": [
        {
          "output_type": "stream",
          "name": "stdout",
          "text": [
            "(41,) (28,) (13,)\n"
          ]
        }
      ]
    },
    {
      "cell_type": "markdown",
      "metadata": {
        "id": "Sytz_ErHl_JD"
      },
      "source": [
        "### Построение модели линейной регрессии"
      ]
    },
    {
      "cell_type": "code",
      "metadata": {
        "colab": {
          "base_uri": "https://localhost:8080/"
        },
        "id": "z0wvPkLUjxSh",
        "outputId": "286e4916-9395-4bb3-9b85-79023a74979e"
      },
      "source": [
        "# из набора линейных моделей библиотеки sklearn импортируем линейную регрессию\n",
        "from sklearn.linear_model import LinearRegression\n",
        "\n",
        "# создадим объект этого класса и запишем в переменную model\n",
        "model = LinearRegression()\n",
        "\n",
        "# обучим нашу модель\n",
        "# т.е. найдем те самые веса или наклон и сдвиг прямой с помощью функции потерь\n",
        "# только теперь используем только обучающую выборку\n",
        "model.fit(X_train, y_train)"
      ],
      "execution_count": 12,
      "outputs": [
        {
          "output_type": "execute_result",
          "data": {
            "text/plain": [
              "LinearRegression()"
            ]
          },
          "metadata": {},
          "execution_count": 12
        }
      ]
    },
    {
      "cell_type": "code",
      "metadata": {
        "colab": {
          "base_uri": "https://localhost:8080/"
        },
        "id": "qMnc0sk7mXzS",
        "outputId": "73d42c1e-178d-464e-9b87-7bc8c7557697"
      },
      "source": [
        "# выведем наклон и сдвиг с помощью атрибутов coef_ и intercept_ соответственно\n",
        "print(model.coef_, model.intercept_)"
      ],
      "execution_count": 13,
      "outputs": [
        {
          "output_type": "stream",
          "name": "stdout",
          "text": [
            "[26.37316095] -9.809957964460885\n"
          ]
        }
      ]
    },
    {
      "cell_type": "code",
      "metadata": {
        "colab": {
          "base_uri": "https://localhost:8080/"
        },
        "id": "Oxg7AtdxmzgB",
        "outputId": "ceaa43ff-7675-485a-b4f9-bb61b84abcfc"
      },
      "source": [
        "# на основе значений роста (Х) предскажем значения обхвата шеи\n",
        "y_pred = model.predict(X_test)\n",
        "\n",
        "# выведем первые пять значений с помощью диапазона индексов\n",
        "print(y_pred[:5])"
      ],
      "execution_count": 15,
      "outputs": [
        {
          "output_type": "stream",
          "name": "stdout",
          "text": [
            "[33.9694892  31.59590472 30.54097828 34.23322081 30.01351506 37.13426852\n",
            " 32.91456277 36.87053691 34.76068403 30.27724667 34.23322081 31.59590472\n",
            " 32.38709955]\n"
          ]
        }
      ]
    },
    {
      "cell_type": "code",
      "metadata": {
        "colab": {
          "base_uri": "https://localhost:8080/"
        },
        "id": "7DzoDmu4nDxq",
        "outputId": "e140d594-7153-44e8-fc63-ec5e6f072a4a"
      },
      "source": [
        "# импортируем модуль метрик\n",
        "from sklearn import metrics\n",
        "\n",
        "# выведем корень среднеквадратической ошибки\n",
        "# в этот раз сравним тестовые и прогнозные значения окружности шеи\n",
        "print('Root Mean Squared Error (RMSE):', np.sqrt(metrics.mean_squared_error(y_test, y_pred)))"
      ],
      "execution_count": 16,
      "outputs": [
        {
          "output_type": "stream",
          "name": "stdout",
          "text": [
            "Root Mean Squared Error (RMSE): 0.5604831734149255\n"
          ]
        }
      ]
    },
    {
      "cell_type": "markdown",
      "metadata": {
        "id": "IuFWY4xjpjv3"
      },
      "source": [
        "### Упражнения"
      ]
    },
    {
      "cell_type": "markdown",
      "metadata": {
        "id": "_BFjhuX1O4UR"
      },
      "source": [
        "Снова используем кривую спроса из предыдущих упражнений."
      ]
    },
    {
      "cell_type": "code",
      "metadata": {
        "id": "-blfy2eqnmNQ"
      },
      "source": [
        "prices = [10, 20, 30, 40, 50, 60, 70, 80, 90, 100, 110, 120, 130, 140, 150, 160, 170, 180, 190]\n",
        "demand = [180, 170, 150, 140, 135, 128, 120, 115, 114, 108, 100, 97, 96, 95, 90, 85, 80, 80, 80]"
      ],
      "execution_count": 17,
      "outputs": []
    },
    {
      "cell_type": "markdown",
      "metadata": {
        "id": "gndUP5MgRS7X"
      },
      "source": [
        "#### Обучающая и тестовая выборки"
      ]
    },
    {
      "cell_type": "markdown",
      "source": [
        "**Задание 1**. Преобразуйте данные в массивы Numpy (двумерный для X и одномерный для y)."
      ],
      "metadata": {
        "id": "mwUZy3oE-kzV"
      }
    },
    {
      "cell_type": "code",
      "metadata": {
        "id": "FLAINARzPE71",
        "outputId": "3d8926ab-54cb-41c9-8cba-e6800beb5b83",
        "colab": {
          "base_uri": "https://localhost:8080/"
        }
      },
      "source": [
        "import numpy as np\n",
        "X = np.array(prices).reshape(-1,1)\n",
        "print(X)\n",
        "y = np.array(demand)\n",
        "y"
      ],
      "execution_count": 26,
      "outputs": [
        {
          "output_type": "stream",
          "name": "stdout",
          "text": [
            "[[ 10]\n",
            " [ 20]\n",
            " [ 30]\n",
            " [ 40]\n",
            " [ 50]\n",
            " [ 60]\n",
            " [ 70]\n",
            " [ 80]\n",
            " [ 90]\n",
            " [100]\n",
            " [110]\n",
            " [120]\n",
            " [130]\n",
            " [140]\n",
            " [150]\n",
            " [160]\n",
            " [170]\n",
            " [180]\n",
            " [190]]\n"
          ]
        },
        {
          "output_type": "execute_result",
          "data": {
            "text/plain": [
              "array([180, 170, 150, 140, 135, 128, 120, 115, 114, 108, 100,  97,  96,\n",
              "        95,  90,  85,  80,  80,  80])"
            ]
          },
          "metadata": {},
          "execution_count": 26
        }
      ]
    },
    {
      "cell_type": "markdown",
      "source": [
        "**Задание 2**. Разбейте данные на обучающую и тестовую выборки."
      ],
      "metadata": {
        "id": "qBeojDe7_RlK"
      }
    },
    {
      "cell_type": "code",
      "metadata": {
        "id": "eBVLwmsjPM3w"
      },
      "source": [
        "# из модуля model_selection библиотеки sklearn импортируем функцию train_test_split\n",
        "from sklearn.model_selection import train_test_split\n",
        "\n",
        "# разбиваем данные на четыре части\n",
        "# названия переменных могут быть любыми, но обычно используют именно их\n",
        "# также задаем размер тестовой выборки (30%) и точку отсчета для воспроизводимости\n",
        "X_train, X_test, y_train, y_test = train_test_split(X, y, \n",
        "                                                    test_size = 0.3, \n",
        "                                                    random_state = 42)\n"
      ],
      "execution_count": 37,
      "outputs": []
    },
    {
      "cell_type": "markdown",
      "source": [
        "**Задание 3**. Посмотрите на получившуюся размерность."
      ],
      "metadata": {
        "id": "Bc0NkC1U_YrP"
      }
    },
    {
      "cell_type": "code",
      "metadata": {
        "id": "4wlHTw6fQl-X",
        "outputId": "7cc4b197-f052-4e26-fca5-4344c65f1a78",
        "colab": {
          "base_uri": "https://localhost:8080/"
        }
      },
      "source": [
        "# теперь посмотрим, что сделала функция train_test_split\n",
        "print(X_train.shape, X_test.shape, X.shape)\n",
        "print(y_train.shape, y_test.shape, X.shape)"
      ],
      "execution_count": 32,
      "outputs": [
        {
          "output_type": "stream",
          "name": "stdout",
          "text": [
            "(13, 1) (6, 1) (19, 1)\n",
            "(13,) (6,) (19, 1)\n"
          ]
        }
      ]
    },
    {
      "cell_type": "markdown",
      "metadata": {
        "id": "S_mZyzcBROJ1"
      },
      "source": [
        "#### Модель линейной регрессии"
      ]
    },
    {
      "cell_type": "markdown",
      "source": [
        "**Задание 4**. Создайте объект класса LinearRegression()."
      ],
      "metadata": {
        "id": "bcjoAW04_oWs"
      }
    },
    {
      "cell_type": "code",
      "metadata": {
        "id": "TMYOx5CiRNf5",
        "outputId": "211bed30-2792-43ba-bacc-8545abe09a96",
        "colab": {
          "base_uri": "https://localhost:8080/"
        }
      },
      "source": [
        "# из набора линейных моделей библиотеки sklearn импортируем линейную регрессию\n",
        "from sklearn.linear_model import LinearRegression\n",
        "\n",
        "# создадим объект этого класса и запишем в переменную model\n",
        "model = LinearRegression()\n",
        "\n"
      ],
      "execution_count": 38,
      "outputs": [
        {
          "output_type": "execute_result",
          "data": {
            "text/plain": [
              "LinearRegression()"
            ]
          },
          "metadata": {},
          "execution_count": 38
        }
      ]
    },
    {
      "cell_type": "markdown",
      "source": [
        "**Задание 5**. Обучите модель.\n",
        "\n",
        "Подсказка: используйте метод **.fit()**."
      ],
      "metadata": {
        "id": "smTMpoIh_vB2"
      }
    },
    {
      "cell_type": "code",
      "metadata": {
        "id": "kgHmZ4xrQ5zX",
        "outputId": "bc3f6a5e-f32f-4fbb-ed40-aff0284c9ebc",
        "colab": {
          "base_uri": "https://localhost:8080/"
        }
      },
      "source": [
        "# обучим нашу модель\n",
        "# т.е. найдем те самые веса или наклон и сдвиг прямой с помощью функции потерь\n",
        "# только теперь используем только обучающую выборку\n",
        "model.fit(X_train, y_train)"
      ],
      "execution_count": 39,
      "outputs": [
        {
          "output_type": "execute_result",
          "data": {
            "text/plain": [
              "LinearRegression()"
            ]
          },
          "metadata": {},
          "execution_count": 39
        }
      ]
    },
    {
      "cell_type": "markdown",
      "source": [
        "**Задание 6**. Выведите коэффициенты (наклон и сдвиг)."
      ],
      "metadata": {
        "id": "lLKUzAgn_6lg"
      }
    },
    {
      "cell_type": "code",
      "metadata": {
        "id": "YtG-O2ScQ_-C",
        "outputId": "37907f6b-4b42-440e-a621-d670fc99e8ff",
        "colab": {
          "base_uri": "https://localhost:8080/"
        }
      },
      "source": [
        "# выведем наклон и сдвиг с помощью атрибутов coef_ и intercept_ соответственно\n",
        "print(model.coef_, model.intercept_)"
      ],
      "execution_count": 40,
      "outputs": [
        {
          "output_type": "stream",
          "name": "stdout",
          "text": [
            "[-0.42719298] 154.22199730094468\n"
          ]
        }
      ]
    },
    {
      "cell_type": "markdown",
      "source": [
        "**Задание 7**. Сделайте прогноз и выведите первые три прогнозных значения.\n",
        "\n",
        "Подсказка: используйте метод **.predict()**."
      ],
      "metadata": {
        "id": "aXlI05l_AE46"
      }
    },
    {
      "cell_type": "code",
      "metadata": {
        "id": "B9U9zmatRu__",
        "outputId": "ec91594f-2ad7-4b35-be4f-0399d716ae6c",
        "colab": {
          "base_uri": "https://localhost:8080/"
        }
      },
      "source": [
        "# на основе значений роста (Х) предскажем значения обхвата шеи\n",
        "y_pred = model.predict(X_test)\n",
        "\n",
        "# выведем первые пять значений с помощью диапазона индексов\n",
        "print(y_pred[:3])"
      ],
      "execution_count": 41,
      "outputs": [
        {
          "output_type": "stream",
          "name": "stdout",
          "text": [
            "[149.95006748 128.59041835 102.95883941]\n"
          ]
        }
      ]
    },
    {
      "cell_type": "markdown",
      "source": [
        "**Задание 8**. Посчитайте корень среднеквадратической ошибки (RMSE)."
      ],
      "metadata": {
        "id": "Y5Pgy4TUAWvU"
      }
    },
    {
      "cell_type": "code",
      "metadata": {
        "id": "rigddalIR_Eo",
        "outputId": "4f87a7f5-1e69-4f3e-838d-d05532283b54",
        "colab": {
          "base_uri": "https://localhost:8080/"
        }
      },
      "source": [
        "# импортируем модуль метрик\n",
        "from sklearn import metrics\n",
        "\n",
        "# выведем корень среднеквадратической ошибки\n",
        "# в этот раз сравним тестовые и прогнозные значения окружности шеи\n",
        "print('Root Mean Squared Error (RMSE):', np.sqrt(metrics.mean_squared_error(y_test, y_pred)))"
      ],
      "execution_count": 42,
      "outputs": [
        {
          "output_type": "stream",
          "name": "stdout",
          "text": [
            "Root Mean Squared Error (RMSE): 16.000596399732142\n"
          ]
        }
      ]
    },
    {
      "cell_type": "code",
      "source": [],
      "metadata": {
        "id": "yTmM9rooTcdc"
      },
      "execution_count": null,
      "outputs": []
    }
  ]
}

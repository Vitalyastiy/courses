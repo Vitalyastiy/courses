{
  "nbformat": 4,
  "nbformat_minor": 0,
  "metadata": {
    "colab": {
      "provenance": [],
      "authorship_tag": "ABX9TyPFJ7TQ2lyuNyC5aSBEmm18",
      "include_colab_link": true
    },
    "kernelspec": {
      "name": "python3",
      "display_name": "Python 3"
    },
    "language_info": {
      "name": "python"
    }
  },
  "cells": [
    {
      "cell_type": "markdown",
      "metadata": {
        "id": "view-in-github",
        "colab_type": "text"
      },
      "source": [
        "<a href=\"https://colab.research.google.com/github/Vitalyastiy/seaborn/blob/main/Seaborn_scater.ipynb\" target=\"_parent\"><img src=\"https://colab.research.google.com/assets/colab-badge.svg\" alt=\"Open In Colab\"/></a>"
      ]
    },
    {
      "cell_type": "markdown",
      "source": [],
      "metadata": {
        "id": "j2ZqBzSsIMzV"
      }
    },
    {
      "cell_type": "code",
      "execution_count": null,
      "metadata": {
        "id": "QdPkpAX_G0Ra"
      },
      "outputs": [],
      "source": [
        "import pandas as pd\n",
        "pd.plotting.register_matplotlib_converters()\n",
        "import matplotlib.pyplot as plt\n",
        "%matplotlib inline\n",
        "import seaborn as sns\n",
        "print(\"Setup Complete\")\n",
        "# %%\n",
        "# Path of the file to read\n",
        "insurance_filepath = 'https://github.com/Vitalyastiy/seaborn/blob/main/insurance.csv?raw=true'\n",
        "# %%\n",
        "# Read the file into a variable insurance_data\n",
        "insurance_data = pd.read_csv(insurance_filepath)\n",
        "insurance_data.head()"
      ]
    },
    {
      "cell_type": "code",
      "source": [
        "sns.regplot(x=insurance_data['bmi'], y=insurance_data['charges'])"
      ],
      "metadata": {
        "id": "86hAhQHWHHPm"
      },
      "execution_count": null,
      "outputs": []
    },
    {
      "cell_type": "code",
      "source": [
        "sns.scatterplot(x=insurance_data['bmi'], y=insurance_data['charges'], hue=insurance_data['smoker'])"
      ],
      "metadata": {
        "id": "7P4yf_-cHQLT"
      },
      "execution_count": null,
      "outputs": []
    },
    {
      "cell_type": "code",
      "source": [
        "sns.swarmplot(x=insurance_data['smoker'],\n",
        "              y=insurance_data['charges'])"
      ],
      "metadata": {
        "id": "OohbMzRqHVni"
      },
      "execution_count": null,
      "outputs": []
    },
    {
      "cell_type": "code",
      "source": [
        "sns.lmplot(x=\"bmi\", y=\"charges\", hue=\"smoker\", data=insurance_data)"
      ],
      "metadata": {
        "id": "yfSSZL3JICO2"
      },
      "execution_count": null,
      "outputs": []
    }
  ]
}
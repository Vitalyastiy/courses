{
 "cells": [
  {
   "cell_type": "code",
   "execution_count": 5,
   "metadata": {},
   "outputs": [],
   "source": [
    "import folium \n",
    "import pandas as pd\n",
    "from folium.plugins import MarkerCluster\n",
    "import pandas as pd\n",
    "import requests\n",
    "from xml.etree import ElementTree\n",
    "import numpy as np\n",
    "import folium"
   ]
  },
  {
   "cell_type": "code",
   "execution_count": null,
   "metadata": {},
   "outputs": [],
   "source": [
    "df= pd.read_excel(r\"C:\\Users\\.......\\Desktop\\05 Ad hoc\\2022-12-01_гео\\result_mi.xlsx\")\n",
    "df"
   ]
  },
  {
   "cell_type": "code",
   "execution_count": null,
   "metadata": {},
   "outputs": [],
   "source": [
    "df_np = pd.read_csv(r\"C:\\Users\\......\\Desktop\\05 Ad hoc\\2022-12-01_гео\\result_2.csv\",sep=',' , encoding='cp1251' )\n",
    "df_np"
   ]
  },
  {
   "cell_type": "code",
   "execution_count": null,
   "metadata": {},
   "outputs": [],
   "source": [
    "df_pivot = pd.merge(df, df_np, how = 'inner', left_on = ['create_date', 'subs_id'], right_on = ['create_date', 'subs_id'])\n",
    "df_pivot\n",
    "#df_np['create_date'] = df['create_date'].astype(object)"
   ]
  },
  {
   "cell_type": "code",
   "execution_count": null,
   "metadata": {},
   "outputs": [],
   "source": [
    "df_pivot[['id', 'create_date', 'subs_id', 'address', 'lat', 'lng',\n",
    "       'Yandex_address',  'nps']]"
   ]
  },
  {
   "cell_type": "code",
   "execution_count": null,
   "metadata": {},
   "outputs": [],
   "source": [
    "data=df_pivot \n",
    "data"
   ]
  },
  {
   "cell_type": "code",
   "execution_count": null,
   "metadata": {},
   "outputs": [],
   "source": [
    "df_pivot['subs_id'] = df_pivot['subs_id'].astype(str)"
   ]
  },
  {
   "cell_type": "code",
   "execution_count": null,
   "metadata": {},
   "outputs": [],
   "source": [
    "data.dtypes"
   ]
  },
  {
   "cell_type": "code",
   "execution_count": null,
   "metadata": {},
   "outputs": [],
   "source": [
    "map = folium.Map(location = [43.09409 , 131.97061], zoom_start = 2, tiles = 'cartodbpositron' )\n",
    "map"
   ]
  },
  {
   "cell_type": "code",
   "execution_count": null,
   "metadata": {},
   "outputs": [],
   "source": [
    "locations = data[['lat', 'lng']]\n",
    "elevation = data['nps']\n",
    "subs = data['subs_id']\n",
    "locationlist = locations.values.tolist()\n",
    "#len(locationlist)\n",
    "#locationlist[7]"
   ]
  },
  {
   "cell_type": "code",
   "execution_count": null,
   "metadata": {},
   "outputs": [],
   "source": [
    "map2 = folium.Map(location=[55.62252,37.30162], tiles='CartoDB dark_matter', zoom_start=5)\n",
    "marker_cluster = MarkerCluster().add_to(map2)\n",
    "for point in range(0, len(locationlist)):\n",
    "    folium.Marker(locationlist[point], popup=data['subs_id'][point]).add_to(marker_cluster)\n",
    "map2"
   ]
  },
  {
   "cell_type": "code",
   "execution_count": 27,
   "metadata": {},
   "outputs": [],
   "source": [
    "#добавляем функцию и делем дополнительный столбец с цветом НПС, во фрейм\n",
    "def regioncolors(counter):\n",
    "    if counter ['nps'] > 0:\n",
    "        return 'green'\n",
    "    elif counter ['nps'] < 0:\n",
    "        return'red'\n",
    "    else:\n",
    "        return('gray')"
   ]
  },
  {
   "cell_type": "code",
   "execution_count": null,
   "metadata": {},
   "outputs": [],
   "source": [
    "data[\"color\"] = data.apply(regioncolors, axis=1)\n",
    "data.head()"
   ]
  },
  {
   "cell_type": "code",
   "execution_count": null,
   "metadata": {},
   "outputs": [],
   "source": [
    "map3 = folium.Map(location=[55.62252,37.30162], tiles='CartoDB dark_matter', zoom_start=5)\n",
    "marker_cluster = MarkerCluster().add_to(map3)\n",
    "\n",
    "for point in range(0, len(locationlist)):\n",
    "    folium.Marker(locationlist[point], popup='ID:'+ ' ' + data['subs_id'][point] + ' ' + data['Yandex_address'][point]  \\\n",
    "        , icon=folium.Icon(color=data['color'][point], icon_color='white', icon='male', angle=0, prefix='fa')).add_to(marker_cluster)  #\n",
    "\n",
    "map3#.save(\"map1.html\")"
   ]
  },
  {
   "cell_type": "code",
   "execution_count": null,
   "metadata": {},
   "outputs": [],
   "source": []
  },
  {
   "cell_type": "code",
   "execution_count": null,
   "metadata": {},
   "outputs": [],
   "source": []
  },
  {
   "cell_type": "code",
   "execution_count": null,
   "metadata": {},
   "outputs": [],
   "source": []
  },
  {
   "cell_type": "code",
   "execution_count": null,
   "metadata": {},
   "outputs": [],
   "source": []
  },
  {
   "cell_type": "code",
   "execution_count": null,
   "metadata": {},
   "outputs": [],
   "source": [
    "#черновик и наработки\n",
    "'''examp 1'''\n",
    "latitudes = list(df['lat'])\n",
    "longitudes = list(df['lng'])\n",
    "for lat, lng in zip(latitudes, longitudes):\n",
    "    folium.CircleMarker(location=[lat, lng], radius = 9, fill_color='red' ,  color=\"gray\", fill_opacity = 0.01, icon = folium.Icon(color='green',icon='ok-sign')).add_to(map)\n",
    "map\n",
    "\n",
    "'''2'''\n",
    "map = folium.Map(location=[55.62252,37.30162], zoom_start = 5, tiles = 'cartodbpositron')\n",
    "\n",
    "for lat, lon, elevation in zip(lat, lon, elevation):\n",
    "    folium.CircleMarker(location=[lat, lon], radius = 1, popup=str(elevation)+\" m\", fill_color='red', color=\"gray\", fill_opacity = 0.5).add_to(map)\n",
    "\n",
    "'''3'''\n",
    "# рабочий кодYandex_address\n",
    "lat = data['lat']\n",
    "lon = data['lng']\n",
    "elevation = data['nps']\n",
    "#subs = data['subs_id']\n",
    "\n",
    "def color_change(elev):\n",
    "    if(elev > 0):\n",
    "        return('green')\n",
    "    elif( elev <0):\n",
    "        return('red')\n",
    "    else:\n",
    "        return('grey')\n",
    "\n",
    "map = folium.Map(location=[55.62252,37.30162], zoom_start = 4, tiles = 'CartoDB dark_matter')\n",
    "marker_cluster = MarkerCluster().add_to(map)\n",
    "\n",
    "\n",
    "for lat, lon, elevation in zip(lat, lon, elevation):\n",
    "    folium.CircleMarker(location=[lat, lon], radius = 9, popup=(str(elevation)+\" NPS\"), fill_color=color_change(elevation), color=\"gray\", fill_opacity = 0.9).add_to(marker_cluster)\n",
    "\n",
    "map.save(\"map1.html\")"
   ]
  }
 ],
 "metadata": {
  "kernelspec": {
   "display_name": "Python 3.9.13 ('base')",
   "language": "python",
   "name": "python3"
  },
  "language_info": {
   "codemirror_mode": {
    "name": "ipython",
    "version": 3
   },
   "file_extension": ".py",
   "mimetype": "text/x-python",
   "name": "python",
   "nbconvert_exporter": "python",
   "pygments_lexer": "ipython3",
   "version": "3.9.13"
  },
  "orig_nbformat": 4,
  "vscode": {
   "interpreter": {
    "hash": "d9acfe8064b338b087cf5b985d533c132426f668fd9f5be560d7a729870e8555"
   }
  }
 },
 "nbformat": 4,
 "nbformat_minor": 2
}

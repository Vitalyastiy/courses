{
 "cells": [
  {
   "cell_type": "code",
   "execution_count": 73,
   "metadata": {},
   "outputs": [],
   "source": [
    "import pandas as pd"
   ]
  },
  {
   "cell_type": "code",
   "execution_count": null,
   "metadata": {},
   "outputs": [],
   "source": [
    "df = pd.read_csv(r\"C:\\Users\\vitaly.flerin\\Desktop\\05 Ad hoc\\2022-12-01_гео\\result_2.csv\" , sep=',' , encoding='cp1251') #, index_col=0 - индекс \n",
    "df"
   ]
  },
  {
   "cell_type": "code",
   "execution_count": null,
   "metadata": {},
   "outputs": [],
   "source": [
    "df_nat = pd.read_excel(r\"C:\\Users\\vitaly.flerin\\Desktop\\res_natasha.xlsx\")\n",
    "df_nat.head()"
   ]
  },
  {
   "cell_type": "code",
   "execution_count": null,
   "metadata": {},
   "outputs": [],
   "source": [
    "df_nat= df_nat.rename(columns={'city':'mark_natasha'})\n",
    "df_nat"
   ]
  },
  {
   "cell_type": "code",
   "execution_count": null,
   "metadata": {},
   "outputs": [],
   "source": [
    "df_pull = pd.read_excel(r\"C:\\Users\\vitaly.flerin\\Desktop\\res_pullenti.xlsx\")\n",
    "df_pull.head()"
   ]
  },
  {
   "cell_type": "code",
   "execution_count": null,
   "metadata": {},
   "outputs": [],
   "source": [
    "df_pull=df_pull.rename(columns={'mark_6_do': 'mark_pull'})\n",
    "df_pull"
   ]
  },
  {
   "cell_type": "code",
   "execution_count": null,
   "metadata": {},
   "outputs": [],
   "source": [
    "df_sv1 = pd.merge(df, df_nat, how='left', left_on=['create_date', 'subs_id'] , right_on = ['create_date', 'subs_id'])\n",
    "df_sv1.head()"
   ]
  },
  {
   "cell_type": "code",
   "execution_count": 176,
   "metadata": {},
   "outputs": [],
   "source": [
    "df =df_sv1[['create_date', 'subs_id', 'mark_6_x', 'Region', 'nps','mark_natasha']]"
   ]
  },
  {
   "cell_type": "code",
   "execution_count": 177,
   "metadata": {},
   "outputs": [],
   "source": [
    "df_sv1 = pd.merge(df, df_pull, how='left', left_on=['create_date', 'subs_id'] , right_on = ['create_date', 'subs_id'])\n"
   ]
  },
  {
   "cell_type": "code",
   "execution_count": null,
   "metadata": {},
   "outputs": [],
   "source": [
    "df =df_sv1[['create_date', 'subs_id', 'mark_6_x', 'Region', 'nps','mark_natasha', 'mark_pull']]\n",
    "df"
   ]
  },
  {
   "cell_type": "code",
   "execution_count": 217,
   "metadata": {},
   "outputs": [],
   "source": [
    "df['mark_pull_st_ho_flg'] = (df['mark_pull'].str.contains('улица', na=False)) | (df['mark_pull'].str.contains('проезд', na=False)) | \\\n",
    "    (df['mark_pull'].str.contains('бульвар', na=False)) |(df['mark_pull'].str.contains('проспект', na=False)) |(df['mark_pull'].str.contains('аллея', na=False)) |(df['mark_pull'].str.contains('сквер', na=False)) |\\\n",
    "        (df['mark_pull'].str.contains('аул', na=False))| (df['mark_pull'].str.contains('микрорайон', na=False))|(df['mark_pull'].str.contains('квартал', na=False)) |(df['mark_pull'].str.contains('тупик', na=False)) |\\\n",
    "           (df['mark_pull'].str.contains('площадь', na=False)) | (df['mark_pull'].str.contains('шоссе', na=False)) | (df['mark_pull'].str.contains('просека', na=False))| (df['mark_pull'].str.contains('переулок', na=False))\\\n",
    "            | (df['mark_pull'].str.contains('дом', na=False))\n",
    "           "
   ]
  },
  {
   "cell_type": "code",
   "execution_count": 218,
   "metadata": {},
   "outputs": [],
   "source": [
    "df['mark_natasha_st_ho_flg'] = (df['mark_natasha'].str.contains('улица', na=False)) | (df['mark_natasha'].str.contains('проезд', na=False)) | \\\n",
    "    (df['mark_natasha'].str.contains('бульвар', na=False)) |(df['mark_natasha'].str.contains('проспект', na=False)) |(df['mark_natasha'].str.contains('аллея', na=False)) |(df['mark_natasha'].str.contains('сквер', na=False)) |\\\n",
    "        (df['mark_natasha'].str.contains('аул', na=False))| (df['mark_natasha'].str.contains('микрорайон', na=False))|(df['mark_natasha'].str.contains('квартал', na=False)) |(df['mark_natasha'].str.contains('тупик', na=False)) |\\\n",
    "           (df['mark_natasha'].str.contains('площадь', na=False))|(df['mark_natasha'].str.contains('шоссе', na=False)) | (df['mark_natasha'].str.contains('дом', na=False))| (df['mark_natasha'].str.contains('просека', na=False))\\\n",
    "            | (df['mark_natasha'].str.contains('переулок', na=False)) \n"
   ]
  },
  {
   "cell_type": "code",
   "execution_count": null,
   "metadata": {},
   "outputs": [],
   "source": [
    "#df = df[df['new_stat'].str.len()>0] - условие больше нуля значений\n",
    "#df['mark_pull_st_ho_flg'].value_counts() - количество трушек\n",
    "#df[(df['mark_pull_st_ho_flg']==False) & (df['mark_natasha_st_ho_flg']==True)].head(49)\n"
   ]
  },
  {
   "cell_type": "code",
   "execution_count": 219,
   "metadata": {},
   "outputs": [],
   "source": [
    "def replace_pull (row):\n",
    "    if row['mark_pull_st_ho_flg'] == False and row['mark_natasha_st_ho_flg'] == True:\n",
    "        return row['mark_natasha']\n",
    "    else:\n",
    "        return row['mark_pull']\n"
   ]
  },
  {
   "cell_type": "code",
   "execution_count": null,
   "metadata": {},
   "outputs": [],
   "source": [
    "df['sum_hs_st']=df.apply(replace_pull, axis=1)\n",
    "df"
   ]
  },
  {
   "cell_type": "code",
   "execution_count": 221,
   "metadata": {},
   "outputs": [],
   "source": [
    "dff= df[(df['sum_hs_st'].str.contains('поселок')) | (df['sum_hs_st'].str.contains('село')) | (df['sum_hs_st'].str.contains('город')) | (df['sum_hs_st'].str.contains('деревня')) | \\\n",
    "    (df['sum_hs_st'].str.contains('станица')) | (df['sum_hs_st'].str.contains('сельский')) | (df['sum_hs_st'].str.contains('волость'))| (df['sum_hs_st'].str.contains('станица'))| (df['sum_hs_st'].str.contains('станция'))\\\n",
    "        | (df['sum_hs_st'].str.contains('метро'))| (df['sum_hs_st'].str.contains('шоссе'))| (df['sum_hs_st'].str.contains('посёлок'))| (df['sum_hs_st'].str.contains('область'))\\\n",
    "            | (df['sum_hs_st'].str.contains('поселение'))| (df['sum_hs_st'].str.contains('хутор')) ]\n",
    "\n",
    "            #улица переулок | (df['sum_hs_st'].str.contains('автодорога'))\n"
   ]
  },
  {
   "cell_type": "code",
   "execution_count": 223,
   "metadata": {},
   "outputs": [],
   "source": [
    "# тесты\n",
    "dff.to_excel('sverka_street.xlsx', index = False) "
   ]
  },
  {
   "cell_type": "code",
   "execution_count": 193,
   "metadata": {},
   "outputs": [],
   "source": [
    "#выгрузка для понимания, что не попало\n",
    "dffff = pd.merge(df, dff, how = 'left' , left_on=['create_date', 'subs_id'] , right_on = ['create_date', 'subs_id'])\n",
    "# тесты\n",
    "#dffff.to_excel('sverka_street11111111.xlsx', index = False)"
   ]
  },
  {
   "cell_type": "code",
   "execution_count": 187,
   "metadata": {},
   "outputs": [],
   "source": [
    "df['count'] = df['mark_natasha'].str.split().str.len()\n",
    "df1 = dffff[['create_date', 'subs_id', 'mark_6_x_x', 'Region_x', 'nps_x',    'mark_natasha_x', 'mark_pull_x', 'mark_pull_st_ho_flg_x',   'mark_natasha_st_ho_flg_x', 'sum_hs_st_x',  'sum_hs_st_y']]\n",
    "df2 = df1[(df1['sum_hs_st_y'].isnull())&(df1['sum_hs_st_x'].notnull())]\n",
    "# тесты\n",
    "df2.to_excel('sverka_street123.xlsx', index = False) "
   ]
  },
  {
   "cell_type": "code",
   "execution_count": null,
   "metadata": {},
   "outputs": [],
   "source": []
  },
  {
   "cell_type": "code",
   "execution_count": null,
   "metadata": {},
   "outputs": [],
   "source": []
  },
  {
   "cell_type": "code",
   "execution_count": null,
   "metadata": {},
   "outputs": [],
   "source": []
  },
  {
   "cell_type": "code",
   "execution_count": null,
   "metadata": {},
   "outputs": [],
   "source": []
  },
  {
   "cell_type": "code",
   "execution_count": null,
   "metadata": {},
   "outputs": [],
   "source": []
  },
  {
   "cell_type": "code",
   "execution_count": null,
   "metadata": {},
   "outputs": [],
   "source": []
  },
  {
   "cell_type": "code",
   "execution_count": null,
   "metadata": {},
   "outputs": [],
   "source": []
  },
  {
   "cell_type": "code",
   "execution_count": null,
   "metadata": {},
   "outputs": [],
   "source": []
  },
  {
   "cell_type": "code",
   "execution_count": 59,
   "metadata": {},
   "outputs": [],
   "source": []
  },
  {
   "cell_type": "markdown",
   "metadata": {},
   "source": [
    "Черновик"
   ]
  },
  {
   "cell_type": "code",
   "execution_count": 30,
   "metadata": {},
   "outputs": [],
   "source": [
    "def new_stat_2 (row):\n",
    "    if row['new_stat'].__contains__('город') == False and row['new_stat'].__contains__('улица') == True and row['new_stat'].__contains__('дом') == True:\n",
    "       return \" \".join([row ['city'] , row ['new_stat']])           #st = [[''],row['mark_natasha'], row['new_stat']]\n",
    "    else: \n",
    "       return row['new_stat']"
   ]
  },
  {
   "cell_type": "code",
   "execution_count": null,
   "metadata": {},
   "outputs": [],
   "source": [
    "'''def new_stat (row):\n",
    "  if row['mark_pull'] is None:\n",
    "    return row['mark_natasha'] \n",
    "  else:\n",
    "    return row['mark_pull']\n",
    "\n",
    "\n",
    "\n",
    "df['new_stat']=df.apply(new_stat, axis = 1)\n",
    "df.head()''''"
   ]
  },
  {
   "cell_type": "code",
   "execution_count": null,
   "metadata": {},
   "outputs": [],
   "source": [
    "numbers = df['mark_pull']\n",
    "numbers\n",
    "ddd = list(result)\n",
    "dd = pd.Series(ddd)\n",
    "print(type(result))\n",
    "result = set(df['mark_pull'].str.cat(sep=' ').lower().split())\n",
    "print(result)"
   ]
  },
  {
   "cell_type": "code",
   "execution_count": null,
   "metadata": {},
   "outputs": [],
   "source": [
    "df['count'] = df['mark_natasha'].str.split().str.len()"
   ]
  },
  {
   "cell_type": "code",
   "execution_count": 138,
   "metadata": {},
   "outputs": [],
   "source": [
    "def mark_121 (row):\n",
    "    if row ['count']==1:\n",
    "        return row ['mark_natasha']\n",
    "    else: \n",
    "        return None"
   ]
  },
  {
   "cell_type": "code",
   "execution_count": null,
   "metadata": {},
   "outputs": [],
   "source": [
    "df['city_natasha']=df.apply(mark_121, axis = 1)"
   ]
  },
  {
   "cell_type": "code",
   "execution_count": null,
   "metadata": {},
   "outputs": [],
   "source": [
    "df['city_natasha'].value_counts()"
   ]
  },
  {
   "cell_type": "code",
   "execution_count": null,
   "metadata": {},
   "outputs": [],
   "source": [
    "df['city'] = df['city'] + \" \" + df['city_natasha']\n",
    "df.head()"
   ]
  },
  {
   "cell_type": "code",
   "execution_count": 168,
   "metadata": {},
   "outputs": [],
   "source": [
    "df.to_excel(r\"C:\\Users\\vitaly.flerin\\Desktop\\mmh.xlsx\", index=False)"
   ]
  }
 ],
 "metadata": {
  "kernelspec": {
   "display_name": "Python 3.9.13 ('base')",
   "language": "python",
   "name": "python3"
  },
  "language_info": {
   "codemirror_mode": {
    "name": "ipython",
    "version": 3
   },
   "file_extension": ".py",
   "mimetype": "text/x-python",
   "name": "python",
   "nbconvert_exporter": "python",
   "pygments_lexer": "ipython3",
   "version": "3.9.13"
  },
  "orig_nbformat": 4,
  "vscode": {
   "interpreter": {
    "hash": "d9acfe8064b338b087cf5b985d533c132426f668fd9f5be560d7a729870e8555"
   }
  }
 },
 "nbformat": 4,
 "nbformat_minor": 2
}

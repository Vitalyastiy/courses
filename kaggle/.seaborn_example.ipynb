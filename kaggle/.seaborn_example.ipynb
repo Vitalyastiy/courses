{
  "nbformat": 4,
  "nbformat_minor": 0,
  "metadata": {
    "colab": {
      "provenance": [],
      "authorship_tag": "ABX9TyMbjnzYGsC3PIiZQmkUCP/l",
      "include_colab_link": true
    },
    "kernelspec": {
      "name": "python3",
      "display_name": "Python 3"
    },
    "language_info": {
      "name": "python"
    }
  },
  "cells": [
    {
      "cell_type": "markdown",
      "metadata": {
        "id": "view-in-github",
        "colab_type": "text"
      },
      "source": [
        "<a href=\"https://colab.research.google.com/github/Vitalyastiy/seaborn/blob/main/Seaborn_example.ipynb\" target=\"_parent\"><img src=\"https://colab.research.google.com/assets/colab-badge.svg\" alt=\"Open In Colab\"/></a>"
      ]
    },
    {
      "cell_type": "markdown",
      "source": [
        "EX.1 \n",
        "Scater plot, reg, swarm, lmp"
      ],
      "metadata": {
        "id": "j2ZqBzSsIMzV"
      }
    },
    {
      "cell_type": "code",
      "execution_count": null,
      "metadata": {
        "id": "QdPkpAX_G0Ra"
      },
      "outputs": [],
      "source": [
        "import pandas as pd\n",
        "pd.plotting.register_matplotlib_converters()\n",
        "import matplotlib.pyplot as plt\n",
        "%matplotlib inline\n",
        "import seaborn as sns\n",
        "print(\"Setup Complete\")\n",
        "# %%\n",
        "# Path of the file to read\n",
        "insurance_filepath = 'https://github.com/Vitalyastiy/seaborn/blob/main/insurance.csv?raw=true'\n",
        "# %%\n",
        "# Read the file into a variable insurance_data\n",
        "insurance_data = pd.read_csv(insurance_filepath)\n",
        "insurance_data.head()"
      ]
    },
    {
      "cell_type": "code",
      "source": [
        "sns.regplot(x=insurance_data['bmi'], y=insurance_data['charges'])"
      ],
      "metadata": {
        "id": "86hAhQHWHHPm"
      },
      "execution_count": null,
      "outputs": []
    },
    {
      "cell_type": "code",
      "source": [
        "sns.scatterplot(x=insurance_data['bmi'], y=insurance_data['charges'], hue=insurance_data['smoker'])"
      ],
      "metadata": {
        "id": "7P4yf_-cHQLT"
      },
      "execution_count": null,
      "outputs": []
    },
    {
      "cell_type": "code",
      "source": [
        "sns.swarmplot(x=insurance_data['smoker'],\n",
        "              y=insurance_data['charges'])"
      ],
      "metadata": {
        "id": "OohbMzRqHVni"
      },
      "execution_count": null,
      "outputs": []
    },
    {
      "cell_type": "code",
      "source": [
        "sns.lmplot(x=\"bmi\", y=\"charges\", hue=\"smoker\", data=insurance_data)"
      ],
      "metadata": {
        "id": "yfSSZL3JICO2"
      },
      "execution_count": null,
      "outputs": []
    },
    {
      "cell_type": "markdown",
      "source": [
        "EX.2 \n",
        "Scater plot, reg, swarm, lmp"
      ],
      "metadata": {
        "id": "bSvXb_k4JEFI"
      }
    },
    {
      "cell_type": "code",
      "source": [
        "import pandas as pd\n",
        "pd.plotting.register_matplotlib_converters()\n",
        "import matplotlib.pyplot as plt\n",
        "%matplotlib inline\n",
        "import seaborn as sns\n",
        "# Path of the file to read\n",
        "candy_filepath = ('https://github.com/Vitalyastiy/seaborn/blob/main/candy.csv?raw=true')\n",
        "# %%\n",
        "# Read the file into a variable insurance_data\n",
        "candy_data = pd.read_csv(candy_filepath, index_col = 'id')  ##sep = ';'\n",
        "candy_data.head()"
      ],
      "metadata": {
        "id": "pWX8Dw1lJGiY"
      },
      "execution_count": null,
      "outputs": []
    },
    {
      "cell_type": "code",
      "source": [
        "sns.scatterplot(x=candy_data['sugarpercent'], y=candy_data['winpercent'])"
      ],
      "metadata": {
        "id": "urWHgjHFJQQQ"
      },
      "execution_count": null,
      "outputs": []
    },
    {
      "cell_type": "code",
      "source": [
        "sns.regplot(x=candy_data['sugarpercent'], y=candy_data['winpercent'])"
      ],
      "metadata": {
        "id": "clTVo5TrJYq4"
      },
      "execution_count": null,
      "outputs": []
    },
    {
      "cell_type": "code",
      "source": [
        "sns.scatterplot(x=candy_data['pricepercent'], y=candy_data['winpercent'], hue=candy_data['chocolate'])"
      ],
      "metadata": {
        "id": "CtKuzTDxJYyo"
      },
      "execution_count": null,
      "outputs": []
    },
    {
      "cell_type": "code",
      "source": [
        "sns.lmplot(x=\"pricepercent\", y=\"winpercent\", hue=\"chocolate\", data=candy_data)"
      ],
      "metadata": {
        "id": "MAuQI7cGJY3v"
      },
      "execution_count": null,
      "outputs": []
    },
    {
      "cell_type": "code",
      "source": [
        "sns.swarmplot(x=candy_data['chocolate'],\n",
        "              y=candy_data['winpercent'])"
      ],
      "metadata": {
        "id": "5qDSa0nmJbyH"
      },
      "execution_count": null,
      "outputs": []
    },
    {
      "cell_type": "markdown",
      "source": [
        "E1. \n",
        "Histogram"
      ],
      "metadata": {
        "id": "VkAgg0NTJuyO"
      }
    },
    {
      "cell_type": "code",
      "source": [
        "import pandas as pd\n",
        "pd.plotting.register_matplotlib_converters()\n",
        "import matplotlib.pyplot as plt\n",
        "%matplotlib inline\n",
        "import seaborn as sns\n",
        "print(\"Setup Complete\")\n",
        "\n",
        "# Path of the file to read\n",
        "iris_filepath = ('https://github.com/Vitalyastiy/seaborn/blob/main/iris.csv?raw=true')\n",
        "\n",
        "# Read the file into a variable iris_data\n",
        "iris_data = pd.read_csv(iris_filepath, index_col=\"Id\")\n",
        "\n",
        "# Print the first 5 rows of the data\n",
        "iris_data.head()\n"
      ],
      "metadata": {
        "id": "HtuIfVRFKDXV"
      },
      "execution_count": null,
      "outputs": []
    },
    {
      "cell_type": "code",
      "source": [
        "# Histogram \n",
        "sns.histplot(iris_data['Petal Length (cm)'])"
      ],
      "metadata": {
        "id": "geKNPc6AKKTM"
      },
      "execution_count": null,
      "outputs": []
    },
    {
      "cell_type": "code",
      "source": [
        "# KDE plot \n",
        "sns.kdeplot(data=iris_data['Petal Length (cm)'], shade=True)"
      ],
      "metadata": {
        "id": "kbl8jy1KKOLT"
      },
      "execution_count": null,
      "outputs": []
    },
    {
      "cell_type": "code",
      "source": [
        "# 2D KDE plot\n",
        "sns.jointplot(x=iris_data['Petal Length (cm)'], y=iris_data['Sepal Width (cm)'], kind=\"kde\")"
      ],
      "metadata": {
        "id": "mEUchv4OKVuj"
      },
      "execution_count": null,
      "outputs": []
    },
    {
      "cell_type": "code",
      "source": [
        "# Histograms for each species\n",
        "sns.histplot(data=iris_data, x='Petal Length (cm)', hue='Species')\n",
        "# Add title\n",
        "plt.title(\"Histogram of Petal Lengths, by Species\")"
      ],
      "metadata": {
        "id": "2FE9UblbKYQL"
      },
      "execution_count": null,
      "outputs": []
    },
    {
      "cell_type": "code",
      "source": [
        "# KDE plots for each species\n",
        "sns.kdeplot(data=iris_data, x='Petal Length (cm)', hue='Species', shade=True)\n",
        "# Add title\n",
        "plt.title(\"Distribution of Petal Lengths, by Species\")"
      ],
      "metadata": {
        "id": "0aQSIPRfKcUB"
      },
      "execution_count": null,
      "outputs": []
    },
    {
      "cell_type": "markdown",
      "source": [
        "Ex. 2 \n",
        "Histogram"
      ],
      "metadata": {
        "id": "188cVAcdKos4"
      }
    },
    {
      "cell_type": "code",
      "source": [
        "import pandas as pd\n",
        "pd.plotting.register_matplotlib_converters()\n",
        "import matplotlib.pyplot as plt\n",
        "%matplotlib inline\n",
        "import seaborn as sns\n",
        "print(\"Setup Complete\")\n",
        "# %%\n",
        "cancer_filepath = ('https://github.com/Vitalyastiy/seaborn/blob/main/cancer.csv?raw=true')\n",
        "cancer_data = pd.read_csv(cancer_filepath, index_col = 'Id' )\n",
        "cancer_data.head(10)"
      ],
      "metadata": {
        "id": "FQei9X73K0sQ"
      },
      "execution_count": null,
      "outputs": []
    },
    {
      "cell_type": "code",
      "source": [
        "sns.histplot(data=cancer_data, x='Area (mean)', hue='Diagnosis')\n",
        "# Add title\n",
        "plt.title(\"Histogram of diagnosis\")"
      ],
      "metadata": {
        "id": "hwq7iF8OLPG3"
      },
      "execution_count": null,
      "outputs": []
    },
    {
      "cell_type": "code",
      "source": [
        "# KDE plots for each species\n",
        "sns.kdeplot(data=cancer_data, x='Radius (worst)', hue='Diagnosis', shade=True)"
      ],
      "metadata": {
        "id": "4ZVyUw1tLTDW"
      },
      "execution_count": null,
      "outputs": []
    },
    {
      "cell_type": "markdown",
      "source": [
        "Line"
      ],
      "metadata": {
        "id": "8Z3JWHjKL387"
      }
    },
    {
      "cell_type": "code",
      "source": [
        "import pandas as pd\n",
        "pd.plotting.register_matplotlib_converters()\n",
        "import matplotlib.pyplot as plt\n",
        "%matplotlib inline\n",
        "import seaborn as sns\n",
        "print(\"Setup Complete\")\n",
        "# Path of the file to read\n",
        "spotify_filepath = ('https://github.com/Vitalyastiy/seaborn/blob/main/spotify.csv?raw=true')\n",
        "# Read the file into a variable spotify_data\n",
        "spotify_data = pd.read_csv(spotify_filepath, index_col=\"Date\", parse_dates=True)\n",
        "spotify_data\n",
        "# Line chart \n",
        "plt.figure(figsize=(12,6))\n",
        "sns.lineplot(data=spotify_data)"
      ],
      "metadata": {
        "id": "H0EO_hzTL2UM"
      },
      "execution_count": null,
      "outputs": []
    },
    {
      "cell_type": "code",
      "source": [
        "# Change the style of the figure to the \"dark\" theme\n",
        "#(1)\"darkgrid\", (2)\"whitegrid\", (3)\"dark\", (4)\"white\", and (5)\"ticks\"\n",
        "sns.set_style(\"whitegrid\") \n",
        "# Line chart \n",
        "plt.figure(figsize=(12,6))\n",
        "sns.lineplot(data=spotify_data)"
      ],
      "metadata": {
        "id": "KIZKpaBkMJji"
      },
      "execution_count": null,
      "outputs": []
    },
    {
      "cell_type": "markdown",
      "source": [
        "Ex.3\n",
        "VIZ "
      ],
      "metadata": {
        "id": "-EsYLYT2LiH9"
      }
    },
    {
      "cell_type": "code",
      "source": [
        "# %%\n",
        "import pandas as pd\n",
        "pd.read_excel(r'C:\\Users\\...n\\Desktop\\test.xlsx')\n",
        "# %%\n",
        "import seaborn as sns\n",
        "import matplotlib.pyplot as plt\n",
        "# read a titanic.csv file\n",
        "# from seaborn libraray\n",
        "df = pd.read_excel(r'C:\\Users\\....\\Desktop\\test.xlsx')\n",
        "# class v / s fare barplot\n",
        "sns.barplot(x = \"kog_ wifi\", y = \"nps\", ci=None, data = df)\n",
        "# Show the plot\n",
        "plt.show()\n",
        "# %%\n",
        "import seaborn as sns\n",
        "import matplotlib.pyplot as plt\n",
        "df = pd.read_excel(r'C:\\Users\\....\\Desktop\\test.xlsx')\n",
        "sns.set_style(\"darkgrid\")\n",
        "sns.lineplot(data=df, x=\"kog_ wifi\", y=\"gb\")\n",
        "plt.show()\n",
        "# %%\n",
        "import pandas as pd\n",
        "pd.read_excel(r'C:\\Users\\......\\Desktop\\test.xlsx')\n",
        "# %%\n",
        "import seaborn as sns\n",
        "import matplotlib.pyplot as plt\n",
        " # read a titanic.csv file\n",
        "# from seaborn libraray\n",
        "df = pd.read_excel(r'C:\\Users\\n\\......\\test.xlsx')\n",
        "# class v / s fare barplot\n",
        "sns.barplot(x = \"kog_ wifi\", y = \"nps\", ci=None, data = df)\n",
        "# Show the plot\n",
        "plt.show()\n",
        "# %%\n",
        "import seaborn as sns\n",
        "import matplotlib.pyplot as plt\n",
        "df = pd.read_excel(r'C:\\Users\\\\.....\\test.xlsx')\n",
        "sns.set_style(\"darkgrid\")\n",
        "sns.lineplot(data=df, x=\"kog_ wifi\", y=\"gb\")\n",
        "plt.show()\n",
        "# %%\n",
        "pd.pivot_table(df,\n",
        "index = ['bucket_num'],\n",
        "columns = ['report_month'],\n",
        "values = 'gb',\n",
        "aggfunc = 'mean')\n",
        "# %%\n",
        "df.plot(x = 'region_id', y = 'gb')\n",
        "# %%\n",
        "df.plot.hist(x = 'region_id', y = 'gb')\n",
        "# %%\n",
        "df.to_csv('WHR_2019.csv')\n",
        "# %%"
      ],
      "metadata": {
        "id": "BqN5iR7QLjK9"
      },
      "execution_count": null,
      "outputs": []
    }
  ]
}

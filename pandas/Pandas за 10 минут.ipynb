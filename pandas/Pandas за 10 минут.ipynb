{
  "cells": [
    {
      "cell_type": "markdown",
      "metadata": {
        "id": "lxdf2EFhr1_T"
      },
      "source": [
        "<a href=\"https://colab.research.google.com/github/dm-fedorov/pandas_basic/blob/master/быстрое%20введение%20в%20pandas/Pandas%20за%2010%20минут.ipynb\"><img align=\"left\" src=\"https://colab.research.google.com/assets/colab-badge.svg\" alt=\"Open in Colab\" title=\"Open and Execute in Google Colaboratory\" target=\"_blank\"></a>"
      ]
    },
    {
      "cell_type": "markdown",
      "metadata": {
        "id": "mSSnuFSMr1_X"
      },
      "source": [
        "# Pandas за 10 минут\n",
        "\n",
        "<a href=\"https://t.me/init_python\"><img src=\"https://dfedorov.spb.ru/pandas/logo-telegram.png\" width=\"35\" height=\"35\" alt=\"telegram\" align=\"left\"></a>"
      ]
    },
    {
      "cell_type": "markdown",
      "metadata": {
        "id": "w8aHZ06jr1_X"
      },
      "source": [
        "Это короткое введение в мир pandas, ориентированное в основном на новых пользователей. Более сложные рецепты можно найти в [Поваренной книге](https://pandas.pydata.org/pandas-docs/stable/user_guide/cookbook.html#cookbook)."
      ]
    },
    {
      "cell_type": "markdown",
      "metadata": {
        "id": "p7GnhXrer1_Y"
      },
      "source": [
        "Обычно импорт выглядит так и к нему все привыкли:"
      ]
    },
    {
      "cell_type": "code",
      "execution_count": null,
      "metadata": {
        "id": "Qk5GnzMXr1_Y"
      },
      "outputs": [],
      "source": [
        "import numpy as np\n",
        "import pandas as pd"
      ]
    },
    {
      "cell_type": "markdown",
      "metadata": {
        "id": "Qr61XZn3r1_a"
      },
      "source": [
        "## Создание объекта"
      ]
    },
    {
      "cell_type": "markdown",
      "metadata": {
        "id": "b7p7Takkr1_a"
      },
      "source": [
        "Подробнее см. [Введение в структуры данных pandas](https://pandas.pydata.org/pandas-docs/stable/user_guide/dsintro.html#dsintro)"
      ]
    },
    {
      "cell_type": "markdown",
      "metadata": {
        "id": "B_ZSVoKZr1_b"
      },
      "source": [
        "Создание `Серии` ([`Series`](https://pandas.pydata.org/pandas-docs/stable/reference/api/pandas.Series.html#pandas.Series)) путем передачи питоновского списка позволет pandas создать целочисленный индекс по умолчанию:"
      ]
    },
    {
      "cell_type": "code",
      "execution_count": null,
      "metadata": {
        "id": "6qHFlgC2r1_b"
      },
      "outputs": [],
      "source": [
        "s = pd.Series([1, 3, 5, np.nan, 6, 8])\n",
        "s"
      ]
    },
    {
      "cell_type": "markdown",
      "metadata": {
        "id": "9wH-PL-Rr1_c"
      },
      "source": [
        "Создание `Кадра данных` ([`DataFrame`](https://pandas.pydata.org/pandas-docs/stable/reference/api/pandas.DataFrame.html#pandas.DataFrame)) путем передачи массива NumPy с временнЫм индексом и помеченными столбцами:"
      ]
    },
    {
      "cell_type": "code",
      "execution_count": null,
      "metadata": {
        "id": "HqS4w572r1_c"
      },
      "outputs": [],
      "source": [
        "# указываем начало временнОго периода и число повторений (дни по умолчанию)\n",
        "dates = pd.date_range('20130101', periods=6) \n",
        "dates"
      ]
    },
    {
      "cell_type": "code",
      "execution_count": null,
      "metadata": {
        "id": "Uauqu4Asr1_d"
      },
      "outputs": [],
      "source": [
        "df = pd.DataFrame(np.random.randn(6, 4), index=dates, columns=list('ABCD'))\n",
        "df"
      ]
    },
    {
      "cell_type": "markdown",
      "metadata": {
        "id": "f9g9zFVVr1_d"
      },
      "source": [
        "Создать [`DataFrame`](https://pandas.pydata.org/pandas-docs/stable/reference/api/pandas.DataFrame.html#pandas.DataFrame) можно путем передачи питоновского словаря объектов, которые можно преобразовать в серию."
      ]
    },
    {
      "cell_type": "code",
      "execution_count": null,
      "metadata": {
        "id": "VdffyUUWr1_d"
      },
      "outputs": [],
      "source": [
        "df2 = pd.DataFrame({'A': 1.,\n",
        "                    'B': pd.Timestamp('20130102'), # временнАя метка\n",
        "                    'C': pd.Series(1, index=list(range(4)), dtype='float32'), # Серия на основе списка\n",
        "                    'D': np.array([3] * 4, dtype='int32'), # массив целых чисел NumPy \n",
        "                    'E': pd.Categorical([\"test\", \"train\", \"test\", \"train\"]), # категории\n",
        "                    'F': 'foo'})\n",
        "df2"
      ]
    },
    {
      "cell_type": "markdown",
      "metadata": {
        "id": "t1eWNhJzr1_e"
      },
      "source": [
        "Столбцы итогового [`DataFrame`](https://pandas.pydata.org/pandas-docs/stable/reference/api/pandas.DataFrame.html#pandas.DataFrame) имеют разные [типы данных](https://pandas.pydata.org/pandas-docs/stable/user_guide/basics.html#basics-dtypes)."
      ]
    },
    {
      "cell_type": "code",
      "execution_count": null,
      "metadata": {
        "id": "0y7m5_Z9r1_e"
      },
      "outputs": [],
      "source": [
        "df2.dtypes"
      ]
    },
    {
      "cell_type": "markdown",
      "metadata": {
        "id": "ZMo_8gPJr1_e"
      },
      "source": [
        "Если вы используете `IPython` или `Jupyter (Lab) Notebook (Colab)`, то по нажатию TAB после точки отобразятся публичные атрибуты объекта (в данном случае `DataFrame`): "
      ]
    },
    {
      "cell_type": "code",
      "execution_count": null,
      "metadata": {
        "id": "GexycgkHr1_f"
      },
      "outputs": [],
      "source": [
        "# Попробуйте убрать комментарий и нажать TAB\n",
        "# df2.<TAB>  "
      ]
    },
    {
      "cell_type": "markdown",
      "metadata": {
        "id": "Quk9xM2qr1_f"
      },
      "source": [
        "## Просмотр данных"
      ]
    },
    {
      "cell_type": "markdown",
      "metadata": {
        "id": "ThIaIvllr1_f"
      },
      "source": [
        "Подробнее см. [Документацию по базовой функциональности](https://pandas.pydata.org/pandas-docs/stable/user_guide/basics.html#basics)."
      ]
    },
    {
      "cell_type": "markdown",
      "metadata": {
        "id": "aUyN7uIpr1_f"
      },
      "source": [
        "Просмотрим верхние и нижние строки полученного кадра данных:"
      ]
    },
    {
      "cell_type": "code",
      "execution_count": null,
      "metadata": {
        "id": "8GAT4cazr1_g"
      },
      "outputs": [],
      "source": [
        "df.head()"
      ]
    },
    {
      "cell_type": "code",
      "execution_count": null,
      "metadata": {
        "id": "ePb_e5zsr1_g"
      },
      "outputs": [],
      "source": [
        "df.tail(3) # вывести последние три строки"
      ]
    },
    {
      "cell_type": "markdown",
      "metadata": {
        "id": "51hFRUx1r1_g"
      },
      "source": [
        "Отобразим индекс и столбцы:"
      ]
    },
    {
      "cell_type": "code",
      "execution_count": null,
      "metadata": {
        "id": "eaCjaTPir1_g"
      },
      "outputs": [],
      "source": [
        "df.index"
      ]
    },
    {
      "cell_type": "code",
      "execution_count": null,
      "metadata": {
        "id": "pPxT-Pour1_g"
      },
      "outputs": [],
      "source": [
        "df.columns"
      ]
    },
    {
      "cell_type": "markdown",
      "metadata": {
        "id": "nFMSpc-wr1_h"
      },
      "source": [
        "Метод [`DataFrame.to_numpy()`](https://pandas.pydata.org/pandas-docs/stable/reference/api/pandas.DataFrame.to_numpy.html#pandas.DataFrame.to_numpy) представляет данные в виде массива NumPy, на котором строится DataFrame. "
      ]
    },
    {
      "cell_type": "code",
      "execution_count": null,
      "metadata": {
        "id": "hQt6ee9ur1_h"
      },
      "outputs": [],
      "source": [
        "df.to_numpy()"
      ]
    },
    {
      "cell_type": "markdown",
      "metadata": {
        "id": "7MoL51v4r1_h"
      },
      "source": [
        "Обратите внимание, что эта операция может занять много времени, если ваш `DataFrame` имеет столбцы с разными типами данных, что сводится к фундаментальному различию между pandas и `NumPy`: массивы `NumPy` имеют один тип данных для всего массива, тогда как `DataFrames` в pandas имеет один тип данных для каждого столбца. Когда вы вызываете `DataFrame.to_numpy()`, pandas определит тип данных `NumPy`, который может содержать все типы данных `DataFrame`. Этот тип данных может в конечном итоге оказаться объектом (`object`, т.е. строкой), что потребует приведения каждого значения к объекту Python.\n",
        "\n",
        "Наш `DataFrame` содержит значения с плавающей точкой, поэтому `DataFrame.to_numpy()` сработает быстро и не требует копирования данных."
      ]
    },
    {
      "cell_type": "markdown",
      "metadata": {
        "id": "sKNophjsr1_h"
      },
      "source": [
        "Для df2, который содержит несколько типов данных, вызов `DataFrame.to_numpy()` является относительно дорогостоящим:"
      ]
    },
    {
      "cell_type": "code",
      "execution_count": null,
      "metadata": {
        "id": "Gz7Vrp2sr1_h"
      },
      "outputs": [],
      "source": [
        "df2.to_numpy()"
      ]
    },
    {
      "cell_type": "markdown",
      "metadata": {
        "id": "Z-y5kgaNr1_h"
      },
      "source": [
        "Обратите внимание, что `DataFrame.to_numpy()` не включает в вывод метки индекса или столбцов."
      ]
    },
    {
      "cell_type": "markdown",
      "metadata": {
        "id": "06Cw1YDMr1_h"
      },
      "source": [
        "Метод [`describe()`](https://pandas.pydata.org/pandas-docs/stable/reference/api/pandas.DataFrame.describe.html#pandas.DataFrame.describe) показывает краткую статистическую сводку для данных:"
      ]
    },
    {
      "cell_type": "code",
      "execution_count": null,
      "metadata": {
        "id": "GxR7DGr9r1_i"
      },
      "outputs": [],
      "source": [
        "df.describe()"
      ]
    },
    {
      "cell_type": "markdown",
      "metadata": {
        "id": "r3C-97xKr1_i"
      },
      "source": [
        "Транспонируем данные:"
      ]
    },
    {
      "cell_type": "code",
      "execution_count": null,
      "metadata": {
        "id": "bbEPMIE6r1_i"
      },
      "outputs": [],
      "source": [
        "df.T"
      ]
    },
    {
      "cell_type": "markdown",
      "metadata": {
        "id": "0EVvxq_Pr1_i"
      },
      "source": [
        "Сортировка по столбцам, см. [`sort_index()`](https://pandas.pydata.org/pandas-docs/stable/reference/api/pandas.DataFrame.sort_index.html):"
      ]
    },
    {
      "cell_type": "code",
      "execution_count": null,
      "metadata": {
        "id": "ii2UUXxYr1_i"
      },
      "outputs": [],
      "source": [
        "df.sort_index(axis=1, ascending=False) # по умолчанию axis=0, т.е. сортировка по строкам"
      ]
    },
    {
      "cell_type": "markdown",
      "metadata": {
        "id": "ppD5Pi00r1_i"
      },
      "source": [
        "Сортировка по значениям, см. [`sort_values()`](https://pandas.pydata.org/pandas-docs/stable/reference/api/pandas.DataFrame.sort_values.html#pandas.DataFrame.sort_values):"
      ]
    },
    {
      "cell_type": "code",
      "execution_count": null,
      "metadata": {
        "id": "OvbhyWV1r1_i"
      },
      "outputs": [],
      "source": [
        "df.sort_values(by='B') # по умолчанию сортировка по индексу, выбрали столбец 'B'"
      ]
    },
    {
      "cell_type": "markdown",
      "metadata": {
        "id": "kcpCjZr1r1_j"
      },
      "source": [
        "## Выбор"
      ]
    },
    {
      "cell_type": "markdown",
      "metadata": {
        "id": "PWIuiAyKr1_j"
      },
      "source": [
        "Рекомендуем использовать оптимизированные методы pandas для доступа к данным: `.at`, `.iat`, `.loc` и `.iloc`."
      ]
    },
    {
      "cell_type": "markdown",
      "metadata": {
        "id": "XTDkzmUxr1_j"
      },
      "source": [
        "Подробнее см. [Документацию по индексированию и выбору данных](https://pandas.pydata.org/pandas-docs/stable/user_guide/indexing.html#indexing) и [Мультииндексу](https://pandas.pydata.org/pandas-docs/stable/user_guide/advanced.html#advanced)."
      ]
    },
    {
      "cell_type": "markdown",
      "metadata": {
        "id": "6dAt_hy4r1_j"
      },
      "source": [
        "### Получение"
      ]
    },
    {
      "cell_type": "markdown",
      "metadata": {
        "id": "xKwKAiPur1_j"
      },
      "source": [
        "Выбор столбца, который возвращает [`Series`](https://pandas.pydata.org/pandas-docs/stable/reference/api/pandas.Series.html#pandas.Series), эквивалентно `df.A`:"
      ]
    },
    {
      "cell_type": "code",
      "execution_count": null,
      "metadata": {
        "id": "_Y2NF6-tr1_j"
      },
      "outputs": [],
      "source": [
        "df['A']"
      ]
    },
    {
      "cell_type": "markdown",
      "metadata": {
        "id": "sIrjS6mDr1_j"
      },
      "source": [
        "Выбор с помощью `[ ]`, вырезает строки:"
      ]
    },
    {
      "cell_type": "code",
      "execution_count": null,
      "metadata": {
        "id": "zdPLKwyHr1_k"
      },
      "outputs": [],
      "source": [
        "df[0:3]"
      ]
    },
    {
      "cell_type": "code",
      "execution_count": null,
      "metadata": {
        "id": "M-007Uucr1_k"
      },
      "outputs": [],
      "source": [
        "df['20130102':'20130104']"
      ]
    },
    {
      "cell_type": "markdown",
      "metadata": {
        "id": "_R0K5C8kr1_k"
      },
      "source": [
        "### Выбор по метке"
      ]
    },
    {
      "cell_type": "markdown",
      "metadata": {
        "id": "yhoearVfr1_k"
      },
      "source": [
        "Подробнее см. в [Документации](https://pandas.pydata.org/pandas-docs/stable/user_guide/indexing.html#indexing-label)"
      ]
    },
    {
      "cell_type": "markdown",
      "metadata": {
        "id": "YEH7zO94r1_k"
      },
      "source": [
        "Для получения строки с помощью метки:"
      ]
    },
    {
      "cell_type": "code",
      "execution_count": null,
      "metadata": {
        "id": "VJftO5dGr1_k"
      },
      "outputs": [],
      "source": [
        "df.loc[dates[0]] # метка индекса Timestamp('2013-01-01 00:00:00', freq='D')"
      ]
    },
    {
      "cell_type": "markdown",
      "metadata": {
        "id": "P1FhnWJFr1_k"
      },
      "source": [
        "Выбор по нескольким осям:"
      ]
    },
    {
      "cell_type": "code",
      "execution_count": null,
      "metadata": {
        "id": "HMf0QtrTr1_k"
      },
      "outputs": [],
      "source": [
        "df.loc[:, ['A', 'B']]"
      ]
    },
    {
      "cell_type": "markdown",
      "metadata": {
        "id": "NdVddRgRr1_k"
      },
      "source": [
        "При отображении срезов меток включаются обе конечные точки:"
      ]
    },
    {
      "cell_type": "code",
      "execution_count": null,
      "metadata": {
        "id": "zIHNQBGsr1_l"
      },
      "outputs": [],
      "source": [
        "df.loc['20130102':'20130104', ['A', 'B']]"
      ]
    },
    {
      "cell_type": "markdown",
      "metadata": {
        "id": "bH1f3nGdr1_l"
      },
      "source": [
        "Уменьшение размерности возвращаемого объекта:"
      ]
    },
    {
      "cell_type": "code",
      "execution_count": null,
      "metadata": {
        "id": "V6fU_w8rr1_l"
      },
      "outputs": [],
      "source": [
        "df.loc['20130102', ['A', 'B']]"
      ]
    },
    {
      "cell_type": "markdown",
      "metadata": {
        "id": "3XS-T9dnr1_l"
      },
      "source": [
        "Для получения скалярного значения:"
      ]
    },
    {
      "cell_type": "code",
      "execution_count": null,
      "metadata": {
        "id": "UnEQDRuVr1_l"
      },
      "outputs": [],
      "source": [
        "df.loc[dates[0], 'A']"
      ]
    },
    {
      "cell_type": "markdown",
      "metadata": {
        "id": "Bqoq27srr1_m"
      },
      "source": [
        "Для получения быстрого доступа к скаляру (эквивалентно предыдущему методу):"
      ]
    },
    {
      "cell_type": "code",
      "execution_count": null,
      "metadata": {
        "id": "EDa8rGgOr1_m"
      },
      "outputs": [],
      "source": [
        "df.at[dates[0], 'A']"
      ]
    },
    {
      "cell_type": "markdown",
      "metadata": {
        "id": "01avZQ5pr1_m"
      },
      "source": [
        "### Выбор по позиции"
      ]
    },
    {
      "cell_type": "markdown",
      "metadata": {
        "id": "LWwYm45Ar1_m"
      },
      "source": [
        "Подробнее см. в [Документации](https://pandas.pydata.org/pandas-docs/stable/user_guide/indexing.html#indexing-integer)"
      ]
    },
    {
      "cell_type": "markdown",
      "metadata": {
        "id": "fzUpSpDVr1_m"
      },
      "source": [
        "Выбор позиции с помощью целых чисел:"
      ]
    },
    {
      "cell_type": "code",
      "execution_count": null,
      "metadata": {
        "id": "pVN2Ykyir1_m"
      },
      "outputs": [],
      "source": [
        "df.iloc[3]"
      ]
    },
    {
      "cell_type": "markdown",
      "metadata": {
        "id": "mxTAQXrar1_m"
      },
      "source": [
        "По целочисленным срезам, действующим аналогично NumPy / Python, т.е. правое граничное значение не включается:"
      ]
    },
    {
      "cell_type": "code",
      "execution_count": null,
      "metadata": {
        "id": "mxCiZypIr1_m"
      },
      "outputs": [],
      "source": [
        "df.iloc[3:5, 0:2]"
      ]
    },
    {
      "cell_type": "markdown",
      "metadata": {
        "id": "EGzYmMtOr1_m"
      },
      "source": [
        "По спискам целочисленных позиций, аналогично стилю NumPy / Python:"
      ]
    },
    {
      "cell_type": "code",
      "execution_count": null,
      "metadata": {
        "id": "kO8J0z47r1_n"
      },
      "outputs": [],
      "source": [
        "df.iloc[[1, 2, 4], [0, 2]]"
      ]
    },
    {
      "cell_type": "markdown",
      "metadata": {
        "id": "ysF8TtInr1_n"
      },
      "source": [
        "Для явного создания среза строк:"
      ]
    },
    {
      "cell_type": "code",
      "execution_count": null,
      "metadata": {
        "id": "ObI_7zU_r1_n"
      },
      "outputs": [],
      "source": [
        "df.iloc[1:3, :]"
      ]
    },
    {
      "cell_type": "markdown",
      "metadata": {
        "id": "69zhsjZar1_n"
      },
      "source": [
        "Для явного создания среза столбцов:"
      ]
    },
    {
      "cell_type": "code",
      "execution_count": null,
      "metadata": {
        "id": "hKv9HGHmr1_n"
      },
      "outputs": [],
      "source": [
        "df.iloc[:, 1:3]"
      ]
    },
    {
      "cell_type": "markdown",
      "metadata": {
        "id": "VpogW2SOr1_n"
      },
      "source": [
        "Для явного получения значений:"
      ]
    },
    {
      "cell_type": "code",
      "execution_count": null,
      "metadata": {
        "id": "wS592sQfr1_n"
      },
      "outputs": [],
      "source": [
        "df.iloc[1, 1]"
      ]
    },
    {
      "cell_type": "markdown",
      "metadata": {
        "id": "ME7bJZh4r1_n"
      },
      "source": [
        "Для получения быстрого доступа к скаляру (эквивалентно предыдущему методу):"
      ]
    },
    {
      "cell_type": "code",
      "execution_count": null,
      "metadata": {
        "id": "484E6mezr1_n"
      },
      "outputs": [],
      "source": [
        "df.iat[1, 1]"
      ]
    },
    {
      "cell_type": "markdown",
      "metadata": {
        "id": "S-aI8ACgr1_o"
      },
      "source": [
        "### Булево индексирование"
      ]
    },
    {
      "cell_type": "markdown",
      "metadata": {
        "id": "xqaCeTzVr1_o"
      },
      "source": [
        "Использование значений одного столбца для выбора данных:"
      ]
    },
    {
      "cell_type": "code",
      "execution_count": null,
      "metadata": {
        "id": "gWv99qHHr1_o"
      },
      "outputs": [],
      "source": [
        "df[df['A'] > 0]"
      ]
    },
    {
      "cell_type": "markdown",
      "metadata": {
        "id": "i1hE777yr1_o"
      },
      "source": [
        "Выбор значений из `DataFrame`, для которых выполняется логическое условие:"
      ]
    },
    {
      "cell_type": "code",
      "execution_count": null,
      "metadata": {
        "id": "qQFcJ-ovr1_o"
      },
      "outputs": [],
      "source": [
        "df[df > 0]"
      ]
    },
    {
      "cell_type": "markdown",
      "metadata": {
        "id": "stqKvzoCr1_o"
      },
      "source": [
        "Использование метода [`isin()`](https://pandas.pydata.org/pandas-docs/stable/reference/api/pandas.Series.isin.html#pandas.Series.isin) для фильтрации:"
      ]
    },
    {
      "cell_type": "code",
      "execution_count": null,
      "metadata": {
        "id": "DgkmK9c_r1_o"
      },
      "outputs": [],
      "source": [
        "df2 = df.copy() # создаем копию исходгого кадра данных"
      ]
    },
    {
      "cell_type": "code",
      "execution_count": null,
      "metadata": {
        "id": "LUZOAwu6r1_o"
      },
      "outputs": [],
      "source": [
        "df2['E'] = ['one', 'one', 'two', 'three', 'four', 'three'] # добавляем столбец\n",
        "df2"
      ]
    },
    {
      "cell_type": "code",
      "execution_count": null,
      "metadata": {
        "id": "1ehSBBgcr1_p"
      },
      "outputs": [],
      "source": [
        "df2[df2['E'].isin(['two', 'four'])] # фильтруем"
      ]
    },
    {
      "cell_type": "markdown",
      "metadata": {
        "id": "U32MpdGhr1_p"
      },
      "source": [
        "### Установка значений"
      ]
    },
    {
      "cell_type": "markdown",
      "metadata": {
        "id": "cYuo9l-Kr1_p"
      },
      "source": [
        "При добавлении нового столбца данные автоматически выравниваются по индексам:"
      ]
    },
    {
      "cell_type": "code",
      "execution_count": null,
      "metadata": {
        "id": "NQGgeEPkr1_p"
      },
      "outputs": [],
      "source": [
        "s1 = pd.Series([1, 2, 3, 4, 5, 6], index=pd.date_range('20130102', periods=6))\n",
        "s1"
      ]
    },
    {
      "cell_type": "code",
      "execution_count": null,
      "metadata": {
        "id": "KobnVlWgr1_p"
      },
      "outputs": [],
      "source": [
        "df['F'] = s1 # отсутствующие значения после выравнивания заменились NaN\n",
        "df"
      ]
    },
    {
      "cell_type": "markdown",
      "metadata": {
        "id": "we6GOJGYr1_p"
      },
      "source": [
        "Установка значений по метке:"
      ]
    },
    {
      "cell_type": "code",
      "execution_count": null,
      "metadata": {
        "id": "u12z6Yyzr1_q"
      },
      "outputs": [],
      "source": [
        "df.iat[0, 1] = 0\n",
        "df"
      ]
    },
    {
      "cell_type": "markdown",
      "metadata": {
        "id": "o9Tb7LVSr1_q"
      },
      "source": [
        "Установка значений путем присвоения массива NumPy:"
      ]
    },
    {
      "cell_type": "code",
      "execution_count": null,
      "metadata": {
        "id": "9BGhWW8zr1_q"
      },
      "outputs": [],
      "source": [
        "df.loc[:, 'D'] = np.array([5] * len(df))\n",
        "df"
      ]
    },
    {
      "cell_type": "markdown",
      "metadata": {
        "id": "nDx1y-M6r1_q"
      },
      "source": [
        "Операция [`where`](https://pandas.pydata.org/pandas-docs/stable/reference/api/pandas.DataFrame.where.html) с помощью присвоения:"
      ]
    },
    {
      "cell_type": "code",
      "execution_count": null,
      "metadata": {
        "id": "yQgukg22r1_q"
      },
      "outputs": [],
      "source": [
        "df2 = df.copy() # копируем кадр данных\n",
        "df2"
      ]
    },
    {
      "cell_type": "code",
      "execution_count": null,
      "metadata": {
        "id": "q6tXEiFsr1_q"
      },
      "outputs": [],
      "source": [
        "df2[df2 > 0] = -df2 # все положительные превращаем в отрицательные\n",
        "df2"
      ]
    },
    {
      "cell_type": "markdown",
      "metadata": {
        "id": "DK4x46zIr1_r"
      },
      "source": [
        "## Отсутствующие данные"
      ]
    },
    {
      "cell_type": "markdown",
      "metadata": {
        "id": "n900kKx5r1_r"
      },
      "source": [
        "pandas в основном использует значение [`np.nan`](https://numpy.org/doc/stable/user/misc.html) для представления отсутствующих данных. По умолчанию они не включается в вычисления, см. подробнее в [Документации](https://pandas.pydata.org/pandas-docs/stable/user_guide/missing_data.html#missing-data)"
      ]
    },
    {
      "cell_type": "markdown",
      "metadata": {
        "id": "6nd1sjhor1_r"
      },
      "source": [
        "Повторное индексирование позволяет изменить/добавить/удалить индекс по указанной оси. Метод возвращает копию данных."
      ]
    },
    {
      "cell_type": "code",
      "execution_count": null,
      "metadata": {
        "id": "POQtyvySr1_r"
      },
      "outputs": [],
      "source": [
        "df1 = df.reindex(index=dates[0:4], columns=list(df.columns) + ['E'])\n",
        "df1"
      ]
    },
    {
      "cell_type": "code",
      "execution_count": null,
      "metadata": {
        "id": "-8bLmZ4Zr1_r"
      },
      "outputs": [],
      "source": [
        "df1.loc[dates[0]:dates[1], 'E'] = 1\n",
        "df1"
      ]
    },
    {
      "cell_type": "markdown",
      "metadata": {
        "id": "ggtxq3tpr1_r"
      },
      "source": [
        "Чтобы удалить строки, в которых отсутствуют данные, см. [`dropna()`](https://pandas.pydata.org/pandas-docs/stable/reference/api/pandas.DataFrame.dropna.html):"
      ]
    },
    {
      "cell_type": "code",
      "execution_count": null,
      "metadata": {
        "id": "qFHR6V53r1_r"
      },
      "outputs": [],
      "source": [
        "df1.dropna() # how='any', axis=0 по умолчанию, т.е. удаляются все строки с пропущенными данными"
      ]
    },
    {
      "cell_type": "markdown",
      "metadata": {
        "id": "ngsEseVPr1_r"
      },
      "source": [
        "Заполнение недостающих данных:"
      ]
    },
    {
      "cell_type": "code",
      "execution_count": null,
      "metadata": {
        "id": "gsqVywQZr1_s"
      },
      "outputs": [],
      "source": [
        "df1.fillna(value=5)"
      ]
    },
    {
      "cell_type": "markdown",
      "metadata": {
        "id": "nhFAZOvUr1_s"
      },
      "source": [
        "Чтобы получить логическую маску, в которой значениями являются nan."
      ]
    },
    {
      "cell_type": "code",
      "execution_count": null,
      "metadata": {
        "id": "yFiwfJRLr1_s"
      },
      "outputs": [],
      "source": [
        "pd.isna(df1)"
      ]
    },
    {
      "cell_type": "markdown",
      "metadata": {
        "id": "QldWQTKxr1_s"
      },
      "source": [
        "## Операции"
      ]
    },
    {
      "cell_type": "markdown",
      "metadata": {
        "id": "KtC4qkCdr1_s"
      },
      "source": [
        "См. в [Документации](https://pandas.pydata.org/pandas-docs/stable/user_guide/basics.html#basics-binop)"
      ]
    },
    {
      "cell_type": "markdown",
      "metadata": {
        "id": "9AnQ0IMNr1_s"
      },
      "source": [
        "### Статистика"
      ]
    },
    {
      "cell_type": "markdown",
      "metadata": {
        "id": "thhBea1xr1_s"
      },
      "source": [
        "Операции в целом исключают пропущенные данные."
      ]
    },
    {
      "cell_type": "markdown",
      "metadata": {
        "id": "aDqaWGvIr1_t"
      },
      "source": [
        "Выполнение описательной статистики:"
      ]
    },
    {
      "cell_type": "code",
      "execution_count": null,
      "metadata": {
        "id": "i_Fv3GSNr1_t"
      },
      "outputs": [],
      "source": [
        "df.mean()"
      ]
    },
    {
      "cell_type": "markdown",
      "metadata": {
        "id": "iB9vq9uCr1_t"
      },
      "source": [
        "Та же операция на другой оси:"
      ]
    },
    {
      "cell_type": "code",
      "execution_count": null,
      "metadata": {
        "id": "j4YeJ2Dpr1_t"
      },
      "outputs": [],
      "source": [
        "df.mean(1)"
      ]
    },
    {
      "cell_type": "markdown",
      "metadata": {
        "id": "woDeQZetr1_t"
      },
      "source": [
        "Операции с объектами разной размерности требуют выравнивания. pandas автоматически [транслируют](https://numpy.org/doc/stable/user/basics.broadcasting.html) по указанному измерению."
      ]
    },
    {
      "cell_type": "code",
      "execution_count": null,
      "metadata": {
        "id": "iy6RleqUr1_t"
      },
      "outputs": [],
      "source": [
        "s = pd.Series([1, 3, 5, np.nan, 6, 8], index=dates).shift(2) # сдвигаем индекс\n",
        "s"
      ]
    },
    {
      "cell_type": "code",
      "execution_count": null,
      "metadata": {
        "id": "kUdtotwzr1_t"
      },
      "outputs": [],
      "source": [
        "df"
      ]
    },
    {
      "cell_type": "code",
      "execution_count": null,
      "metadata": {
        "id": "MJhpSAJ9r1_t"
      },
      "outputs": [],
      "source": [
        "df.sub(s, axis=0) # https://pandas.pydata.org/pandas-docs/stable/reference/api/pandas.DataFrame.sub.html"
      ]
    },
    {
      "cell_type": "markdown",
      "metadata": {
        "id": "akyX6DYKr1_u"
      },
      "source": [
        "### Apply"
      ]
    },
    {
      "cell_type": "markdown",
      "metadata": {
        "id": "ehMEBX0Zr1_u"
      },
      "source": [
        "Применение функций к данным:"
      ]
    },
    {
      "cell_type": "code",
      "execution_count": null,
      "metadata": {
        "id": "lvuv0N65r1_u"
      },
      "outputs": [],
      "source": [
        "df.apply(np.cumsum)"
      ]
    },
    {
      "cell_type": "code",
      "execution_count": null,
      "metadata": {
        "id": "BpHWop-Dr1_u"
      },
      "outputs": [],
      "source": [
        "df.apply(lambda x: x.max() - x.min())"
      ]
    },
    {
      "cell_type": "markdown",
      "metadata": {
        "id": "KelVpEZrr1_u"
      },
      "source": [
        "### Гистограмма"
      ]
    },
    {
      "cell_type": "markdown",
      "metadata": {
        "id": "1oLYWxZSr1_u"
      },
      "source": [
        "Подробнее см. в [Документации](https://pandas.pydata.org/pandas-docs/stable/user_guide/basics.html#basics-discretization)"
      ]
    },
    {
      "cell_type": "code",
      "execution_count": null,
      "metadata": {
        "id": "KZWwRqFur1_u"
      },
      "outputs": [],
      "source": [
        "s = pd.Series(np.random.randint(0, 7, size=10))\n",
        "s"
      ]
    },
    {
      "cell_type": "code",
      "execution_count": null,
      "metadata": {
        "id": "dbY-UzgMr1_v"
      },
      "outputs": [],
      "source": [
        "s.value_counts()"
      ]
    },
    {
      "cell_type": "markdown",
      "metadata": {
        "id": "rFcCeXtFr1_v"
      },
      "source": [
        "### Строковые методы"
      ]
    },
    {
      "cell_type": "markdown",
      "metadata": {
        "id": "iiwePWLbr1_v"
      },
      "source": [
        "Series оснащен набором методов в атрибуте `str` для обработки строк, которые упрощают работу с каждым элементом массива. Обратите внимание, что сопоставление с образцом (pattern-matching) в `str` обычно использует [регулярные выражения](https://docs.python.org/3/library/re.html) по умолчанию (а в некоторых случаях всегда использует их), см. в [Документации](https://pandas.pydata.org/pandas-docs/stable/user_guide/text.html#text-string-methods)."
      ]
    },
    {
      "cell_type": "code",
      "execution_count": null,
      "metadata": {
        "id": "qFf4MMaOr1_v"
      },
      "outputs": [],
      "source": [
        "s = pd.Series(['A', 'B', 'C', 'Aaba', 'Baca', np.nan, 'CABA', 'dog', 'cat'])\n",
        "s"
      ]
    },
    {
      "cell_type": "code",
      "execution_count": null,
      "metadata": {
        "id": "Z0qk-2QTr1_v"
      },
      "outputs": [],
      "source": [
        "s.str.lower()"
      ]
    },
    {
      "cell_type": "markdown",
      "metadata": {
        "id": "gwyT2i6cr1_v"
      },
      "source": [
        "## Объединение (Merge)"
      ]
    },
    {
      "cell_type": "markdown",
      "metadata": {
        "id": "O3v2FfZmr1_v"
      },
      "source": [
        "### Concat"
      ]
    },
    {
      "cell_type": "markdown",
      "metadata": {
        "id": "wsEh0yTpr1_w"
      },
      "source": [
        "pandas предоставляет различные средства для простого объединения объектов `Series` и `DataFrame` с различными видами логики множеств для индексов и функциональности реляционной алгебры в случае операций типа соединения (`join`) / слияния (`merge`), см. в [Документации](https://pandas.pydata.org/pandas-docs/stable/user_guide/merging.html#merging)."
      ]
    },
    {
      "cell_type": "markdown",
      "metadata": {
        "id": "DXoO1fnAr1_w"
      },
      "source": [
        "Объединение объектов pandas вместе с помощью [`concat()`](https://pandas.pydata.org/pandas-docs/stable/reference/api/pandas.concat.html#pandas.concat):"
      ]
    },
    {
      "cell_type": "code",
      "execution_count": null,
      "metadata": {
        "id": "ZQhsjAlTr1_w"
      },
      "outputs": [],
      "source": [
        "df = pd.DataFrame(np.random.randn(10, 4))\n",
        "df"
      ]
    },
    {
      "cell_type": "code",
      "execution_count": null,
      "metadata": {
        "id": "Evd_I77Pr1_w"
      },
      "outputs": [],
      "source": [
        "pieces = [df[:3], df[3:7], df[7:]] # разбиваем на части"
      ]
    },
    {
      "cell_type": "code",
      "execution_count": null,
      "metadata": {
        "id": "iFtevvfzr1_w"
      },
      "outputs": [],
      "source": [
        "pd.concat(pieces)"
      ]
    },
    {
      "cell_type": "markdown",
      "metadata": {
        "id": "NlaTsepMr1_w"
      },
      "source": [
        "Добавление столбца в [`DataFrame`](https://pandas.pydata.org/pandas-docs/stable/reference/api/pandas.DataFrame.html#pandas.DataFrame) выполняется относительно быстро. Однако для добавления строки требуется создание копии, и это может стать трудозтратной операцией. Рекомендуем передавать предварительно созданный список записей в конструктор `DataFrame` вместо создания `DataFrame` путем итеративного добавления к нему записей. Подробнее см. в [Документации](https://pandas.pydata.org/pandas-docs/stable/user_guide/merging.html#merging-concatenation)."
      ]
    },
    {
      "cell_type": "markdown",
      "metadata": {
        "id": "M3C43fHkr1_w"
      },
      "source": [
        "### Присоединение (Join)"
      ]
    },
    {
      "cell_type": "markdown",
      "metadata": {
        "id": "pZgnen1_r1_x"
      },
      "source": [
        "Слияние в стиле `SQL`, см. в [Документации](https://pandas.pydata.org/pandas-docs/stable/user_guide/merging.html#merging-join)."
      ]
    },
    {
      "cell_type": "code",
      "execution_count": null,
      "metadata": {
        "id": "Atrg7f9zr1_x"
      },
      "outputs": [],
      "source": [
        "left = pd.DataFrame({'key': ['foo', 'foo'], 'lval': [1, 2]})\n",
        "left"
      ]
    },
    {
      "cell_type": "code",
      "execution_count": null,
      "metadata": {
        "id": "vWCNh-nFr1_x"
      },
      "outputs": [],
      "source": [
        "right = pd.DataFrame({'key': ['foo', 'foo'], 'rval': [4, 5]})\n",
        "right"
      ]
    },
    {
      "cell_type": "code",
      "execution_count": null,
      "metadata": {
        "id": "qfn9aXIGr1_x"
      },
      "outputs": [],
      "source": [
        "pd.merge(left, right, on='key')"
      ]
    },
    {
      "cell_type": "markdown",
      "metadata": {
        "id": "7GfXLZdrr1_x"
      },
      "source": [
        "Другой пример, который можно привести:"
      ]
    },
    {
      "cell_type": "code",
      "execution_count": null,
      "metadata": {
        "id": "GLNQpdO_r1_x"
      },
      "outputs": [],
      "source": [
        "left = pd.DataFrame({'key': ['foo', 'bar'], 'lval': [1, 2]})\n",
        "left"
      ]
    },
    {
      "cell_type": "code",
      "execution_count": null,
      "metadata": {
        "id": "VL3sEeevr1_x"
      },
      "outputs": [],
      "source": [
        "right = pd.DataFrame({'key': ['foo', 'bar'], 'rval': [4, 5]})\n",
        "right"
      ]
    },
    {
      "cell_type": "code",
      "execution_count": null,
      "metadata": {
        "id": "eipDa0fwr1_y"
      },
      "outputs": [],
      "source": [
        "pd.merge(left, right, on='key')"
      ]
    },
    {
      "cell_type": "markdown",
      "metadata": {
        "id": "L5ZG607-r1_y"
      },
      "source": [
        "## Группировка"
      ]
    },
    {
      "cell_type": "markdown",
      "metadata": {
        "id": "qPuyESXnr1_y"
      },
      "source": [
        "Под группировкой (`\"group by\"`) понимаем процесс, включающий один или несколько следующих шагов: \n",
        "\n",
        "- Разделение (`Splitting`) данных на группы по некоторым критериям.\n",
        "- Независимое применение (`Applying`) функции к каждой группе.\n",
        "- Объединение (`Combining`) результатов в структуру данных.\n",
        "\n",
        "Подробнее см. в [Документации](https://pandas.pydata.org/pandas-docs/stable/user_guide/groupby.html#groupby)"
      ]
    },
    {
      "cell_type": "code",
      "execution_count": null,
      "metadata": {
        "id": "SoscWuw1r1_y"
      },
      "outputs": [],
      "source": [
        "df = pd.DataFrame({'A': ['foo', 'bar', 'foo', 'bar',\n",
        "                         'foo', 'bar', 'foo', 'foo'],\n",
        "                   'B': ['one', 'one', 'two', 'three',\n",
        "                         'two', 'two', 'one', 'three'],\n",
        "                   'C': np.random.randn(8),\n",
        "                   'D': np.random.randn(8)})\n",
        "df"
      ]
    },
    {
      "cell_type": "markdown",
      "metadata": {
        "id": "MrLSpWBur1_y"
      },
      "source": [
        "Группировка, а затем применение функции [`sum()`](https://pandas.pydata.org/pandas-docs/stable/reference/api/pandas.core.groupby.GroupBy.sum.html#pandas.core.groupby.GroupBy.sum) к полученным группам."
      ]
    },
    {
      "cell_type": "code",
      "execution_count": null,
      "metadata": {
        "id": "TU2MFVJBr1_y"
      },
      "outputs": [],
      "source": [
        "df.groupby('A').sum()"
      ]
    },
    {
      "cell_type": "markdown",
      "metadata": {
        "id": "7xocEoMhr1_y"
      },
      "source": [
        "Группировка по нескольким столбцам образует иерархический (мультииндекс) индекс, и мы снова можем применить функцию `sum()`."
      ]
    },
    {
      "cell_type": "code",
      "execution_count": null,
      "metadata": {
        "id": "DWZE5Aw4r1_z"
      },
      "outputs": [],
      "source": [
        "df.groupby(['A', 'B']).sum()"
      ]
    },
    {
      "cell_type": "markdown",
      "metadata": {
        "id": "AQ_tSKKYr1_z"
      },
      "source": [
        "## Изменение формы"
      ]
    },
    {
      "cell_type": "markdown",
      "metadata": {
        "id": "VJBD2jvpr1_z"
      },
      "source": [
        "См. Документацию про [иерархическую индексацию](https://pandas.pydata.org/pandas-docs/stable/user_guide/advanced.html#advanced-hierarchical) и [изменение формы](https://pandas.pydata.org/pandas-docs/stable/user_guide/reshaping.html#reshaping-stacking)."
      ]
    },
    {
      "cell_type": "markdown",
      "metadata": {
        "id": "UDkMCk4ir1_z"
      },
      "source": [
        "### Stack"
      ]
    },
    {
      "cell_type": "code",
      "execution_count": null,
      "metadata": {
        "id": "Q1m8T5QSr1_z"
      },
      "outputs": [],
      "source": [
        "tuples = list(zip(*[['bar', 'bar', 'baz', 'baz',\n",
        "                     'foo', 'foo', 'qux', 'qux'],\n",
        "                    ['one', 'two', 'one', 'two',\n",
        "                     'one', 'two', 'one', 'two']]))\n",
        "tuples"
      ]
    },
    {
      "cell_type": "code",
      "execution_count": null,
      "metadata": {
        "id": "ZHwNOYM5r1_z"
      },
      "outputs": [],
      "source": [
        "index = pd.MultiIndex.from_tuples(tuples, names=['first', 'second'])\n",
        "index"
      ]
    },
    {
      "cell_type": "code",
      "execution_count": null,
      "metadata": {
        "id": "QVWQf92Qr1_0"
      },
      "outputs": [],
      "source": [
        "df = pd.DataFrame(np.random.randn(8, 2), index=index, columns=['A', 'B'])\n",
        "df"
      ]
    },
    {
      "cell_type": "code",
      "execution_count": null,
      "metadata": {
        "id": "AEIp3Zagr1_0"
      },
      "outputs": [],
      "source": [
        "df2 = df[:4]\n",
        "df2"
      ]
    },
    {
      "cell_type": "markdown",
      "metadata": {
        "id": "8SNvr46Ar1_0"
      },
      "source": [
        "Метод [`stack()`](https://pandas.pydata.org/pandas-docs/stable/reference/api/pandas.DataFrame.stack.html#pandas.DataFrame.stack) \"сжимает\" уровень в столбцах DataFrame."
      ]
    },
    {
      "cell_type": "code",
      "execution_count": null,
      "metadata": {
        "id": "ELZPjHnYr1_0"
      },
      "outputs": [],
      "source": [
        "stacked = df2.stack()\n",
        "stacked"
      ]
    },
    {
      "cell_type": "markdown",
      "metadata": {
        "id": "FZabljy7r1_0"
      },
      "source": [
        "С \"уложенными\" (`\"stacked\"`) DataFrame или Series (имеющими MultiIndex в качестве индекса) обратная операция - [`unstack()`](https://pandas.pydata.org/pandas-docs/stable/reference/api/pandas.DataFrame.unstack.html#pandas.DataFrame.unstack), которая по умолчанию распаковывает последний уровень:"
      ]
    },
    {
      "cell_type": "code",
      "execution_count": null,
      "metadata": {
        "id": "X-nVto-sr1_0"
      },
      "outputs": [],
      "source": [
        "stacked.unstack()"
      ]
    },
    {
      "cell_type": "code",
      "execution_count": null,
      "metadata": {
        "id": "CtBeKTl7r1_0"
      },
      "outputs": [],
      "source": [
        "stacked.unstack(1)"
      ]
    },
    {
      "cell_type": "code",
      "execution_count": null,
      "metadata": {
        "id": "Q2NLJ5EMr1_1"
      },
      "outputs": [],
      "source": [
        "stacked.unstack(0)"
      ]
    },
    {
      "cell_type": "markdown",
      "metadata": {
        "id": "J9OXgucjr1_1"
      },
      "source": [
        "### Сводные таблицы (Pivot tables)"
      ]
    },
    {
      "cell_type": "markdown",
      "metadata": {
        "id": "8J61y-P6r1_1"
      },
      "source": [
        "См. секцию [Документации](https://pandas.pydata.org/pandas-docs/stable/user_guide/reshaping.html#reshaping-pivot)"
      ]
    },
    {
      "cell_type": "code",
      "execution_count": null,
      "metadata": {
        "id": "ieFKtW4Gr1_1"
      },
      "outputs": [],
      "source": [
        "df = pd.DataFrame({'A': ['one', 'one', 'two', 'three'] * 3,\n",
        "                   'B': ['A', 'B', 'C'] * 4,\n",
        "                   'C': ['foo', 'foo', 'foo', 'bar', 'bar', 'bar'] * 2,\n",
        "                   'D': np.random.randn(12),\n",
        "                   'E': np.random.randn(12)})\n",
        "df"
      ]
    },
    {
      "cell_type": "markdown",
      "metadata": {
        "id": "DIYYxVcur1_1"
      },
      "source": [
        "Мы можем очень легко создать сводные таблицы из этих данных:"
      ]
    },
    {
      "cell_type": "code",
      "execution_count": null,
      "metadata": {
        "id": "d3_ernnPr1_1"
      },
      "outputs": [],
      "source": [
        "pd.pivot_table(df, values='D', index=['A', 'B'], columns=['C'])"
      ]
    },
    {
      "cell_type": "markdown",
      "metadata": {
        "id": "m3dTshFcr1_1"
      },
      "source": [
        "## Временные ряды"
      ]
    },
    {
      "cell_type": "markdown",
      "metadata": {
        "id": "aEYX_wAIr1_2"
      },
      "source": [
        "pandas имеет простые, мощные и эффективные функции для выполнения операций передискретизации во время преобразования частоты (например, преобразование секундных данных в 5-минутные данные). См. [документацию по временным рядам](https://pandas.pydata.org/pandas-docs/stable/user_guide/timeseries.html#timeseries)."
      ]
    },
    {
      "cell_type": "code",
      "execution_count": null,
      "metadata": {
        "id": "MfxZy2wir1_2"
      },
      "outputs": [],
      "source": [
        "rng = pd.date_range('1/1/2012', periods=100, freq='S')\n",
        "rng[:10]"
      ]
    },
    {
      "cell_type": "code",
      "execution_count": null,
      "metadata": {
        "id": "5hUG5nc4r1_2"
      },
      "outputs": [],
      "source": [
        "ts = pd.Series(np.random.randint(0, 500, len(rng)), index=rng)\n",
        "ts[:10]"
      ]
    },
    {
      "cell_type": "code",
      "execution_count": null,
      "metadata": {
        "id": "gNdrezKmr1_2"
      },
      "outputs": [],
      "source": [
        "ts.resample('5Min').sum()"
      ]
    },
    {
      "cell_type": "markdown",
      "metadata": {
        "id": "KT8ZYvNQr1_2"
      },
      "source": [
        "Представление часового пояса:"
      ]
    },
    {
      "cell_type": "code",
      "execution_count": null,
      "metadata": {
        "id": "Pvy3H454r1_2"
      },
      "outputs": [],
      "source": [
        "rng = pd.date_range('3/6/2012 00:00', periods=5, freq='D')\n",
        "rng"
      ]
    },
    {
      "cell_type": "code",
      "execution_count": null,
      "metadata": {
        "id": "tEyFihxAr1_2"
      },
      "outputs": [],
      "source": [
        "ts = pd.Series(np.random.randn(len(rng)), rng)\n",
        "ts"
      ]
    },
    {
      "cell_type": "code",
      "execution_count": null,
      "metadata": {
        "id": "d2o-m3FGr1_2"
      },
      "outputs": [],
      "source": [
        "ts"
      ]
    },
    {
      "cell_type": "code",
      "execution_count": null,
      "metadata": {
        "id": "epp0flHJr1_2"
      },
      "outputs": [],
      "source": [
        "ts_utc = ts.tz_localize('UTC')\n",
        "ts_utc"
      ]
    },
    {
      "cell_type": "markdown",
      "metadata": {
        "id": "Hx9lrH17r1_3"
      },
      "source": [
        "Преобразование в другой часовой пояс:"
      ]
    },
    {
      "cell_type": "code",
      "execution_count": null,
      "metadata": {
        "id": "oFsWGJm9r1_3"
      },
      "outputs": [],
      "source": [
        "ts_utc.tz_convert('US/Eastern')"
      ]
    },
    {
      "cell_type": "markdown",
      "metadata": {
        "id": "6S5oE9Mer1_3"
      },
      "source": [
        "Преобразование между представлениями промежутка времени:"
      ]
    },
    {
      "cell_type": "code",
      "execution_count": null,
      "metadata": {
        "id": "1gypnpm_r1_3"
      },
      "outputs": [],
      "source": [
        "rng = pd.date_range('1/1/2012', periods=5, freq='M')\n",
        "rng"
      ]
    },
    {
      "cell_type": "code",
      "execution_count": null,
      "metadata": {
        "id": "UuHkctRxr1_3"
      },
      "outputs": [],
      "source": [
        "ts = pd.Series(np.random.randn(len(rng)), index=rng)\n",
        "ts"
      ]
    },
    {
      "cell_type": "code",
      "execution_count": null,
      "metadata": {
        "id": "qEMvsG1sr1_3"
      },
      "outputs": [],
      "source": [
        "ps = ts.to_period()\n",
        "ps"
      ]
    },
    {
      "cell_type": "code",
      "execution_count": null,
      "metadata": {
        "id": "3SQ-XXmcr1_3"
      },
      "outputs": [],
      "source": [
        "ps.to_timestamp()"
      ]
    },
    {
      "cell_type": "markdown",
      "metadata": {
        "id": "fm1xd2H4r1_3"
      },
      "source": [
        "Преобразование между периодом и меткой времени позволяет использовать некоторые удобные арифметические функции. В следующем примере мы преобразуем ежеквартальную частоту с годом, заканчивающимся в ноябре, в 9 утра конца месяца, следующего за концом квартала:"
      ]
    },
    {
      "cell_type": "code",
      "execution_count": null,
      "metadata": {
        "id": "x901Pn-Ir1_3"
      },
      "outputs": [],
      "source": [
        "prng = pd.period_range('1990Q1', '2000Q4', freq='Q-NOV')\n",
        "prng"
      ]
    },
    {
      "cell_type": "code",
      "execution_count": null,
      "metadata": {
        "id": "WUv09p3Or1_4"
      },
      "outputs": [],
      "source": [
        "ts = pd.Series(np.random.randn(len(prng)), prng)\n",
        "ts[:10]"
      ]
    },
    {
      "cell_type": "code",
      "execution_count": null,
      "metadata": {
        "id": "uw4pV4MPr1_4"
      },
      "outputs": [],
      "source": [
        "ts.index = (prng.asfreq('M', 'e') + 1).asfreq('H', 's') + 9\n",
        "ts[:10]"
      ]
    },
    {
      "cell_type": "code",
      "execution_count": null,
      "metadata": {
        "id": "aswPixgGr1_4"
      },
      "outputs": [],
      "source": [
        "ts.head()"
      ]
    },
    {
      "cell_type": "markdown",
      "metadata": {
        "id": "Bm6Dtit8r1_4"
      },
      "source": [
        "## Категории"
      ]
    },
    {
      "cell_type": "markdown",
      "metadata": {
        "id": "uQrSCBrtr1_4"
      },
      "source": [
        "pandas могут включать категориальные данные в `DataFrame`, см. [введение в категории](https://pandas.pydata.org/pandas-docs/stable/user_guide/categorical.html#categorical) и [документацию по API](https://pandas.pydata.org/pandas-docs/stable/reference/arrays.html#api-arrays-categorical)."
      ]
    },
    {
      "cell_type": "code",
      "execution_count": null,
      "metadata": {
        "id": "hjVVxUJ4r1_4"
      },
      "outputs": [],
      "source": [
        "df = pd.DataFrame({\"id\": [1, 2, 3, 4, 5, 6], \n",
        "                   \"raw_grade\": ['a', 'b', 'b', 'a', 'a', 'e']})"
      ]
    },
    {
      "cell_type": "markdown",
      "metadata": {
        "id": "Z9_cpnRBr1_4"
      },
      "source": [
        "Преобразуйте необработанные оценки в категориальный тип данных."
      ]
    },
    {
      "cell_type": "code",
      "execution_count": null,
      "metadata": {
        "id": "HGJYymb8r1_4"
      },
      "outputs": [],
      "source": [
        "df[\"grade\"] = df[\"raw_grade\"].astype(\"category\")\n",
        "df[\"grade\"]"
      ]
    },
    {
      "cell_type": "markdown",
      "metadata": {
        "id": "zodA2TFmr1_5"
      },
      "source": [
        "Переименуйте категории в более выразительные имена (присвоение [`Series.cat.categories()`](https://pandas.pydata.org/pandas-docs/stable/reference/api/pandas.Series.cat.categories.html#pandas.Series.cat.categories) на месте!)"
      ]
    },
    {
      "cell_type": "code",
      "execution_count": null,
      "metadata": {
        "id": "xQ-MVxm2r1_5"
      },
      "outputs": [],
      "source": [
        "df[\"grade\"] = df[\"grade\"].cat.set_categories([\"very bad\", \"bad\", \"medium\", \"good\", \"very good\"])\n",
        "df[\"grade\"]"
      ]
    },
    {
      "cell_type": "markdown",
      "metadata": {
        "id": "YXyP2fQkr1_5"
      },
      "source": [
        "Сортировка осуществляется по категориям, а не в лексическом порядке."
      ]
    },
    {
      "cell_type": "code",
      "execution_count": null,
      "metadata": {
        "id": "4SaghZaCr1_5"
      },
      "outputs": [],
      "source": [
        "df.sort_values(by=\"grade\")"
      ]
    },
    {
      "cell_type": "markdown",
      "metadata": {
        "id": "asYYSjEAr1_5"
      },
      "source": [
        "При группировке по столбцу категорий также отображаются пустые категории."
      ]
    },
    {
      "cell_type": "code",
      "execution_count": null,
      "metadata": {
        "id": "IUwl7sH_r1_5"
      },
      "outputs": [],
      "source": [
        "df.groupby(\"grade\").size()"
      ]
    },
    {
      "cell_type": "markdown",
      "metadata": {
        "id": "JV11pyPxr1_5"
      },
      "source": [
        "## Plotting"
      ]
    },
    {
      "cell_type": "markdown",
      "metadata": {
        "id": "xOhe21RQr1_5"
      },
      "source": [
        "Подробнее в [Документации](https://pandas.pydata.org/pandas-docs/stable/user_guide/visualization.html#visualization)"
      ]
    },
    {
      "cell_type": "markdown",
      "metadata": {
        "id": "ALvqTtuFr1_6"
      },
      "source": [
        "Используем стандартное соглашение для ссылки на `API matplotlib`:"
      ]
    },
    {
      "cell_type": "code",
      "execution_count": null,
      "metadata": {
        "id": "XZXw3Un-r1_6"
      },
      "outputs": [],
      "source": [
        "import matplotlib.pyplot as plt"
      ]
    },
    {
      "cell_type": "code",
      "execution_count": null,
      "metadata": {
        "id": "uaJD1EBsr1_6"
      },
      "outputs": [],
      "source": [
        "ts = pd.Series(np.random.randn(1000), \n",
        "               index=pd.date_range('1/1/2000', periods=1000))\n",
        "ts"
      ]
    },
    {
      "cell_type": "code",
      "execution_count": null,
      "metadata": {
        "id": "SCeMwqZur1_6"
      },
      "outputs": [],
      "source": [
        "ts = ts.cumsum()\n",
        "ts"
      ]
    },
    {
      "cell_type": "code",
      "execution_count": null,
      "metadata": {
        "id": "5Ixvdsf9r1_6"
      },
      "outputs": [],
      "source": [
        "ts.plot();"
      ]
    },
    {
      "cell_type": "markdown",
      "metadata": {
        "id": "5b3JxcTEr1_6"
      },
      "source": [
        "В `DataFrame` метод [`plot()`](https://pandas.pydata.org/pandas-docs/stable/reference/api/pandas.DataFrame.plot.html#pandas.DataFrame.plot) удобен для построения всех столбцов с метками:"
      ]
    },
    {
      "cell_type": "code",
      "execution_count": null,
      "metadata": {
        "id": "nXs0sPqVr1_6"
      },
      "outputs": [],
      "source": [
        "df = pd.DataFrame(np.random.randn(1000, 4), index=ts.index,\n",
        "                  columns=['A', 'B', 'C', 'D'])\n",
        "df.head()"
      ]
    },
    {
      "cell_type": "code",
      "execution_count": null,
      "metadata": {
        "id": "GNWQkojOr1_6"
      },
      "outputs": [],
      "source": [
        "df = df.cumsum()\n",
        "df.head()"
      ]
    },
    {
      "cell_type": "code",
      "execution_count": null,
      "metadata": {
        "id": "C6RQb1K7r1_6"
      },
      "outputs": [],
      "source": [
        "df.plot(legend='best');"
      ]
    },
    {
      "cell_type": "markdown",
      "metadata": {
        "id": "Er0SpJ2sr1_7"
      },
      "source": [
        "## Получение и записаь данных"
      ]
    },
    {
      "cell_type": "markdown",
      "metadata": {
        "id": "IT-6Akkvr1_7"
      },
      "source": [
        "### CSV"
      ]
    },
    {
      "cell_type": "markdown",
      "metadata": {
        "id": "A2NAuH3Sr1_7"
      },
      "source": [
        "см. [про запись в csv файлы](https://pandas.pydata.org/pandas-docs/stable/user_guide/io.html#io-store-in-csv)"
      ]
    },
    {
      "cell_type": "code",
      "execution_count": null,
      "metadata": {
        "id": "n0PrYTPQr1_7"
      },
      "outputs": [],
      "source": [
        "df.to_csv('foo.csv')"
      ]
    },
    {
      "cell_type": "markdown",
      "metadata": {
        "id": "ilt_MLyFr1_7"
      },
      "source": [
        "см. [про чтенеи csv файлов](https://pandas.pydata.org/pandas-docs/stable/user_guide/io.html#io-read-csv-table)"
      ]
    },
    {
      "cell_type": "code",
      "execution_count": null,
      "metadata": {
        "id": "q_AEO5gJr1_7"
      },
      "outputs": [],
      "source": [
        "pd.read_csv('foo.csv')"
      ]
    },
    {
      "cell_type": "markdown",
      "metadata": {
        "id": "_n8vnuNOr1_7"
      },
      "source": [
        "### HDF5"
      ]
    },
    {
      "cell_type": "markdown",
      "metadata": {
        "id": "Kertz-Afr1_7"
      },
      "source": [
        "см. про чтение и запись в [`HDFStores`](https://pandas.pydata.org/pandas-docs/stable/user_guide/io.html#io-hdf5)"
      ]
    },
    {
      "cell_type": "markdown",
      "metadata": {
        "id": "W5buHmNcr1_7"
      },
      "source": [
        "Запись в `HDF5` хранилище:"
      ]
    },
    {
      "cell_type": "code",
      "execution_count": null,
      "metadata": {
        "id": "eRYWxXOFr1_7"
      },
      "outputs": [],
      "source": [
        "df.to_hdf('foo.h5', 'df')"
      ]
    },
    {
      "cell_type": "markdown",
      "metadata": {
        "id": "HwA6el4dr1_8"
      },
      "source": [
        "Чтение из `HDF5` хранилища:"
      ]
    },
    {
      "cell_type": "code",
      "execution_count": null,
      "metadata": {
        "id": "dE_f8Fhcr1_8"
      },
      "outputs": [],
      "source": [
        "pd.read_hdf('foo.h5', 'df')"
      ]
    },
    {
      "cell_type": "markdown",
      "metadata": {
        "id": "lEuv07j-r1_8"
      },
      "source": [
        "### Excel"
      ]
    },
    {
      "cell_type": "markdown",
      "metadata": {
        "id": "v8JYFvrIr1_8"
      },
      "source": [
        "см. [про чтение и запись в MS Excel](https://pandas.pydata.org/pandas-docs/stable/user_guide/io.html#io-excel)"
      ]
    },
    {
      "cell_type": "markdown",
      "metadata": {
        "id": "FSZoVs7rr1_8"
      },
      "source": [
        "Запись в excel файл:"
      ]
    },
    {
      "cell_type": "code",
      "execution_count": null,
      "metadata": {
        "id": "jSNfuccMr1_8"
      },
      "outputs": [],
      "source": [
        "df.to_excel('foo.xlsx', sheet_name='Sheet1')"
      ]
    },
    {
      "cell_type": "markdown",
      "metadata": {
        "id": "WQ4N5eEFr1_8"
      },
      "source": [
        "Чтение из excel файла:"
      ]
    },
    {
      "cell_type": "code",
      "execution_count": null,
      "metadata": {
        "id": "-seuJzucr1_8"
      },
      "outputs": [],
      "source": [
        "pd.read_excel('foo.xlsx', 'Sheet1', index_col=None, na_values=['NA'])"
      ]
    },
    {
      "cell_type": "markdown",
      "metadata": {
        "id": "Hri-q7zor1_8"
      },
      "source": [
        "## Подсказки (Gotchas)"
      ]
    },
    {
      "cell_type": "markdown",
      "metadata": {
        "id": "J335yTEhr1_8"
      },
      "source": [
        "Если пытаетесь выполнить операцию, то можете увидеть исключение, например:"
      ]
    },
    {
      "cell_type": "code",
      "execution_count": null,
      "metadata": {
        "id": "E-9MHM0Qr1_8"
      },
      "outputs": [],
      "source": [
        "if pd.Series([False, True, False]):\n",
        "    print(\"I was true\")"
      ]
    },
    {
      "cell_type": "markdown",
      "metadata": {
        "id": "OGAP5ovTr1_9"
      },
      "source": [
        "Для объяснения см. [\"Сравнения\"](https://pandas.pydata.org/pandas-docs/stable/user_guide/basics.html#basics-compare).\n",
        "\n",
        "См. также [\"Подсказки\"](https://pandas.pydata.org/pandas-docs/stable/user_guide/gotchas.html#gotchas)."
      ]
    },
    {
      "cell_type": "markdown",
      "metadata": {
        "id": "sfwALBEdr1_9"
      },
      "source": [
        "# Дополнительно:\n",
        "    \n",
        "- Видео от автора pandas: [Wes McKinney: pandas in 10 minutes](https://youtu.be/_T8LGqJtuGc)\n",
        "- [Оригинал статьи](https://pandas.pydata.org/pandas-docs/stable/user_guide/10min.html)"
      ]
    },
    {
      "cell_type": "markdown",
      "metadata": {
        "id": "9nLoy_4jr1_9"
      },
      "source": [
        "<a href=\"https://t.me/init_python\"><img src=\"https://dfedorov.spb.ru/pandas/logo-telegram.png\" width=\"35\" height=\"35\" alt=\"telegram\" align=\"left\"></a>"
      ]
    },
    {
      "cell_type": "code",
      "execution_count": null,
      "metadata": {
        "id": "wLAxPf7gr1_9"
      },
      "outputs": [],
      "source": []
    }
  ],
  "metadata": {
    "kernelspec": {
      "display_name": "Python 3",
      "language": "python",
      "name": "python3"
    },
    "language_info": {
      "codemirror_mode": {
        "name": "ipython",
        "version": 3
      },
      "file_extension": ".py",
      "mimetype": "text/x-python",
      "name": "python",
      "nbconvert_exporter": "python",
      "pygments_lexer": "ipython3",
      "version": "3.8.3"
    },
    "colab": {
      "provenance": []
    }
  },
  "nbformat": 4,
  "nbformat_minor": 0
}

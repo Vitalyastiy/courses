{
  "nbformat": 4,
  "nbformat_minor": 0,
  "metadata": {
    "colab": {
      "provenance": [],
      "authorship_tag": "ABX9TyOtOjovxGhtAdP0mXbzc3LM",
      "include_colab_link": true
    },
    "kernelspec": {
      "name": "python3",
      "display_name": "Python 3"
    },
    "language_info": {
      "name": "python"
    }
  },
  "cells": [
    {
      "cell_type": "markdown",
      "metadata": {
        "id": "view-in-github",
        "colab_type": "text"
      },
      "source": [
        "<a href=\"https://colab.research.google.com/github/Vitalyastiy/libraries/blob/main/Pandas_analytics_1.ipynb\" target=\"_parent\"><img src=\"https://colab.research.google.com/assets/colab-badge.svg\" alt=\"Open In Colab\"/></a>"
      ]
    },
    {
      "cell_type": "markdown",
      "source": [
        "Рабочая тетрадка по пандасу\n"
      ],
      "metadata": {
        "id": "KZjlpawut69m"
      }
    },
    {
      "cell_type": "markdown",
      "source": [
        "Серия"
      ],
      "metadata": {
        "id": "k9mOT2TFW3YB"
      }
    },
    {
      "cell_type": "code",
      "source": [
        "import pandas as pd\n",
        "from random import randint, shuffle, choice\n",
        "from string import ascii_lowercase\n",
        "a= [3, 6,  7]\n",
        "pd.Series(a)"
      ],
      "metadata": {
        "id": "Fk4ZVAUlWSMB",
        "outputId": "059f9668-a7f3-40c8-be8b-8ad72053b123",
        "colab": {
          "base_uri": "https://localhost:8080/"
        }
      },
      "execution_count": null,
      "outputs": [
        {
          "output_type": "execute_result",
          "data": {
            "text/plain": [
              "0    3\n",
              "1    6\n",
              "2    7\n",
              "dtype: int64"
            ]
          },
          "metadata": {},
          "execution_count": 1
        }
      ]
    },
    {
      "cell_type": "code",
      "source": [
        "pd.Series(range(10, 100, 10))"
      ],
      "metadata": {
        "id": "OcrTg9okYCog"
      },
      "execution_count": null,
      "outputs": []
    },
    {
      "cell_type": "markdown",
      "source": [
        " Серия с присвоением индекса. \n",
        "\n",
        "1.   +'asd'\n",
        "2.   *2\n",
        "3. len()\n",
        "\n"
      ],
      "metadata": {
        "id": "dfbrTEqVaIr0"
      }
    },
    {
      "cell_type": "code",
      "source": [
        "g=['a', 'hjj', 'fghj', 'yui']\n",
        "g=pd.Series(g,['a', 'b' , 'bpv', 'jk' ])\n",
        "g*2"
      ],
      "metadata": {
        "id": "2zppOB87ZJpc"
      },
      "execution_count": null,
      "outputs": []
    },
    {
      "cell_type": "markdown",
      "source": [
        "Словарь"
      ],
      "metadata": {
        "id": "25SsX0avbXxO"
      }
    },
    {
      "cell_type": "code",
      "source": [
        "y={'aas':'hjj', 'jhh':'jhh'}\n",
        "y=pd.Series(y)\n",
        "y"
      ],
      "metadata": {
        "id": "tqw57uS4bbjE",
        "outputId": "a2bf4bbb-7f07-4862-8d83-094e5bd0b2fe",
        "colab": {
          "base_uri": "https://localhost:8080/"
        }
      },
      "execution_count": null,
      "outputs": [
        {
          "output_type": "execute_result",
          "data": {
            "text/plain": [
              "aas    hjj\n",
              "jhh    jhh\n",
              "dtype: object"
            ]
          },
          "metadata": {},
          "execution_count": 8
        }
      ]
    },
    {
      "cell_type": "markdown",
      "source": [
        "Примеры с сериями, сранение, арифметические операции\n",
        "\n"
      ],
      "metadata": {
        "id": "OyV-KJKE9oOs"
      }
    },
    {
      "cell_type": "code",
      "source": [
        "s=[12, 34, 56, 78, 1]\n",
        "s=pd.Series(s)\n",
        "s>2"
      ],
      "metadata": {
        "id": "jmUovtR49v2m"
      },
      "execution_count": null,
      "outputs": []
    },
    {
      "cell_type": "markdown",
      "source": [
        "max, min, sum, sorted, list, tuple, set"
      ],
      "metadata": {
        "id": "1lZxlCO5A_YN"
      }
    },
    {
      "cell_type": "code",
      "source": [
        "max(s)"
      ],
      "metadata": {
        "id": "dSAvseTTA7R1"
      },
      "execution_count": null,
      "outputs": []
    },
    {
      "cell_type": "markdown",
      "source": [
        "Преобразование к списку"
      ],
      "metadata": {
        "id": "ZQjNc4boDIj7"
      }
    },
    {
      "cell_type": "code",
      "source": [
        "pd.Series(list('world'))"
      ],
      "metadata": {
        "id": "ntK358YgC64g"
      },
      "execution_count": null,
      "outputs": []
    },
    {
      "cell_type": "markdown",
      "source": [
        "Работа с методами"
      ],
      "metadata": {
        "id": "knCKuPEitu81"
      }
    },
    {
      "cell_type": "code",
      "source": [
        "n=['asd', 'qwe', 'zxc', 'hju']\n",
        "letters='a', 'k', 'h', 'g'\n",
        "s=[12,13,16,18]\n",
        "wn=pd.Series(n)\n",
        "m=pd.Series(s)\n",
        "slet=pd.Series(n, index=letters)"
      ],
      "metadata": {
        "id": "ETc3VZeaC4wd"
      },
      "execution_count": null,
      "outputs": []
    },
    {
      "cell_type": "code",
      "source": [
        "wn.size"
      ],
      "metadata": {
        "id": "u2f5bbGgIriz",
        "outputId": "c2d2a670-a9e3-4a84-adc6-9e7791aa0826",
        "colab": {
          "base_uri": "https://localhost:8080/"
        }
      },
      "execution_count": null,
      "outputs": [
        {
          "output_type": "execute_result",
          "data": {
            "text/plain": [
              "4"
            ]
          },
          "metadata": {},
          "execution_count": 9
        }
      ]
    },
    {
      "cell_type": "code",
      "source": [
        "\n",
        "wn.values"
      ],
      "metadata": {
        "id": "K-pITZhnE_TC"
      },
      "execution_count": null,
      "outputs": []
    },
    {
      "cell_type": "code",
      "source": [
        "slet.index"
      ],
      "metadata": {
        "id": "AHcKoEdjGZ44"
      },
      "execution_count": null,
      "outputs": []
    },
    {
      "cell_type": "code",
      "source": [
        "wn.ndim #кол-во колонок"
      ],
      "metadata": {
        "id": "xxtcXxlZJU3p",
        "outputId": "8652aad7-102e-4674-e46a-636ebd9046de",
        "colab": {
          "base_uri": "https://localhost:8080/"
        }
      },
      "execution_count": null,
      "outputs": [
        {
          "output_type": "execute_result",
          "data": {
            "text/plain": [
              "1"
            ]
          },
          "metadata": {},
          "execution_count": 34
        }
      ]
    },
    {
      "cell_type": "code",
      "source": [
        "s=pd.Series(s)\n",
        "s.sum(), sum(s)"
      ],
      "metadata": {
        "id": "5fSfwxC6HuKb",
        "outputId": "5b817dc0-b53d-4ffa-94bc-73670ad68ece",
        "colab": {
          "base_uri": "https://localhost:8080/"
        }
      },
      "execution_count": null,
      "outputs": [
        {
          "output_type": "execute_result",
          "data": {
            "text/plain": [
              "(59, 59)"
            ]
          },
          "metadata": {},
          "execution_count": 10
        }
      ]
    },
    {
      "cell_type": "code",
      "source": [
        "s.product() #произведение серии"
      ],
      "metadata": {
        "id": "wgYc3rG5vQl6",
        "outputId": "9987c637-61c8-4ad9-d638-2c4eadba1895",
        "colab": {
          "base_uri": "https://localhost:8080/"
        }
      },
      "execution_count": null,
      "outputs": [
        {
          "output_type": "execute_result",
          "data": {
            "text/plain": [
              "44928"
            ]
          },
          "metadata": {},
          "execution_count": 14
        }
      ]
    },
    {
      "cell_type": "code",
      "source": [
        "pd.Series([1,2,3]).product()"
      ],
      "metadata": {
        "id": "xaq0pMq5voCO",
        "outputId": "4b5769c8-3c8f-4db2-be94-dba2c1a6cf31",
        "colab": {
          "base_uri": "https://localhost:8080/"
        }
      },
      "execution_count": null,
      "outputs": [
        {
          "output_type": "execute_result",
          "data": {
            "text/plain": [
              "6"
            ]
          },
          "metadata": {},
          "execution_count": 15
        }
      ]
    },
    {
      "cell_type": "code",
      "source": [
        "#создать список\n",
        "n= [randint(-50, 50) for i in range (100)]\n",
        "n=pd.Series(n)\n",
        "n"
      ],
      "metadata": {
        "id": "uva0sl5K6FuZ"
      },
      "execution_count": null,
      "outputs": []
    },
    {
      "cell_type": "code",
      "source": [
        "n.head(n=7)"
      ],
      "metadata": {
        "id": "zx3KACN48Mzo",
        "outputId": "fb9f5eca-64c6-4ef5-842a-4eacff0123ce",
        "colab": {
          "base_uri": "https://localhost:8080/"
        }
      },
      "execution_count": null,
      "outputs": [
        {
          "output_type": "execute_result",
          "data": {
            "text/plain": [
              "0   -11\n",
              "1    45\n",
              "2   -45\n",
              "3    14\n",
              "4   -43\n",
              "5    17\n",
              "6    32\n",
              "dtype: int64"
            ]
          },
          "metadata": {},
          "execution_count": 22
        }
      ]
    },
    {
      "cell_type": "code",
      "source": [
        "n.tail(7)"
      ],
      "metadata": {
        "id": "xS1Y6R9C_wZ5",
        "outputId": "737c051b-3c8f-457c-8de6-bbefe5a1d8b8",
        "colab": {
          "base_uri": "https://localhost:8080/"
        }
      },
      "execution_count": null,
      "outputs": [
        {
          "output_type": "execute_result",
          "data": {
            "text/plain": [
              "93   -36\n",
              "94    16\n",
              "95   -37\n",
              "96    30\n",
              "97     3\n",
              "98   -13\n",
              "99   -38\n",
              "dtype: int64"
            ]
          },
          "metadata": {},
          "execution_count": 23
        }
      ]
    },
    {
      "cell_type": "code",
      "source": [
        "n.take([6]) #предача аргумента в виде коллекции"
      ],
      "metadata": {
        "id": "CBTFd_-hAJNx",
        "outputId": "c628221f-6fbd-4155-c89b-d4e5ab6aac7e",
        "colab": {
          "base_uri": "https://localhost:8080/"
        }
      },
      "execution_count": null,
      "outputs": [
        {
          "output_type": "execute_result",
          "data": {
            "text/plain": [
              "6    32\n",
              "dtype: int64"
            ]
          },
          "metadata": {},
          "execution_count": 24
        }
      ]
    },
    {
      "cell_type": "code",
      "source": [
        "list(range(3, 7)) #список от 3 до 6. 3 - параметр это шаг"
      ],
      "metadata": {
        "id": "zPCGh9lBAxpM",
        "outputId": "c8aa20de-24d8-4528-e116-1c0bdc7b7437",
        "colab": {
          "base_uri": "https://localhost:8080/"
        }
      },
      "execution_count": null,
      "outputs": [
        {
          "output_type": "execute_result",
          "data": {
            "text/plain": [
              "[3, 4, 5, 6]"
            ]
          },
          "metadata": {},
          "execution_count": 25
        }
      ]
    },
    {
      "cell_type": "code",
      "source": [
        "n.take(range(2,6))"
      ],
      "metadata": {
        "id": "YoybuHngA_lH",
        "outputId": "a6e3a104-e295-40d5-f342-d74a90a4321a",
        "colab": {
          "base_uri": "https://localhost:8080/"
        }
      },
      "execution_count": null,
      "outputs": [
        {
          "output_type": "execute_result",
          "data": {
            "text/plain": [
              "2   -21\n",
              "3   -10\n",
              "4    -1\n",
              "5    36\n",
              "dtype: int64"
            ]
          },
          "metadata": {},
          "execution_count": 7
        }
      ]
    },
    {
      "cell_type": "code",
      "source": [
        "n[97:]"
      ],
      "metadata": {
        "id": "gvFvvW3ZapDF"
      },
      "execution_count": null,
      "outputs": []
    },
    {
      "cell_type": "code",
      "source": [
        "n[:5]"
      ],
      "metadata": {
        "id": "MkHkh0cAaxGi"
      },
      "execution_count": null,
      "outputs": []
    },
    {
      "cell_type": "code",
      "source": [
        "n[1:10:2] #3ий аргумент — шаг"
      ],
      "metadata": {
        "id": "m2GuUqMUbKwF"
      },
      "execution_count": null,
      "outputs": []
    },
    {
      "cell_type": "code",
      "source": [
        "numbers = [randint (-500, 500) for i in range( 26)]"
      ],
      "metadata": {
        "id": "WzpPLiR-HAaE"
      },
      "execution_count": null,
      "outputs": []
    },
    {
      "cell_type": "code",
      "source": [
        "letters=pd.Series(numbers, ind)"
      ],
      "metadata": {
        "id": "wTODOXjUHqaP"
      },
      "execution_count": null,
      "outputs": []
    },
    {
      "cell_type": "code",
      "source": [
        "ind =list(ascii_lowercase)# a-z"
      ],
      "metadata": {
        "id": "9_P5Fa-oH7pA"
      },
      "execution_count": null,
      "outputs": []
    },
    {
      "cell_type": "code",
      "source": [
        "shuffle(ind) #перемешать"
      ],
      "metadata": {
        "id": "4A2VIhaQIi35"
      },
      "execution_count": null,
      "outputs": []
    },
    {
      "cell_type": "code",
      "source": [
        "letters"
      ],
      "metadata": {
        "id": "ixl6gfPUICmh"
      },
      "execution_count": null,
      "outputs": []
    },
    {
      "cell_type": "markdown",
      "source": [
        "loc and iloc"
      ],
      "metadata": {
        "id": "4ydmxYH_L2eK"
      }
    },
    {
      "cell_type": "code",
      "source": [
        "inde = [choice ([1,2,3,4,5]) for i in range (10)]\n",
        "num = [randint (-50,50) for i in range(10)]"
      ],
      "metadata": {
        "id": "JyE7qwgEKslj"
      },
      "execution_count": null,
      "outputs": []
    },
    {
      "cell_type": "code",
      "source": [
        "s=pd.Series(num, inde)\n",
        "s"
      ],
      "metadata": {
        "id": "zQisfDcULk5H"
      },
      "execution_count": null,
      "outputs": []
    },
    {
      "cell_type": "code",
      "source": [
        "s.iloc[[3,5]] # позволяет получить значение по порядку"
      ],
      "metadata": {
        "id": "qGTUthU9MByi"
      },
      "execution_count": null,
      "outputs": []
    },
    {
      "cell_type": "code",
      "source": [
        "s.loc[4] # позволяет получить значения по меткам"
      ],
      "metadata": {
        "id": "9FR4PP_WOumT"
      },
      "execution_count": null,
      "outputs": []
    },
    {
      "cell_type": "code",
      "source": [
        "s.loc[3] = 1111 # присваивает новое значение по индексу\n",
        "s"
      ],
      "metadata": {
        "id": "bR6Zgo8BPaMc"
      },
      "execution_count": null,
      "outputs": []
    },
    {
      "cell_type": "markdown",
      "source": [
        "sort"
      ],
      "metadata": {
        "id": "79cdjDY3XtFo"
      }
    },
    {
      "cell_type": "code",
      "source": [
        "n = [randint (-19,20) for i in range(15)]\n",
        "n=pd.Series(n)\n",
        "n"
      ],
      "metadata": {
        "id": "u6IORt5dXvYj"
      },
      "execution_count": null,
      "outputs": []
    },
    {
      "cell_type": "code",
      "source": [
        "n.sort_values(inplace = False , ascending=False) # значение не перезаписывается в текущем дф"
      ],
      "metadata": {
        "id": "ZUOP2QkIYAy6"
      },
      "execution_count": null,
      "outputs": []
    },
    {
      "cell_type": "markdown",
      "source": [
        "faker"
      ],
      "metadata": {
        "id": "JqaZHUCymAAY"
      }
    },
    {
      "cell_type": "code",
      "source": [
        "!pip install Faker"
      ],
      "metadata": {
        "colab": {
          "base_uri": "https://localhost:8080/"
        },
        "id": "1Fj72DBbmShq",
        "outputId": "78953a86-e2b8-4b8a-b1a5-a344173b61ea"
      },
      "execution_count": null,
      "outputs": [
        {
          "output_type": "stream",
          "name": "stdout",
          "text": [
            "Looking in indexes: https://pypi.org/simple, https://us-python.pkg.dev/colab-wheels/public/simple/\n",
            "Collecting Faker\n",
            "  Downloading Faker-15.3.2-py3-none-any.whl (1.6 MB)\n",
            "\u001b[K     |████████████████████████████████| 1.6 MB 5.5 MB/s \n",
            "\u001b[?25hRequirement already satisfied: typing-extensions>=3.10.0.1 in /usr/local/lib/python3.7/dist-packages (from Faker) (4.1.1)\n",
            "Requirement already satisfied: python-dateutil>=2.4 in /usr/local/lib/python3.7/dist-packages (from Faker) (2.8.2)\n",
            "Requirement already satisfied: six>=1.5 in /usr/local/lib/python3.7/dist-packages (from python-dateutil>=2.4->Faker) (1.15.0)\n",
            "Installing collected packages: Faker\n",
            "Successfully installed Faker-15.3.2\n"
          ]
        }
      ]
    },
    {
      "cell_type": "code",
      "source": [
        "from faker import Faker"
      ],
      "metadata": {
        "id": "ItTJIDqkmHl3"
      },
      "execution_count": null,
      "outputs": []
    },
    {
      "cell_type": "code",
      "source": [
        "fake =Faker()\n",
        "numbers =[randint(-160,160) for i in range (17)]\n",
        "names =[fake.name() for i in range (17)]\n",
        "dates=[fake.date() for i in range (17)]"
      ],
      "metadata": {
        "id": "05PCpxHFmmfp"
      },
      "execution_count": null,
      "outputs": []
    },
    {
      "cell_type": "code",
      "source": [
        "a=pd.Series(numbers, dates)"
      ],
      "metadata": {
        "id": "ufdV-R7Qpfko"
      },
      "execution_count": null,
      "outputs": []
    },
    {
      "cell_type": "code",
      "source": [
        "a.sort_index()"
      ],
      "metadata": {
        "id": "ykVfRnmzqYYI"
      },
      "execution_count": null,
      "outputs": []
    },
    {
      "cell_type": "markdown",
      "source": [
        "apply & def"
      ],
      "metadata": {
        "id": "M9F_RwB-k5Qm"
      }
    },
    {
      "cell_type": "code",
      "source": [
        "fake = Faker()\n",
        "numbers=[randint(-60,60) for i in range(75)]\n",
        "names=[fake.name() for i in range(15)]"
      ],
      "metadata": {
        "id": "XI5bQVENlDUx"
      },
      "execution_count": null,
      "outputs": []
    },
    {
      "cell_type": "code",
      "source": [
        "a=pd.Series(names)\n",
        "a"
      ],
      "metadata": {
        "id": "e-oNY63Gldd9"
      },
      "execution_count": null,
      "outputs": []
    },
    {
      "cell_type": "code",
      "source": [
        "def sign(x):\n",
        "  if x>0:\n",
        "    return 'positive'\n",
        "  if x<0: \n",
        "    return 'negarive'\n",
        "  return 'zero'\n"
      ],
      "metadata": {
        "id": "zzKTArfHl-PV"
      },
      "execution_count": null,
      "outputs": []
    },
    {
      "cell_type": "code",
      "source": [
        "sign(678)"
      ],
      "metadata": {
        "id": "Iio9DcTAm5J5"
      },
      "execution_count": null,
      "outputs": []
    },
    {
      "cell_type": "code",
      "source": [
        "a.apply(sign).head()"
      ],
      "metadata": {
        "id": "OR907XRbnKW2"
      },
      "execution_count": null,
      "outputs": []
    },
    {
      "cell_type": "code",
      "source": [
        "def surnam (s):\n",
        "  return s.split()[1]"
      ],
      "metadata": {
        "id": "UoREJOKRo07o"
      },
      "execution_count": null,
      "outputs": []
    },
    {
      "cell_type": "code",
      "source": [
        "a.apply(surnam)"
      ],
      "metadata": {
        "id": "o56BFfLApSvD"
      },
      "execution_count": null,
      "outputs": []
    },
    {
      "cell_type": "code",
      "source": [
        "a.apply (lambda s: s.split() [0]) #отбросить вторую часть"
      ],
      "metadata": {
        "id": "C4t2GvoPqlFh"
      },
      "execution_count": null,
      "outputs": []
    },
    {
      "cell_type": "code",
      "source": [
        "a.apply(lambda s: len (s)) #длина символов"
      ],
      "metadata": {
        "id": "5UG8oEvAsImW"
      },
      "execution_count": null,
      "outputs": []
    }
  ]
}

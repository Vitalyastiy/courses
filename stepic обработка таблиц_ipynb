{
  "nbformat": 4,
  "nbformat_minor": 0,
  "metadata": {
    "colab": {
      "provenance": [],
      "authorship_tag": "ABX9TyM4Cn5i0D++0KlIISrnqKJw",
      "include_colab_link": true
    },
    "kernelspec": {
      "name": "python3",
      "display_name": "Python 3"
    },
    "language_info": {
      "name": "python"
    }
  },
  "cells": [
    {
      "cell_type": "markdown",
      "metadata": {
        "id": "view-in-github",
        "colab_type": "text"
      },
      "source": [
        "<a href=\"https://colab.research.google.com/github/Vitalyastiy/courses/blob/main/stepic%20%D0%BE%D0%B1%D1%80%D0%B0%D0%B1%D0%BE%D1%82%D0%BA%D0%B0%20%D1%82%D0%B0%D0%B1%D0%BB%D0%B8%D1%86_ipynb\" target=\"_parent\"><img src=\"https://colab.research.google.com/assets/colab-badge.svg\" alt=\"Open In Colab\"/></a>"
      ]
    },
    {
      "cell_type": "code",
      "execution_count": 2,
      "metadata": {
        "id": "QNze7sc-GL_o"
      },
      "outputs": [],
      "source": [
        "import pandas as pd\n",
        "import matplotlib.pyplot as plt"
      ]
    },
    {
      "cell_type": "code",
      "source": [
        "mar=pd.Series({\"6\" : 5, \"3\":4, \"8\":3, \"4\":1})\n",
        "plt.bar(mar.index,height = mar)\n",
        "plt.show()"
      ],
      "metadata": {
        "colab": {
          "base_uri": "https://localhost:8080/",
          "height": 265
        },
        "id": "jIckqV30GonU",
        "outputId": "a0cf233e-6a22-445e-b990-b2dabf1a9294"
      },
      "execution_count": null,
      "outputs": [
        {
          "output_type": "display_data",
          "data": {
            "text/plain": [
              "<Figure size 432x288 with 1 Axes>"
            ],
            "image/png": "[encoded data removed]"
          },
          "metadata": {
            "needs_background": "light"
          }
        }
      ]
    },
    {
      "cell_type": "code",
      "source": [
        "def is_palindrome(word):\n",
        "    word_lower = word.lower()\n",
        "    word_lower_back = word_lower[::-1]\n",
        "    return word_lower == word_lower_back\n"
      ],
      "metadata": {
        "colab": {
          "base_uri": "https://localhost:8080/",
          "height": 38
        },
        "id": "8nw8OZflHIMU",
        "outputId": "1b35c11a-200e-4ebf-b760-fc2fc490aaeb"
      },
      "execution_count": null,
      "outputs": [
        {
          "output_type": "execute_result",
          "data": {
            "text/plain": [
              "'Казак'"
            ],
            "application/vnd.google.colaboratory.intrinsic+json": {
              "type": "string"
            }
          },
          "metadata": {},
          "execution_count": 5
        }
      ]
    },
    {
      "cell_type": "code",
      "source": [
        "is_palindrome('Казауук')"
      ],
      "metadata": {
        "colab": {
          "base_uri": "https://localhost:8080/"
        },
        "id": "pSek4zVNHVHP",
        "outputId": "78c2f3bf-0cf8-473c-f526-edf927741b24"
      },
      "execution_count": null,
      "outputs": [
        {
          "output_type": "execute_result",
          "data": {
            "text/plain": [
              "False"
            ]
          },
          "metadata": {},
          "execution_count": 8
        }
      ]
    },
    {
      "cell_type": "code",
      "source": [
        "def is_not_palindrome(word):\n",
        "    return not is_palindrome(word)"
      ],
      "metadata": {
        "id": "a2GIYS0CI4nI"
      },
      "execution_count": null,
      "outputs": []
    },
    {
      "cell_type": "code",
      "source": [
        "is_not_palindrome('жопа')"
      ],
      "metadata": {
        "id": "a8etvJ8hI8G4",
        "outputId": "67806e26-9c5b-4e8e-80c0-663e476cfdc4",
        "colab": {
          "base_uri": "https://localhost:8080/"
        }
      },
      "execution_count": null,
      "outputs": [
        {
          "output_type": "execute_result",
          "data": {
            "text/plain": [
              "True"
            ]
          },
          "metadata": {},
          "execution_count": 10
        }
      ]
    },
    {
      "cell_type": "code",
      "source": [
        "df = pd.read_csv(\"https://stepik.org/media/attachments/lesson/802033/students.csv\")"
      ],
      "metadata": {
        "id": "uKOiYgAkcAD5"
      },
      "execution_count": 3,
      "outputs": []
    },
    {
      "cell_type": "code",
      "source": [
        "df[\"Weight\"].describe()"
      ],
      "metadata": {
        "colab": {
          "base_uri": "https://localhost:8080/"
        },
        "id": "f4RUrFMwcAIG",
        "outputId": "51a40a72-373f-43ba-d5a1-3babb06363bc"
      },
      "execution_count": 9,
      "outputs": [
        {
          "output_type": "execute_result",
          "data": {
            "text/plain": [
              "count    157.000000\n",
              "mean      64.031847\n",
              "std       16.502300\n",
              "min        3.000000\n",
              "25%       53.000000\n",
              "50%       60.000000\n",
              "75%       71.000000\n",
              "max      120.000000\n",
              "Name: Weight, dtype: float64"
            ]
          },
          "metadata": {},
          "execution_count": 9
        }
      ]
    },
    {
      "cell_type": "code",
      "source": [
        "df.columns"
      ],
      "metadata": {
        "id": "B2OV28RjcAdX"
      },
      "execution_count": null,
      "outputs": []
    },
    {
      "cell_type": "code",
      "source": [
        "df['Rock paper scissors'].value_counts()"
      ],
      "metadata": {
        "colab": {
          "base_uri": "https://localhost:8080/"
        },
        "id": "VE0HXa1fduTZ",
        "outputId": "712af205-5521-4575-8f38-c51c14fc67a9"
      },
      "execution_count": 11,
      "outputs": [
        {
          "output_type": "execute_result",
          "data": {
            "text/plain": [
              "Ножницы    88\n",
              "Камень     60\n",
              "Бумага     38\n",
              "Name: Rock paper scissors, dtype: int64"
            ]
          },
          "metadata": {},
          "execution_count": 11
        }
      ]
    },
    {
      "cell_type": "code",
      "source": [
        "df[\"Weight\"].head(1)"
      ],
      "metadata": {
        "colab": {
          "base_uri": "https://localhost:8080/"
        },
        "id": "ym21fYilhO5x",
        "outputId": "054900f7-bd44-4bd9-eb70-80a48b5c20dc"
      },
      "execution_count": 10,
      "outputs": [
        {
          "output_type": "execute_result",
          "data": {
            "text/plain": [
              "0    64.0\n",
              "Name: Weight, dtype: float64"
            ]
          },
          "metadata": {},
          "execution_count": 10
        }
      ]
    },
    {
      "cell_type": "code",
      "source": [
        "df[df[\"Weight\"]>df[\"Weight\"].mean()].shape"
      ],
      "metadata": {
        "colab": {
          "base_uri": "https://localhost:8080/"
        },
        "id": "kNEeLMZ5v288",
        "outputId": "65d961cc-1e06-4cfd-d4d3-097248e3cba9"
      },
      "execution_count": 9,
      "outputs": [
        {
          "output_type": "execute_result",
          "data": {
            "text/plain": [
              "(63, 48)"
            ]
          },
          "metadata": {},
          "execution_count": 9
        }
      ]
    },
    {
      "cell_type": "code",
      "source": [
        "df.columns"
      ],
      "metadata": {
        "colab": {
          "base_uri": "https://localhost:8080/"
        },
        "id": "nh3hCCIY7OAe",
        "outputId": "df927c73-8cc0-4471-cdea-a23468ccd712"
      },
      "execution_count": 11,
      "outputs": [
        {
          "output_type": "execute_result",
          "data": {
            "text/plain": [
              "Index(['Age', 'Growth', 'Shoe size', 'Course number', 'Year of birth',\n",
              "       'Friend number', 'Russian rating', 'Maths rating', 'Physics rating',\n",
              "       'Computer science rating', 'Chemistry rating', 'Literature rating',\n",
              "       'History rating', 'Geography rating', 'Biology rating',\n",
              "       'Foreign language rating', 'Social science rating',\n",
              "       'Distance to home km', 'Minutes to first class', 'Children number',\n",
              "       'Removed teeth', 'Weight', 'Glasses', 'Sex',\n",
              "       'Problems in last semester', 'Coin', 'Rock paper scissors', 'Animal',\n",
              "       'Month of birthday', 'Your rating in university', 'Fastfood',\n",
              "       'Height of 5000 mm', 'Width of 5000 mm', 'Putin age', 'Army', 'Hostel',\n",
              "       'Hair length', 'Floor number', 'Social network duration min',\n",
              "       'Chocolate', 'City population', 'Strange people', 'Your insitute',\n",
              "       'Brother-sister', 'Plane seat', 'MIddle and index finger',\n",
              "       'Middle and ring finger', 'Middle and little finger'],\n",
              "      dtype='object')"
            ]
          },
          "metadata": {},
          "execution_count": 11
        }
      ]
    },
    {
      "cell_type": "code",
      "source": [],
      "metadata": {
        "id": "_IFFEG0T7Ttc"
      },
      "execution_count": null,
      "outputs": []
    }
  ]
}
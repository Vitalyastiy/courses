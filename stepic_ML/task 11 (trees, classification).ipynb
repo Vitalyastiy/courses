{
  "nbformat": 4,
  "nbformat_minor": 0,
  "metadata": {
    "colab": {
      "provenance": []
    },
    "kernelspec": {
      "name": "python3",
      "display_name": "Python 3"
    },
    "language_info": {
      "name": "python"
    }
  },
  "cells": [
    {
      "cell_type": "markdown",
      "source": [
        "# Задача классификации. Дерево решений\n",
        "\n"
      ],
      "metadata": {
        "id": "uc4Uv6Vm6QNU"
      }
    },
    {
      "cell_type": "code",
      "execution_count": 2,
      "metadata": {
        "id": "g0UCHWjW6JPN"
      },
      "outputs": [],
      "source": [
        "import pandas as pd\n",
        "import seaborn as sns\n",
        "from sklearn import tree"
      ]
    },
    {
      "cell_type": "code",
      "source": [
        "df=pd.read_csv('https://github.com/Vitalyastiy/courses/blob/main/stepic_ML/students.csv?raw=true', delimiter=',')\n",
        "df.info()"
      ],
      "metadata": {
        "id": "XbfHSIOO6j_a",
        "colab": {
          "base_uri": "https://localhost:8080/"
        },
        "outputId": "af3208c6-80a6-44f5-c355-7253fe3035da"
      },
      "execution_count": 5,
      "outputs": [
        {
          "output_type": "stream",
          "name": "stdout",
          "text": [
            "<class 'pandas.core.frame.DataFrame'>\n",
            "RangeIndex: 186 entries, 0 to 185\n",
            "Data columns (total 48 columns):\n",
            " #   Column                       Non-Null Count  Dtype  \n",
            "---  ------                       --------------  -----  \n",
            " 0   Age                          186 non-null    int64  \n",
            " 1   Growth                       186 non-null    int64  \n",
            " 2   Shoe size                    186 non-null    int64  \n",
            " 3   Course number                186 non-null    int64  \n",
            " 4   Year of birth                186 non-null    int64  \n",
            " 5   Friend number                186 non-null    int64  \n",
            " 6   Russian rating               186 non-null    int64  \n",
            " 7   Maths rating                 186 non-null    int64  \n",
            " 8   Physics rating               186 non-null    int64  \n",
            " 9   Computer science rating      186 non-null    int64  \n",
            " 10  Chemistry rating             186 non-null    int64  \n",
            " 11  Literature rating            186 non-null    int64  \n",
            " 12  History rating               186 non-null    int64  \n",
            " 13  Geography rating             186 non-null    int64  \n",
            " 14  Biology rating               186 non-null    int64  \n",
            " 15  Foreign language rating      186 non-null    int64  \n",
            " 16  Social science rating        186 non-null    int64  \n",
            " 17  Distance to home km          186 non-null    int64  \n",
            " 18  Minutes to first class       186 non-null    int64  \n",
            " 19  Children number              150 non-null    float64\n",
            " 20  Removed teeth                148 non-null    float64\n",
            " 21  Weight                       157 non-null    float64\n",
            " 22  Glasses                      184 non-null    object \n",
            " 23  Sex                          186 non-null    object \n",
            " 24  Problems in last semester    186 non-null    object \n",
            " 25  Coin                         186 non-null    object \n",
            " 26  Rock paper scissors          186 non-null    object \n",
            " 27  Animal                       186 non-null    object \n",
            " 28  Month of birthday            186 non-null    int64  \n",
            " 29  Your rating in university    186 non-null    object \n",
            " 30  Fastfood                     186 non-null    object \n",
            " 31  Height of 5000 mm            186 non-null    int64  \n",
            " 32  Width of 5000 mm             186 non-null    int64  \n",
            " 33  Putin age                    186 non-null    int64  \n",
            " 34  Army                         186 non-null    object \n",
            " 35  Hostel                       186 non-null    object \n",
            " 36  Hair length                  186 non-null    float64\n",
            " 37  Floor number                 186 non-null    int64  \n",
            " 38  Social network duration min  186 non-null    int64  \n",
            " 39  Chocolate                    186 non-null    object \n",
            " 40  City population              186 non-null    float64\n",
            " 41  Strange people               186 non-null    object \n",
            " 42  Your insitute                186 non-null    object \n",
            " 43  Brother-sister               186 non-null    object \n",
            " 44  Plane seat                   186 non-null    object \n",
            " 45  MIddle and index finger      186 non-null    int64  \n",
            " 46  Middle and ring finger       186 non-null    float64\n",
            " 47  Middle and little finger     186 non-null    float64\n",
            "dtypes: float64(7), int64(26), object(15)\n",
            "memory usage: 69.9+ KB\n"
          ]
        }
      ]
    },
    {
      "cell_type": "code",
      "source": [
        "df_cut=df[[ 'Hair length','Shoe size','Sex']]\n",
        "df_cut=df_cut.dropna()"
      ],
      "metadata": {
        "id": "yOsM9BxOcqDL"
      },
      "execution_count": 8,
      "outputs": []
    },
    {
      "cell_type": "code",
      "source": [
        "sns.pairplot(df_cut, hue='Sex')"
      ],
      "metadata": {
        "colab": {
          "base_uri": "https://localhost:8080/",
          "height": 391
        },
        "id": "pHS54as86_8r",
        "outputId": "22b6f00b-6e18-4fde-fd8d-87c4eebf1ad1"
      },
      "execution_count": 9,
      "outputs": [
        {
          "output_type": "execute_result",
          "data": {
            "text/plain": [
              "<seaborn.axisgrid.PairGrid at 0x7f5dac9fe8e0>"
            ]
          },
          "metadata": {},
          "execution_count": 9
        },
        {
          "output_type": "display_data",
          "data": {
            "text/plain": [
              "<Figure size 442.375x360 with 6 Axes>"
            ],
            "image/png": "[encoded data removed]"
          },
          "metadata": {
            "needs_background": "light"
          }
        }
      ]
    },
    {
      "cell_type": "markdown",
      "source": [
        "Гипотеза: угадать пол человека можно за небольшое количество вопросов. И модель эти вопросы найдет автоматически."
      ],
      "metadata": {
        "id": "KT2ddURJNa8b"
      }
    },
    {
      "cell_type": "code",
      "source": [
        "model=tree.DecisionTreeClassifier(max_depth=2)\n",
        "model.fit(df_cut[[ 'Hair length','Shoe size']].values.reshape(-1,2), y=df_cut['Sex'].values)"
      ],
      "metadata": {
        "id": "V5In7x7F7Lkq",
        "colab": {
          "base_uri": "https://localhost:8080/"
        },
        "outputId": "24ea14ed-4f6a-499d-f893-e42f9e2742cb"
      },
      "execution_count": 10,
      "outputs": [
        {
          "output_type": "execute_result",
          "data": {
            "text/plain": [
              "DecisionTreeClassifier(max_depth=2)"
            ]
          },
          "metadata": {},
          "execution_count": 10
        }
      ]
    },
    {
      "cell_type": "code",
      "source": [
        "import graphviz \n",
        "dot_data = tree.export_graphviz(model, out_file=None, \n",
        "                      feature_names=[ 'Hair length','Shoe size'],  \n",
        "                      class_names=['f', 'm'],  \n",
        "                     filled=True, rounded=True,  \n",
        "                      special_characters=True)  \n",
        "graph = graphviz.Source(dot_data)  \n",
        "graph "
      ],
      "metadata": {
        "colab": {
          "base_uri": "https://localhost:8080/",
          "height": 440
        },
        "id": "eJNYh5g4jJKA",
        "outputId": "8a5232f8-e9cd-4cb7-bbde-8bc3b9a9515e"
      },
      "execution_count": 17,
      "outputs": [
        {
          "output_type": "execute_result",
          "data": {
            "text/plain": [
              "<graphviz.files.Source at 0x7f5d97a885b0>"
            ],
            "image/svg+xml": "<?xml version=\"1.0\" encoding=\"UTF-8\" standalone=\"no\"?>\n<!DOCTYPE svg PUBLIC \"-//W3C//DTD SVG 1.1//EN\"\n \"http://www.w3.org/Graphics/SVG/1.1/DTD/svg11.dtd\">\n<!-- Generated by graphviz version 2.43.0 (0)\n -->\n<!-- Title: Tree Pages: 1 -->\n<svg width=\"295pt\" height=\"314pt\"\n viewBox=\"0.00 0.00 294.50 314.00\" xmlns=\"http://www.w3.org/2000/svg\" xmlns:xlink=\"http://www.w3.org/1999/xlink\">\n<g id=\"graph0\" class=\"graph\" transform=\"scale(1 1) rotate(0) translate(4 310)\">\n<title>Tree</title>\n<polygon fill=\"white\" stroke=\"transparent\" points=\"-4,4 -4,-310 290.5,-310 290.5,4 -4,4\"/>\n<!-- 0 -->\n<g id=\"node1\" class=\"node\">\n<title>0</title>\n<path fill=\"#f3c6a6\" stroke=\"black\" d=\"M218,-306C218,-306 125,-306 125,-306 119,-306 113,-300 113,-294 113,-294 113,-235 113,-235 113,-229 119,-223 125,-223 125,-223 218,-223 218,-223 224,-223 230,-229 230,-235 230,-235 230,-294 230,-294 230,-300 224,-306 218,-306\"/>\n<text text-anchor=\"start\" x=\"121\" y=\"-290.8\" font-family=\"Helvetica,sans-Serif\" font-size=\"14.00\">Shoe size ≤ 41.5</text>\n<text text-anchor=\"start\" x=\"136\" y=\"-275.8\" font-family=\"Helvetica,sans-Serif\" font-size=\"14.00\">gini = 0.458</text>\n<text text-anchor=\"start\" x=\"126.5\" y=\"-260.8\" font-family=\"Helvetica,sans-Serif\" font-size=\"14.00\">samples = 186</text>\n<text text-anchor=\"start\" x=\"121\" y=\"-245.8\" font-family=\"Helvetica,sans-Serif\" font-size=\"14.00\">value = [120, 66]</text>\n<text text-anchor=\"start\" x=\"146\" y=\"-230.8\" font-family=\"Helvetica,sans-Serif\" font-size=\"14.00\">class = f</text>\n</g>\n<!-- 1 -->\n<g id=\"node2\" class=\"node\">\n<title>1</title>\n<path fill=\"#e88f4e\" stroke=\"black\" d=\"M154,-187C154,-187 61,-187 61,-187 55,-187 49,-181 49,-175 49,-175 49,-116 49,-116 49,-110 55,-104 61,-104 61,-104 154,-104 154,-104 160,-104 166,-110 166,-116 166,-116 166,-175 166,-175 166,-181 160,-187 154,-187\"/>\n<text text-anchor=\"start\" x=\"57.5\" y=\"-171.8\" font-family=\"Helvetica,sans-Serif\" font-size=\"14.00\">Hair length ≤ 8.5</text>\n<text text-anchor=\"start\" x=\"72\" y=\"-156.8\" font-family=\"Helvetica,sans-Serif\" font-size=\"14.00\">gini = 0.176</text>\n<text text-anchor=\"start\" x=\"62.5\" y=\"-141.8\" font-family=\"Helvetica,sans-Serif\" font-size=\"14.00\">samples = 133</text>\n<text text-anchor=\"start\" x=\"57\" y=\"-126.8\" font-family=\"Helvetica,sans-Serif\" font-size=\"14.00\">value = [120, 13]</text>\n<text text-anchor=\"start\" x=\"82\" y=\"-111.8\" font-family=\"Helvetica,sans-Serif\" font-size=\"14.00\">class = f</text>\n</g>\n<!-- 0&#45;&gt;1 -->\n<g id=\"edge1\" class=\"edge\">\n<title>0&#45;&gt;1</title>\n<path fill=\"none\" stroke=\"black\" d=\"M149.3,-222.91C144.53,-214.2 139.44,-204.9 134.52,-195.89\"/>\n<polygon fill=\"black\" stroke=\"black\" points=\"137.53,-194.11 129.67,-187.02 131.39,-197.47 137.53,-194.11\"/>\n<text text-anchor=\"middle\" x=\"122.64\" y=\"-207.31\" font-family=\"Helvetica,sans-Serif\" font-size=\"14.00\">True</text>\n</g>\n<!-- 4 -->\n<g id=\"node5\" class=\"node\">\n<title>4</title>\n<path fill=\"#399de5\" stroke=\"black\" d=\"M274.5,-179.5C274.5,-179.5 196.5,-179.5 196.5,-179.5 190.5,-179.5 184.5,-173.5 184.5,-167.5 184.5,-167.5 184.5,-123.5 184.5,-123.5 184.5,-117.5 190.5,-111.5 196.5,-111.5 196.5,-111.5 274.5,-111.5 274.5,-111.5 280.5,-111.5 286.5,-117.5 286.5,-123.5 286.5,-123.5 286.5,-167.5 286.5,-167.5 286.5,-173.5 280.5,-179.5 274.5,-179.5\"/>\n<text text-anchor=\"start\" x=\"207.5\" y=\"-164.3\" font-family=\"Helvetica,sans-Serif\" font-size=\"14.00\">gini = 0.0</text>\n<text text-anchor=\"start\" x=\"194.5\" y=\"-149.3\" font-family=\"Helvetica,sans-Serif\" font-size=\"14.00\">samples = 53</text>\n<text text-anchor=\"start\" x=\"192.5\" y=\"-134.3\" font-family=\"Helvetica,sans-Serif\" font-size=\"14.00\">value = [0, 53]</text>\n<text text-anchor=\"start\" x=\"206\" y=\"-119.3\" font-family=\"Helvetica,sans-Serif\" font-size=\"14.00\">class = m</text>\n</g>\n<!-- 0&#45;&gt;4 -->\n<g id=\"edge4\" class=\"edge\">\n<title>0&#45;&gt;4</title>\n<path fill=\"none\" stroke=\"black\" d=\"M193.7,-222.91C199.74,-211.87 206.29,-199.9 212.38,-188.77\"/>\n<polygon fill=\"black\" stroke=\"black\" points=\"215.63,-190.12 217.36,-179.67 209.49,-186.76 215.63,-190.12\"/>\n<text text-anchor=\"middle\" x=\"224.38\" y=\"-199.96\" font-family=\"Helvetica,sans-Serif\" font-size=\"14.00\">False</text>\n</g>\n<!-- 2 -->\n<g id=\"node3\" class=\"node\">\n<title>2</title>\n<path fill=\"#399de5\" stroke=\"black\" d=\"M83,-68C83,-68 12,-68 12,-68 6,-68 0,-62 0,-56 0,-56 0,-12 0,-12 0,-6 6,0 12,0 12,0 83,0 83,0 89,0 95,-6 95,-12 95,-12 95,-56 95,-56 95,-62 89,-68 83,-68\"/>\n<text text-anchor=\"start\" x=\"19.5\" y=\"-52.8\" font-family=\"Helvetica,sans-Serif\" font-size=\"14.00\">gini = 0.0</text>\n<text text-anchor=\"start\" x=\"10\" y=\"-37.8\" font-family=\"Helvetica,sans-Serif\" font-size=\"14.00\">samples = 6</text>\n<text text-anchor=\"start\" x=\"8\" y=\"-22.8\" font-family=\"Helvetica,sans-Serif\" font-size=\"14.00\">value = [0, 6]</text>\n<text text-anchor=\"start\" x=\"18\" y=\"-7.8\" font-family=\"Helvetica,sans-Serif\" font-size=\"14.00\">class = m</text>\n</g>\n<!-- 1&#45;&gt;2 -->\n<g id=\"edge2\" class=\"edge\">\n<title>1&#45;&gt;2</title>\n<path fill=\"none\" stroke=\"black\" d=\"M85.16,-103.73C80.41,-95.06 75.39,-85.9 70.61,-77.18\"/>\n<polygon fill=\"black\" stroke=\"black\" points=\"73.62,-75.39 65.75,-68.3 67.48,-78.75 73.62,-75.39\"/>\n</g>\n<!-- 3 -->\n<g id=\"node4\" class=\"node\">\n<title>3</title>\n<path fill=\"#e78845\" stroke=\"black\" d=\"M211.5,-68C211.5,-68 125.5,-68 125.5,-68 119.5,-68 113.5,-62 113.5,-56 113.5,-56 113.5,-12 113.5,-12 113.5,-6 119.5,0 125.5,0 125.5,0 211.5,0 211.5,0 217.5,0 223.5,-6 223.5,-12 223.5,-12 223.5,-56 223.5,-56 223.5,-62 217.5,-68 211.5,-68\"/>\n<text text-anchor=\"start\" x=\"133\" y=\"-52.8\" font-family=\"Helvetica,sans-Serif\" font-size=\"14.00\">gini = 0.104</text>\n<text text-anchor=\"start\" x=\"123.5\" y=\"-37.8\" font-family=\"Helvetica,sans-Serif\" font-size=\"14.00\">samples = 127</text>\n<text text-anchor=\"start\" x=\"121.5\" y=\"-22.8\" font-family=\"Helvetica,sans-Serif\" font-size=\"14.00\">value = [120, 7]</text>\n<text text-anchor=\"start\" x=\"143\" y=\"-7.8\" font-family=\"Helvetica,sans-Serif\" font-size=\"14.00\">class = f</text>\n</g>\n<!-- 1&#45;&gt;3 -->\n<g id=\"edge3\" class=\"edge\">\n<title>1&#45;&gt;3</title>\n<path fill=\"none\" stroke=\"black\" d=\"M130.21,-103.73C135.04,-95.06 140.15,-85.9 145,-77.18\"/>\n<polygon fill=\"black\" stroke=\"black\" points=\"148.14,-78.74 149.95,-68.3 142.03,-75.33 148.14,-78.74\"/>\n</g>\n</g>\n</svg>\n"
          },
          "metadata": {},
          "execution_count": 17
        }
      ]
    },
    {
      "cell_type": "code",
      "source": [
        "from sklearn.tree import DecisionTreeClassifier, plot_tree\n",
        "\n",
        "\n",
        "\n",
        "model_dtc = DecisionTreeClassifier(max_depth=2)\n",
        "model_dtc.fit(df[['Hair length', 'Shoe size']], df['Sex'])\n",
        "\n",
        "plot_tree(model_dtc)"
      ],
      "metadata": {
        "id": "hP2AWcPim6ki",
        "outputId": "1a3e170e-8ba6-4502-9dec-a8ca6c8140a6",
        "colab": {
          "base_uri": "https://localhost:8080/",
          "height": 335
        }
      },
      "execution_count": 18,
      "outputs": [
        {
          "output_type": "execute_result",
          "data": {
            "text/plain": [
              "[Text(0.6, 0.8333333333333334, 'X[1] <= 41.5\\ngini = 0.458\\nsamples = 186\\nvalue = [120, 66]'),\n",
              " Text(0.4, 0.5, 'X[0] <= 8.5\\ngini = 0.176\\nsamples = 133\\nvalue = [120, 13]'),\n",
              " Text(0.2, 0.16666666666666666, 'gini = 0.0\\nsamples = 6\\nvalue = [0, 6]'),\n",
              " Text(0.6, 0.16666666666666666, 'gini = 0.104\\nsamples = 127\\nvalue = [120, 7]'),\n",
              " Text(0.8, 0.5, 'gini = 0.0\\nsamples = 53\\nvalue = [0, 53]')]"
            ]
          },
          "metadata": {},
          "execution_count": 18
        },
        {
          "output_type": "display_data",
          "data": {
            "text/plain": [
              "<Figure size 432x288 with 1 Axes>"
            ],
            "image/png": "[encoded data removed]"
          },
          "metadata": {
            "needs_background": "light"
          }
        }
      ]
    },
    {
      "cell_type": "markdown",
      "source": [
        "Загружаем тестовую выбоку"
      ],
      "metadata": {
        "id": "djQ9SZEEWJWm"
      }
    },
    {
      "cell_type": "code",
      "source": [
        "df_test=pd.read_csv('https://github.com/Vitalyastiy/courses/blob/main/stepic_ML/students_test.csv?raw=true', delimiter=',')\n",
        "df_test_cut=df_test[['Hair length', 'Shoe size','Sex']]\n",
        "df_test_cut=df_test_cut.dropna()"
      ],
      "metadata": {
        "id": "DtjenKHIywyj"
      },
      "execution_count": 19,
      "outputs": []
    },
    {
      "cell_type": "markdown",
      "source": [
        "Внимание: через функцию predict прогоняем объекты **тестовой** выборки"
      ],
      "metadata": {
        "id": "2CRTda9X5wEg"
      }
    },
    {
      "cell_type": "code",
      "source": [
        "df_test_cut['Predicted']=model.predict(df_test_cut[['Hair length', 'Shoe size']].values.reshape(-1,2))"
      ],
      "metadata": {
        "id": "y9FLo4eS5q6C"
      },
      "execution_count": 21,
      "outputs": []
    },
    {
      "cell_type": "markdown",
      "source": [
        "Метрики качества задачи классификации"
      ],
      "metadata": {
        "id": "BstWTtRNXY_G"
      }
    },
    {
      "cell_type": "code",
      "source": [
        "pd.crosstab(df_test_cut['Predicted'],df_test_cut['Sex'])"
      ],
      "metadata": {
        "colab": {
          "base_uri": "https://localhost:8080/",
          "height": 143
        },
        "id": "yF3hdWaTZvDZ",
        "outputId": "1a7c0d06-f26b-4a46-97ca-8d07fa2dca63"
      },
      "execution_count": 28,
      "outputs": [
        {
          "output_type": "execute_result",
          "data": {
            "text/plain": [
              "Sex        женский  мужской\n",
              "Predicted                  \n",
              "женский         61        2\n",
              "мужской          1       34"
            ],
            "text/html": [
              "\n",
              "  <div id=\"df-f1e86de6-dd8b-400b-b9fb-cfe6b3857b97\">\n",
              "    <div class=\"colab-df-container\">\n",
              "      <div>\n",
              "<style scoped>\n",
              "    .dataframe tbody tr th:only-of-type {\n",
              "        vertical-align: middle;\n",
              "    }\n",
              "\n",
              "    .dataframe tbody tr th {\n",
              "        vertical-align: top;\n",
              "    }\n",
              "\n",
              "    .dataframe thead th {\n",
              "        text-align: right;\n",
              "    }\n",
              "</style>\n",
              "<table border=\"1\" class=\"dataframe\">\n",
              "  <thead>\n",
              "    <tr style=\"text-align: right;\">\n",
              "      <th>Sex</th>\n",
              "      <th>женский</th>\n",
              "      <th>мужской</th>\n",
              "    </tr>\n",
              "    <tr>\n",
              "      <th>Predicted</th>\n",
              "      <th></th>\n",
              "      <th></th>\n",
              "    </tr>\n",
              "  </thead>\n",
              "  <tbody>\n",
              "    <tr>\n",
              "      <th>женский</th>\n",
              "      <td>61</td>\n",
              "      <td>2</td>\n",
              "    </tr>\n",
              "    <tr>\n",
              "      <th>мужской</th>\n",
              "      <td>1</td>\n",
              "      <td>34</td>\n",
              "    </tr>\n",
              "  </tbody>\n",
              "</table>\n",
              "</div>\n",
              "      <button class=\"colab-df-convert\" onclick=\"convertToInteractive('df-f1e86de6-dd8b-400b-b9fb-cfe6b3857b97')\"\n",
              "              title=\"Convert this dataframe to an interactive table.\"\n",
              "              style=\"display:none;\">\n",
              "        \n",
              "  <svg xmlns=\"http://www.w3.org/2000/svg\" height=\"24px\"viewBox=\"0 0 24 24\"\n",
              "       width=\"24px\">\n",
              "    <path d=\"M0 0h24v24H0V0z\" fill=\"none\"/>\n",
              "    <path d=\"M18.56 5.44l.94 2.06.94-2.06 2.06-.94-2.06-.94-.94-2.06-.94 2.06-2.06.94zm-11 1L8.5 8.5l.94-2.06 2.06-.94-2.06-.94L8.5 2.5l-.94 2.06-2.06.94zm10 10l.94 2.06.94-2.06 2.06-.94-2.06-.94-.94-2.06-.94 2.06-2.06.94z\"/><path d=\"M17.41 7.96l-1.37-1.37c-.4-.4-.92-.59-1.43-.59-.52 0-1.04.2-1.43.59L10.3 9.45l-7.72 7.72c-.78.78-.78 2.05 0 2.83L4 21.41c.39.39.9.59 1.41.59.51 0 1.02-.2 1.41-.59l7.78-7.78 2.81-2.81c.8-.78.8-2.07 0-2.86zM5.41 20L4 18.59l7.72-7.72 1.47 1.35L5.41 20z\"/>\n",
              "  </svg>\n",
              "      </button>\n",
              "      \n",
              "  <style>\n",
              "    .colab-df-container {\n",
              "      display:flex;\n",
              "      flex-wrap:wrap;\n",
              "      gap: 12px;\n",
              "    }\n",
              "\n",
              "    .colab-df-convert {\n",
              "      background-color: #E8F0FE;\n",
              "      border: none;\n",
              "      border-radius: 50%;\n",
              "      cursor: pointer;\n",
              "      display: none;\n",
              "      fill: #1967D2;\n",
              "      height: 32px;\n",
              "      padding: 0 0 0 0;\n",
              "      width: 32px;\n",
              "    }\n",
              "\n",
              "    .colab-df-convert:hover {\n",
              "      background-color: #E2EBFA;\n",
              "      box-shadow: 0px 1px 2px rgba(60, 64, 67, 0.3), 0px 1px 3px 1px rgba(60, 64, 67, 0.15);\n",
              "      fill: #174EA6;\n",
              "    }\n",
              "\n",
              "    [theme=dark] .colab-df-convert {\n",
              "      background-color: #3B4455;\n",
              "      fill: #D2E3FC;\n",
              "    }\n",
              "\n",
              "    [theme=dark] .colab-df-convert:hover {\n",
              "      background-color: #434B5C;\n",
              "      box-shadow: 0px 1px 3px 1px rgba(0, 0, 0, 0.15);\n",
              "      filter: drop-shadow(0px 1px 2px rgba(0, 0, 0, 0.3));\n",
              "      fill: #FFFFFF;\n",
              "    }\n",
              "  </style>\n",
              "\n",
              "      <script>\n",
              "        const buttonEl =\n",
              "          document.querySelector('#df-f1e86de6-dd8b-400b-b9fb-cfe6b3857b97 button.colab-df-convert');\n",
              "        buttonEl.style.display =\n",
              "          google.colab.kernel.accessAllowed ? 'block' : 'none';\n",
              "\n",
              "        async function convertToInteractive(key) {\n",
              "          const element = document.querySelector('#df-f1e86de6-dd8b-400b-b9fb-cfe6b3857b97');\n",
              "          const dataTable =\n",
              "            await google.colab.kernel.invokeFunction('convertToInteractive',\n",
              "                                                     [key], {});\n",
              "          if (!dataTable) return;\n",
              "\n",
              "          const docLinkHtml = 'Like what you see? Visit the ' +\n",
              "            '<a target=\"_blank\" href=https://colab.research.google.com/notebooks/data_table.ipynb>data table notebook</a>'\n",
              "            + ' to learn more about interactive tables.';\n",
              "          element.innerHTML = '';\n",
              "          dataTable['output_type'] = 'display_data';\n",
              "          await google.colab.output.renderOutput(dataTable, element);\n",
              "          const docLink = document.createElement('div');\n",
              "          docLink.innerHTML = docLinkHtml;\n",
              "          element.appendChild(docLink);\n",
              "        }\n",
              "      </script>\n",
              "    </div>\n",
              "  </div>\n",
              "  "
            ]
          },
          "metadata": {},
          "execution_count": 28
        }
      ]
    },
    {
      "cell_type": "markdown",
      "source": [
        "Так считаются метрики качества в задаче классификации\n",
        "\n",
        "Есть два показателя: precision и recall. Их можно подсчитать для каждого класса.\n",
        "\n",
        "**recall(для женщин)=доля правильно предсказанных женщин среди среди всех женщин**\n",
        "\n",
        "В нашем примере: recall(для женщин)=40/(40+2)=0.9523809523809523\n",
        "\n",
        "**recall(для мужчин)=доля правильно предсказанных мужчин среди среди всех мужчин**\n",
        "\n",
        "В нашем примере: recall(для мужчин)=25/(25+1)=0.9615384615384616\n",
        "\n",
        "**precision(для женщин)=доля истинных женщин среди людей, отнесенных ИИ к женщинам**\n",
        "\n",
        "В нашем примере: precision(для женщин)=40/(40+1)=0.975609756097561\n",
        "\n",
        "**precision(для мужчин)=доля истинных мужчин среди людей, отнесенных ИИ к мужчинам**\n",
        "\n",
        "В нашем примере: precision(для мужчин)=25/(25+2)=0.9259259259259259\n",
        "\n"
      ],
      "metadata": {
        "id": "a-3cJ8y4TyMf"
      }
    },
    {
      "cell_type": "code",
      "source": [
        "from sklearn.metrics import precision_recall_fscore_support\n",
        "precision_recall_fscore_support(df_test_cut['Sex'], df_test_cut['Predicted'])"
      ],
      "metadata": {
        "colab": {
          "base_uri": "https://localhost:8080/"
        },
        "id": "xD-nhVM4S8PR",
        "outputId": "d7a392df-5200-4781-e22d-b663b0f52452"
      },
      "execution_count": 29,
      "outputs": [
        {
          "output_type": "execute_result",
          "data": {
            "text/plain": [
              "(array([0.96825397, 0.97142857]),\n",
              " array([0.98387097, 0.94444444]),\n",
              " array([0.976     , 0.95774648]),\n",
              " array([62, 36]))"
            ]
          },
          "metadata": {},
          "execution_count": 29
        }
      ]
    },
    {
      "cell_type": "code",
      "source": [],
      "metadata": {
        "id": "z5rRchDk-cK2"
      },
      "execution_count": null,
      "outputs": []
    },
    {
      "cell_type": "code",
      "source": [],
      "metadata": {
        "id": "Sa6rtDkM-c-8"
      },
      "execution_count": null,
      "outputs": []
    },
    {
      "cell_type": "code",
      "source": [],
      "metadata": {
        "id": "EakPW2ki-dBM"
      },
      "execution_count": null,
      "outputs": []
    },
    {
      "cell_type": "code",
      "source": [
        "df_cut=df[['Hair length','Shoe size','Sex']]\n"
      ],
      "metadata": {
        "id": "CCYf8UqZiDqZ"
      },
      "execution_count": null,
      "outputs": []
    },
    {
      "cell_type": "code",
      "source": [
        "model=tree.DecisionTreeClassifier()\n",
        "model.fit(df_cut[['Hair length','Shoe size']].values.reshape(-1,2), y=df_cut['Sex'].values)"
      ],
      "metadata": {
        "colab": {
          "base_uri": "https://localhost:8080/"
        },
        "outputId": "37cf854b-dd3d-4625-99be-67a9929a12e2",
        "id": "fQl1vvN4-lpV"
      },
      "execution_count": null,
      "outputs": [
        {
          "output_type": "execute_result",
          "data": {
            "text/plain": [
              "DecisionTreeClassifier()"
            ]
          },
          "metadata": {},
          "execution_count": 12
        }
      ]
    },
    {
      "cell_type": "code",
      "source": [
        "import graphviz \n",
        "dot_data = tree.export_graphviz(model, out_file=None, \n",
        "                      feature_names=['Hair length','Shoe size'],  \n",
        "                      class_names=['f', 'm'],  \n",
        "                     filled=True, rounded=True,  \n",
        "                      special_characters=True)  \n",
        "graph = graphviz.Source(dot_data)  \n",
        "graph "
      ],
      "metadata": {
        "id": "6H3chhQR-sCc"
      },
      "execution_count": null,
      "outputs": []
    },
    {
      "cell_type": "code",
      "source": [
        "df_test=pd.read_csv('/content/drive/MyDrive/Colab Notebooks/задания к курсу/students_test.csv', delimiter=',')\n",
        "df_test_cut=df_test[['Hair length','Shoe size','Sex']]\n",
        "df_test_cut=df_test_cut.dropna()"
      ],
      "metadata": {
        "id": "iYXPuby7ibST"
      },
      "execution_count": null,
      "outputs": []
    },
    {
      "cell_type": "code",
      "source": [
        "df_test_cut['Predicted']=model.predict(df_test_cut[['Hair length','Shoe size']])"
      ],
      "metadata": {
        "id": "2lRM660-ibST",
        "colab": {
          "base_uri": "https://localhost:8080/"
        },
        "outputId": "d2f93798-c5aa-4824-9ab0-fa9e241aa2b6"
      },
      "execution_count": null,
      "outputs": [
        {
          "output_type": "stream",
          "name": "stderr",
          "text": [
            "/usr/local/lib/python3.7/dist-packages/sklearn/base.py:444: UserWarning: X has feature names, but DecisionTreeClassifier was fitted without feature names\n",
            "  f\"X has feature names, but {self.__class__.__name__} was fitted without\"\n"
          ]
        }
      ]
    },
    {
      "cell_type": "code",
      "source": [
        "pd.crosstab(df_test_cut['Predicted'],df_test_cut['Sex'])"
      ],
      "metadata": {
        "colab": {
          "base_uri": "https://localhost:8080/",
          "height": 143
        },
        "outputId": "9a9015c3-a968-48b3-eae1-3ef0aa1251e8",
        "id": "CaDJuUYNibST"
      },
      "execution_count": null,
      "outputs": [
        {
          "output_type": "execute_result",
          "data": {
            "text/plain": [
              "Sex        женский  мужской\n",
              "Predicted                  \n",
              "женский         59        1\n",
              "мужской          3       35"
            ],
            "text/html": [
              "\n",
              "  <div id=\"df-e74b45ae-e188-4edc-9fc5-437414c000df\">\n",
              "    <div class=\"colab-df-container\">\n",
              "      <div>\n",
              "<style scoped>\n",
              "    .dataframe tbody tr th:only-of-type {\n",
              "        vertical-align: middle;\n",
              "    }\n",
              "\n",
              "    .dataframe tbody tr th {\n",
              "        vertical-align: top;\n",
              "    }\n",
              "\n",
              "    .dataframe thead th {\n",
              "        text-align: right;\n",
              "    }\n",
              "</style>\n",
              "<table border=\"1\" class=\"dataframe\">\n",
              "  <thead>\n",
              "    <tr style=\"text-align: right;\">\n",
              "      <th>Sex</th>\n",
              "      <th>женский</th>\n",
              "      <th>мужской</th>\n",
              "    </tr>\n",
              "    <tr>\n",
              "      <th>Predicted</th>\n",
              "      <th></th>\n",
              "      <th></th>\n",
              "    </tr>\n",
              "  </thead>\n",
              "  <tbody>\n",
              "    <tr>\n",
              "      <th>женский</th>\n",
              "      <td>59</td>\n",
              "      <td>1</td>\n",
              "    </tr>\n",
              "    <tr>\n",
              "      <th>мужской</th>\n",
              "      <td>3</td>\n",
              "      <td>35</td>\n",
              "    </tr>\n",
              "  </tbody>\n",
              "</table>\n",
              "</div>\n",
              "      <button class=\"colab-df-convert\" onclick=\"convertToInteractive('df-e74b45ae-e188-4edc-9fc5-437414c000df')\"\n",
              "              title=\"Convert this dataframe to an interactive table.\"\n",
              "              style=\"display:none;\">\n",
              "        \n",
              "  <svg xmlns=\"http://www.w3.org/2000/svg\" height=\"24px\"viewBox=\"0 0 24 24\"\n",
              "       width=\"24px\">\n",
              "    <path d=\"M0 0h24v24H0V0z\" fill=\"none\"/>\n",
              "    <path d=\"M18.56 5.44l.94 2.06.94-2.06 2.06-.94-2.06-.94-.94-2.06-.94 2.06-2.06.94zm-11 1L8.5 8.5l.94-2.06 2.06-.94-2.06-.94L8.5 2.5l-.94 2.06-2.06.94zm10 10l.94 2.06.94-2.06 2.06-.94-2.06-.94-.94-2.06-.94 2.06-2.06.94z\"/><path d=\"M17.41 7.96l-1.37-1.37c-.4-.4-.92-.59-1.43-.59-.52 0-1.04.2-1.43.59L10.3 9.45l-7.72 7.72c-.78.78-.78 2.05 0 2.83L4 21.41c.39.39.9.59 1.41.59.51 0 1.02-.2 1.41-.59l7.78-7.78 2.81-2.81c.8-.78.8-2.07 0-2.86zM5.41 20L4 18.59l7.72-7.72 1.47 1.35L5.41 20z\"/>\n",
              "  </svg>\n",
              "      </button>\n",
              "      \n",
              "  <style>\n",
              "    .colab-df-container {\n",
              "      display:flex;\n",
              "      flex-wrap:wrap;\n",
              "      gap: 12px;\n",
              "    }\n",
              "\n",
              "    .colab-df-convert {\n",
              "      background-color: #E8F0FE;\n",
              "      border: none;\n",
              "      border-radius: 50%;\n",
              "      cursor: pointer;\n",
              "      display: none;\n",
              "      fill: #1967D2;\n",
              "      height: 32px;\n",
              "      padding: 0 0 0 0;\n",
              "      width: 32px;\n",
              "    }\n",
              "\n",
              "    .colab-df-convert:hover {\n",
              "      background-color: #E2EBFA;\n",
              "      box-shadow: 0px 1px 2px rgba(60, 64, 67, 0.3), 0px 1px 3px 1px rgba(60, 64, 67, 0.15);\n",
              "      fill: #174EA6;\n",
              "    }\n",
              "\n",
              "    [theme=dark] .colab-df-convert {\n",
              "      background-color: #3B4455;\n",
              "      fill: #D2E3FC;\n",
              "    }\n",
              "\n",
              "    [theme=dark] .colab-df-convert:hover {\n",
              "      background-color: #434B5C;\n",
              "      box-shadow: 0px 1px 3px 1px rgba(0, 0, 0, 0.15);\n",
              "      filter: drop-shadow(0px 1px 2px rgba(0, 0, 0, 0.3));\n",
              "      fill: #FFFFFF;\n",
              "    }\n",
              "  </style>\n",
              "\n",
              "      <script>\n",
              "        const buttonEl =\n",
              "          document.querySelector('#df-e74b45ae-e188-4edc-9fc5-437414c000df button.colab-df-convert');\n",
              "        buttonEl.style.display =\n",
              "          google.colab.kernel.accessAllowed ? 'block' : 'none';\n",
              "\n",
              "        async function convertToInteractive(key) {\n",
              "          const element = document.querySelector('#df-e74b45ae-e188-4edc-9fc5-437414c000df');\n",
              "          const dataTable =\n",
              "            await google.colab.kernel.invokeFunction('convertToInteractive',\n",
              "                                                     [key], {});\n",
              "          if (!dataTable) return;\n",
              "\n",
              "          const docLinkHtml = 'Like what you see? Visit the ' +\n",
              "            '<a target=\"_blank\" href=https://colab.research.google.com/notebooks/data_table.ipynb>data table notebook</a>'\n",
              "            + ' to learn more about interactive tables.';\n",
              "          element.innerHTML = '';\n",
              "          dataTable['output_type'] = 'display_data';\n",
              "          await google.colab.output.renderOutput(dataTable, element);\n",
              "          const docLink = document.createElement('div');\n",
              "          docLink.innerHTML = docLinkHtml;\n",
              "          element.appendChild(docLink);\n",
              "        }\n",
              "      </script>\n",
              "    </div>\n",
              "  </div>\n",
              "  "
            ]
          },
          "metadata": {},
          "execution_count": 16
        }
      ]
    },
    {
      "cell_type": "code",
      "source": [
        "from sklearn.metrics import precision_recall_fscore_support\n",
        "precision_recall_fscore_support(df_test_cut['Sex'], df_test_cut['Predicted'])"
      ],
      "metadata": {
        "colab": {
          "base_uri": "https://localhost:8080/"
        },
        "id": "TRqnyKE__aBE",
        "outputId": "2c81fba7-0296-4b02-bab2-ea09f9c0fd1e"
      },
      "execution_count": null,
      "outputs": [
        {
          "output_type": "execute_result",
          "data": {
            "text/plain": [
              "(array([0.98333333, 0.92105263]),\n",
              " array([0.9516129 , 0.97222222]),\n",
              " array([0.96721311, 0.94594595]),\n",
              " array([62, 36]))"
            ]
          },
          "metadata": {},
          "execution_count": 17
        }
      ]
    }
  ]
}
{
  "cells": [
    {
      "cell_type": "markdown",
      "metadata": {
        "id": "uc4Uv6Vm6QNU"
      },
      "source": [
        "# Задача регрессии. Дерево решений\n",
        "\n"
      ]
    },
    {
      "cell_type": "code",
      "execution_count": 1,
      "metadata": {
        "id": "g0UCHWjW6JPN"
      },
      "outputs": [],
      "source": [
        "import pandas as pd\n",
        "import seaborn as sns\n",
        "from sklearn import tree"
      ]
    },
    {
      "cell_type": "code",
      "execution_count": 2,
      "metadata": {
        "id": "XbfHSIOO6j_a",
        "colab": {
          "base_uri": "https://localhost:8080/"
        },
        "outputId": "c8670c72-98af-4506-af43-fde3aae845f0"
      },
      "outputs": [
        {
          "output_type": "stream",
          "name": "stdout",
          "text": [
            "<class 'pandas.core.frame.DataFrame'>\n",
            "RangeIndex: 186 entries, 0 to 185\n",
            "Data columns (total 48 columns):\n",
            " #   Column                       Non-Null Count  Dtype  \n",
            "---  ------                       --------------  -----  \n",
            " 0   Age                          186 non-null    int64  \n",
            " 1   Growth                       186 non-null    int64  \n",
            " 2   Shoe size                    186 non-null    int64  \n",
            " 3   Course number                186 non-null    int64  \n",
            " 4   Year of birth                186 non-null    int64  \n",
            " 5   Friend number                186 non-null    int64  \n",
            " 6   Russian rating               186 non-null    int64  \n",
            " 7   Maths rating                 186 non-null    int64  \n",
            " 8   Physics rating               186 non-null    int64  \n",
            " 9   Computer science rating      186 non-null    int64  \n",
            " 10  Chemistry rating             186 non-null    int64  \n",
            " 11  Literature rating            186 non-null    int64  \n",
            " 12  History rating               186 non-null    int64  \n",
            " 13  Geography rating             186 non-null    int64  \n",
            " 14  Biology rating               186 non-null    int64  \n",
            " 15  Foreign language rating      186 non-null    int64  \n",
            " 16  Social science rating        186 non-null    int64  \n",
            " 17  Distance to home km          186 non-null    int64  \n",
            " 18  Minutes to first class       186 non-null    int64  \n",
            " 19  Children number              150 non-null    float64\n",
            " 20  Removed teeth                148 non-null    float64\n",
            " 21  Weight                       157 non-null    float64\n",
            " 22  Glasses                      184 non-null    object \n",
            " 23  Sex                          186 non-null    object \n",
            " 24  Problems in last semester    186 non-null    object \n",
            " 25  Coin                         186 non-null    object \n",
            " 26  Rock paper scissors          186 non-null    object \n",
            " 27  Animal                       186 non-null    object \n",
            " 28  Month of birthday            186 non-null    int64  \n",
            " 29  Your rating in university    186 non-null    object \n",
            " 30  Fastfood                     186 non-null    object \n",
            " 31  Height of 5000 mm            186 non-null    int64  \n",
            " 32  Width of 5000 mm             186 non-null    int64  \n",
            " 33  Putin age                    186 non-null    int64  \n",
            " 34  Army                         186 non-null    object \n",
            " 35  Hostel                       186 non-null    object \n",
            " 36  Hair length                  186 non-null    float64\n",
            " 37  Floor number                 186 non-null    int64  \n",
            " 38  Social network duration min  186 non-null    int64  \n",
            " 39  Chocolate                    186 non-null    object \n",
            " 40  City population              186 non-null    float64\n",
            " 41  Strange people               186 non-null    object \n",
            " 42  Your insitute                186 non-null    object \n",
            " 43  Brother-sister               186 non-null    object \n",
            " 44  Plane seat                   186 non-null    object \n",
            " 45  MIddle and index finger      186 non-null    int64  \n",
            " 46  Middle and ring finger       186 non-null    float64\n",
            " 47  Middle and little finger     186 non-null    float64\n",
            "dtypes: float64(7), int64(26), object(15)\n",
            "memory usage: 69.9+ KB\n"
          ]
        }
      ],
      "source": [
        "df=pd.read_csv('https://github.com/Vitalyastiy/courses/blob/main/stepic_ML/students.csv?raw=true', delimiter=',')\n",
        "df.info()"
      ]
    },
    {
      "cell_type": "code",
      "execution_count": 3,
      "metadata": {
        "id": "yOsM9BxOcqDL"
      },
      "outputs": [],
      "source": [
        "df_cut=df[['Year of birth', 'Month of birthday' , 'Age']]\n",
        "df_cut=df_cut.dropna()"
      ]
    },
    {
      "cell_type": "code",
      "execution_count": 4,
      "metadata": {
        "colab": {
          "base_uri": "https://localhost:8080/",
          "height": 568
        },
        "id": "pHS54as86_8r",
        "outputId": "e4d8de70-7fe0-4a37-9338-b0b15150103b"
      },
      "outputs": [
        {
          "output_type": "execute_result",
          "data": {
            "text/plain": [
              "<seaborn.axisgrid.PairGrid at 0x7f6d5d9adaf0>"
            ]
          },
          "metadata": {},
          "execution_count": 4
        },
        {
          "output_type": "display_data",
          "data": {
            "text/plain": [
              "<Figure size 540x540 with 12 Axes>"
            ],
            "image/png": "[encoded data removed]"
          },
          "metadata": {
            "needs_background": "light"
          }
        }
      ],
      "source": [
        "sns.pairplot(df_cut)"
      ]
    },
    {
      "cell_type": "markdown",
      "metadata": {
        "id": "KT2ddURJNa8b"
      },
      "source": [
        "Гипотеза: угадать рост человека можно за небольшое количество вопросов. И модель эти вопросы найдет автоматически."
      ]
    },
    {
      "cell_type": "code",
      "execution_count": 6,
      "metadata": {
        "colab": {
          "base_uri": "https://localhost:8080/"
        },
        "id": "V5In7x7F7Lkq",
        "outputId": "b0c98341-0010-40d2-f8d1-f2a3e9abef54"
      },
      "outputs": [
        {
          "output_type": "execute_result",
          "data": {
            "text/plain": [
              "DecisionTreeRegressor(max_depth=3)"
            ]
          },
          "metadata": {},
          "execution_count": 6
        }
      ],
      "source": [
        "model=tree.DecisionTreeRegressor(max_depth=3)\n",
        "model.fit(df_cut[['Year of birth', 'Month of birthday' ]].values.reshape(-1,2), y=df_cut['Age'].values)"
      ]
    },
    {
      "cell_type": "code",
      "execution_count": 7,
      "metadata": {
        "id": "eJNYh5g4jJKA",
        "colab": {
          "base_uri": "https://localhost:8080/",
          "height": 519
        },
        "outputId": "fce02d31-ce82-4e37-c4c0-e6e446841934"
      },
      "outputs": [
        {
          "output_type": "execute_result",
          "data": {
            "text/plain": [
              "<graphviz.files.Source at 0x7f6d4b86a670>"
            ],
            "image/svg+xml": "<?xml version=\"1.0\" encoding=\"UTF-8\" standalone=\"no\"?>\n<!DOCTYPE svg PUBLIC \"-//W3C//DTD SVG 1.1//EN\"\n \"http://www.w3.org/Graphics/SVG/1.1/DTD/svg11.dtd\">\n<!-- Generated by graphviz version 2.43.0 (0)\n -->\n<!-- Title: Tree Pages: 1 -->\n<svg width=\"1298pt\" height=\"373pt\"\n viewBox=\"0.00 0.00 1297.50 373.00\" xmlns=\"http://www.w3.org/2000/svg\" xmlns:xlink=\"http://www.w3.org/1999/xlink\">\n<g id=\"graph0\" class=\"graph\" transform=\"scale(1 1) rotate(0) translate(4 369)\">\n<title>Tree</title>\n<polygon fill=\"white\" stroke=\"transparent\" points=\"-4,4 -4,-369 1293.5,-369 1293.5,4 -4,4\"/>\n<!-- 0 -->\n<g id=\"node1\" class=\"node\">\n<title>0</title>\n<path fill=\"#fdf7f3\" stroke=\"black\" d=\"M686,-365C686,-365 552,-365 552,-365 546,-365 540,-359 540,-353 540,-353 540,-309 540,-309 540,-303 546,-297 552,-297 552,-297 686,-297 686,-297 692,-297 698,-303 698,-309 698,-309 698,-353 698,-353 698,-359 692,-365 686,-365\"/>\n<text text-anchor=\"start\" x=\"554\" y=\"-349.8\" font-family=\"Helvetica,sans-Serif\" font-size=\"14.00\">Year of birth ≤ 1996.5</text>\n<text text-anchor=\"start\" x=\"548\" y=\"-334.8\" font-family=\"Helvetica,sans-Serif\" font-size=\"14.00\">squared_error = 11.967</text>\n<text text-anchor=\"start\" x=\"574\" y=\"-319.8\" font-family=\"Helvetica,sans-Serif\" font-size=\"14.00\">samples = 186</text>\n<text text-anchor=\"start\" x=\"574\" y=\"-304.8\" font-family=\"Helvetica,sans-Serif\" font-size=\"14.00\">value = 20.688</text>\n</g>\n<!-- 1 -->\n<g id=\"node2\" class=\"node\">\n<title>1</title>\n<path fill=\"#f7d7c0\" stroke=\"black\" d=\"M535.5,-261C535.5,-261 396.5,-261 396.5,-261 390.5,-261 384.5,-255 384.5,-249 384.5,-249 384.5,-205 384.5,-205 384.5,-199 390.5,-193 396.5,-193 396.5,-193 535.5,-193 535.5,-193 541.5,-193 547.5,-199 547.5,-205 547.5,-205 547.5,-249 547.5,-249 547.5,-255 541.5,-261 535.5,-261\"/>\n<text text-anchor=\"start\" x=\"392.5\" y=\"-245.8\" font-family=\"Helvetica,sans-Serif\" font-size=\"14.00\">Month of birthday ≤ 11.0</text>\n<text text-anchor=\"start\" x=\"398.5\" y=\"-230.8\" font-family=\"Helvetica,sans-Serif\" font-size=\"14.00\">squared_error = 80.89</text>\n<text text-anchor=\"start\" x=\"425\" y=\"-215.8\" font-family=\"Helvetica,sans-Serif\" font-size=\"14.00\">samples = 10</text>\n<text text-anchor=\"start\" x=\"428.5\" y=\"-200.8\" font-family=\"Helvetica,sans-Serif\" font-size=\"14.00\">value = 30.1</text>\n</g>\n<!-- 0&#45;&gt;1 -->\n<g id=\"edge1\" class=\"edge\">\n<title>0&#45;&gt;1</title>\n<path fill=\"none\" stroke=\"black\" d=\"M569.33,-296.88C554.96,-287.3 539.14,-276.76 524.3,-266.86\"/>\n<polygon fill=\"black\" stroke=\"black\" points=\"525.95,-263.76 515.69,-261.12 522.07,-269.58 525.95,-263.76\"/>\n<text text-anchor=\"middle\" x=\"520.59\" y=\"-281.94\" font-family=\"Helvetica,sans-Serif\" font-size=\"14.00\">True</text>\n</g>\n<!-- 8 -->\n<g id=\"node9\" class=\"node\">\n<title>8</title>\n<path fill=\"#fef9f6\" stroke=\"black\" d=\"M854.5,-261C854.5,-261 727.5,-261 727.5,-261 721.5,-261 715.5,-255 715.5,-249 715.5,-249 715.5,-205 715.5,-205 715.5,-199 721.5,-193 727.5,-193 727.5,-193 854.5,-193 854.5,-193 860.5,-193 866.5,-199 866.5,-205 866.5,-205 866.5,-249 866.5,-249 866.5,-255 860.5,-261 854.5,-261\"/>\n<text text-anchor=\"start\" x=\"726\" y=\"-245.8\" font-family=\"Helvetica,sans-Serif\" font-size=\"14.00\">Year of birth ≤ 2001.5</text>\n<text text-anchor=\"start\" x=\"723.5\" y=\"-230.8\" font-family=\"Helvetica,sans-Serif\" font-size=\"14.00\">squared_error = 2.732</text>\n<text text-anchor=\"start\" x=\"746\" y=\"-215.8\" font-family=\"Helvetica,sans-Serif\" font-size=\"14.00\">samples = 176</text>\n<text text-anchor=\"start\" x=\"746\" y=\"-200.8\" font-family=\"Helvetica,sans-Serif\" font-size=\"14.00\">value = 20.153</text>\n</g>\n<!-- 0&#45;&gt;8 -->\n<g id=\"edge8\" class=\"edge\">\n<title>0&#45;&gt;8</title>\n<path fill=\"none\" stroke=\"black\" d=\"M674.84,-296.88C691.3,-287.12 709.44,-276.37 726.4,-266.31\"/>\n<polygon fill=\"black\" stroke=\"black\" points=\"728.33,-269.24 735.14,-261.12 724.76,-263.22 728.33,-269.24\"/>\n<text text-anchor=\"middle\" x=\"728.95\" y=\"-281.65\" font-family=\"Helvetica,sans-Serif\" font-size=\"14.00\">False</text>\n</g>\n<!-- 2 -->\n<g id=\"node3\" class=\"node\">\n<title>2</title>\n<path fill=\"#f9e4d4\" stroke=\"black\" d=\"M287.5,-157C287.5,-157 156.5,-157 156.5,-157 150.5,-157 144.5,-151 144.5,-145 144.5,-145 144.5,-101 144.5,-101 144.5,-95 150.5,-89 156.5,-89 156.5,-89 287.5,-89 287.5,-89 293.5,-89 299.5,-95 299.5,-101 299.5,-101 299.5,-145 299.5,-145 299.5,-151 293.5,-157 287.5,-157\"/>\n<text text-anchor=\"start\" x=\"152.5\" y=\"-141.8\" font-family=\"Helvetica,sans-Serif\" font-size=\"14.00\">Month of birthday ≤ 8.0</text>\n<text text-anchor=\"start\" x=\"154.5\" y=\"-126.8\" font-family=\"Helvetica,sans-Serif\" font-size=\"14.00\">squared_error = 7.673</text>\n<text text-anchor=\"start\" x=\"184.5\" y=\"-111.8\" font-family=\"Helvetica,sans-Serif\" font-size=\"14.00\">samples = 7</text>\n<text text-anchor=\"start\" x=\"177\" y=\"-96.8\" font-family=\"Helvetica,sans-Serif\" font-size=\"14.00\">value = 26.429</text>\n</g>\n<!-- 1&#45;&gt;2 -->\n<g id=\"edge2\" class=\"edge\">\n<title>1&#45;&gt;2</title>\n<path fill=\"none\" stroke=\"black\" d=\"M386.78,-192.88C361.87,-182.47 334.23,-170.92 308.83,-160.3\"/>\n<polygon fill=\"black\" stroke=\"black\" points=\"310.15,-157.06 299.57,-156.43 307.45,-163.51 310.15,-157.06\"/>\n</g>\n<!-- 5 -->\n<g id=\"node6\" class=\"node\">\n<title>5</title>\n<path fill=\"#f1b992\" stroke=\"black\" d=\"M537,-157C537,-157 395,-157 395,-157 389,-157 383,-151 383,-145 383,-145 383,-101 383,-101 383,-95 389,-89 395,-89 395,-89 537,-89 537,-89 543,-89 549,-95 549,-101 549,-101 549,-145 549,-145 549,-151 543,-157 537,-157\"/>\n<text text-anchor=\"start\" x=\"401\" y=\"-141.8\" font-family=\"Helvetica,sans-Serif\" font-size=\"14.00\">Year of birth ≤ 1973.0</text>\n<text text-anchor=\"start\" x=\"391\" y=\"-126.8\" font-family=\"Helvetica,sans-Serif\" font-size=\"14.00\">squared_error = 146.889</text>\n<text text-anchor=\"start\" x=\"428.5\" y=\"-111.8\" font-family=\"Helvetica,sans-Serif\" font-size=\"14.00\">samples = 3</text>\n<text text-anchor=\"start\" x=\"421\" y=\"-96.8\" font-family=\"Helvetica,sans-Serif\" font-size=\"14.00\">value = 38.667</text>\n</g>\n<!-- 1&#45;&gt;5 -->\n<g id=\"edge5\" class=\"edge\">\n<title>1&#45;&gt;5</title>\n<path fill=\"none\" stroke=\"black\" d=\"M466,-192.88C466,-184.78 466,-175.98 466,-167.47\"/>\n<polygon fill=\"black\" stroke=\"black\" points=\"469.5,-167.3 466,-157.3 462.5,-167.3 469.5,-167.3\"/>\n</g>\n<!-- 3 -->\n<g id=\"node4\" class=\"node\">\n<title>3</title>\n<path fill=\"#fae8dc\" stroke=\"black\" d=\"M124,-53C124,-53 12,-53 12,-53 6,-53 0,-47 0,-41 0,-41 0,-12 0,-12 0,-6 6,0 12,0 12,0 124,0 124,0 130,0 136,-6 136,-12 136,-12 136,-41 136,-41 136,-47 130,-53 124,-53\"/>\n<text text-anchor=\"start\" x=\"8\" y=\"-37.8\" font-family=\"Helvetica,sans-Serif\" font-size=\"14.00\">squared_error = 3.2</text>\n<text text-anchor=\"start\" x=\"30.5\" y=\"-22.8\" font-family=\"Helvetica,sans-Serif\" font-size=\"14.00\">samples = 5</text>\n<text text-anchor=\"start\" x=\"30.5\" y=\"-7.8\" font-family=\"Helvetica,sans-Serif\" font-size=\"14.00\">value = 25.0</text>\n</g>\n<!-- 2&#45;&gt;3 -->\n<g id=\"edge3\" class=\"edge\">\n<title>2&#45;&gt;3</title>\n<path fill=\"none\" stroke=\"black\" d=\"M168.14,-88.95C152.04,-79.07 134.45,-68.28 118.57,-58.53\"/>\n<polygon fill=\"black\" stroke=\"black\" points=\"120.3,-55.48 109.94,-53.24 116.63,-61.45 120.3,-55.48\"/>\n</g>\n<!-- 4 -->\n<g id=\"node5\" class=\"node\">\n<title>4</title>\n<path fill=\"#f7d7c0\" stroke=\"black\" d=\"M278,-53C278,-53 166,-53 166,-53 160,-53 154,-47 154,-41 154,-41 154,-12 154,-12 154,-6 160,0 166,0 166,0 278,0 278,0 284,0 290,-6 290,-12 290,-12 290,-41 290,-41 290,-47 284,-53 278,-53\"/>\n<text text-anchor=\"start\" x=\"162\" y=\"-37.8\" font-family=\"Helvetica,sans-Serif\" font-size=\"14.00\">squared_error = 1.0</text>\n<text text-anchor=\"start\" x=\"184.5\" y=\"-22.8\" font-family=\"Helvetica,sans-Serif\" font-size=\"14.00\">samples = 2</text>\n<text text-anchor=\"start\" x=\"184.5\" y=\"-7.8\" font-family=\"Helvetica,sans-Serif\" font-size=\"14.00\">value = 30.0</text>\n</g>\n<!-- 2&#45;&gt;4 -->\n<g id=\"edge4\" class=\"edge\">\n<title>2&#45;&gt;4</title>\n<path fill=\"none\" stroke=\"black\" d=\"M222,-88.95C222,-80.72 222,-71.85 222,-63.48\"/>\n<polygon fill=\"black\" stroke=\"black\" points=\"225.5,-63.24 222,-53.24 218.5,-63.24 225.5,-63.24\"/>\n</g>\n<!-- 6 -->\n<g id=\"node7\" class=\"node\">\n<title>6</title>\n<path fill=\"#e58139\" stroke=\"black\" d=\"M432,-53C432,-53 320,-53 320,-53 314,-53 308,-47 308,-41 308,-41 308,-12 308,-12 308,-6 314,0 320,0 320,0 432,0 432,0 438,0 444,-6 444,-12 444,-12 444,-41 444,-41 444,-47 438,-53 432,-53\"/>\n<text text-anchor=\"start\" x=\"316\" y=\"-37.8\" font-family=\"Helvetica,sans-Serif\" font-size=\"14.00\">squared_error = 0.0</text>\n<text text-anchor=\"start\" x=\"338.5\" y=\"-22.8\" font-family=\"Helvetica,sans-Serif\" font-size=\"14.00\">samples = 1</text>\n<text text-anchor=\"start\" x=\"338.5\" y=\"-7.8\" font-family=\"Helvetica,sans-Serif\" font-size=\"14.00\">value = 55.0</text>\n</g>\n<!-- 5&#45;&gt;6 -->\n<g id=\"edge6\" class=\"edge\">\n<title>5&#45;&gt;6</title>\n<path fill=\"none\" stroke=\"black\" d=\"M434.52,-88.95C425.81,-79.8 416.35,-69.87 407.63,-60.71\"/>\n<polygon fill=\"black\" stroke=\"black\" points=\"409.94,-58.06 400.51,-53.24 404.87,-62.89 409.94,-58.06\"/>\n</g>\n<!-- 7 -->\n<g id=\"node8\" class=\"node\">\n<title>7</title>\n<path fill=\"#f6d5be\" stroke=\"black\" d=\"M601.5,-53C601.5,-53 474.5,-53 474.5,-53 468.5,-53 462.5,-47 462.5,-41 462.5,-41 462.5,-12 462.5,-12 462.5,-6 468.5,0 474.5,0 474.5,0 601.5,0 601.5,0 607.5,0 613.5,-6 613.5,-12 613.5,-12 613.5,-41 613.5,-41 613.5,-47 607.5,-53 601.5,-53\"/>\n<text text-anchor=\"start\" x=\"470.5\" y=\"-37.8\" font-family=\"Helvetica,sans-Serif\" font-size=\"14.00\">squared_error = 20.25</text>\n<text text-anchor=\"start\" x=\"500.5\" y=\"-22.8\" font-family=\"Helvetica,sans-Serif\" font-size=\"14.00\">samples = 2</text>\n<text text-anchor=\"start\" x=\"500.5\" y=\"-7.8\" font-family=\"Helvetica,sans-Serif\" font-size=\"14.00\">value = 30.5</text>\n</g>\n<!-- 5&#45;&gt;7 -->\n<g id=\"edge7\" class=\"edge\">\n<title>5&#45;&gt;7</title>\n<path fill=\"none\" stroke=\"black\" d=\"M491.18,-88.95C498.01,-79.98 505.42,-70.27 512.28,-61.26\"/>\n<polygon fill=\"black\" stroke=\"black\" points=\"515.11,-63.31 518.39,-53.24 509.55,-59.07 515.11,-63.31\"/>\n</g>\n<!-- 9 -->\n<g id=\"node10\" class=\"node\">\n<title>9</title>\n<path fill=\"#fdf4ee\" stroke=\"black\" d=\"M852,-157C852,-157 730,-157 730,-157 724,-157 718,-151 718,-145 718,-145 718,-101 718,-101 718,-95 724,-89 730,-89 730,-89 852,-89 852,-89 858,-89 864,-95 864,-101 864,-101 864,-145 864,-145 864,-151 858,-157 852,-157\"/>\n<text text-anchor=\"start\" x=\"726\" y=\"-141.8\" font-family=\"Helvetica,sans-Serif\" font-size=\"14.00\">Year of birth ≤ 1999.5</text>\n<text text-anchor=\"start\" x=\"727.5\" y=\"-126.8\" font-family=\"Helvetica,sans-Serif\" font-size=\"14.00\">squared_error = 1.28</text>\n<text text-anchor=\"start\" x=\"750\" y=\"-111.8\" font-family=\"Helvetica,sans-Serif\" font-size=\"14.00\">samples = 83</text>\n<text text-anchor=\"start\" x=\"746\" y=\"-96.8\" font-family=\"Helvetica,sans-Serif\" font-size=\"14.00\">value = 21.578</text>\n</g>\n<!-- 8&#45;&gt;9 -->\n<g id=\"edge9\" class=\"edge\">\n<title>8&#45;&gt;9</title>\n<path fill=\"none\" stroke=\"black\" d=\"M791,-192.88C791,-184.78 791,-175.98 791,-167.47\"/>\n<polygon fill=\"black\" stroke=\"black\" points=\"794.5,-167.3 791,-157.3 787.5,-167.3 794.5,-167.3\"/>\n</g>\n<!-- 12 -->\n<g id=\"node13\" class=\"node\">\n<title>12</title>\n<path fill=\"#fffefd\" stroke=\"black\" d=\"M1108.5,-157C1108.5,-157 981.5,-157 981.5,-157 975.5,-157 969.5,-151 969.5,-145 969.5,-145 969.5,-101 969.5,-101 969.5,-95 975.5,-89 981.5,-89 981.5,-89 1108.5,-89 1108.5,-89 1114.5,-89 1120.5,-95 1120.5,-101 1120.5,-101 1120.5,-145 1120.5,-145 1120.5,-151 1114.5,-157 1108.5,-157\"/>\n<text text-anchor=\"start\" x=\"980\" y=\"-141.8\" font-family=\"Helvetica,sans-Serif\" font-size=\"14.00\">Year of birth ≤ 2002.5</text>\n<text text-anchor=\"start\" x=\"977.5\" y=\"-126.8\" font-family=\"Helvetica,sans-Serif\" font-size=\"14.00\">squared_error = 0.599</text>\n<text text-anchor=\"start\" x=\"1004\" y=\"-111.8\" font-family=\"Helvetica,sans-Serif\" font-size=\"14.00\">samples = 93</text>\n<text text-anchor=\"start\" x=\"1000\" y=\"-96.8\" font-family=\"Helvetica,sans-Serif\" font-size=\"14.00\">value = 18.882</text>\n</g>\n<!-- 8&#45;&gt;12 -->\n<g id=\"edge12\" class=\"edge\">\n<title>8&#45;&gt;12</title>\n<path fill=\"none\" stroke=\"black\" d=\"M866.52,-195.67C895.81,-183.91 929.51,-170.38 959.67,-158.27\"/>\n<polygon fill=\"black\" stroke=\"black\" points=\"961.36,-161.36 969.33,-154.39 958.75,-154.87 961.36,-161.36\"/>\n</g>\n<!-- 10 -->\n<g id=\"node11\" class=\"node\">\n<title>10</title>\n<path fill=\"#fcefe6\" stroke=\"black\" d=\"M770.5,-53C770.5,-53 643.5,-53 643.5,-53 637.5,-53 631.5,-47 631.5,-41 631.5,-41 631.5,-12 631.5,-12 631.5,-6 637.5,0 643.5,0 643.5,0 770.5,0 770.5,0 776.5,0 782.5,-6 782.5,-12 782.5,-12 782.5,-41 782.5,-41 782.5,-47 776.5,-53 770.5,-53\"/>\n<text text-anchor=\"start\" x=\"639.5\" y=\"-37.8\" font-family=\"Helvetica,sans-Serif\" font-size=\"14.00\">squared_error = 0.628</text>\n<text text-anchor=\"start\" x=\"666\" y=\"-22.8\" font-family=\"Helvetica,sans-Serif\" font-size=\"14.00\">samples = 22</text>\n<text text-anchor=\"start\" x=\"662\" y=\"-7.8\" font-family=\"Helvetica,sans-Serif\" font-size=\"14.00\">value = 23.091</text>\n</g>\n<!-- 9&#45;&gt;10 -->\n<g id=\"edge10\" class=\"edge\">\n<title>9&#45;&gt;10</title>\n<path fill=\"none\" stroke=\"black\" d=\"M761.62,-88.95C753.49,-79.8 744.66,-69.87 736.52,-60.71\"/>\n<polygon fill=\"black\" stroke=\"black\" points=\"739.14,-58.39 729.88,-53.24 733.9,-63.04 739.14,-58.39\"/>\n</g>\n<!-- 11 -->\n<g id=\"node12\" class=\"node\">\n<title>11</title>\n<path fill=\"#fdf6f1\" stroke=\"black\" d=\"M939.5,-53C939.5,-53 812.5,-53 812.5,-53 806.5,-53 800.5,-47 800.5,-41 800.5,-41 800.5,-12 800.5,-12 800.5,-6 806.5,0 812.5,0 812.5,0 939.5,0 939.5,0 945.5,0 951.5,-6 951.5,-12 951.5,-12 951.5,-41 951.5,-41 951.5,-47 945.5,-53 939.5,-53\"/>\n<text text-anchor=\"start\" x=\"808.5\" y=\"-37.8\" font-family=\"Helvetica,sans-Serif\" font-size=\"14.00\">squared_error = 0.392</text>\n<text text-anchor=\"start\" x=\"835\" y=\"-22.8\" font-family=\"Helvetica,sans-Serif\" font-size=\"14.00\">samples = 61</text>\n<text text-anchor=\"start\" x=\"831\" y=\"-7.8\" font-family=\"Helvetica,sans-Serif\" font-size=\"14.00\">value = 21.033</text>\n</g>\n<!-- 9&#45;&gt;11 -->\n<g id=\"edge11\" class=\"edge\">\n<title>9&#45;&gt;11</title>\n<path fill=\"none\" stroke=\"black\" d=\"M820.73,-88.95C828.96,-79.8 837.89,-69.87 846.13,-60.71\"/>\n<polygon fill=\"black\" stroke=\"black\" points=\"848.77,-63.01 852.85,-53.24 843.56,-58.33 848.77,-63.01\"/>\n</g>\n<!-- 13 -->\n<g id=\"node14\" class=\"node\">\n<title>13</title>\n<path fill=\"#fefbf9\" stroke=\"black\" d=\"M1108.5,-53C1108.5,-53 981.5,-53 981.5,-53 975.5,-53 969.5,-47 969.5,-41 969.5,-41 969.5,-12 969.5,-12 969.5,-6 975.5,0 981.5,0 981.5,0 1108.5,0 1108.5,0 1114.5,0 1120.5,-6 1120.5,-12 1120.5,-12 1120.5,-41 1120.5,-41 1120.5,-47 1114.5,-53 1108.5,-53\"/>\n<text text-anchor=\"start\" x=\"977.5\" y=\"-37.8\" font-family=\"Helvetica,sans-Serif\" font-size=\"14.00\">squared_error = 0.231</text>\n<text text-anchor=\"start\" x=\"1004\" y=\"-22.8\" font-family=\"Helvetica,sans-Serif\" font-size=\"14.00\">samples = 33</text>\n<text text-anchor=\"start\" x=\"1000\" y=\"-7.8\" font-family=\"Helvetica,sans-Serif\" font-size=\"14.00\">value = 19.636</text>\n</g>\n<!-- 12&#45;&gt;13 -->\n<g id=\"edge13\" class=\"edge\">\n<title>12&#45;&gt;13</title>\n<path fill=\"none\" stroke=\"black\" d=\"M1045,-88.95C1045,-80.72 1045,-71.85 1045,-63.48\"/>\n<polygon fill=\"black\" stroke=\"black\" points=\"1048.5,-63.24 1045,-53.24 1041.5,-63.24 1048.5,-63.24\"/>\n</g>\n<!-- 14 -->\n<g id=\"node15\" class=\"node\">\n<title>14</title>\n<path fill=\"#ffffff\" stroke=\"black\" d=\"M1277.5,-53C1277.5,-53 1150.5,-53 1150.5,-53 1144.5,-53 1138.5,-47 1138.5,-41 1138.5,-41 1138.5,-12 1138.5,-12 1138.5,-6 1144.5,0 1150.5,0 1150.5,0 1277.5,0 1277.5,0 1283.5,0 1289.5,-6 1289.5,-12 1289.5,-12 1289.5,-41 1289.5,-41 1289.5,-47 1283.5,-53 1277.5,-53\"/>\n<text text-anchor=\"start\" x=\"1146.5\" y=\"-37.8\" font-family=\"Helvetica,sans-Serif\" font-size=\"14.00\">squared_error = 0.316</text>\n<text text-anchor=\"start\" x=\"1173\" y=\"-22.8\" font-family=\"Helvetica,sans-Serif\" font-size=\"14.00\">samples = 60</text>\n<text text-anchor=\"start\" x=\"1169\" y=\"-7.8\" font-family=\"Helvetica,sans-Serif\" font-size=\"14.00\">value = 18.467</text>\n</g>\n<!-- 12&#45;&gt;14 -->\n<g id=\"edge14\" class=\"edge\">\n<title>12&#45;&gt;14</title>\n<path fill=\"none\" stroke=\"black\" d=\"M1104.11,-88.95C1122.02,-78.93 1141.61,-67.98 1159.23,-58.13\"/>\n<polygon fill=\"black\" stroke=\"black\" points=\"1161.22,-61.02 1168.24,-53.09 1157.81,-54.91 1161.22,-61.02\"/>\n</g>\n</g>\n</svg>\n"
          },
          "metadata": {},
          "execution_count": 7
        }
      ],
      "source": [
        "import graphviz \n",
        "dot_data = tree.export_graphviz(model, out_file=None, \n",
        "                      feature_names=['Year of birth', 'Month of birthday'],  \n",
        "                      class_names='Age',  \n",
        "                     filled=True, rounded=True,  \n",
        "                      special_characters=True)  \n",
        "graph = graphviz.Source(dot_data)  \n",
        "graph "
      ]
    },
    {
      "cell_type": "markdown",
      "metadata": {
        "id": "djQ9SZEEWJWm"
      },
      "source": [
        "Загружаем тестовую выбоку"
      ]
    },
    {
      "cell_type": "code",
      "execution_count": 14,
      "metadata": {
        "id": "DtjenKHIywyj"
      },
      "outputs": [],
      "source": [
        "df_test=pd.read_csv('https://github.com/Vitalyastiy/courses/blob/main/stepic_ML/students_test.csv?raw=true', delimiter=',')\n",
        "df_test_cut=df_test[['Year of birth', 'Month of birthday', 'Age']]\n",
        "df_test_cut=df_test_cut.dropna()"
      ]
    },
    {
      "cell_type": "markdown",
      "metadata": {
        "id": "2CRTda9X5wEg"
      },
      "source": [
        "Внимание: через функцию predict прогоняем объекты **тестовой** выборки"
      ]
    },
    {
      "cell_type": "code",
      "execution_count": 15,
      "metadata": {
        "id": "y9FLo4eS5q6C"
      },
      "outputs": [],
      "source": [
        "df_test_cut['Predicted']=model.predict(df_test_cut[['Year of birth', 'Month of birthday']].values.reshape(-1,2))"
      ]
    },
    {
      "cell_type": "code",
      "execution_count": 16,
      "metadata": {
        "colab": {
          "base_uri": "https://localhost:8080/"
        },
        "id": "zfRBQpgTsuRX",
        "outputId": "a0d5dba0-996f-4f72-d55c-6c7b523015bb"
      },
      "outputs": [
        {
          "output_type": "execute_result",
          "data": {
            "text/plain": [
              "0.7241329318612689"
            ]
          },
          "metadata": {},
          "execution_count": 16
        }
      ],
      "source": [
        "from sklearn.metrics import mean_absolute_error\n",
        "mean_absolute_error(df_test_cut['Age'], df_test_cut['Predicted'])"
      ]
    },
    {
      "cell_type": "code",
      "source": [
        "df_test_cut"
      ],
      "metadata": {
        "id": "St49whwNHTO9",
        "colab": {
          "base_uri": "https://localhost:8080/",
          "height": 423
        },
        "outputId": "8dc1acd5-5731-49dc-ae8c-1206c5f81a8c"
      },
      "execution_count": 20,
      "outputs": [
        {
          "output_type": "execute_result",
          "data": {
            "text/plain": [
              "    Year of birth  Month of birthday  Age  Predicted\n",
              "0            2000                  6   22  21.032787\n",
              "1            2002                  3   20  19.636364\n",
              "2            2001                  6   21  21.032787\n",
              "3            2001                  7   21  21.032787\n",
              "4            2000                  5   22  21.032787\n",
              "..            ...                ...  ...        ...\n",
              "93           2002                  2   20  19.636364\n",
              "94           2000                  4   22  21.032787\n",
              "95           2000                  4   22  21.032787\n",
              "96           2001                  9   20  21.032787\n",
              "97           2002                  3   20  19.636364\n",
              "\n",
              "[98 rows x 4 columns]"
            ],
            "text/html": [
              "\n",
              "  <div id=\"df-94700f8d-fca2-4318-8e45-f825b3e0f345\">\n",
              "    <div class=\"colab-df-container\">\n",
              "      <div>\n",
              "<style scoped>\n",
              "    .dataframe tbody tr th:only-of-type {\n",
              "        vertical-align: middle;\n",
              "    }\n",
              "\n",
              "    .dataframe tbody tr th {\n",
              "        vertical-align: top;\n",
              "    }\n",
              "\n",
              "    .dataframe thead th {\n",
              "        text-align: right;\n",
              "    }\n",
              "</style>\n",
              "<table border=\"1\" class=\"dataframe\">\n",
              "  <thead>\n",
              "    <tr style=\"text-align: right;\">\n",
              "      <th></th>\n",
              "      <th>Year of birth</th>\n",
              "      <th>Month of birthday</th>\n",
              "      <th>Age</th>\n",
              "      <th>Predicted</th>\n",
              "    </tr>\n",
              "  </thead>\n",
              "  <tbody>\n",
              "    <tr>\n",
              "      <th>0</th>\n",
              "      <td>2000</td>\n",
              "      <td>6</td>\n",
              "      <td>22</td>\n",
              "      <td>21.032787</td>\n",
              "    </tr>\n",
              "    <tr>\n",
              "      <th>1</th>\n",
              "      <td>2002</td>\n",
              "      <td>3</td>\n",
              "      <td>20</td>\n",
              "      <td>19.636364</td>\n",
              "    </tr>\n",
              "    <tr>\n",
              "      <th>2</th>\n",
              "      <td>2001</td>\n",
              "      <td>6</td>\n",
              "      <td>21</td>\n",
              "      <td>21.032787</td>\n",
              "    </tr>\n",
              "    <tr>\n",
              "      <th>3</th>\n",
              "      <td>2001</td>\n",
              "      <td>7</td>\n",
              "      <td>21</td>\n",
              "      <td>21.032787</td>\n",
              "    </tr>\n",
              "    <tr>\n",
              "      <th>4</th>\n",
              "      <td>2000</td>\n",
              "      <td>5</td>\n",
              "      <td>22</td>\n",
              "      <td>21.032787</td>\n",
              "    </tr>\n",
              "    <tr>\n",
              "      <th>...</th>\n",
              "      <td>...</td>\n",
              "      <td>...</td>\n",
              "      <td>...</td>\n",
              "      <td>...</td>\n",
              "    </tr>\n",
              "    <tr>\n",
              "      <th>93</th>\n",
              "      <td>2002</td>\n",
              "      <td>2</td>\n",
              "      <td>20</td>\n",
              "      <td>19.636364</td>\n",
              "    </tr>\n",
              "    <tr>\n",
              "      <th>94</th>\n",
              "      <td>2000</td>\n",
              "      <td>4</td>\n",
              "      <td>22</td>\n",
              "      <td>21.032787</td>\n",
              "    </tr>\n",
              "    <tr>\n",
              "      <th>95</th>\n",
              "      <td>2000</td>\n",
              "      <td>4</td>\n",
              "      <td>22</td>\n",
              "      <td>21.032787</td>\n",
              "    </tr>\n",
              "    <tr>\n",
              "      <th>96</th>\n",
              "      <td>2001</td>\n",
              "      <td>9</td>\n",
              "      <td>20</td>\n",
              "      <td>21.032787</td>\n",
              "    </tr>\n",
              "    <tr>\n",
              "      <th>97</th>\n",
              "      <td>2002</td>\n",
              "      <td>3</td>\n",
              "      <td>20</td>\n",
              "      <td>19.636364</td>\n",
              "    </tr>\n",
              "  </tbody>\n",
              "</table>\n",
              "<p>98 rows × 4 columns</p>\n",
              "</div>\n",
              "      <button class=\"colab-df-convert\" onclick=\"convertToInteractive('df-94700f8d-fca2-4318-8e45-f825b3e0f345')\"\n",
              "              title=\"Convert this dataframe to an interactive table.\"\n",
              "              style=\"display:none;\">\n",
              "        \n",
              "  <svg xmlns=\"http://www.w3.org/2000/svg\" height=\"24px\"viewBox=\"0 0 24 24\"\n",
              "       width=\"24px\">\n",
              "    <path d=\"M0 0h24v24H0V0z\" fill=\"none\"/>\n",
              "    <path d=\"M18.56 5.44l.94 2.06.94-2.06 2.06-.94-2.06-.94-.94-2.06-.94 2.06-2.06.94zm-11 1L8.5 8.5l.94-2.06 2.06-.94-2.06-.94L8.5 2.5l-.94 2.06-2.06.94zm10 10l.94 2.06.94-2.06 2.06-.94-2.06-.94-.94-2.06-.94 2.06-2.06.94z\"/><path d=\"M17.41 7.96l-1.37-1.37c-.4-.4-.92-.59-1.43-.59-.52 0-1.04.2-1.43.59L10.3 9.45l-7.72 7.72c-.78.78-.78 2.05 0 2.83L4 21.41c.39.39.9.59 1.41.59.51 0 1.02-.2 1.41-.59l7.78-7.78 2.81-2.81c.8-.78.8-2.07 0-2.86zM5.41 20L4 18.59l7.72-7.72 1.47 1.35L5.41 20z\"/>\n",
              "  </svg>\n",
              "      </button>\n",
              "      \n",
              "  <style>\n",
              "    .colab-df-container {\n",
              "      display:flex;\n",
              "      flex-wrap:wrap;\n",
              "      gap: 12px;\n",
              "    }\n",
              "\n",
              "    .colab-df-convert {\n",
              "      background-color: #E8F0FE;\n",
              "      border: none;\n",
              "      border-radius: 50%;\n",
              "      cursor: pointer;\n",
              "      display: none;\n",
              "      fill: #1967D2;\n",
              "      height: 32px;\n",
              "      padding: 0 0 0 0;\n",
              "      width: 32px;\n",
              "    }\n",
              "\n",
              "    .colab-df-convert:hover {\n",
              "      background-color: #E2EBFA;\n",
              "      box-shadow: 0px 1px 2px rgba(60, 64, 67, 0.3), 0px 1px 3px 1px rgba(60, 64, 67, 0.15);\n",
              "      fill: #174EA6;\n",
              "    }\n",
              "\n",
              "    [theme=dark] .colab-df-convert {\n",
              "      background-color: #3B4455;\n",
              "      fill: #D2E3FC;\n",
              "    }\n",
              "\n",
              "    [theme=dark] .colab-df-convert:hover {\n",
              "      background-color: #434B5C;\n",
              "      box-shadow: 0px 1px 3px 1px rgba(0, 0, 0, 0.15);\n",
              "      filter: drop-shadow(0px 1px 2px rgba(0, 0, 0, 0.3));\n",
              "      fill: #FFFFFF;\n",
              "    }\n",
              "  </style>\n",
              "\n",
              "      <script>\n",
              "        const buttonEl =\n",
              "          document.querySelector('#df-94700f8d-fca2-4318-8e45-f825b3e0f345 button.colab-df-convert');\n",
              "        buttonEl.style.display =\n",
              "          google.colab.kernel.accessAllowed ? 'block' : 'none';\n",
              "\n",
              "        async function convertToInteractive(key) {\n",
              "          const element = document.querySelector('#df-94700f8d-fca2-4318-8e45-f825b3e0f345');\n",
              "          const dataTable =\n",
              "            await google.colab.kernel.invokeFunction('convertToInteractive',\n",
              "                                                     [key], {});\n",
              "          if (!dataTable) return;\n",
              "\n",
              "          const docLinkHtml = 'Like what you see? Visit the ' +\n",
              "            '<a target=\"_blank\" href=https://colab.research.google.com/notebooks/data_table.ipynb>data table notebook</a>'\n",
              "            + ' to learn more about interactive tables.';\n",
              "          element.innerHTML = '';\n",
              "          dataTable['output_type'] = 'display_data';\n",
              "          await google.colab.output.renderOutput(dataTable, element);\n",
              "          const docLink = document.createElement('div');\n",
              "          docLink.innerHTML = docLinkHtml;\n",
              "          element.appendChild(docLink);\n",
              "        }\n",
              "      </script>\n",
              "    </div>\n",
              "  </div>\n",
              "  "
            ]
          },
          "metadata": {},
          "execution_count": 20
        }
      ]
    },
    {
      "cell_type": "code",
      "source": [],
      "metadata": {
        "id": "hP5THPQBHTRe"
      },
      "execution_count": null,
      "outputs": []
    },
    {
      "cell_type": "code",
      "source": [],
      "metadata": {
        "id": "28gcUBnQHTU1"
      },
      "execution_count": null,
      "outputs": []
    },
    {
      "cell_type": "code",
      "source": [],
      "metadata": {
        "id": "-coOtOyMHTa2"
      },
      "execution_count": null,
      "outputs": []
    },
    {
      "cell_type": "code",
      "source": [
        "df_cut=df[['Age','Year of birth','Month of birthday']]\n"
      ],
      "metadata": {
        "id": "CCYf8UqZiDqZ"
      },
      "execution_count": 17,
      "outputs": []
    },
    {
      "cell_type": "code",
      "source": [
        "model=tree.DecisionTreeRegressor(max_depth=3)\n",
        "model.fit(df_cut[['Year of birth','Month of birthday']].values.reshape(-1,2), y=df_cut['Age'].values)"
      ],
      "metadata": {
        "colab": {
          "base_uri": "https://localhost:8080/"
        },
        "outputId": "df04b904-880d-4267-8043-30dc1b44372a",
        "id": "fQl1vvN4-lpV"
      },
      "execution_count": 18,
      "outputs": [
        {
          "output_type": "execute_result",
          "data": {
            "text/plain": [
              "DecisionTreeRegressor(max_depth=3)"
            ]
          },
          "metadata": {},
          "execution_count": 18
        }
      ]
    },
    {
      "cell_type": "code",
      "source": [
        "import graphviz \n",
        "dot_data = tree.export_graphviz(model, out_file=None, \n",
        "                      feature_names=['Year of birth','Month of birthday'],  \n",
        "                      class_names='Ages',  \n",
        "                     filled=True, rounded=True,  \n",
        "                      special_characters=True)  \n",
        "graph = graphviz.Source(dot_data)  \n",
        "graph "
      ],
      "metadata": {
        "id": "6H3chhQR-sCc",
        "colab": {
          "base_uri": "https://localhost:8080/",
          "height": 519
        },
        "outputId": "d6f5ac34-28ec-4342-93e7-62979608ef8e"
      },
      "execution_count": 19,
      "outputs": [
        {
          "output_type": "execute_result",
          "data": {
            "text/plain": [
              "<graphviz.files.Source at 0x7f6d4b0ecc10>"
            ],
            "image/svg+xml": "<?xml version=\"1.0\" encoding=\"UTF-8\" standalone=\"no\"?>\n<!DOCTYPE svg PUBLIC \"-//W3C//DTD SVG 1.1//EN\"\n \"http://www.w3.org/Graphics/SVG/1.1/DTD/svg11.dtd\">\n<!-- Generated by graphviz version 2.43.0 (0)\n -->\n<!-- Title: Tree Pages: 1 -->\n<svg width=\"1298pt\" height=\"373pt\"\n viewBox=\"0.00 0.00 1297.50 373.00\" xmlns=\"http://www.w3.org/2000/svg\" xmlns:xlink=\"http://www.w3.org/1999/xlink\">\n<g id=\"graph0\" class=\"graph\" transform=\"scale(1 1) rotate(0) translate(4 369)\">\n<title>Tree</title>\n<polygon fill=\"white\" stroke=\"transparent\" points=\"-4,4 -4,-369 1293.5,-369 1293.5,4 -4,4\"/>\n<!-- 0 -->\n<g id=\"node1\" class=\"node\">\n<title>0</title>\n<path fill=\"#fdf7f3\" stroke=\"black\" d=\"M686,-365C686,-365 552,-365 552,-365 546,-365 540,-359 540,-353 540,-353 540,-309 540,-309 540,-303 546,-297 552,-297 552,-297 686,-297 686,-297 692,-297 698,-303 698,-309 698,-309 698,-353 698,-353 698,-359 692,-365 686,-365\"/>\n<text text-anchor=\"start\" x=\"554\" y=\"-349.8\" font-family=\"Helvetica,sans-Serif\" font-size=\"14.00\">Year of birth ≤ 1996.5</text>\n<text text-anchor=\"start\" x=\"548\" y=\"-334.8\" font-family=\"Helvetica,sans-Serif\" font-size=\"14.00\">squared_error = 11.967</text>\n<text text-anchor=\"start\" x=\"574\" y=\"-319.8\" font-family=\"Helvetica,sans-Serif\" font-size=\"14.00\">samples = 186</text>\n<text text-anchor=\"start\" x=\"574\" y=\"-304.8\" font-family=\"Helvetica,sans-Serif\" font-size=\"14.00\">value = 20.688</text>\n</g>\n<!-- 1 -->\n<g id=\"node2\" class=\"node\">\n<title>1</title>\n<path fill=\"#f7d7c0\" stroke=\"black\" d=\"M535.5,-261C535.5,-261 396.5,-261 396.5,-261 390.5,-261 384.5,-255 384.5,-249 384.5,-249 384.5,-205 384.5,-205 384.5,-199 390.5,-193 396.5,-193 396.5,-193 535.5,-193 535.5,-193 541.5,-193 547.5,-199 547.5,-205 547.5,-205 547.5,-249 547.5,-249 547.5,-255 541.5,-261 535.5,-261\"/>\n<text text-anchor=\"start\" x=\"392.5\" y=\"-245.8\" font-family=\"Helvetica,sans-Serif\" font-size=\"14.00\">Month of birthday ≤ 11.0</text>\n<text text-anchor=\"start\" x=\"398.5\" y=\"-230.8\" font-family=\"Helvetica,sans-Serif\" font-size=\"14.00\">squared_error = 80.89</text>\n<text text-anchor=\"start\" x=\"425\" y=\"-215.8\" font-family=\"Helvetica,sans-Serif\" font-size=\"14.00\">samples = 10</text>\n<text text-anchor=\"start\" x=\"428.5\" y=\"-200.8\" font-family=\"Helvetica,sans-Serif\" font-size=\"14.00\">value = 30.1</text>\n</g>\n<!-- 0&#45;&gt;1 -->\n<g id=\"edge1\" class=\"edge\">\n<title>0&#45;&gt;1</title>\n<path fill=\"none\" stroke=\"black\" d=\"M569.33,-296.88C554.96,-287.3 539.14,-276.76 524.3,-266.86\"/>\n<polygon fill=\"black\" stroke=\"black\" points=\"525.95,-263.76 515.69,-261.12 522.07,-269.58 525.95,-263.76\"/>\n<text text-anchor=\"middle\" x=\"520.59\" y=\"-281.94\" font-family=\"Helvetica,sans-Serif\" font-size=\"14.00\">True</text>\n</g>\n<!-- 8 -->\n<g id=\"node9\" class=\"node\">\n<title>8</title>\n<path fill=\"#fef9f6\" stroke=\"black\" d=\"M854.5,-261C854.5,-261 727.5,-261 727.5,-261 721.5,-261 715.5,-255 715.5,-249 715.5,-249 715.5,-205 715.5,-205 715.5,-199 721.5,-193 727.5,-193 727.5,-193 854.5,-193 854.5,-193 860.5,-193 866.5,-199 866.5,-205 866.5,-205 866.5,-249 866.5,-249 866.5,-255 860.5,-261 854.5,-261\"/>\n<text text-anchor=\"start\" x=\"726\" y=\"-245.8\" font-family=\"Helvetica,sans-Serif\" font-size=\"14.00\">Year of birth ≤ 2001.5</text>\n<text text-anchor=\"start\" x=\"723.5\" y=\"-230.8\" font-family=\"Helvetica,sans-Serif\" font-size=\"14.00\">squared_error = 2.732</text>\n<text text-anchor=\"start\" x=\"746\" y=\"-215.8\" font-family=\"Helvetica,sans-Serif\" font-size=\"14.00\">samples = 176</text>\n<text text-anchor=\"start\" x=\"746\" y=\"-200.8\" font-family=\"Helvetica,sans-Serif\" font-size=\"14.00\">value = 20.153</text>\n</g>\n<!-- 0&#45;&gt;8 -->\n<g id=\"edge8\" class=\"edge\">\n<title>0&#45;&gt;8</title>\n<path fill=\"none\" stroke=\"black\" d=\"M674.84,-296.88C691.3,-287.12 709.44,-276.37 726.4,-266.31\"/>\n<polygon fill=\"black\" stroke=\"black\" points=\"728.33,-269.24 735.14,-261.12 724.76,-263.22 728.33,-269.24\"/>\n<text text-anchor=\"middle\" x=\"728.95\" y=\"-281.65\" font-family=\"Helvetica,sans-Serif\" font-size=\"14.00\">False</text>\n</g>\n<!-- 2 -->\n<g id=\"node3\" class=\"node\">\n<title>2</title>\n<path fill=\"#f9e4d4\" stroke=\"black\" d=\"M287.5,-157C287.5,-157 156.5,-157 156.5,-157 150.5,-157 144.5,-151 144.5,-145 144.5,-145 144.5,-101 144.5,-101 144.5,-95 150.5,-89 156.5,-89 156.5,-89 287.5,-89 287.5,-89 293.5,-89 299.5,-95 299.5,-101 299.5,-101 299.5,-145 299.5,-145 299.5,-151 293.5,-157 287.5,-157\"/>\n<text text-anchor=\"start\" x=\"152.5\" y=\"-141.8\" font-family=\"Helvetica,sans-Serif\" font-size=\"14.00\">Month of birthday ≤ 8.0</text>\n<text text-anchor=\"start\" x=\"154.5\" y=\"-126.8\" font-family=\"Helvetica,sans-Serif\" font-size=\"14.00\">squared_error = 7.673</text>\n<text text-anchor=\"start\" x=\"184.5\" y=\"-111.8\" font-family=\"Helvetica,sans-Serif\" font-size=\"14.00\">samples = 7</text>\n<text text-anchor=\"start\" x=\"177\" y=\"-96.8\" font-family=\"Helvetica,sans-Serif\" font-size=\"14.00\">value = 26.429</text>\n</g>\n<!-- 1&#45;&gt;2 -->\n<g id=\"edge2\" class=\"edge\">\n<title>1&#45;&gt;2</title>\n<path fill=\"none\" stroke=\"black\" d=\"M386.78,-192.88C361.87,-182.47 334.23,-170.92 308.83,-160.3\"/>\n<polygon fill=\"black\" stroke=\"black\" points=\"310.15,-157.06 299.57,-156.43 307.45,-163.51 310.15,-157.06\"/>\n</g>\n<!-- 5 -->\n<g id=\"node6\" class=\"node\">\n<title>5</title>\n<path fill=\"#f1b992\" stroke=\"black\" d=\"M537,-157C537,-157 395,-157 395,-157 389,-157 383,-151 383,-145 383,-145 383,-101 383,-101 383,-95 389,-89 395,-89 395,-89 537,-89 537,-89 543,-89 549,-95 549,-101 549,-101 549,-145 549,-145 549,-151 543,-157 537,-157\"/>\n<text text-anchor=\"start\" x=\"401\" y=\"-141.8\" font-family=\"Helvetica,sans-Serif\" font-size=\"14.00\">Year of birth ≤ 1973.0</text>\n<text text-anchor=\"start\" x=\"391\" y=\"-126.8\" font-family=\"Helvetica,sans-Serif\" font-size=\"14.00\">squared_error = 146.889</text>\n<text text-anchor=\"start\" x=\"428.5\" y=\"-111.8\" font-family=\"Helvetica,sans-Serif\" font-size=\"14.00\">samples = 3</text>\n<text text-anchor=\"start\" x=\"421\" y=\"-96.8\" font-family=\"Helvetica,sans-Serif\" font-size=\"14.00\">value = 38.667</text>\n</g>\n<!-- 1&#45;&gt;5 -->\n<g id=\"edge5\" class=\"edge\">\n<title>1&#45;&gt;5</title>\n<path fill=\"none\" stroke=\"black\" d=\"M466,-192.88C466,-184.78 466,-175.98 466,-167.47\"/>\n<polygon fill=\"black\" stroke=\"black\" points=\"469.5,-167.3 466,-157.3 462.5,-167.3 469.5,-167.3\"/>\n</g>\n<!-- 3 -->\n<g id=\"node4\" class=\"node\">\n<title>3</title>\n<path fill=\"#fae8dc\" stroke=\"black\" d=\"M124,-53C124,-53 12,-53 12,-53 6,-53 0,-47 0,-41 0,-41 0,-12 0,-12 0,-6 6,0 12,0 12,0 124,0 124,0 130,0 136,-6 136,-12 136,-12 136,-41 136,-41 136,-47 130,-53 124,-53\"/>\n<text text-anchor=\"start\" x=\"8\" y=\"-37.8\" font-family=\"Helvetica,sans-Serif\" font-size=\"14.00\">squared_error = 3.2</text>\n<text text-anchor=\"start\" x=\"30.5\" y=\"-22.8\" font-family=\"Helvetica,sans-Serif\" font-size=\"14.00\">samples = 5</text>\n<text text-anchor=\"start\" x=\"30.5\" y=\"-7.8\" font-family=\"Helvetica,sans-Serif\" font-size=\"14.00\">value = 25.0</text>\n</g>\n<!-- 2&#45;&gt;3 -->\n<g id=\"edge3\" class=\"edge\">\n<title>2&#45;&gt;3</title>\n<path fill=\"none\" stroke=\"black\" d=\"M168.14,-88.95C152.04,-79.07 134.45,-68.28 118.57,-58.53\"/>\n<polygon fill=\"black\" stroke=\"black\" points=\"120.3,-55.48 109.94,-53.24 116.63,-61.45 120.3,-55.48\"/>\n</g>\n<!-- 4 -->\n<g id=\"node5\" class=\"node\">\n<title>4</title>\n<path fill=\"#f7d7c0\" stroke=\"black\" d=\"M278,-53C278,-53 166,-53 166,-53 160,-53 154,-47 154,-41 154,-41 154,-12 154,-12 154,-6 160,0 166,0 166,0 278,0 278,0 284,0 290,-6 290,-12 290,-12 290,-41 290,-41 290,-47 284,-53 278,-53\"/>\n<text text-anchor=\"start\" x=\"162\" y=\"-37.8\" font-family=\"Helvetica,sans-Serif\" font-size=\"14.00\">squared_error = 1.0</text>\n<text text-anchor=\"start\" x=\"184.5\" y=\"-22.8\" font-family=\"Helvetica,sans-Serif\" font-size=\"14.00\">samples = 2</text>\n<text text-anchor=\"start\" x=\"184.5\" y=\"-7.8\" font-family=\"Helvetica,sans-Serif\" font-size=\"14.00\">value = 30.0</text>\n</g>\n<!-- 2&#45;&gt;4 -->\n<g id=\"edge4\" class=\"edge\">\n<title>2&#45;&gt;4</title>\n<path fill=\"none\" stroke=\"black\" d=\"M222,-88.95C222,-80.72 222,-71.85 222,-63.48\"/>\n<polygon fill=\"black\" stroke=\"black\" points=\"225.5,-63.24 222,-53.24 218.5,-63.24 225.5,-63.24\"/>\n</g>\n<!-- 6 -->\n<g id=\"node7\" class=\"node\">\n<title>6</title>\n<path fill=\"#e58139\" stroke=\"black\" d=\"M432,-53C432,-53 320,-53 320,-53 314,-53 308,-47 308,-41 308,-41 308,-12 308,-12 308,-6 314,0 320,0 320,0 432,0 432,0 438,0 444,-6 444,-12 444,-12 444,-41 444,-41 444,-47 438,-53 432,-53\"/>\n<text text-anchor=\"start\" x=\"316\" y=\"-37.8\" font-family=\"Helvetica,sans-Serif\" font-size=\"14.00\">squared_error = 0.0</text>\n<text text-anchor=\"start\" x=\"338.5\" y=\"-22.8\" font-family=\"Helvetica,sans-Serif\" font-size=\"14.00\">samples = 1</text>\n<text text-anchor=\"start\" x=\"338.5\" y=\"-7.8\" font-family=\"Helvetica,sans-Serif\" font-size=\"14.00\">value = 55.0</text>\n</g>\n<!-- 5&#45;&gt;6 -->\n<g id=\"edge6\" class=\"edge\">\n<title>5&#45;&gt;6</title>\n<path fill=\"none\" stroke=\"black\" d=\"M434.52,-88.95C425.81,-79.8 416.35,-69.87 407.63,-60.71\"/>\n<polygon fill=\"black\" stroke=\"black\" points=\"409.94,-58.06 400.51,-53.24 404.87,-62.89 409.94,-58.06\"/>\n</g>\n<!-- 7 -->\n<g id=\"node8\" class=\"node\">\n<title>7</title>\n<path fill=\"#f6d5be\" stroke=\"black\" d=\"M601.5,-53C601.5,-53 474.5,-53 474.5,-53 468.5,-53 462.5,-47 462.5,-41 462.5,-41 462.5,-12 462.5,-12 462.5,-6 468.5,0 474.5,0 474.5,0 601.5,0 601.5,0 607.5,0 613.5,-6 613.5,-12 613.5,-12 613.5,-41 613.5,-41 613.5,-47 607.5,-53 601.5,-53\"/>\n<text text-anchor=\"start\" x=\"470.5\" y=\"-37.8\" font-family=\"Helvetica,sans-Serif\" font-size=\"14.00\">squared_error = 20.25</text>\n<text text-anchor=\"start\" x=\"500.5\" y=\"-22.8\" font-family=\"Helvetica,sans-Serif\" font-size=\"14.00\">samples = 2</text>\n<text text-anchor=\"start\" x=\"500.5\" y=\"-7.8\" font-family=\"Helvetica,sans-Serif\" font-size=\"14.00\">value = 30.5</text>\n</g>\n<!-- 5&#45;&gt;7 -->\n<g id=\"edge7\" class=\"edge\">\n<title>5&#45;&gt;7</title>\n<path fill=\"none\" stroke=\"black\" d=\"M491.18,-88.95C498.01,-79.98 505.42,-70.27 512.28,-61.26\"/>\n<polygon fill=\"black\" stroke=\"black\" points=\"515.11,-63.31 518.39,-53.24 509.55,-59.07 515.11,-63.31\"/>\n</g>\n<!-- 9 -->\n<g id=\"node10\" class=\"node\">\n<title>9</title>\n<path fill=\"#fdf4ee\" stroke=\"black\" d=\"M852,-157C852,-157 730,-157 730,-157 724,-157 718,-151 718,-145 718,-145 718,-101 718,-101 718,-95 724,-89 730,-89 730,-89 852,-89 852,-89 858,-89 864,-95 864,-101 864,-101 864,-145 864,-145 864,-151 858,-157 852,-157\"/>\n<text text-anchor=\"start\" x=\"726\" y=\"-141.8\" font-family=\"Helvetica,sans-Serif\" font-size=\"14.00\">Year of birth ≤ 1999.5</text>\n<text text-anchor=\"start\" x=\"727.5\" y=\"-126.8\" font-family=\"Helvetica,sans-Serif\" font-size=\"14.00\">squared_error = 1.28</text>\n<text text-anchor=\"start\" x=\"750\" y=\"-111.8\" font-family=\"Helvetica,sans-Serif\" font-size=\"14.00\">samples = 83</text>\n<text text-anchor=\"start\" x=\"746\" y=\"-96.8\" font-family=\"Helvetica,sans-Serif\" font-size=\"14.00\">value = 21.578</text>\n</g>\n<!-- 8&#45;&gt;9 -->\n<g id=\"edge9\" class=\"edge\">\n<title>8&#45;&gt;9</title>\n<path fill=\"none\" stroke=\"black\" d=\"M791,-192.88C791,-184.78 791,-175.98 791,-167.47\"/>\n<polygon fill=\"black\" stroke=\"black\" points=\"794.5,-167.3 791,-157.3 787.5,-167.3 794.5,-167.3\"/>\n</g>\n<!-- 12 -->\n<g id=\"node13\" class=\"node\">\n<title>12</title>\n<path fill=\"#fffefd\" stroke=\"black\" d=\"M1108.5,-157C1108.5,-157 981.5,-157 981.5,-157 975.5,-157 969.5,-151 969.5,-145 969.5,-145 969.5,-101 969.5,-101 969.5,-95 975.5,-89 981.5,-89 981.5,-89 1108.5,-89 1108.5,-89 1114.5,-89 1120.5,-95 1120.5,-101 1120.5,-101 1120.5,-145 1120.5,-145 1120.5,-151 1114.5,-157 1108.5,-157\"/>\n<text text-anchor=\"start\" x=\"980\" y=\"-141.8\" font-family=\"Helvetica,sans-Serif\" font-size=\"14.00\">Year of birth ≤ 2002.5</text>\n<text text-anchor=\"start\" x=\"977.5\" y=\"-126.8\" font-family=\"Helvetica,sans-Serif\" font-size=\"14.00\">squared_error = 0.599</text>\n<text text-anchor=\"start\" x=\"1004\" y=\"-111.8\" font-family=\"Helvetica,sans-Serif\" font-size=\"14.00\">samples = 93</text>\n<text text-anchor=\"start\" x=\"1000\" y=\"-96.8\" font-family=\"Helvetica,sans-Serif\" font-size=\"14.00\">value = 18.882</text>\n</g>\n<!-- 8&#45;&gt;12 -->\n<g id=\"edge12\" class=\"edge\">\n<title>8&#45;&gt;12</title>\n<path fill=\"none\" stroke=\"black\" d=\"M866.52,-195.67C895.81,-183.91 929.51,-170.38 959.67,-158.27\"/>\n<polygon fill=\"black\" stroke=\"black\" points=\"961.36,-161.36 969.33,-154.39 958.75,-154.87 961.36,-161.36\"/>\n</g>\n<!-- 10 -->\n<g id=\"node11\" class=\"node\">\n<title>10</title>\n<path fill=\"#fcefe6\" stroke=\"black\" d=\"M770.5,-53C770.5,-53 643.5,-53 643.5,-53 637.5,-53 631.5,-47 631.5,-41 631.5,-41 631.5,-12 631.5,-12 631.5,-6 637.5,0 643.5,0 643.5,0 770.5,0 770.5,0 776.5,0 782.5,-6 782.5,-12 782.5,-12 782.5,-41 782.5,-41 782.5,-47 776.5,-53 770.5,-53\"/>\n<text text-anchor=\"start\" x=\"639.5\" y=\"-37.8\" font-family=\"Helvetica,sans-Serif\" font-size=\"14.00\">squared_error = 0.628</text>\n<text text-anchor=\"start\" x=\"666\" y=\"-22.8\" font-family=\"Helvetica,sans-Serif\" font-size=\"14.00\">samples = 22</text>\n<text text-anchor=\"start\" x=\"662\" y=\"-7.8\" font-family=\"Helvetica,sans-Serif\" font-size=\"14.00\">value = 23.091</text>\n</g>\n<!-- 9&#45;&gt;10 -->\n<g id=\"edge10\" class=\"edge\">\n<title>9&#45;&gt;10</title>\n<path fill=\"none\" stroke=\"black\" d=\"M761.62,-88.95C753.49,-79.8 744.66,-69.87 736.52,-60.71\"/>\n<polygon fill=\"black\" stroke=\"black\" points=\"739.14,-58.39 729.88,-53.24 733.9,-63.04 739.14,-58.39\"/>\n</g>\n<!-- 11 -->\n<g id=\"node12\" class=\"node\">\n<title>11</title>\n<path fill=\"#fdf6f1\" stroke=\"black\" d=\"M939.5,-53C939.5,-53 812.5,-53 812.5,-53 806.5,-53 800.5,-47 800.5,-41 800.5,-41 800.5,-12 800.5,-12 800.5,-6 806.5,0 812.5,0 812.5,0 939.5,0 939.5,0 945.5,0 951.5,-6 951.5,-12 951.5,-12 951.5,-41 951.5,-41 951.5,-47 945.5,-53 939.5,-53\"/>\n<text text-anchor=\"start\" x=\"808.5\" y=\"-37.8\" font-family=\"Helvetica,sans-Serif\" font-size=\"14.00\">squared_error = 0.392</text>\n<text text-anchor=\"start\" x=\"835\" y=\"-22.8\" font-family=\"Helvetica,sans-Serif\" font-size=\"14.00\">samples = 61</text>\n<text text-anchor=\"start\" x=\"831\" y=\"-7.8\" font-family=\"Helvetica,sans-Serif\" font-size=\"14.00\">value = 21.033</text>\n</g>\n<!-- 9&#45;&gt;11 -->\n<g id=\"edge11\" class=\"edge\">\n<title>9&#45;&gt;11</title>\n<path fill=\"none\" stroke=\"black\" d=\"M820.73,-88.95C828.96,-79.8 837.89,-69.87 846.13,-60.71\"/>\n<polygon fill=\"black\" stroke=\"black\" points=\"848.77,-63.01 852.85,-53.24 843.56,-58.33 848.77,-63.01\"/>\n</g>\n<!-- 13 -->\n<g id=\"node14\" class=\"node\">\n<title>13</title>\n<path fill=\"#fefbf9\" stroke=\"black\" d=\"M1108.5,-53C1108.5,-53 981.5,-53 981.5,-53 975.5,-53 969.5,-47 969.5,-41 969.5,-41 969.5,-12 969.5,-12 969.5,-6 975.5,0 981.5,0 981.5,0 1108.5,0 1108.5,0 1114.5,0 1120.5,-6 1120.5,-12 1120.5,-12 1120.5,-41 1120.5,-41 1120.5,-47 1114.5,-53 1108.5,-53\"/>\n<text text-anchor=\"start\" x=\"977.5\" y=\"-37.8\" font-family=\"Helvetica,sans-Serif\" font-size=\"14.00\">squared_error = 0.231</text>\n<text text-anchor=\"start\" x=\"1004\" y=\"-22.8\" font-family=\"Helvetica,sans-Serif\" font-size=\"14.00\">samples = 33</text>\n<text text-anchor=\"start\" x=\"1000\" y=\"-7.8\" font-family=\"Helvetica,sans-Serif\" font-size=\"14.00\">value = 19.636</text>\n</g>\n<!-- 12&#45;&gt;13 -->\n<g id=\"edge13\" class=\"edge\">\n<title>12&#45;&gt;13</title>\n<path fill=\"none\" stroke=\"black\" d=\"M1045,-88.95C1045,-80.72 1045,-71.85 1045,-63.48\"/>\n<polygon fill=\"black\" stroke=\"black\" points=\"1048.5,-63.24 1045,-53.24 1041.5,-63.24 1048.5,-63.24\"/>\n</g>\n<!-- 14 -->\n<g id=\"node15\" class=\"node\">\n<title>14</title>\n<path fill=\"#ffffff\" stroke=\"black\" d=\"M1277.5,-53C1277.5,-53 1150.5,-53 1150.5,-53 1144.5,-53 1138.5,-47 1138.5,-41 1138.5,-41 1138.5,-12 1138.5,-12 1138.5,-6 1144.5,0 1150.5,0 1150.5,0 1277.5,0 1277.5,0 1283.5,0 1289.5,-6 1289.5,-12 1289.5,-12 1289.5,-41 1289.5,-41 1289.5,-47 1283.5,-53 1277.5,-53\"/>\n<text text-anchor=\"start\" x=\"1146.5\" y=\"-37.8\" font-family=\"Helvetica,sans-Serif\" font-size=\"14.00\">squared_error = 0.316</text>\n<text text-anchor=\"start\" x=\"1173\" y=\"-22.8\" font-family=\"Helvetica,sans-Serif\" font-size=\"14.00\">samples = 60</text>\n<text text-anchor=\"start\" x=\"1169\" y=\"-7.8\" font-family=\"Helvetica,sans-Serif\" font-size=\"14.00\">value = 18.467</text>\n</g>\n<!-- 12&#45;&gt;14 -->\n<g id=\"edge14\" class=\"edge\">\n<title>12&#45;&gt;14</title>\n<path fill=\"none\" stroke=\"black\" d=\"M1104.11,-88.95C1122.02,-78.93 1141.61,-67.98 1159.23,-58.13\"/>\n<polygon fill=\"black\" stroke=\"black\" points=\"1161.22,-61.02 1168.24,-53.09 1157.81,-54.91 1161.22,-61.02\"/>\n</g>\n</g>\n</svg>\n"
          },
          "metadata": {},
          "execution_count": 19
        }
      ]
    },
    {
      "cell_type": "code",
      "source": [
        "df_test=pd.read_csv('/content/drive/MyDrive/Colab Notebooks/задания к курсу/students_test.csv', delimiter=',')\n",
        "df_test_cut=df_test[['Age','Year of birth','Month of birthday']]\n",
        "df_test_cut=df_test_cut.dropna()"
      ],
      "metadata": {
        "id": "iYXPuby7ibST"
      },
      "execution_count": null,
      "outputs": []
    },
    {
      "cell_type": "code",
      "source": [
        "df_test_cut['Predicted']=model.predict(df_test_cut[['Year of birth','Month of birthday']])"
      ],
      "metadata": {
        "id": "2lRM660-ibST",
        "colab": {
          "base_uri": "https://localhost:8080/"
        },
        "outputId": "fca082d9-7eea-47ce-9638-253b286f55c1"
      },
      "execution_count": null,
      "outputs": [
        {
          "output_type": "stream",
          "name": "stderr",
          "text": [
            "/usr/local/lib/python3.7/dist-packages/sklearn/base.py:444: UserWarning: X has feature names, but DecisionTreeRegressor was fitted without feature names\n",
            "  f\"X has feature names, but {self.__class__.__name__} was fitted without\"\n"
          ]
        }
      ]
    },
    {
      "cell_type": "code",
      "source": [
        "from sklearn.metrics import mean_absolute_error\n",
        "mean_absolute_error(df_test_cut['Age'], df_test_cut['Predicted'])"
      ],
      "metadata": {
        "colab": {
          "base_uri": "https://localhost:8080/"
        },
        "id": "w9WQamSGIKxO",
        "outputId": "a8fed88b-e78b-41b8-8e1d-e7cf4f089482"
      },
      "execution_count": null,
      "outputs": [
        {
          "output_type": "execute_result",
          "data": {
            "text/plain": [
              "0.7241329318612689"
            ]
          },
          "metadata": {},
          "execution_count": 9
        }
      ]
    }
  ],
  "metadata": {
    "colab": {
      "provenance": []
    },
    "kernelspec": {
      "display_name": "Python 3",
      "name": "python3"
    },
    "language_info": {
      "name": "python"
    }
  },
  "nbformat": 4,
  "nbformat_minor": 0
}
{
  "cells": [
    {
      "cell_type": "markdown",
      "metadata": {
        "id": "view-in-github",
        "colab_type": "text"
      },
      "source": [
        "<a href=\"https://colab.research.google.com/github/Vitalyastiy/courses/blob/main/stratascratch.ipynb\" target=\"_parent\"><img src=\"https://colab.research.google.com/assets/colab-badge.svg\" alt=\"Open In Colab\"/></a>"
      ]
    },
    {
      "cell_type": "code",
      "execution_count": null,
      "metadata": {
        "id": "Y5indg5gtxSv"
      },
      "outputs": [],
      "source": [
        "#Reviews of Hotel Arena\n",
        "\n",
        "# Find the number of rows for each review score earned by 'Hotel Arena'. Output the hotel name (which should be 'Hotel Arena'), review score along with the corresponding number of rows with that score for the specified hotel.\n",
        "# # Import your libraries\n",
        "import pandas as pd\n",
        "# Start writing code\n",
        "hotel_reviews = hotel_reviews[hotel_reviews['hotel_name'] =='Hotel Arena']\n",
        "hotel_reviews[['reviewer_score', 'hotel_name']].groupby(['reviewer_score', 'hotel_name']).size().reset_index(name = 'num_rev')"
      ]
    },
    {
      "cell_type": "code",
      "source": [
        "# Reviews of Hotel Arena\n",
        "\n",
        "# Find the number of rows for each review score earned by 'Hotel Arena'. Output the hotel name (which should be 'Hotel Arena'), review score along with the corresponding number of rows with that score for the specified hotel.\n",
        "# Import your libraries\n",
        "import pandas as pd\n",
        "\n",
        "# Start writing code\n",
        "dc_bikeshare_q1_2012.groupby('bike_number', as_index=False).agg({'end_time': 'max'}).sort_values(by='end_time', ascending=False)"
      ],
      "metadata": {
        "id": "3gh1QQJoIkn1"
      },
      "execution_count": null,
      "outputs": []
    },
    {
      "cell_type": "code",
      "source": [
        "# Order Details\n",
        "\n",
        "# Find order details made by Jill and Eva.\n",
        "# Consider the Jill and Eva as first names of customers.\n",
        "# Output the order date, details and cost along with the first name.\n",
        "# Order records based on the customer id in ascending order.\n",
        "\n",
        "# Import your libraries\n",
        "import pandas as pd\n",
        "\n",
        "# Start writing code\n",
        "t = customers[(customers['first_name'] =='Jill') | (customers['first_name'] =='Eva')]\n",
        "pd.merge(t, orders, how = 'left', left_on = 'id', right_on = 'cust_id')[['first_name', 'order_date', 'order_details',\t'total_order_cost']]"
      ],
      "metadata": {
        "id": "giJJexHcIkqG"
      },
      "execution_count": null,
      "outputs": []
    },
    {
      "cell_type": "code",
      "source": [
        "# Find the top 10 ranked songs in 2010\n",
        "\n",
        "# What were the top 10 ranked songs in 2010?\n",
        "# Output the rank, group name, and song name but do not show the same song twice.\n",
        "# Sort the result based on the year_rank in ascending order.\n",
        "\n",
        "\n",
        "# Import your libraries\n",
        "import pandas as pd\n",
        "\n",
        "# Start writing code\n",
        "year = 2010\n",
        "billboard_top_100_year_end.query('year == 2010')[['year_rank', 'group_name', 'song_name' ]].drop_duplicates().head(10)"
      ],
      "metadata": {
        "id": "vkIGZqlDIksm"
      },
      "execution_count": null,
      "outputs": []
    },
    {
      "cell_type": "code",
      "source": [
        "# Average Salaries\n",
        "\n",
        "# Compare each employee's salary with the average salary of the corresponding department.\n",
        "# Output the department, first name, and salary of employees along with the average salary of that department.\n",
        "\n",
        "# Import your libraries\n",
        "import pandas as pd\n",
        "# Start writing code\n",
        "#employee[['department',\t'first_name',\t'salary']]\n",
        "temp = employee[['department',\t'salary']].groupby(['department'], as_index = False).agg({'salary':'mean'})\n",
        "pd.merge(employee[['department', 'first_name', 'salary']], temp, how = 'left', on = 'department')\n",
        "\n",
        "\n",
        "import pandas as pd\n",
        "import numpy as np\n",
        "employee['avg_salary'] = employee.groupby(['department'])['salary'].transform('mean')\n",
        "result = employee[['department','first_name','salary','avg_salary']]"
      ],
      "metadata": {
        "id": "b1GEVFPIIku0"
      },
      "execution_count": null,
      "outputs": []
    },
    {
      "cell_type": "code",
      "source": [
        "# Find libraries who haven't provided the email address in circulation year 2016 but their notice preference definition is set to email.\n",
        "\n",
        "\n",
        "# Import your libraries\n",
        "import pandas as pd\n",
        "\n",
        "# Start writing code\n",
        "year = 2016\n",
        "library_usage.query('notice_preference_definition==\"email\" & circulation_active_year == @year & provided_email_address == False')[['home_library_code']].drop_duplicates()"
      ],
      "metadata": {
        "id": "WFq6CpPUIkxD"
      },
      "execution_count": null,
      "outputs": []
    },
    {
      "cell_type": "code",
      "source": [
        "# Largest Olympics\n",
        "# Find the Olympics with the highest number of athletes. The Olympics game is a combination of the year and the season, and is found in the 'games' column. Output the Olympics along with the corresponding number of athletes.\n",
        "\n",
        "\n",
        "# Import your libraries\n",
        "import pandas as pd\n",
        "\n",
        "# Start writing code\n",
        "olympics_athletes_events.groupby('games').agg({'id':'nunique'}).reset_index().sort_values(by = 'id', ascending= False).head(1)"
      ],
      "metadata": {
        "id": "FcsqyWugIkzg"
      },
      "execution_count": null,
      "outputs": []
    },
    {
      "cell_type": "code",
      "source": [
        "#Find the base pay for Police Captains\n",
        "\n",
        "#Find the base pay for Police Captains.\n",
        "#Output the employee name along with the corresponding base pay.\n",
        "\n",
        "\n",
        "\n",
        "# Import your libraries\n",
        "import pandas as pd\n",
        "# Start writing code\n",
        "sf_public_salaries[sf_public_salaries['jobtitle'].str.contains('CAPTAIN')][['employeename','basepay']]"
      ],
      "metadata": {
        "id": "E1honPh47TY6"
      },
      "execution_count": null,
      "outputs": []
    },
    {
      "cell_type": "code",
      "source": [
        "#Top Ranked Songs\n",
        "#Find songs that have ranked in the top position. Output the track name and the number of times it ranked at the top. Sort your records by the number of times the song was in the top position in descending order.\n",
        "\n",
        "\n",
        "# Import your libraries\n",
        "import pandas as pd\n",
        "# Start writing code\n",
        "spotify_worldwide_daily_song_ranking.query('position == 1').groupby('trackname', as_index = False)['position'].count()\n",
        "\n",
        "\n",
        "import pandas as pd\n",
        "import numpy as np\n",
        "position = spotify_worldwide_daily_song_ranking[spotify_worldwide_daily_song_ranking['position'] == 1]\n",
        "result = position.groupby(['trackname']).size().to_frame('times_top1').reset_index().sort_values('times_top1', ascending = False)\n"
      ],
      "metadata": {
        "id": "W2jYxyxCk5vb"
      },
      "execution_count": null,
      "outputs": []
    },
    {
      "cell_type": "code",
      "source": [
        "#Find how many times each artist appeared on the Spotify ranking list\n",
        "# Find how many times each artist appeared on the Spotify ranking list\n",
        "# Output the artist name along with the corresponding number of occurrences.\n",
        "# Order records by the number of occurrences in descending order.\n",
        "\n",
        "# Import your libraries\n",
        "import pandas as pd\n",
        "# Start writing code\n",
        "spotify_worldwide_daily_song_ranking.groupby('artist', as_index = False).size().sort_values(by = 'size', ascending = False)\n",
        "\n",
        "\n",
        "import pandas as pd\n",
        "import numpy as np\n",
        "\n",
        "result = spotify_worldwide_daily_song_ranking.groupby(['artist']).size().to_frame('n_occurences').reset_index().sort_values('n_occurences', ascending = False)"
      ],
      "metadata": {
        "id": "H6B0Q_K4lHIb"
      },
      "execution_count": null,
      "outputs": []
    },
    {
      "cell_type": "code",
      "source": [
        "#Lyft Driver Wages\n",
        "\n",
        "#Find all Lyft drivers who earn either equal to or less than 30k USD or equal to or more than 70k USD.\n",
        "#Output all details related to retrieved records.\n",
        "\n",
        "# Import your libraries\n",
        "import pandas as pd\n",
        "# Start writing code\n",
        "lyft_drivers[~lyft_drivers['yearly_salary'].between(left=30000, right=70000, inclusive=False)]\n",
        "\n",
        "\n",
        "# Import your libraries\n",
        "import pandas as pd\n",
        "# Start writing code\n",
        "lyft_drivers.query('yearly_salary > 70000 | yearly_salary < 30000 ')"
      ],
      "metadata": {
        "id": "UxsmNa1slHK5"
      },
      "execution_count": null,
      "outputs": []
    },
    {
      "cell_type": "code",
      "source": [
        "#Count the number of user events performed by MacBookPro users\n",
        "\n",
        "#Count the number of user events performed by MacBookPro users.\n",
        "#Output the result along with the event name.\n",
        "#Sort the result based on the event count in the descending order.\n",
        "\n",
        "# Import your libraries\n",
        "import pandas as pd\n",
        "# Start writing code\n",
        "playbook_events.query('device == \"macbook pro\"').groupby('event_name', as_index = False).size().sort_values(by = 'size', ascending = False)\n",
        "\n",
        "# Import your libraries\n",
        "import pandas as pd\n",
        "# Start writing code\n",
        "playbook_events[playbook_events['device'] == 'macbook pro']['event_name'].value_counts().reset_index()"
      ],
      "metadata": {
        "id": "T3qY9iYhsbgk"
      },
      "execution_count": null,
      "outputs": []
    },
    {
      "cell_type": "code",
      "source": [],
      "metadata": {
        "id": "yiHCcL4Ib1bc"
      },
      "execution_count": null,
      "outputs": []
    },
    {
      "cell_type": "code",
      "source": [],
      "metadata": {
        "id": "7rVMWmh4b1d2"
      },
      "execution_count": null,
      "outputs": []
    }
  ],
  "metadata": {
    "kernelspec": {
      "display_name": "Python 3",
      "language": "python",
      "name": "python3"
    },
    "language_info": {
      "codemirror_mode": {
        "name": "ipython",
        "version": 3
      },
      "file_extension": ".py",
      "mimetype": "text/x-python",
      "name": "python",
      "nbconvert_exporter": "python",
      "pygments_lexer": "ipython3",
      "version": "3.7.3"
    },
    "colab": {
      "provenance": [],
      "include_colab_link": true
    }
  },
  "nbformat": 4,
  "nbformat_minor": 0
}
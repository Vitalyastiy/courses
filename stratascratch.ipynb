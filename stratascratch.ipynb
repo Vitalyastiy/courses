{
  "cells": [
    {
      "cell_type": "markdown",
      "metadata": {
        "id": "view-in-github",
        "colab_type": "text"
      },
      "source": [
        "<a href=\"https://colab.research.google.com/github/Vitalyastiy/courses/blob/main/stratascratch.ipynb\" target=\"_parent\"><img src=\"https://colab.research.google.com/assets/colab-badge.svg\" alt=\"Open In Colab\"/></a>"
      ]
    },
    {
      "cell_type": "markdown",
      "source": [
        "# Easy\n",
        "\n",
        "\n",
        "\n"
      ],
      "metadata": {
        "id": "Zj161K9cMN3B"
      }
    },
    {
      "cell_type": "code",
      "execution_count": null,
      "metadata": {
        "id": "Y5indg5gtxSv"
      },
      "outputs": [],
      "source": [
        "#Reviews of Hotel Arena\n",
        "\n",
        "# Find the number of rows for each review score earned by 'Hotel Arena'. Output the hotel name (which should be 'Hotel Arena'), review score along with the corresponding number of rows with that score for the specified hotel.\n",
        "# # Import your libraries\n",
        "import pandas as pd\n",
        "# Start writing code\n",
        "hotel_reviews = hotel_reviews[hotel_reviews['hotel_name'] =='Hotel Arena']\n",
        "hotel_reviews[['reviewer_score', 'hotel_name']].groupby(['reviewer_score', 'hotel_name']).size().reset_index(name = 'num_rev')"
      ]
    },
    {
      "cell_type": "code",
      "source": [
        "# Reviews of Hotel Arena\n",
        "\n",
        "# Find the number of rows for each review score earned by 'Hotel Arena'. Output the hotel name (which should be 'Hotel Arena'), review score along with the corresponding number of rows with that score for the specified hotel.\n",
        "# Import your libraries\n",
        "import pandas as pd\n",
        "\n",
        "# Start writing code\n",
        "dc_bikeshare_q1_2012.groupby('bike_number', as_index=False).agg({'end_time': 'max'}).sort_values(by='end_time', ascending=False)"
      ],
      "metadata": {
        "id": "3gh1QQJoIkn1"
      },
      "execution_count": null,
      "outputs": []
    },
    {
      "cell_type": "code",
      "source": [
        "# Order Details\n",
        "\n",
        "# Find order details made by Jill and Eva.\n",
        "# Consider the Jill and Eva as first names of customers.\n",
        "# Output the order date, details and cost along with the first name.\n",
        "# Order records based on the customer id in ascending order.\n",
        "\n",
        "# Import your libraries\n",
        "import pandas as pd\n",
        "\n",
        "# Start writing code\n",
        "t = customers[(customers['first_name'] =='Jill') | (customers['first_name'] =='Eva')]\n",
        "pd.merge(t, orders, how = 'left', left_on = 'id', right_on = 'cust_id')[['first_name', 'order_date', 'order_details',\t'total_order_cost']]"
      ],
      "metadata": {
        "id": "giJJexHcIkqG"
      },
      "execution_count": null,
      "outputs": []
    },
    {
      "cell_type": "code",
      "source": [
        "# Find the top 10 ranked songs in 2010\n",
        "\n",
        "# What were the top 10 ranked songs in 2010?\n",
        "# Output the rank, group name, and song name but do not show the same song twice.\n",
        "# Sort the result based on the year_rank in ascending order.\n",
        "\n",
        "\n",
        "# Import your libraries\n",
        "import pandas as pd\n",
        "\n",
        "# Start writing code\n",
        "year = 2010\n",
        "billboard_top_100_year_end.query('year == 2010')[['year_rank', 'group_name', 'song_name' ]].drop_duplicates().head(10)"
      ],
      "metadata": {
        "id": "vkIGZqlDIksm"
      },
      "execution_count": null,
      "outputs": []
    },
    {
      "cell_type": "code",
      "source": [
        "# Average Salaries\n",
        "\n",
        "# Compare each employee's salary with the average salary of the corresponding department.\n",
        "# Output the department, first name, and salary of employees along with the average salary of that department.\n",
        "\n",
        "# Import your libraries\n",
        "import pandas as pd\n",
        "# Start writing code\n",
        "#employee[['department',\t'first_name',\t'salary']]\n",
        "temp = employee[['department',\t'salary']].groupby(['department'], as_index = False).agg({'salary':'mean'})\n",
        "pd.merge(employee[['department', 'first_name', 'salary']], temp, how = 'left', on = 'department')\n",
        "\n",
        "\n",
        "import pandas as pd\n",
        "import numpy as np\n",
        "employee['avg_salary'] = employee.groupby(['department'])['salary'].transform('mean')\n",
        "result = employee[['department','first_name','salary','avg_salary']]"
      ],
      "metadata": {
        "id": "b1GEVFPIIku0"
      },
      "execution_count": null,
      "outputs": []
    },
    {
      "cell_type": "code",
      "source": [
        "# Find libraries who haven't provided the email address in circulation year 2016 but their notice preference definition is set to email.\n",
        "\n",
        "\n",
        "# Import your libraries\n",
        "import pandas as pd\n",
        "\n",
        "# Start writing code\n",
        "year = 2016\n",
        "library_usage.query('notice_preference_definition==\"email\" & circulation_active_year == @year & provided_email_address == False')[['home_library_code']].drop_duplicates()"
      ],
      "metadata": {
        "id": "WFq6CpPUIkxD"
      },
      "execution_count": null,
      "outputs": []
    },
    {
      "cell_type": "code",
      "source": [
        "# Largest Olympics\n",
        "# Find the Olympics with the highest number of athletes. The Olympics game is a combination of the year and the season, and is found in the 'games' column. Output the Olympics along with the corresponding number of athletes.\n",
        "\n",
        "\n",
        "# Import your libraries\n",
        "import pandas as pd\n",
        "\n",
        "# Start writing code\n",
        "olympics_athletes_events.groupby('games').agg({'id':'nunique'}).reset_index().sort_values(by = 'id', ascending= False).head(1)"
      ],
      "metadata": {
        "id": "FcsqyWugIkzg"
      },
      "execution_count": null,
      "outputs": []
    },
    {
      "cell_type": "code",
      "source": [
        "#Find the base pay for Police Captains\n",
        "\n",
        "#Find the base pay for Police Captains.\n",
        "#Output the employee name along with the corresponding base pay.\n",
        "\n",
        "\n",
        "\n",
        "# Import your libraries\n",
        "import pandas as pd\n",
        "# Start writing code\n",
        "sf_public_salaries[sf_public_salaries['jobtitle'].str.contains('CAPTAIN')][['employeename','basepay']]"
      ],
      "metadata": {
        "id": "E1honPh47TY6"
      },
      "execution_count": null,
      "outputs": []
    },
    {
      "cell_type": "code",
      "source": [
        "#Top Ranked Songs\n",
        "#Find songs that have ranked in the top position. Output the track name and the number of times it ranked at the top. Sort your records by the number of times the song was in the top position in descending order.\n",
        "\n",
        "\n",
        "# Import your libraries\n",
        "import pandas as pd\n",
        "# Start writing code\n",
        "spotify_worldwide_daily_song_ranking.query('position == 1').groupby('trackname', as_index = False)['position'].count()\n",
        "\n",
        "\n",
        "import pandas as pd\n",
        "import numpy as np\n",
        "position = spotify_worldwide_daily_song_ranking[spotify_worldwide_daily_song_ranking['position'] == 1]\n",
        "result = position.groupby(['trackname']).size().to_frame('times_top1').reset_index().sort_values('times_top1', ascending = False)\n"
      ],
      "metadata": {
        "id": "W2jYxyxCk5vb"
      },
      "execution_count": null,
      "outputs": []
    },
    {
      "cell_type": "code",
      "source": [
        "#Find how many times each artist appeared on the Spotify ranking list\n",
        "# Find how many times each artist appeared on the Spotify ranking list\n",
        "# Output the artist name along with the corresponding number of occurrences.\n",
        "# Order records by the number of occurrences in descending order.\n",
        "\n",
        "# Import your libraries\n",
        "import pandas as pd\n",
        "# Start writing code\n",
        "spotify_worldwide_daily_song_ranking.groupby('artist', as_index = False).size().sort_values(by = 'size', ascending = False)\n",
        "\n",
        "\n",
        "import pandas as pd\n",
        "import numpy as np\n",
        "\n",
        "result = spotify_worldwide_daily_song_ranking.groupby(['artist']).size().to_frame('n_occurences').reset_index().sort_values('n_occurences', ascending = False)"
      ],
      "metadata": {
        "id": "H6B0Q_K4lHIb"
      },
      "execution_count": null,
      "outputs": []
    },
    {
      "cell_type": "code",
      "source": [
        "#Lyft Driver Wages\n",
        "\n",
        "#Find all Lyft drivers who earn either equal to or less than 30k USD or equal to or more than 70k USD.\n",
        "#Output all details related to retrieved records.\n",
        "\n",
        "# Import your libraries\n",
        "import pandas as pd\n",
        "# Start writing code\n",
        "lyft_drivers[~lyft_drivers['yearly_salary'].between(left=30000, right=70000, inclusive=False)]\n",
        "\n",
        "\n",
        "# Import your libraries\n",
        "import pandas as pd\n",
        "# Start writing code\n",
        "lyft_drivers.query('yearly_salary > 70000 | yearly_salary < 30000 ')"
      ],
      "metadata": {
        "id": "UxsmNa1slHK5"
      },
      "execution_count": null,
      "outputs": []
    },
    {
      "cell_type": "code",
      "source": [
        "#Count the number of user events performed by MacBookPro users\n",
        "\n",
        "#Count the number of user events performed by MacBookPro users.\n",
        "#Output the result along with the event name.\n",
        "#Sort the result based on the event count in the descending order.\n",
        "\n",
        "# Import your libraries\n",
        "import pandas as pd\n",
        "# Start writing code\n",
        "playbook_events.query('device == \"macbook pro\"').groupby('event_name', as_index = False).size().sort_values(by = 'size', ascending = False)\n",
        "\n",
        "# Import your libraries\n",
        "import pandas as pd\n",
        "# Start writing code\n",
        "playbook_events[playbook_events['device'] == 'macbook pro']['event_name'].value_counts().reset_index()"
      ],
      "metadata": {
        "id": "T3qY9iYhsbgk"
      },
      "execution_count": null,
      "outputs": []
    },
    {
      "cell_type": "code",
      "source": [
        "# Find the most profitable company in the financial sector of the entire world along with its continent\n",
        "# Find the most profitable company from the financial sector. Output the result along with the continent.\n",
        "\n",
        "# Import your libraries\n",
        "import pandas as pd\n",
        "\n",
        "# Start writing code\n",
        "forbes_global_2010_2014.query('rank ==1')[['company', 'continent']]\n",
        "\n",
        "\n",
        "df = forbes_global_2010_2014\n",
        "df = df[df['profits']==df['profits'].max()]\n",
        "df[['company', 'continent']]"
      ],
      "metadata": {
        "id": "yiHCcL4Ib1bc"
      },
      "execution_count": null,
      "outputs": []
    },
    {
      "cell_type": "code",
      "source": [
        "#Top Businesses With Most Reviews\n",
        "#Find the top 5 businesses with most reviews. Assume that each row has a unique business_id such that the total reviews for each business is listed on each row. Output the business name along with the total number of reviews and order your results by the total reviews in descending order.\n",
        "\n",
        "# Import your libraries\n",
        "import pandas as pd\n",
        "# Start writing code\n",
        "yelp_business.head()\n",
        "yelp_business.nlargest(5,'review_count')[[\"name\",\"review_count\"]]\n",
        "\n",
        "# Import your libraries\n",
        "import pandas as pd\n",
        "# Start writing code\n",
        "yelp_business.groupby('name', as_index = False)['review_count'].sum().sort_values(by = 'review_count', ascending = False).head(5)"
      ],
      "metadata": {
        "id": "7rVMWmh4b1d2"
      },
      "execution_count": null,
      "outputs": []
    },
    {
      "cell_type": "code",
      "source": [
        "#Top Cool Votes\n",
        "\n",
        "# Interview Question Date: March 2020\n",
        "# Find the review_text that received the highest number of  'cool' votes.\n",
        "# Output the business name along with the review text with the highest numbef of 'cool' votes.\n",
        "\n",
        "# Import your libraries\n",
        "import pandas as pd\n",
        "# Start writing code .groupby(['business_name', 'review_text'], as_index = False).cool.sum().sort_values(by = 'cool', ascending = False).head(2)\n",
        "yelp_reviews.nlargest(2,'cool')[[\"business_name\",\"review_text\"]]\n",
        "\n",
        "\n",
        "import pandas as pd\n",
        "import numpy as np\n",
        "result = yelp_reviews[yelp_reviews['cool'] ==yelp_reviews['cool'].max()][['business_name','review_text']]"
      ],
      "metadata": {
        "id": "t4CZ7DeEH0Od"
      },
      "execution_count": null,
      "outputs": []
    },
    {
      "cell_type": "code",
      "source": [
        "#Popularity of Hack\n",
        "\n",
        "#Meta/Facebook has developed a new programing language called Hack.To measure the popularity of Hack they ran a survey with their employees. The survey included data on previous programing familiarity as well as the number of years of experience, age, gender and most importantly satisfaction with Hack. Due to an error location data was not collected, but your supervisor demands a report showing average popularity of Hack by office location. Luckily the user IDs of employees completing the surveys were stored.\n",
        "#Based on the above, find the average popularity of the Hack per office location.\n",
        "#Output the location along with the average popularity.\n",
        "\n",
        "# Import your libraries\n",
        "import pandas as pd\n",
        "# Start writing code\n",
        "pd.merge(facebook_employees, facebook_hack_survey, how = 'left', left_on = 'id', right_on = 'employee_id').groupby('location', as_index = False).agg({'popularity':'mean'})"
      ],
      "metadata": {
        "id": "lAm23n9pH0bd"
      },
      "execution_count": null,
      "outputs": []
    },
    {
      "cell_type": "code",
      "source": [
        "#Finding Updated Records\n",
        "#We have a table with employees and their salaries, however, some of the records are old and contain outdated salary information.\n",
        "#Find the current salary of each employee assuming that salaries increase each year. Output their id, first name, last name, department ID, and current salary. Order your list by employee ID in ascending order.\n",
        "# Import your libraries\n",
        "import pandas as pd\n",
        "\n",
        "# Start writing code\n",
        "df = ms_employee_salary\n",
        "df.groupby('id').max().reset_index()\n",
        "\n",
        "# Import your libraries\n",
        "import pandas as pd\n",
        "# Start writing code\n",
        "ms_employee_salary.groupby(['id', 'first_name', 'last_name',  'department_id'], as_index = False)['salary'].max()"
      ],
      "metadata": {
        "id": "9ogoPyuOTiNe"
      },
      "execution_count": null,
      "outputs": []
    },
    {
      "cell_type": "code",
      "source": [
        "#Find matching hosts and guests in a way that they are both of the same gender and nationality\n",
        "\n",
        "#Find matching hosts and guests pairs in a way that they are both of the same gender and nationality.\n",
        "#Output the host id and the guest id of matched pair.\n",
        "\n",
        "\n",
        "import pandas as pd\n",
        "import numpy as np\n",
        "\n",
        "merged_df = pd.merge(airbnb_hosts, airbnb_guests,  how='left', left_on=['nationality','gender'], right_on = ['nationality','gender'])\n",
        "result = merged_df[['host_id','guest_id']].drop_duplicates()\n",
        "\n",
        "# Import your libraries\n",
        "import pandas as pd\n",
        "\n",
        "# Start writing code\n",
        "pd.merge(airbnb_hosts, airbnb_guests, on = ['nationality', 'gender'])[['host_id', 'guest_id']].drop_duplicates()"
      ],
      "metadata": {
        "id": "oJfk69XBTbuj"
      },
      "execution_count": null,
      "outputs": []
    },
    {
      "cell_type": "code",
      "source": [
        "#Find all posts which were reacted to with a heart\n",
        "#Find all posts which were reacted to with a heart. For such posts output all columns from facebook_posts table.\n",
        "\n",
        "facebook_posts[facebook_posts['post_id'] == index[0]]pd.merge(airbnb_hosts, airbnb_guests, on = ['nationality', 'gender'])[['host_id', 'guest_id']].drop_duplicates()\n",
        "\n",
        "# Import your libraries\n",
        "import pandas as pd\n",
        "\n",
        "# Start writing code\n",
        "pd.merge(facebook_posts, facebook_reactions, how = 'left', on = 'post_id').query('reaction == \"heart\"')[['post_id','poster_x',\t'post_text', 'post_keywords', 'post_date']].drop_duplicates()"
      ],
      "metadata": {
        "id": "p4e1TTehbnVT"
      },
      "execution_count": null,
      "outputs": []
    },
    {
      "cell_type": "code",
      "source": [
        "#Unique Users Per Client Per Month\n",
        "\n",
        "#Write a query that returns the number of unique users per client per month\n",
        "\n",
        "\n",
        "# Import your libraries\n",
        "import pandas as pd\n",
        "\n",
        "fact_events['month'] = fact_events['time_id'].dt.month\n",
        "\n",
        "fact_events.groupby(['client_id', 'month'])['user_id'].nunique().reset_index()\n",
        "\n",
        "\n",
        "# Import your libraries\n",
        "import pandas as pd\n",
        "\n",
        "fact_events.groupby(['client_id', fact_events['time_id'].dt.month])['user_id'].nunique().reset_index(name='num_per_month')"
      ],
      "metadata": {
        "id": "Z5mVsRvqi2z7"
      },
      "execution_count": null,
      "outputs": []
    },
    {
      "cell_type": "code",
      "source": [
        "#Count the number of movies that Abigail Breslin nominated for oscar\n",
        "#Count the number of movies that Abigail Breslin was nominated for an oscar.\n",
        "\n",
        "# Import your libraries\n",
        "import pandas as pd\n",
        "# Start writing code\n",
        "oscar_nominees.query('nominee ==\"Abigail Breslin\"')['nominee'].count()\n",
        "\n"
      ],
      "metadata": {
        "id": "90ReqooOMK7J"
      },
      "execution_count": null,
      "outputs": []
    },
    {
      "cell_type": "markdown",
      "source": [
        "# Medium"
      ],
      "metadata": {
        "id": "JhlWvkE1MVzx"
      }
    }
  ],
  "metadata": {
    "kernelspec": {
      "display_name": "Python 3",
      "language": "python",
      "name": "python3"
    },
    "language_info": {
      "codemirror_mode": {
        "name": "ipython",
        "version": 3
      },
      "file_extension": ".py",
      "mimetype": "text/x-python",
      "name": "python",
      "nbconvert_exporter": "python",
      "pygments_lexer": "ipython3",
      "version": "3.7.3"
    },
    "colab": {
      "provenance": [],
      "toc_visible": true,
      "include_colab_link": true
    }
  },
  "nbformat": 4,
  "nbformat_minor": 0
}
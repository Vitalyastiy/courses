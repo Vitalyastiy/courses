{
  "cells": [
    {
      "cell_type": "markdown",
      "metadata": {
        "id": "view-in-github",
        "colab_type": "text"
      },
      "source": [
        "<a href=\"https://colab.research.google.com/github/Vitalyastiy/courses/blob/main/%D0%9A%D0%B0%D1%80%D0%BF%D0%BE%D0%B2_%D0%BF%D0%B8%D1%82%D0%BE%D0%BD/%D0%9A%D0%B0%D1%80%D0%BF%D0%BE%D0%B2_%D1%82%D0%B5%D1%81%D1%82.ipynb\" target=\"_parent\"><img src=\"https://colab.research.google.com/assets/colab-badge.svg\" alt=\"Open In Colab\"/></a>"
      ]
    },
    {
      "cell_type": "markdown",
      "metadata": {
        "id": "xCDNX_LZBwwK"
      },
      "source": [
        "### Карпов. КУРС «ОСНОВЫ PYTHON»"
      ]
    },
    {
      "cell_type": "markdown",
      "source": [
        "Раздел 2. Переменные\n"
      ],
      "metadata": {
        "id": "Zo6GYnG8A3kj"
      }
    },
    {
      "cell_type": "code",
      "source": [
        "# Задача 3\n",
        "# В переменной father_age хранится возраст отца, а в переменной son_age — возраст сына. Посчитайте, через сколько лет отец будет вдвое старше сына. Результат сохраните в переменную result.\n",
        "father_age + result==(son_age+result) *2"
      ],
      "metadata": {
        "id": "xum2QfQVApCc"
      },
      "execution_count": null,
      "outputs": []
    },
    {
      "cell_type": "code",
      "source": [
        "# Задача 8\n",
        "# В переменной a сохранено число с десятичной частью но в формате строки, например '3.14'. В переменную с сохраните целую часть из числа в переменной a.\n",
        "c = round(float(a))"
      ],
      "metadata": {
        "id": "AMkfBb0dB9K1"
      },
      "execution_count": null,
      "outputs": []
    },
    {
      "cell_type": "code",
      "execution_count": null,
      "metadata": {
        "id": "nB-AWHq9BwwM"
      },
      "outputs": [],
      "source": [
        "#задача 9\n",
        "# В переменной х уже сохранено целое положительное число. Вычислите x + x0x0x. Результат сохраните в переменную result.\n",
        "# То есть, если x = 2, то нужно вычислить 2 + 20202.\n",
        "x= 2\n",
        "result = x + int(str(x)+\"0\"+str(x)+\"0\"+str(x))\n",
        "result"
      ]
    },
    {
      "cell_type": "code",
      "source": [
        "# Задача 10\n",
        "# Укажите все сравнения, в результате которых мы получим True.\n",
        "'ИВАН' < 'иван'\n",
        "'Python' < 'R'\n",
        "'big number' != 'bug number'"
      ],
      "metadata": {
        "colab": {
          "base_uri": "https://localhost:8080/"
        },
        "id": "n0UAJrDzByGo",
        "outputId": "0572fc81-4ad7-4682-ce5f-4dbdc6772cf2"
      },
      "execution_count": 2,
      "outputs": [
        {
          "output_type": "execute_result",
          "data": {
            "text/plain": [
              "True"
            ]
          },
          "metadata": {},
          "execution_count": 2
        }
      ]
    },
    {
      "cell_type": "code",
      "source": [
        "#Задача 11\n",
        "#В переменной m хранится целое положительное число — продолжительность сна в минутах. Если продолжительность сна составит от 7 до 9 часов включительно, то в переменную optimal_sleep_duration сохраните значение True. В противном случае присвойте это переменной значение False.\n",
        "optimal_sleep_duration = m/60 >= 7 and m/60 <10\n"
      ],
      "metadata": {
        "id": "p3NKmIyBJIgS"
      },
      "execution_count": null,
      "outputs": []
    },
    {
      "cell_type": "code",
      "source": [
        "# Задача 12\n",
        "# В переменной x хранится целое число. Проверьте, делится ли это число без остатка на 3 и на 7. Результат сохраните в переменную result. Переменная result должна иметь логический тип данных.\n",
        "x = 21\n",
        "x%7 == 0 and x%3 ==0"
      ],
      "metadata": {
        "colab": {
          "base_uri": "https://localhost:8080/"
        },
        "id": "NCmvI6Q0L3ii",
        "outputId": "2e430c0f-38ea-4fc9-a5f5-bdf912691772"
      },
      "execution_count": 5,
      "outputs": [
        {
          "output_type": "execute_result",
          "data": {
            "text/plain": [
              "True"
            ]
          },
          "metadata": {},
          "execution_count": 5
        }
      ]
    },
    {
      "cell_type": "code",
      "source": [
        "# Задача 13\n",
        "# Хорошо ли вы умеете пользоваться логическим типом данных? Сопоставьте выражения и их значения.\n",
        "\n",
        "b = True + 0\n",
        "g = 2 == True\n",
        "a = False - True\n",
        "c = bool(False + 1)\n",
        "d = True + 0.1\n",
        "f = False ** True\n",
        "e = True ** 0.5\n",
        "print(a, b, c, d, e, f, g, sep = '\\n')"
      ],
      "metadata": {
        "colab": {
          "base_uri": "https://localhost:8080/"
        },
        "id": "ZcUoVykAMChp",
        "outputId": "68be1e97-698f-44b6-95c1-7baff3702294"
      },
      "execution_count": 10,
      "outputs": [
        {
          "output_type": "stream",
          "name": "stdout",
          "text": [
            "-1\n",
            "1\n",
            "True\n",
            "1.1\n",
            "1.0\n",
            "0\n",
            "False\n"
          ]
        }
      ]
    },
    {
      "cell_type": "code",
      "source": [
        "# Задача 14\n",
        "# Сохраните в переменную square строку, которая выводит на экран прямоугольник 4 х 4, сформированный из звездочек, разделенных пробелом.\n",
        "square = '* * * *\\n* * * *\\n* * * *\\n* * * *'\n",
        "print(square)"
      ],
      "metadata": {
        "colab": {
          "base_uri": "https://localhost:8080/"
        },
        "id": "EFO2nml7QgKX",
        "outputId": "10c0b5f4-a67a-4c81-acc8-f5ae2346b980"
      },
      "execution_count": 17,
      "outputs": [
        {
          "output_type": "stream",
          "name": "stdout",
          "text": [
            "* * * *\n",
            "* * * *\n",
            "* * * *\n",
            "* * * *\n"
          ]
        }
      ]
    },
    {
      "cell_type": "markdown",
      "source": [
        "Раздел 3. Методы"
      ],
      "metadata": {
        "id": "YMv_uKMEBSoQ"
      }
    },
    {
      "cell_type": "code",
      "source": [
        "# Задание 4\n",
        "# В my_list сохранен список как минимум с двумя элементами.\n",
        "# В переменную first_item сохраните первый элемент списка.\n",
        "# В переменную last_item сохраните последний элемент списка.\n",
        "# В переменную reversed_list сохраните все элементы списка my_list в обратном порядке.\n",
        "# В переменную even_items сохраните все элементы my_list с четными индексами.\n",
        "\n",
        "first_item = my_list[0]\n",
        "last_item  = my_list[-1]\n",
        "reversed_list  = my_list[::-1]\n",
        "even_items  = my_list[::2]\n"
      ],
      "metadata": {
        "colab": {
          "base_uri": "https://localhost:8080/"
        },
        "id": "MedsYxEfAf-y",
        "outputId": "0eff7170-83de-4c8c-ab4c-8a4084b5c741"
      },
      "execution_count": 3,
      "outputs": [
        {
          "output_type": "execute_result",
          "data": {
            "text/plain": [
              "['Anatoly', 1, 3]"
            ]
          },
          "metadata": {},
          "execution_count": 3
        }
      ]
    },
    {
      "cell_type": "code",
      "source": [
        "# Задание 5\n",
        "\n",
        "# В переменную var_1 сохраните список с числами от -100 до 100 включительно с шагом в 1.\n",
        "# В переменную var_2 сохраните список с числами от 250 до 0 включительно с шагом в 2.\n",
        "# В переменную var_3 сохраните список со всеми нечетными числами от 100 до 200.\n",
        "\n",
        "var_1 = list(range(-100,101))\n",
        "var_2 = list(range(250,-1, -2))\n",
        "var_3 = list(range(101,200,2))"
      ],
      "metadata": {
        "id": "dwoeQY_1AmQM"
      },
      "execution_count": 8,
      "outputs": []
    },
    {
      "cell_type": "code",
      "source": [
        "# Задача 6\n",
        "# В переменных  a и b хранятся числа — начало и конец диапазона. Напишите программу, которая вернет сумму всех чисел из этого диапазона. Сохраните значение в переменную result.\n",
        "a = 1\n",
        "b = 3\n",
        "result = sum(list(range(a,b+1)))\n"
      ],
      "metadata": {
        "id": "35EhKd9ehvu0"
      },
      "execution_count": 14,
      "outputs": []
    },
    {
      "cell_type": "code",
      "source": [
        "# Задача 7\n",
        "# Давайте потренируемся использовать различные методы списков. В переменной my_list сохранен не пустой список, в котором есть число 11.\n",
        "# Найдите первый индекс числа 11 в my_list, сохраните индекс в переменную eleven_index.\n",
        "# В переменную ten_count сохраните, сколько раз в списке my_list встречается число 10.\n",
        "my_list = [1, 10, 0, 10, 11]\n",
        "eleven_index = my_list.index(11)\n",
        "eleven_index\n",
        "\n",
        "my_list = [11, 2, 0, 6,10, 10]\n",
        "ten_count = my_list.count(10)\n",
        "ten_count\n"
      ],
      "metadata": {
        "id": "VSot-F9fjH3G"
      },
      "execution_count": null,
      "outputs": []
    },
    {
      "cell_type": "code",
      "source": [
        "# Задача 8\n",
        "# В student_names сохранен список с именами студентов, добавьте в список два имени 'Anatoly' и 'Oksana'.\n",
        "# В scores сохранен список из десяти целых чисел, удалите из него второй, пятый и последний элемент.\n",
        "# В lessons сохранен список с названием уроков, отсортируйте названия уроков в списке по алфавиту.\n",
        "\n",
        "student_names = ['Ian', 'Ivan']\n",
        "scores = [0, 1, 2, 3, 4, 5, 6, 7, 8, 9, 10]\n",
        "lessons = ['Python', 'Analytics']\n",
        "\n",
        "student_names += ['Anatoly', 'Oksana']\n",
        "scores.pop(2)\n",
        "scores.pop(3)\n",
        "scores.pop(-1)\n",
        "\n",
        "lessons.sort()\n",
        "\n",
        "# student_names = ['Ian', 'Ivan', 'Anatoly', 'Oksana']\n",
        "# scores = [0, 2, 3, 5, 6, 7, 8]\n",
        "# lessons = ['Analytics', 'Python']"
      ],
      "metadata": {
        "colab": {
          "base_uri": "https://localhost:8080/"
        },
        "id": "6wiVEF2Nk4hY",
        "outputId": "d92addb9-deca-4a1d-ccd0-3c4b1b44b50d"
      },
      "execution_count": 49,
      "outputs": [
        {
          "output_type": "execute_result",
          "data": {
            "text/plain": [
              "[0, 1, 3, 5, 6, 7, 8, 9]"
            ]
          },
          "metadata": {},
          "execution_count": 49
        }
      ]
    },
    {
      "cell_type": "code",
      "source": [
        "# Задача 10\n",
        "# Создайте кортеж с названиями дней недели и сохраните его в переменную days_of_the_week.\n",
        "days_of_the_week =('Monday', 'Tuesday', 'Wednesday', 'Thursday', 'Friday', 'Saturday', 'Sunday')\n"
      ],
      "metadata": {
        "id": "gak1jquBmkNP"
      },
      "execution_count": null,
      "outputs": []
    },
    {
      "cell_type": "code",
      "source": [
        "# Задание 11\n",
        "# В переменной numbers_list сохранен список с целыми числами. В списке минимум два разных целых числа.\n",
        "# В переменную numbers_list_ordered сохраните все числа из списка numbers_list, отсортированные по убыванию. При этом сам список numbers_list не должен изменяться.\n",
        "# В переменную numbers_set сохраните множество из уникальных чисел из списка numbers_list. Дополните это множество следующим целым числом после максимального числа из numbers_list.\n",
        "# В переменную numbers_frozenset сохраните неизменяемое множество из всех уникальных чисел из списка numbers_list, кроме минимального числа.\n",
        "\n",
        "numbers_list = [1, 1, 2, 2, 3, 3, 4, 4]\n",
        "\n",
        "numbers_list_ordered = [5, 5, 3, 3, 1]\n",
        "numbers_set = set([1, 3, 5, 6])\n",
        "numbers_frozenset = frozenset([3, 5])\n",
        "\n",
        "\n",
        "numbers_list_ordered  = sorted(numbers_list, reverse = True)\n",
        "\n",
        "numbers_set = sorted(numbers_list)\n",
        "numbers_set_ = numbers_set[-1]\n",
        "numbers_set.append(numbers_set_+1)\n",
        "numbers_set = set(numbers_set)\n",
        "\n",
        "a = numbers_list.copy()\n",
        "\n",
        "a = set(a)\n",
        "m= min(a)\n",
        "a.remove(m)\n",
        "numbers_frozenset = frozenset(a)\n",
        "numbers_frozenset"
      ],
      "metadata": {
        "colab": {
          "base_uri": "https://localhost:8080/"
        },
        "id": "5Io3PEFJM63w",
        "outputId": "3bfdedb9-3bc4-4a1c-9c7b-90118f55b075"
      },
      "execution_count": 71,
      "outputs": [
        {
          "output_type": "execute_result",
          "data": {
            "text/plain": [
              "frozenset({2, 3, 4})"
            ]
          },
          "metadata": {},
          "execution_count": 71
        }
      ]
    },
    {
      "cell_type": "code",
      "source": [
        "# Задача 12\n",
        "# Даны два списка list_1 и list_2. Отсортируйте list_1 по возрастанию, а list_2 по убыванию.\n",
        "# Объедините list_1 и list_2 в один отсортированный по возрастанию список list_3.\n",
        "# В переменную list_3_len сохраните длину  list_3.\n",
        "list_1 = [1, 5, 3]\n",
        "list_2 = [2, 8]\n",
        "# ->\n",
        "list_1.sort()\n",
        "list_2.sort(reverse=True)\n",
        "list_3= list_1+list_2\n",
        "list_3.sort()\n",
        "list_3_len = len(list_3)\n",
        "list_3_len"
      ],
      "metadata": {
        "colab": {
          "base_uri": "https://localhost:8080/"
        },
        "id": "peanl1CNbs_z",
        "outputId": "4970fab6-e8bb-4aa8-fe28-0bab62d26164"
      },
      "execution_count": 9,
      "outputs": [
        {
          "output_type": "execute_result",
          "data": {
            "text/plain": [
              "5"
            ]
          },
          "metadata": {},
          "execution_count": 9
        }
      ]
    },
    {
      "cell_type": "code",
      "source": [
        "# Задача 13\n",
        "# В переменной menu хранится множество всех позиций меню кофейни, а в переменной stop — множество позиций меню кофейни, недоступных для заказа сегодня.\n",
        "# Сохраните в переменную menu_today позиции меню, которые доступны для заказа сегодня.\n",
        "\n",
        "menu = {'White Chocolate Mocha', 'Americano', 'Flat White', 'Latte',\n",
        "        'Blueberry Muffin', 'Chocolate Chip Cookie'}\n",
        "stop = {'White Chocolate Mocha', 'Blueberry Muffin'}\n",
        "\n",
        "#menu_today = {'Americano', 'Flat White', 'Latte', 'Chocolate Chip Cookie'}\n",
        "\n",
        "\n",
        "menu.difference(stop)"
      ],
      "metadata": {
        "colab": {
          "base_uri": "https://localhost:8080/"
        },
        "id": "r1zy7yJneVmc",
        "outputId": "8f9aa239-7537-4be3-f234-1e92131ce2f9"
      },
      "execution_count": 2,
      "outputs": [
        {
          "output_type": "execute_result",
          "data": {
            "text/plain": [
              "{'Americano', 'Chocolate Chip Cookie', 'Flat White', 'Latte'}"
            ]
          },
          "metadata": {},
          "execution_count": 2
        }
      ]
    },
    {
      "cell_type": "code",
      "source": [
        "# Задача 14\n",
        "# В переменной my_set множество (set) из чисел. В переменной to_delete число, которое нужно удалить из my_set, если оно там есть. Если такого числа нет в my_set ничего делать не надо.\n",
        "my_set = {0, 10, 100}\n",
        "to_delete = 0\n",
        "# ====>\n",
        "# my_set = {10, 100} # удалили 0\n",
        "\n",
        "# my_set = {0, 10, 100}\n",
        "# to_delete = -2\n",
        "# ====>\n",
        "# my_set = {0, 10, 100} # ничего не сделали\n",
        "\n",
        "my_set.discard(to_delete)\n",
        "my_set"
      ],
      "metadata": {
        "colab": {
          "base_uri": "https://localhost:8080/"
        },
        "id": "7BBQMT498s8Z",
        "outputId": "32ad18ae-c430-4ae9-e16c-0714513a3b07"
      },
      "execution_count": 6,
      "outputs": [
        {
          "output_type": "execute_result",
          "data": {
            "text/plain": [
              "{10, 100}"
            ]
          },
          "metadata": {},
          "execution_count": 6
        }
      ]
    },
    {
      "cell_type": "code",
      "source": [
        "# Задача 15\n",
        "# В students хранится множество студентов it-центра МАИ. Студент, имя которого записано в new_student, перевелся в МАИ из другого института, его имя нужно добавить в students.\n",
        "# В переменной churn_student — студент, который хочет перевестись из МАИ в другой институт, его имя нужно убрать из students.\n",
        "students = {'Кравченко Виталий', 'Полякова Ольга', 'Некрасов Игорь', 'Дудочкин Илья', 'Захарова Мария'}\n",
        "new_student = 'Василенко Анна'\n",
        "churn_student = 'Полякова Ольга'\n",
        "# # ->\n",
        "# students = {'Кравченко Виталий', 'Некрасов Игорь', 'Дудочкин Илья', 'Захарова Мария', 'Василенко Анна'}\n",
        "\n",
        "\n",
        "students.add(new_student)\n",
        "students.remove(churn_student)\n",
        "students\n"
      ],
      "metadata": {
        "colab": {
          "base_uri": "https://localhost:8080/"
        },
        "id": "kbFn1JQU9dfS",
        "outputId": "5de0795b-7661-4eee-de32-3c3f7cb71ca3"
      },
      "execution_count": 10,
      "outputs": [
        {
          "output_type": "execute_result",
          "data": {
            "text/plain": [
              "{'Василенко Анна',\n",
              " 'Дудочкин Илья',\n",
              " 'Захарова Мария',\n",
              " 'Кравченко Виталий',\n",
              " 'Некрасов Игорь'}"
            ]
          },
          "metadata": {},
          "execution_count": 10
        }
      ]
    },
    {
      "cell_type": "code",
      "source": [
        "# Задача 16\n",
        "# В переменной da_students хранятся имена студентов курса \"Аналитик данных\", а в переменной dv_students — имена студентов курса \"Визуализация данных\". Сохраните в переменную students студентов, которые обучаются на обоих курсах.\n",
        "# Порядок элементов в students не имеет значения.\n",
        "\n",
        "# студенты курса \"Аналитик данных\"\n",
        "da_students = {'Ivanov Alexander', 'Loginov Vladislav', 'Ershova Anna', 'Korneva Daria'}\n",
        "# студенты курса \"Визуализация данных\"\n",
        "dv_students = {'Ershova Anna', 'Egunov Andrey', 'Ignatov Alexey', 'Loginov Vladislav'}\n",
        "\n",
        "# результат\n",
        "# students = {'Loginov Vladislav', 'Ershova Anna'}\n",
        "\n",
        "\n",
        "\n",
        "students = dv_students.intersection(da_students)\n",
        "students"
      ],
      "metadata": {
        "colab": {
          "base_uri": "https://localhost:8080/"
        },
        "id": "gIlmGS7CDYXg",
        "outputId": "8305c6ef-9ccd-4b36-b463-6654647e6040"
      },
      "execution_count": 12,
      "outputs": [
        {
          "output_type": "execute_result",
          "data": {
            "text/plain": [
              "{'Ershova Anna', 'Loginov Vladislav'}"
            ]
          },
          "metadata": {},
          "execution_count": 12
        }
      ]
    }
  ],
  "metadata": {
    "kernelspec": {
      "display_name": "Python 3",
      "language": "python",
      "name": "python3"
    },
    "language_info": {
      "codemirror_mode": {
        "name": "ipython",
        "version": 3
      },
      "file_extension": ".py",
      "mimetype": "text/x-python",
      "name": "python",
      "nbconvert_exporter": "python",
      "pygments_lexer": "ipython3",
      "version": "3.11.4"
    },
    "colab": {
      "provenance": [],
      "include_colab_link": true
    }
  },
  "nbformat": 4,
  "nbformat_minor": 0
}
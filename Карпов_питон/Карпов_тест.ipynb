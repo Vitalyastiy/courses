{
  "cells": [
    {
      "cell_type": "markdown",
      "metadata": {
        "id": "view-in-github",
        "colab_type": "text"
      },
      "source": [
        "<a href=\"https://colab.research.google.com/github/Vitalyastiy/courses/blob/main/%D0%9A%D0%B0%D1%80%D0%BF%D0%BE%D0%B2_%D0%BF%D0%B8%D1%82%D0%BE%D0%BD/%D0%9A%D0%B0%D1%80%D0%BF%D0%BE%D0%B2_%D1%82%D0%B5%D1%81%D1%82.ipynb\" target=\"_parent\"><img src=\"https://colab.research.google.com/assets/colab-badge.svg\" alt=\"Open In Colab\"/></a>"
      ]
    },
    {
      "cell_type": "markdown",
      "metadata": {
        "id": "xCDNX_LZBwwK"
      },
      "source": [
        "### Карпов тест"
      ]
    },
    {
      "cell_type": "code",
      "source": [
        "# Задача 8\n",
        "# В переменной a сохранено число с десятичной частью но в формате строки, например '3.14'. В переменную с сохраните целую часть из числа в переменной a.\n",
        "c = round(float(a))"
      ],
      "metadata": {
        "id": "AMkfBb0dB9K1"
      },
      "execution_count": null,
      "outputs": []
    },
    {
      "cell_type": "code",
      "execution_count": null,
      "metadata": {
        "id": "nB-AWHq9BwwM"
      },
      "outputs": [],
      "source": [
        "#задача 9\n",
        "# В переменной х уже сохранено целое положительное число. Вычислите x + x0x0x. Результат сохраните в переменную result.\n",
        "# То есть, если x = 2, то нужно вычислить 2 + 20202.\n",
        "x= 2\n",
        "result = x + int(str(x)+\"0\"+str(x)+\"0\"+str(x))\n",
        "result"
      ]
    },
    {
      "cell_type": "code",
      "source": [],
      "metadata": {
        "id": "n0UAJrDzByGo"
      },
      "execution_count": null,
      "outputs": []
    }
  ],
  "metadata": {
    "kernelspec": {
      "display_name": "Python 3",
      "language": "python",
      "name": "python3"
    },
    "language_info": {
      "codemirror_mode": {
        "name": "ipython",
        "version": 3
      },
      "file_extension": ".py",
      "mimetype": "text/x-python",
      "name": "python",
      "nbconvert_exporter": "python",
      "pygments_lexer": "ipython3",
      "version": "3.11.4"
    },
    "colab": {
      "provenance": [],
      "include_colab_link": true
    }
  },
  "nbformat": 4,
  "nbformat_minor": 0
}
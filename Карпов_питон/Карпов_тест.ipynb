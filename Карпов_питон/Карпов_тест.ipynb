{
  "cells": [
    {
      "cell_type": "markdown",
      "metadata": {
        "id": "view-in-github",
        "colab_type": "text"
      },
      "source": [
        "<a href=\"https://colab.research.google.com/github/Vitalyastiy/courses/blob/main/%D0%9A%D0%B0%D1%80%D0%BF%D0%BE%D0%B2_%D0%BF%D0%B8%D1%82%D0%BE%D0%BD/%D0%9A%D0%B0%D1%80%D0%BF%D0%BE%D0%B2_%D1%82%D0%B5%D1%81%D1%82.ipynb\" target=\"_parent\"><img src=\"https://colab.research.google.com/assets/colab-badge.svg\" alt=\"Open In Colab\"/></a>"
      ]
    },
    {
      "cell_type": "markdown",
      "metadata": {
        "id": "xCDNX_LZBwwK"
      },
      "source": [
        "### Карпов. КУРС «ОСНОВЫ PYTHON»"
      ]
    },
    {
      "cell_type": "markdown",
      "source": [
        "Раздел 2. Переменные\n"
      ],
      "metadata": {
        "id": "Zo6GYnG8A3kj"
      }
    },
    {
      "cell_type": "code",
      "source": [
        "# Задача 3\n",
        "# В переменной father_age хранится возраст отца, а в переменной son_age — возраст сына. Посчитайте, через сколько лет отец будет вдвое старше сына. Результат сохраните в переменную result.\n",
        "father_age + result==(son_age+result) *2"
      ],
      "metadata": {
        "id": "xum2QfQVApCc"
      },
      "execution_count": null,
      "outputs": []
    },
    {
      "cell_type": "code",
      "source": [
        "# Задача 8\n",
        "# В переменной a сохранено число с десятичной частью но в формате строки, например '3.14'. В переменную с сохраните целую часть из числа в переменной a.\n",
        "c = round(float(a))"
      ],
      "metadata": {
        "id": "AMkfBb0dB9K1"
      },
      "execution_count": null,
      "outputs": []
    },
    {
      "cell_type": "code",
      "execution_count": null,
      "metadata": {
        "id": "nB-AWHq9BwwM"
      },
      "outputs": [],
      "source": [
        "#задача 9\n",
        "# В переменной х уже сохранено целое положительное число. Вычислите x + x0x0x. Результат сохраните в переменную result.\n",
        "# То есть, если x = 2, то нужно вычислить 2 + 20202.\n",
        "x= 2\n",
        "result = x + int(str(x)+\"0\"+str(x)+\"0\"+str(x))\n",
        "result"
      ]
    },
    {
      "cell_type": "code",
      "source": [
        "# Задача 10\n",
        "# Укажите все сравнения, в результате которых мы получим True.\n",
        "'ИВАН' < 'иван'\n",
        "'Python' < 'R'\n",
        "'big number' != 'bug number'"
      ],
      "metadata": {
        "colab": {
          "base_uri": "https://localhost:8080/"
        },
        "id": "n0UAJrDzByGo",
        "outputId": "0572fc81-4ad7-4682-ce5f-4dbdc6772cf2"
      },
      "execution_count": 2,
      "outputs": [
        {
          "output_type": "execute_result",
          "data": {
            "text/plain": [
              "True"
            ]
          },
          "metadata": {},
          "execution_count": 2
        }
      ]
    },
    {
      "cell_type": "code",
      "source": [
        "#Задача 11\n",
        "#В переменной m хранится целое положительное число — продолжительность сна в минутах. Если продолжительность сна составит от 7 до 9 часов включительно, то в переменную optimal_sleep_duration сохраните значение True. В противном случае присвойте это переменной значение False.\n",
        "optimal_sleep_duration = m/60 >= 7 and m/60 <10\n"
      ],
      "metadata": {
        "id": "p3NKmIyBJIgS"
      },
      "execution_count": null,
      "outputs": []
    },
    {
      "cell_type": "code",
      "source": [
        "# Задача 12\n",
        "# В переменной x хранится целое число. Проверьте, делится ли это число без остатка на 3 и на 7. Результат сохраните в переменную result. Переменная result должна иметь логический тип данных.\n",
        "x = 21\n",
        "x%7 == 0 and x%3 ==0"
      ],
      "metadata": {
        "colab": {
          "base_uri": "https://localhost:8080/"
        },
        "id": "NCmvI6Q0L3ii",
        "outputId": "2e430c0f-38ea-4fc9-a5f5-bdf912691772"
      },
      "execution_count": 5,
      "outputs": [
        {
          "output_type": "execute_result",
          "data": {
            "text/plain": [
              "True"
            ]
          },
          "metadata": {},
          "execution_count": 5
        }
      ]
    },
    {
      "cell_type": "code",
      "source": [
        "# Задача 13\n",
        "# Хорошо ли вы умеете пользоваться логическим типом данных? Сопоставьте выражения и их значения.\n",
        "\n",
        "b = True + 0\n",
        "g = 2 == True\n",
        "a = False - True\n",
        "c = bool(False + 1)\n",
        "d = True + 0.1\n",
        "f = False ** True\n",
        "e = True ** 0.5\n",
        "print(a, b, c, d, e, f, g, sep = '\\n')"
      ],
      "metadata": {
        "colab": {
          "base_uri": "https://localhost:8080/"
        },
        "id": "ZcUoVykAMChp",
        "outputId": "68be1e97-698f-44b6-95c1-7baff3702294"
      },
      "execution_count": 10,
      "outputs": [
        {
          "output_type": "stream",
          "name": "stdout",
          "text": [
            "-1\n",
            "1\n",
            "True\n",
            "1.1\n",
            "1.0\n",
            "0\n",
            "False\n"
          ]
        }
      ]
    },
    {
      "cell_type": "code",
      "source": [
        "# Задача 14\n",
        "# Сохраните в переменную square строку, которая выводит на экран прямоугольник 4 х 4, сформированный из звездочек, разделенных пробелом.\n",
        "square = '* * * *\\n* * * *\\n* * * *\\n* * * *'\n",
        "print(square)"
      ],
      "metadata": {
        "colab": {
          "base_uri": "https://localhost:8080/"
        },
        "id": "EFO2nml7QgKX",
        "outputId": "10c0b5f4-a67a-4c81-acc8-f5ae2346b980"
      },
      "execution_count": 17,
      "outputs": [
        {
          "output_type": "stream",
          "name": "stdout",
          "text": [
            "* * * *\n",
            "* * * *\n",
            "* * * *\n",
            "* * * *\n"
          ]
        }
      ]
    },
    {
      "cell_type": "markdown",
      "source": [
        "Раздел 3. Методы"
      ],
      "metadata": {
        "id": "YMv_uKMEBSoQ"
      }
    },
    {
      "cell_type": "code",
      "source": [
        "# Задание 4\n",
        "# В my_list сохранен список как минимум с двумя элементами.\n",
        "# В переменную first_item сохраните первый элемент списка.\n",
        "# В переменную last_item сохраните последний элемент списка.\n",
        "# В переменную reversed_list сохраните все элементы списка my_list в обратном порядке.\n",
        "# В переменную even_items сохраните все элементы my_list с четными индексами.\n",
        "\n",
        "first_item = my_list[0]\n",
        "last_item  = my_list[-1]\n",
        "reversed_list  = my_list[::-1]\n",
        "even_items  = my_list[::2]\n"
      ],
      "metadata": {
        "colab": {
          "base_uri": "https://localhost:8080/"
        },
        "id": "MedsYxEfAf-y",
        "outputId": "0eff7170-83de-4c8c-ab4c-8a4084b5c741"
      },
      "execution_count": 3,
      "outputs": [
        {
          "output_type": "execute_result",
          "data": {
            "text/plain": [
              "['Anatoly', 1, 3]"
            ]
          },
          "metadata": {},
          "execution_count": 3
        }
      ]
    },
    {
      "cell_type": "code",
      "source": [
        "# Задание 5\n",
        "\n",
        "# В переменную var_1 сохраните список с числами от -100 до 100 включительно с шагом в 1.\n",
        "# В переменную var_2 сохраните список с числами от 250 до 0 включительно с шагом в 2.\n",
        "# В переменную var_3 сохраните список со всеми нечетными числами от 100 до 200.\n",
        "\n",
        "var_1 = list(range(-100,101))\n",
        "var_2 = list(range(250,-1, -2))\n",
        "var_3 = list(range(101,200,2))"
      ],
      "metadata": {
        "id": "dwoeQY_1AmQM"
      },
      "execution_count": 8,
      "outputs": []
    },
    {
      "cell_type": "code",
      "source": [
        "# Задача 6\n",
        "# В переменных  a и b хранятся числа — начало и конец диапазона. Напишите программу, которая вернет сумму всех чисел из этого диапазона. Сохраните значение в переменную result.\n",
        "a = 1\n",
        "b = 3\n",
        "result = sum(list(range(a,b+1)))\n"
      ],
      "metadata": {
        "id": "35EhKd9ehvu0"
      },
      "execution_count": 14,
      "outputs": []
    },
    {
      "cell_type": "code",
      "source": [
        "# Задача 7\n",
        "# Давайте потренируемся использовать различные методы списков. В переменной my_list сохранен не пустой список, в котором есть число 11.\n",
        "# Найдите первый индекс числа 11 в my_list, сохраните индекс в переменную eleven_index.\n",
        "# В переменную ten_count сохраните, сколько раз в списке my_list встречается число 10.\n",
        "my_list = [1, 10, 0, 10, 11]\n",
        "eleven_index = my_list.index(11)\n",
        "eleven_index\n",
        "\n",
        "my_list = [11, 2, 0, 6,10, 10]\n",
        "ten_count = my_list.count(10)\n",
        "ten_count\n",
        "\n",
        "\n"
      ],
      "metadata": {
        "id": "VSot-F9fjH3G",
        "outputId": "55857c46-1256-4da6-8a42-ccdbbd94302a",
        "colab": {
          "base_uri": "https://localhost:8080/"
        }
      },
      "execution_count": 18,
      "outputs": [
        {
          "output_type": "execute_result",
          "data": {
            "text/plain": [
              "2"
            ]
          },
          "metadata": {},
          "execution_count": 18
        }
      ]
    },
    {
      "cell_type": "code",
      "source": [
        "\n"
      ],
      "metadata": {
        "id": "6wiVEF2Nk4hY"
      },
      "execution_count": null,
      "outputs": []
    }
  ],
  "metadata": {
    "kernelspec": {
      "display_name": "Python 3",
      "language": "python",
      "name": "python3"
    },
    "language_info": {
      "codemirror_mode": {
        "name": "ipython",
        "version": 3
      },
      "file_extension": ".py",
      "mimetype": "text/x-python",
      "name": "python",
      "nbconvert_exporter": "python",
      "pygments_lexer": "ipython3",
      "version": "3.11.4"
    },
    "colab": {
      "provenance": [],
      "include_colab_link": true
    }
  },
  "nbformat": 4,
  "nbformat_minor": 0
}